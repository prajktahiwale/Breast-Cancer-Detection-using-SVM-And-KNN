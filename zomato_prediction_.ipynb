{
  "nbformat": 4,
  "nbformat_minor": 0,
  "metadata": {
    "colab": {
      "name": "zomato prediction .ipynb",
      "provenance": [],
      "collapsed_sections": [],
      "authorship_tag": "ABX9TyOUdfUB+0hel9BPDqvoYbX0",
      "include_colab_link": true
    },
    "kernelspec": {
      "name": "python3",
      "display_name": "Python 3"
    },
    "language_info": {
      "name": "python"
    }
  },
  "cells": [
    {
      "cell_type": "markdown",
      "metadata": {
        "id": "view-in-github",
        "colab_type": "text"
      },
      "source": [
        "<a href=\"https://colab.research.google.com/github/prajktahiwale/Breast-Cancer-Detection-using-SVM-And-KNN/blob/main/zomato_prediction_.ipynb\" target=\"_parent\"><img src=\"https://colab.research.google.com/assets/colab-badge.svg\" alt=\"Open In Colab\"/></a>"
      ]
    },
    {
      "cell_type": "code",
      "metadata": {
        "id": "HdkQOGhv9ErS"
      },
      "source": [
        "#import labrarires"
      ],
      "execution_count": 1,
      "outputs": []
    },
    {
      "cell_type": "code",
      "metadata": {
        "id": "URn33tBJAfFl"
      },
      "source": [
        "import pandas as pd \n",
        "import numpy as np\n",
        "import matplotlib.pyplot as plt\n",
        "import plotly.graph_objs as go\n",
        "import plotly.offline as py\n",
        "import seaborn as sns\n",
        "\n",
        "import matplotlib.ticker as mtick\n",
        "plt.style.use('fivethirtyeight')\n",
        "from sklearn.linear_model import LogisticRegression\n",
        "from sklearn.linear_model import LinearRegression\n",
        "from sklearn.ensemble import  ExtraTreesRegressor\n",
        "from sklearn.model_selection import train_test_split\n",
        "\n",
        "import warnings\n",
        "warnings.filterwarnings('ignore')\n",
        "%matplotlib inline"
      ],
      "execution_count": 2,
      "outputs": []
    },
    {
      "cell_type": "code",
      "metadata": {
        "id": "z5ewzOvnDCVK",
        "colab": {
          "base_uri": "https://localhost:8080/"
        },
        "outputId": "dcfc6eea-ca03-46da-b8d4-65e1f7e5f1ea"
      },
      "source": [
        "  #MOUNT DRIVE\n",
        "from google.colab import drive\n",
        "drive.mount('/content/drive')"
      ],
      "execution_count": 3,
      "outputs": [
        {
          "output_type": "stream",
          "name": "stdout",
          "text": [
            "Mounted at /content/drive\n"
          ]
        }
      ]
    },
    {
      "cell_type": "code",
      "metadata": {
        "id": "fojY8QsZEHb7"
      },
      "source": [
        "data=pd.read_csv('/content/drive/My Drive/zomato.csv')"
      ],
      "execution_count": 4,
      "outputs": []
    },
    {
      "cell_type": "code",
      "metadata": {
        "colab": {
          "base_uri": "https://localhost:8080/",
          "height": 593
        },
        "id": "d-FBqVz4INVZ",
        "outputId": "413d6f6c-4598-4b89-fe92-86412c65593f"
      },
      "source": [
        "data.head()"
      ],
      "execution_count": 5,
      "outputs": [
        {
          "output_type": "execute_result",
          "data": {
            "text/html": [
              "<div>\n",
              "<style scoped>\n",
              "    .dataframe tbody tr th:only-of-type {\n",
              "        vertical-align: middle;\n",
              "    }\n",
              "\n",
              "    .dataframe tbody tr th {\n",
              "        vertical-align: top;\n",
              "    }\n",
              "\n",
              "    .dataframe thead th {\n",
              "        text-align: right;\n",
              "    }\n",
              "</style>\n",
              "<table border=\"1\" class=\"dataframe\">\n",
              "  <thead>\n",
              "    <tr style=\"text-align: right;\">\n",
              "      <th></th>\n",
              "      <th>url</th>\n",
              "      <th>address</th>\n",
              "      <th>name</th>\n",
              "      <th>online_order</th>\n",
              "      <th>book_table</th>\n",
              "      <th>rate</th>\n",
              "      <th>votes</th>\n",
              "      <th>phone</th>\n",
              "      <th>location</th>\n",
              "      <th>rest_type</th>\n",
              "      <th>dish_liked</th>\n",
              "      <th>cuisines</th>\n",
              "      <th>approx_cost(for two people)</th>\n",
              "      <th>reviews_list</th>\n",
              "      <th>menu_item</th>\n",
              "      <th>listed_in(type)</th>\n",
              "      <th>listed_in(city)</th>\n",
              "    </tr>\n",
              "  </thead>\n",
              "  <tbody>\n",
              "    <tr>\n",
              "      <th>0</th>\n",
              "      <td>https://www.zomato.com/bangalore/jalsa-banasha...</td>\n",
              "      <td>942, 21st Main Road, 2nd Stage, Banashankari, ...</td>\n",
              "      <td>Jalsa</td>\n",
              "      <td>Yes</td>\n",
              "      <td>Yes</td>\n",
              "      <td>4.1/5</td>\n",
              "      <td>775</td>\n",
              "      <td>080 42297555\\r\\n+91 9743772233</td>\n",
              "      <td>Banashankari</td>\n",
              "      <td>Casual Dining</td>\n",
              "      <td>Pasta, Lunch Buffet, Masala Papad, Paneer Laja...</td>\n",
              "      <td>North Indian, Mughlai, Chinese</td>\n",
              "      <td>800</td>\n",
              "      <td>[('Rated 4.0', 'RATED\\n  A beautiful place to ...</td>\n",
              "      <td>[]</td>\n",
              "      <td>Buffet</td>\n",
              "      <td>Banashankari</td>\n",
              "    </tr>\n",
              "    <tr>\n",
              "      <th>1</th>\n",
              "      <td>https://www.zomato.com/bangalore/spice-elephan...</td>\n",
              "      <td>2nd Floor, 80 Feet Road, Near Big Bazaar, 6th ...</td>\n",
              "      <td>Spice Elephant</td>\n",
              "      <td>Yes</td>\n",
              "      <td>No</td>\n",
              "      <td>4.1/5</td>\n",
              "      <td>787</td>\n",
              "      <td>080 41714161</td>\n",
              "      <td>Banashankari</td>\n",
              "      <td>Casual Dining</td>\n",
              "      <td>Momos, Lunch Buffet, Chocolate Nirvana, Thai G...</td>\n",
              "      <td>Chinese, North Indian, Thai</td>\n",
              "      <td>800</td>\n",
              "      <td>[('Rated 4.0', 'RATED\\n  Had been here for din...</td>\n",
              "      <td>[]</td>\n",
              "      <td>Buffet</td>\n",
              "      <td>Banashankari</td>\n",
              "    </tr>\n",
              "    <tr>\n",
              "      <th>2</th>\n",
              "      <td>https://www.zomato.com/SanchurroBangalore?cont...</td>\n",
              "      <td>1112, Next to KIMS Medical College, 17th Cross...</td>\n",
              "      <td>San Churro Cafe</td>\n",
              "      <td>Yes</td>\n",
              "      <td>No</td>\n",
              "      <td>3.8/5</td>\n",
              "      <td>918</td>\n",
              "      <td>+91 9663487993</td>\n",
              "      <td>Banashankari</td>\n",
              "      <td>Cafe, Casual Dining</td>\n",
              "      <td>Churros, Cannelloni, Minestrone Soup, Hot Choc...</td>\n",
              "      <td>Cafe, Mexican, Italian</td>\n",
              "      <td>800</td>\n",
              "      <td>[('Rated 3.0', \"RATED\\n  Ambience is not that ...</td>\n",
              "      <td>[]</td>\n",
              "      <td>Buffet</td>\n",
              "      <td>Banashankari</td>\n",
              "    </tr>\n",
              "    <tr>\n",
              "      <th>3</th>\n",
              "      <td>https://www.zomato.com/bangalore/addhuri-udupi...</td>\n",
              "      <td>1st Floor, Annakuteera, 3rd Stage, Banashankar...</td>\n",
              "      <td>Addhuri Udupi Bhojana</td>\n",
              "      <td>No</td>\n",
              "      <td>No</td>\n",
              "      <td>3.7/5</td>\n",
              "      <td>88</td>\n",
              "      <td>+91 9620009302</td>\n",
              "      <td>Banashankari</td>\n",
              "      <td>Quick Bites</td>\n",
              "      <td>Masala Dosa</td>\n",
              "      <td>South Indian, North Indian</td>\n",
              "      <td>300</td>\n",
              "      <td>[('Rated 4.0', \"RATED\\n  Great food and proper...</td>\n",
              "      <td>[]</td>\n",
              "      <td>Buffet</td>\n",
              "      <td>Banashankari</td>\n",
              "    </tr>\n",
              "    <tr>\n",
              "      <th>4</th>\n",
              "      <td>https://www.zomato.com/bangalore/grand-village...</td>\n",
              "      <td>10, 3rd Floor, Lakshmi Associates, Gandhi Baza...</td>\n",
              "      <td>Grand Village</td>\n",
              "      <td>No</td>\n",
              "      <td>No</td>\n",
              "      <td>3.8/5</td>\n",
              "      <td>166</td>\n",
              "      <td>+91 8026612447\\r\\n+91 9901210005</td>\n",
              "      <td>Basavanagudi</td>\n",
              "      <td>Casual Dining</td>\n",
              "      <td>Panipuri, Gol Gappe</td>\n",
              "      <td>North Indian, Rajasthani</td>\n",
              "      <td>600</td>\n",
              "      <td>[('Rated 4.0', 'RATED\\n  Very good restaurant ...</td>\n",
              "      <td>[]</td>\n",
              "      <td>Buffet</td>\n",
              "      <td>Banashankari</td>\n",
              "    </tr>\n",
              "  </tbody>\n",
              "</table>\n",
              "</div>"
            ],
            "text/plain": [
              "                                                 url  ... listed_in(city)\n",
              "0  https://www.zomato.com/bangalore/jalsa-banasha...  ...    Banashankari\n",
              "1  https://www.zomato.com/bangalore/spice-elephan...  ...    Banashankari\n",
              "2  https://www.zomato.com/SanchurroBangalore?cont...  ...    Banashankari\n",
              "3  https://www.zomato.com/bangalore/addhuri-udupi...  ...    Banashankari\n",
              "4  https://www.zomato.com/bangalore/grand-village...  ...    Banashankari\n",
              "\n",
              "[5 rows x 17 columns]"
            ]
          },
          "metadata": {},
          "execution_count": 5
        }
      ]
    },
    {
      "cell_type": "code",
      "metadata": {
        "id": "ugoz8nf-IVxE"
      },
      "source": [
        ""
      ],
      "execution_count": 5,
      "outputs": []
    },
    {
      "cell_type": "code",
      "metadata": {
        "colab": {
          "base_uri": "https://localhost:8080/"
        },
        "id": "EUP2Yn10JI-h",
        "outputId": "c5b08f4c-a55f-4b4f-fbfe-0b6381a10da9"
      },
      "source": [
        "data.shape"
      ],
      "execution_count": 6,
      "outputs": [
        {
          "output_type": "execute_result",
          "data": {
            "text/plain": [
              "(51717, 17)"
            ]
          },
          "metadata": {},
          "execution_count": 6
        }
      ]
    },
    {
      "cell_type": "code",
      "metadata": {
        "colab": {
          "base_uri": "https://localhost:8080/"
        },
        "id": "ZlwLZzgXJUpp",
        "outputId": "8ef9ce15-e065-4b7c-96b8-d2f54ae51ece"
      },
      "source": [
        "data.dtypes   #checking the data types"
      ],
      "execution_count": 7,
      "outputs": [
        {
          "output_type": "execute_result",
          "data": {
            "text/plain": [
              "url                            object\n",
              "address                        object\n",
              "name                           object\n",
              "online_order                   object\n",
              "book_table                     object\n",
              "rate                           object\n",
              "votes                           int64\n",
              "phone                          object\n",
              "location                       object\n",
              "rest_type                      object\n",
              "dish_liked                     object\n",
              "cuisines                       object\n",
              "approx_cost(for two people)    object\n",
              "reviews_list                   object\n",
              "menu_item                      object\n",
              "listed_in(type)                object\n",
              "listed_in(city)                object\n",
              "dtype: object"
            ]
          },
          "metadata": {},
          "execution_count": 7
        }
      ]
    },
    {
      "cell_type": "code",
      "metadata": {
        "colab": {
          "base_uri": "https://localhost:8080/"
        },
        "id": "WVg4TWYTJmM3",
        "outputId": "a95b169d-eb62-4897-8c44-ca52415ccd51"
      },
      "source": [
        "data.isna().sum()   #cheacking null values"
      ],
      "execution_count": 8,
      "outputs": [
        {
          "output_type": "execute_result",
          "data": {
            "text/plain": [
              "url                                0\n",
              "address                            0\n",
              "name                               0\n",
              "online_order                       0\n",
              "book_table                         0\n",
              "rate                            7775\n",
              "votes                              0\n",
              "phone                           1208\n",
              "location                          21\n",
              "rest_type                        227\n",
              "dish_liked                     28078\n",
              "cuisines                          45\n",
              "approx_cost(for two people)      346\n",
              "reviews_list                       0\n",
              "menu_item                          0\n",
              "listed_in(type)                    0\n",
              "listed_in(city)                    0\n",
              "dtype: int64"
            ]
          },
          "metadata": {},
          "execution_count": 8
        }
      ]
    },
    {
      "cell_type": "code",
      "metadata": {
        "id": "JA2icBZqJ3PX"
      },
      "source": [
        " # Deleting Unnecessary Columns\n",
        " df=data.drop(['url','phone'],axis=1)   #Droping the column like 'phone' and 'url' and saving the new ."
      ],
      "execution_count": 9,
      "outputs": []
    },
    {
      "cell_type": "code",
      "metadata": {
        "id": "qhS8SyVnLJGB"
      },
      "source": [
        "#Checking for duplicate values"
      ],
      "execution_count": 10,
      "outputs": []
    },
    {
      "cell_type": "code",
      "metadata": {
        "colab": {
          "base_uri": "https://localhost:8080/"
        },
        "id": "i7sjelwrLsvz",
        "outputId": "1d434d81-ff45-45f1-b3b9-541889bd7e1b"
      },
      "source": [
        "df.duplicated().sum()"
      ],
      "execution_count": 11,
      "outputs": [
        {
          "output_type": "execute_result",
          "data": {
            "text/plain": [
              "43"
            ]
          },
          "metadata": {},
          "execution_count": 11
        }
      ]
    },
    {
      "cell_type": "code",
      "metadata": {
        "id": "jtJRDySeLyRE"
      },
      "source": [
        "df.drop_duplicates(inplace=True)"
      ],
      "execution_count": 12,
      "outputs": []
    },
    {
      "cell_type": "code",
      "metadata": {
        "colab": {
          "base_uri": "https://localhost:8080/"
        },
        "id": "CWSjV8fMMJrF",
        "outputId": "6be5ce5f-6aa3-4d22-e0fd-9f85b6716e82"
      },
      "source": [
        "df.duplicated().sum()"
      ],
      "execution_count": 13,
      "outputs": [
        {
          "output_type": "execute_result",
          "data": {
            "text/plain": [
              "0"
            ]
          },
          "metadata": {},
          "execution_count": 13
        }
      ]
    },
    {
      "cell_type": "code",
      "metadata": {
        "id": "UhTCZrMlMPMg"
      },
      "source": [
        "# Drop null values"
      ],
      "execution_count": 14,
      "outputs": []
    },
    {
      "cell_type": "code",
      "metadata": {
        "colab": {
          "base_uri": "https://localhost:8080/"
        },
        "id": "KrrNB-FLMUqs",
        "outputId": "235138cc-79c3-4b45-defb-051a3e628efe"
      },
      "source": [
        "# Remove the NaN values from the dataset\n",
        "df.dropna(how='any',inplace=True)\n",
        "df.isnull().sum()"
      ],
      "execution_count": 15,
      "outputs": [
        {
          "output_type": "execute_result",
          "data": {
            "text/plain": [
              "address                        0\n",
              "name                           0\n",
              "online_order                   0\n",
              "book_table                     0\n",
              "rate                           0\n",
              "votes                          0\n",
              "location                       0\n",
              "rest_type                      0\n",
              "dish_liked                     0\n",
              "cuisines                       0\n",
              "approx_cost(for two people)    0\n",
              "reviews_list                   0\n",
              "menu_item                      0\n",
              "listed_in(type)                0\n",
              "listed_in(city)                0\n",
              "dtype: int64"
            ]
          },
          "metadata": {},
          "execution_count": 15
        }
      ]
    },
    {
      "cell_type": "code",
      "metadata": {
        "id": "RWfPl7HiMvoo"
      },
      "source": [
        "# Renaming columns approprietly"
      ],
      "execution_count": 16,
      "outputs": []
    },
    {
      "cell_type": "code",
      "metadata": {
        "colab": {
          "base_uri": "https://localhost:8080/"
        },
        "id": "27F6U1i_NFCd",
        "outputId": "9feddce2-2ca2-489e-fd6c-33e6a00aeb69"
      },
      "source": [
        "df.columns"
      ],
      "execution_count": 17,
      "outputs": [
        {
          "output_type": "execute_result",
          "data": {
            "text/plain": [
              "Index(['address', 'name', 'online_order', 'book_table', 'rate', 'votes',\n",
              "       'location', 'rest_type', 'dish_liked', 'cuisines',\n",
              "       'approx_cost(for two people)', 'reviews_list', 'menu_item',\n",
              "       'listed_in(type)', 'listed_in(city)'],\n",
              "      dtype='object')"
            ]
          },
          "metadata": {},
          "execution_count": 17
        }
      ]
    },
    {
      "cell_type": "code",
      "metadata": {
        "colab": {
          "base_uri": "https://localhost:8080/"
        },
        "id": "TRiPAK3ANHmF",
        "outputId": "b82478b3-4e57-4a6a-d009-a13173e2145d"
      },
      "source": [
        "df=df.rename(columns={'approx_cost(for two people)':'cost','listed_in(type)':'type','listed_in(city)':'city'})\n",
        "df.columns"
      ],
      "execution_count": 18,
      "outputs": [
        {
          "output_type": "execute_result",
          "data": {
            "text/plain": [
              "Index(['address', 'name', 'online_order', 'book_table', 'rate', 'votes',\n",
              "       'location', 'rest_type', 'dish_liked', 'cuisines', 'cost',\n",
              "       'reviews_list', 'menu_item', 'type', 'city'],\n",
              "      dtype='object')"
            ]
          },
          "metadata": {},
          "execution_count": 18
        }
      ]
    },
    {
      "cell_type": "code",
      "metadata": {
        "colab": {
          "base_uri": "https://localhost:8080/",
          "height": 438
        },
        "id": "_btVljQhODqX",
        "outputId": "b9a5c875-2e3c-4cb3-9ea6-7f2009dbe6d0"
      },
      "source": [
        "df.head()"
      ],
      "execution_count": 19,
      "outputs": [
        {
          "output_type": "execute_result",
          "data": {
            "text/html": [
              "<div>\n",
              "<style scoped>\n",
              "    .dataframe tbody tr th:only-of-type {\n",
              "        vertical-align: middle;\n",
              "    }\n",
              "\n",
              "    .dataframe tbody tr th {\n",
              "        vertical-align: top;\n",
              "    }\n",
              "\n",
              "    .dataframe thead th {\n",
              "        text-align: right;\n",
              "    }\n",
              "</style>\n",
              "<table border=\"1\" class=\"dataframe\">\n",
              "  <thead>\n",
              "    <tr style=\"text-align: right;\">\n",
              "      <th></th>\n",
              "      <th>address</th>\n",
              "      <th>name</th>\n",
              "      <th>online_order</th>\n",
              "      <th>book_table</th>\n",
              "      <th>rate</th>\n",
              "      <th>votes</th>\n",
              "      <th>location</th>\n",
              "      <th>rest_type</th>\n",
              "      <th>dish_liked</th>\n",
              "      <th>cuisines</th>\n",
              "      <th>cost</th>\n",
              "      <th>reviews_list</th>\n",
              "      <th>menu_item</th>\n",
              "      <th>type</th>\n",
              "      <th>city</th>\n",
              "    </tr>\n",
              "  </thead>\n",
              "  <tbody>\n",
              "    <tr>\n",
              "      <th>0</th>\n",
              "      <td>942, 21st Main Road, 2nd Stage, Banashankari, ...</td>\n",
              "      <td>Jalsa</td>\n",
              "      <td>Yes</td>\n",
              "      <td>Yes</td>\n",
              "      <td>4.1/5</td>\n",
              "      <td>775</td>\n",
              "      <td>Banashankari</td>\n",
              "      <td>Casual Dining</td>\n",
              "      <td>Pasta, Lunch Buffet, Masala Papad, Paneer Laja...</td>\n",
              "      <td>North Indian, Mughlai, Chinese</td>\n",
              "      <td>800</td>\n",
              "      <td>[('Rated 4.0', 'RATED\\n  A beautiful place to ...</td>\n",
              "      <td>[]</td>\n",
              "      <td>Buffet</td>\n",
              "      <td>Banashankari</td>\n",
              "    </tr>\n",
              "    <tr>\n",
              "      <th>1</th>\n",
              "      <td>2nd Floor, 80 Feet Road, Near Big Bazaar, 6th ...</td>\n",
              "      <td>Spice Elephant</td>\n",
              "      <td>Yes</td>\n",
              "      <td>No</td>\n",
              "      <td>4.1/5</td>\n",
              "      <td>787</td>\n",
              "      <td>Banashankari</td>\n",
              "      <td>Casual Dining</td>\n",
              "      <td>Momos, Lunch Buffet, Chocolate Nirvana, Thai G...</td>\n",
              "      <td>Chinese, North Indian, Thai</td>\n",
              "      <td>800</td>\n",
              "      <td>[('Rated 4.0', 'RATED\\n  Had been here for din...</td>\n",
              "      <td>[]</td>\n",
              "      <td>Buffet</td>\n",
              "      <td>Banashankari</td>\n",
              "    </tr>\n",
              "    <tr>\n",
              "      <th>2</th>\n",
              "      <td>1112, Next to KIMS Medical College, 17th Cross...</td>\n",
              "      <td>San Churro Cafe</td>\n",
              "      <td>Yes</td>\n",
              "      <td>No</td>\n",
              "      <td>3.8/5</td>\n",
              "      <td>918</td>\n",
              "      <td>Banashankari</td>\n",
              "      <td>Cafe, Casual Dining</td>\n",
              "      <td>Churros, Cannelloni, Minestrone Soup, Hot Choc...</td>\n",
              "      <td>Cafe, Mexican, Italian</td>\n",
              "      <td>800</td>\n",
              "      <td>[('Rated 3.0', \"RATED\\n  Ambience is not that ...</td>\n",
              "      <td>[]</td>\n",
              "      <td>Buffet</td>\n",
              "      <td>Banashankari</td>\n",
              "    </tr>\n",
              "    <tr>\n",
              "      <th>3</th>\n",
              "      <td>1st Floor, Annakuteera, 3rd Stage, Banashankar...</td>\n",
              "      <td>Addhuri Udupi Bhojana</td>\n",
              "      <td>No</td>\n",
              "      <td>No</td>\n",
              "      <td>3.7/5</td>\n",
              "      <td>88</td>\n",
              "      <td>Banashankari</td>\n",
              "      <td>Quick Bites</td>\n",
              "      <td>Masala Dosa</td>\n",
              "      <td>South Indian, North Indian</td>\n",
              "      <td>300</td>\n",
              "      <td>[('Rated 4.0', \"RATED\\n  Great food and proper...</td>\n",
              "      <td>[]</td>\n",
              "      <td>Buffet</td>\n",
              "      <td>Banashankari</td>\n",
              "    </tr>\n",
              "    <tr>\n",
              "      <th>4</th>\n",
              "      <td>10, 3rd Floor, Lakshmi Associates, Gandhi Baza...</td>\n",
              "      <td>Grand Village</td>\n",
              "      <td>No</td>\n",
              "      <td>No</td>\n",
              "      <td>3.8/5</td>\n",
              "      <td>166</td>\n",
              "      <td>Basavanagudi</td>\n",
              "      <td>Casual Dining</td>\n",
              "      <td>Panipuri, Gol Gappe</td>\n",
              "      <td>North Indian, Rajasthani</td>\n",
              "      <td>600</td>\n",
              "      <td>[('Rated 4.0', 'RATED\\n  Very good restaurant ...</td>\n",
              "      <td>[]</td>\n",
              "      <td>Buffet</td>\n",
              "      <td>Banashankari</td>\n",
              "    </tr>\n",
              "  </tbody>\n",
              "</table>\n",
              "</div>"
            ],
            "text/plain": [
              "                                             address  ...          city\n",
              "0  942, 21st Main Road, 2nd Stage, Banashankari, ...  ...  Banashankari\n",
              "1  2nd Floor, 80 Feet Road, Near Big Bazaar, 6th ...  ...  Banashankari\n",
              "2  1112, Next to KIMS Medical College, 17th Cross...  ...  Banashankari\n",
              "3  1st Floor, Annakuteera, 3rd Stage, Banashankar...  ...  Banashankari\n",
              "4  10, 3rd Floor, Lakshmi Associates, Gandhi Baza...  ...  Banashankari\n",
              "\n",
              "[5 rows x 15 columns]"
            ]
          },
          "metadata": {},
          "execution_count": 19
        }
      ]
    },
    {
      "cell_type": "code",
      "metadata": {
        "id": "ySSMZsTrOQQn"
      },
      "source": [
        "# Cheacking the dataset"
      ],
      "execution_count": 20,
      "outputs": []
    },
    {
      "cell_type": "code",
      "metadata": {
        "colab": {
          "base_uri": "https://localhost:8080/"
        },
        "id": "CTfrhe4POx5C",
        "outputId": "44446cbd-03d9-4a46-e1b4-0fca57a1496c"
      },
      "source": [
        "df['cost'].unique()"
      ],
      "execution_count": 21,
      "outputs": [
        {
          "output_type": "execute_result",
          "data": {
            "text/plain": [
              "array(['800', '300', '600', '700', '550', '500', '450', '650', '400',\n",
              "       '750', '200', '850', '1,200', '150', '350', '250', '1,500',\n",
              "       '1,300', '1,000', '100', '900', '1,100', '1,600', '950', '230',\n",
              "       '1,700', '1,400', '1,350', '2,200', '2,000', '1,800', '1,900',\n",
              "       '180', '330', '2,500', '2,100', '3,000', '2,800', '3,400', '40',\n",
              "       '1,250', '3,500', '4,000', '2,400', '1,450', '3,200', '6,000',\n",
              "       '1,050', '4,100', '2,300', '120', '2,600', '5,000', '3,700',\n",
              "       '1,650', '2,700', '4,500'], dtype=object)"
            ]
          },
          "metadata": {},
          "execution_count": 21
        }
      ]
    },
    {
      "cell_type": "code",
      "metadata": {
        "id": "VvyH3dNeO49b"
      },
      "source": [
        "# Replacing the ',' with nothing and converting the results to float"
      ],
      "execution_count": 22,
      "outputs": []
    },
    {
      "cell_type": "code",
      "metadata": {
        "id": "wOrBqQhFPL-l"
      },
      "source": [
        "# zomato ['cost]=zomato['cost].astype(str)   # changing the cost to string\n",
        "df['cost']=df['cost'].apply(lambda x:x.replace(',',''))  #Using lambda function\n",
        "df['cost']=df['cost'].astype(float)"
      ],
      "execution_count": 23,
      "outputs": []
    },
    {
      "cell_type": "code",
      "metadata": {
        "colab": {
          "base_uri": "https://localhost:8080/"
        },
        "id": "3n0C17qfQFES",
        "outputId": "e1a43f45-f9c9-4a9c-ff39-89bcbb539335"
      },
      "source": [
        "print(df['cost'].unique())\n",
        "print('---'*10)\n",
        "df.dtypes"
      ],
      "execution_count": 24,
      "outputs": [
        {
          "output_type": "stream",
          "name": "stdout",
          "text": [
            "[ 800.  300.  600.  700.  550.  500.  450.  650.  400.  750.  200.  850.\n",
            " 1200.  150.  350.  250. 1500. 1300. 1000.  100.  900. 1100. 1600.  950.\n",
            "  230. 1700. 1400. 1350. 2200. 2000. 1800. 1900.  180.  330. 2500. 2100.\n",
            " 3000. 2800. 3400.   40. 1250. 3500. 4000. 2400. 1450. 3200. 6000. 1050.\n",
            " 4100. 2300.  120. 2600. 5000. 3700. 1650. 2700. 4500.]\n",
            "------------------------------\n"
          ]
        },
        {
          "output_type": "execute_result",
          "data": {
            "text/plain": [
              "address          object\n",
              "name             object\n",
              "online_order     object\n",
              "book_table       object\n",
              "rate             object\n",
              "votes             int64\n",
              "location         object\n",
              "rest_type        object\n",
              "dish_liked       object\n",
              "cuisines         object\n",
              "cost            float64\n",
              "reviews_list     object\n",
              "menu_item        object\n",
              "type             object\n",
              "city             object\n",
              "dtype: object"
            ]
          },
          "metadata": {},
          "execution_count": 24
        }
      ]
    },
    {
      "cell_type": "code",
      "metadata": {
        "colab": {
          "base_uri": "https://localhost:8080/"
        },
        "id": "z1TOadtoQ7Qr",
        "outputId": "876d0d04-f545-4ddd-f3e5-adafd14b43d0"
      },
      "source": [
        "# Reading the unique values from the Rate column\n",
        "df['rate'].unique()"
      ],
      "execution_count": 25,
      "outputs": [
        {
          "output_type": "execute_result",
          "data": {
            "text/plain": [
              "array(['4.1/5', '3.8/5', '3.7/5', '4.6/5', '4.0/5', '4.2/5', '3.9/5',\n",
              "       '3.0/5', '3.6/5', '2.8/5', '4.4/5', '3.1/5', '4.3/5', '2.6/5',\n",
              "       '3.3/5', '3.5/5', '3.8 /5', '3.2/5', '4.5/5', '2.5/5', '2.9/5',\n",
              "       '3.4/5', '2.7/5', '4.7/5', 'NEW', '2.4/5', '2.2/5', '2.3/5',\n",
              "       '4.8/5', '3.9 /5', '4.2 /5', '4.0 /5', '4.1 /5', '2.9 /5',\n",
              "       '2.7 /5', '2.5 /5', '2.6 /5', '4.5 /5', '4.3 /5', '3.7 /5',\n",
              "       '4.4 /5', '4.9/5', '2.1/5', '2.0/5', '1.8/5', '3.4 /5', '3.6 /5',\n",
              "       '3.3 /5', '4.6 /5', '4.9 /5', '3.2 /5', '3.0 /5', '2.8 /5',\n",
              "       '3.5 /5', '3.1 /5', '4.8 /5', '2.3 /5', '4.7 /5', '2.4 /5',\n",
              "       '2.1 /5', '2.2 /5', '2.0 /5', '1.8 /5'], dtype=object)"
            ]
          },
          "metadata": {},
          "execution_count": 25
        }
      ]
    },
    {
      "cell_type": "code",
      "metadata": {
        "id": "kNSjji0RRzNJ"
      },
      "source": [
        "df=df.loc[df.rate !='NEW']  # getting rid of NEW"
      ],
      "execution_count": 26,
      "outputs": []
    },
    {
      "cell_type": "code",
      "metadata": {
        "colab": {
          "base_uri": "https://localhost:8080/"
        },
        "id": "qlueoovQSIz6",
        "outputId": "c79e0082-0488-451d-e3a7-3897c003ac7b"
      },
      "source": [
        "df['rate'].unique()"
      ],
      "execution_count": 27,
      "outputs": [
        {
          "output_type": "execute_result",
          "data": {
            "text/plain": [
              "array(['4.1/5', '3.8/5', '3.7/5', '4.6/5', '4.0/5', '4.2/5', '3.9/5',\n",
              "       '3.0/5', '3.6/5', '2.8/5', '4.4/5', '3.1/5', '4.3/5', '2.6/5',\n",
              "       '3.3/5', '3.5/5', '3.8 /5', '3.2/5', '4.5/5', '2.5/5', '2.9/5',\n",
              "       '3.4/5', '2.7/5', '4.7/5', '2.4/5', '2.2/5', '2.3/5', '4.8/5',\n",
              "       '3.9 /5', '4.2 /5', '4.0 /5', '4.1 /5', '2.9 /5', '2.7 /5',\n",
              "       '2.5 /5', '2.6 /5', '4.5 /5', '4.3 /5', '3.7 /5', '4.4 /5',\n",
              "       '4.9/5', '2.1/5', '2.0/5', '1.8/5', '3.4 /5', '3.6 /5', '3.3 /5',\n",
              "       '4.6 /5', '4.9 /5', '3.2 /5', '3.0 /5', '2.8 /5', '3.5 /5',\n",
              "       '3.1 /5', '4.8 /5', '2.3 /5', '4.7 /5', '2.4 /5', '2.1 /5',\n",
              "       '2.2 /5', '2.0 /5', '1.8 /5'], dtype=object)"
            ]
          },
          "metadata": {},
          "execution_count": 27
        }
      ]
    },
    {
      "cell_type": "code",
      "metadata": {
        "id": "AwL6efmsSVwW"
      },
      "source": [
        "# Removing '/5' from rates\n",
        "df['rate']=df['rate'].apply(lambda x:x.replace('/5',''))"
      ],
      "execution_count": 28,
      "outputs": []
    },
    {
      "cell_type": "code",
      "metadata": {
        "id": "TbIiPMRdTK0F"
      },
      "source": [
        "# Visulizations"
      ],
      "execution_count": 29,
      "outputs": []
    },
    {
      "cell_type": "code",
      "metadata": {
        "colab": {
          "base_uri": "https://localhost:8080/",
          "height": 622
        },
        "id": "i6QAd03wTeHv",
        "outputId": "b1d6d565-bbf2-44e4-e324-e14713721ea5"
      },
      "source": [
        "plt.figure(figsize=(17,10))\n",
        "chains=df['name'].value_counts()[:20]\n",
        "sns.barplot(x=chains,y=chains.index,palette='deep')\n",
        "plt.title('Most Famous Restaurants Chains In B angaluru')\n",
        "plt.xlabel('Number of outlets')\n",
        "plt.show()"
      ],
      "execution_count": 30,
      "outputs": [
        {
          "output_type": "display_data",
          "data": {
            "image/png": "[encoded data removed]",
            "text/plain": [
              "<Figure size 1224x720 with 1 Axes>"
            ]
          },
          "metadata": {
            "needs_background": "light"
          }
        }
      ]
    },
    {
      "cell_type": "code",
      "metadata": {
        "id": "F-_4x8ryUcRp"
      },
      "source": [
        "#Whether the offer Table booking or not"
      ],
      "execution_count": 31,
      "outputs": []
    },
    {
      "cell_type": "code",
      "metadata": {
        "colab": {
          "base_uri": "https://localhost:8080/",
          "height": 617
        },
        "id": "PuqfUFAWVVAM",
        "outputId": "411191fa-08e4-43ea-8591-6b9d830dc859"
      },
      "source": [
        "x=df['book_table'].value_counts()\n",
        "colors=['#80080','#0000A0']\n",
        "trace=go.Pie(labels=x.index,values=x,textinfo='value',marker=dict(colors=colors,line=dict(color='#001000',width=2)))\n",
        "layout=go.Layout(title='Table booking',width=600,height=600)\n",
        "fig=go.Figure(data=(trace),layout=layout)\n",
        "py.iplot(fig,filename='pie_chart_subplots')"
      ],
      "execution_count": 32,
      "outputs": [
        {
          "output_type": "display_data",
          "data": {
            "text/html": [
              "<html>\n",
              "<head><meta charset=\"utf-8\" /></head>\n",
              "<body>\n",
              "    <div>\n",
              "            <script src=\"https://cdnjs.cloudflare.com/ajax/libs/mathjax/2.7.5/MathJax.js?config=TeX-AMS-MML_SVG\"></script><script type=\"text/javascript\">if (window.MathJax) {MathJax.Hub.Config({SVG: {font: \"STIX-Web\"}});}</script>\n",
              "                <script type=\"text/javascript\">window.PlotlyConfig = {MathJaxConfig: 'local'};</script>\n",
              "        <script src=\"https://cdn.plot.ly/plotly-latest.min.js\"></script>    \n",
              "            <div id=\"ccc2a81e-fdbf-4e44-9666-f2054184b96b\" class=\"plotly-graph-div\" style=\"height:600px; width:600px;\"></div>\n",
              "            <script type=\"text/javascript\">\n",
              "                \n",
              "                    window.PLOTLYENV=window.PLOTLYENV || {};\n",
              "                    \n",
              "                if (document.getElementById(\"ccc2a81e-fdbf-4e44-9666-f2054184b96b\")) {\n",
              "                    Plotly.newPlot(\n",
              "                        'ccc2a81e-fdbf-4e44-9666-f2054184b96b',\n",
              "                        [{\"labels\": [\"No\", \"Yes\"], \"marker\": {\"colors\": [\"#80080\", \"#0000A0\"], \"line\": {\"color\": \"#001000\", \"width\": 2}}, \"textinfo\": \"value\", \"type\": \"pie\", \"values\": [17191, 6057]}],\n",
              "                        {\"height\": 600, \"template\": {\"data\": {\"bar\": [{\"error_x\": {\"color\": \"#2a3f5f\"}, \"error_y\": {\"color\": \"#2a3f5f\"}, \"marker\": {\"line\": {\"color\": \"#E5ECF6\", \"width\": 0.5}}, \"type\": \"bar\"}], \"barpolar\": [{\"marker\": {\"line\": {\"color\": \"#E5ECF6\", \"width\": 0.5}}, \"type\": \"barpolar\"}], \"carpet\": [{\"aaxis\": {\"endlinecolor\": \"#2a3f5f\", \"gridcolor\": \"white\", \"linecolor\": \"white\", \"minorgridcolor\": \"white\", \"startlinecolor\": \"#2a3f5f\"}, \"baxis\": {\"endlinecolor\": \"#2a3f5f\", \"gridcolor\": \"white\", \"linecolor\": \"white\", \"minorgridcolor\": \"white\", \"startlinecolor\": \"#2a3f5f\"}, \"type\": \"carpet\"}], \"choropleth\": [{\"colorbar\": {\"outlinewidth\": 0, \"ticks\": \"\"}, \"type\": \"choropleth\"}], \"contour\": [{\"colorbar\": {\"outlinewidth\": 0, \"ticks\": \"\"}, \"colorscale\": [[0.0, \"#0d0887\"], [0.1111111111111111, \"#46039f\"], [0.2222222222222222, \"#7201a8\"], [0.3333333333333333, \"#9c179e\"], [0.4444444444444444, \"#bd3786\"], [0.5555555555555556, \"#d8576b\"], [0.6666666666666666, \"#ed7953\"], [0.7777777777777778, \"#fb9f3a\"], [0.8888888888888888, \"#fdca26\"], [1.0, \"#f0f921\"]], \"type\": \"contour\"}], \"contourcarpet\": [{\"colorbar\": {\"outlinewidth\": 0, \"ticks\": \"\"}, \"type\": \"contourcarpet\"}], \"heatmap\": [{\"colorbar\": {\"outlinewidth\": 0, \"ticks\": \"\"}, \"colorscale\": [[0.0, \"#0d0887\"], [0.1111111111111111, \"#46039f\"], [0.2222222222222222, \"#7201a8\"], [0.3333333333333333, \"#9c179e\"], [0.4444444444444444, \"#bd3786\"], [0.5555555555555556, \"#d8576b\"], [0.6666666666666666, \"#ed7953\"], [0.7777777777777778, \"#fb9f3a\"], [0.8888888888888888, \"#fdca26\"], [1.0, \"#f0f921\"]], \"type\": \"heatmap\"}], \"heatmapgl\": [{\"colorbar\": {\"outlinewidth\": 0, \"ticks\": \"\"}, \"colorscale\": [[0.0, \"#0d0887\"], [0.1111111111111111, \"#46039f\"], [0.2222222222222222, \"#7201a8\"], [0.3333333333333333, \"#9c179e\"], [0.4444444444444444, \"#bd3786\"], [0.5555555555555556, \"#d8576b\"], [0.6666666666666666, \"#ed7953\"], [0.7777777777777778, \"#fb9f3a\"], [0.8888888888888888, \"#fdca26\"], [1.0, \"#f0f921\"]], \"type\": \"heatmapgl\"}], \"histogram\": [{\"marker\": {\"colorbar\": {\"outlinewidth\": 0, \"ticks\": \"\"}}, \"type\": \"histogram\"}], \"histogram2d\": [{\"colorbar\": {\"outlinewidth\": 0, \"ticks\": \"\"}, \"colorscale\": [[0.0, \"#0d0887\"], [0.1111111111111111, \"#46039f\"], [0.2222222222222222, \"#7201a8\"], [0.3333333333333333, \"#9c179e\"], [0.4444444444444444, \"#bd3786\"], [0.5555555555555556, \"#d8576b\"], [0.6666666666666666, \"#ed7953\"], [0.7777777777777778, \"#fb9f3a\"], [0.8888888888888888, \"#fdca26\"], [1.0, \"#f0f921\"]], \"type\": \"histogram2d\"}], \"histogram2dcontour\": [{\"colorbar\": {\"outlinewidth\": 0, \"ticks\": \"\"}, \"colorscale\": [[0.0, \"#0d0887\"], [0.1111111111111111, \"#46039f\"], [0.2222222222222222, \"#7201a8\"], [0.3333333333333333, \"#9c179e\"], [0.4444444444444444, \"#bd3786\"], [0.5555555555555556, \"#d8576b\"], [0.6666666666666666, \"#ed7953\"], [0.7777777777777778, \"#fb9f3a\"], [0.8888888888888888, \"#fdca26\"], [1.0, \"#f0f921\"]], \"type\": \"histogram2dcontour\"}], \"mesh3d\": [{\"colorbar\": {\"outlinewidth\": 0, \"ticks\": \"\"}, \"type\": \"mesh3d\"}], \"parcoords\": [{\"line\": {\"colorbar\": {\"outlinewidth\": 0, \"ticks\": \"\"}}, \"type\": \"parcoords\"}], \"pie\": [{\"automargin\": true, \"type\": \"pie\"}], \"scatter\": [{\"marker\": {\"colorbar\": {\"outlinewidth\": 0, \"ticks\": \"\"}}, \"type\": \"scatter\"}], \"scatter3d\": [{\"line\": {\"colorbar\": {\"outlinewidth\": 0, \"ticks\": \"\"}}, \"marker\": {\"colorbar\": {\"outlinewidth\": 0, \"ticks\": \"\"}}, \"type\": \"scatter3d\"}], \"scattercarpet\": [{\"marker\": {\"colorbar\": {\"outlinewidth\": 0, \"ticks\": \"\"}}, \"type\": \"scattercarpet\"}], \"scattergeo\": [{\"marker\": {\"colorbar\": {\"outlinewidth\": 0, \"ticks\": \"\"}}, \"type\": \"scattergeo\"}], \"scattergl\": [{\"marker\": {\"colorbar\": {\"outlinewidth\": 0, \"ticks\": \"\"}}, \"type\": \"scattergl\"}], \"scattermapbox\": [{\"marker\": {\"colorbar\": {\"outlinewidth\": 0, \"ticks\": \"\"}}, \"type\": \"scattermapbox\"}], \"scatterpolar\": [{\"marker\": {\"colorbar\": {\"outlinewidth\": 0, \"ticks\": \"\"}}, \"type\": \"scatterpolar\"}], \"scatterpolargl\": [{\"marker\": {\"colorbar\": {\"outlinewidth\": 0, \"ticks\": \"\"}}, \"type\": \"scatterpolargl\"}], \"scatterternary\": [{\"marker\": {\"colorbar\": {\"outlinewidth\": 0, \"ticks\": \"\"}}, \"type\": \"scatterternary\"}], \"surface\": [{\"colorbar\": {\"outlinewidth\": 0, \"ticks\": \"\"}, \"colorscale\": [[0.0, \"#0d0887\"], [0.1111111111111111, \"#46039f\"], [0.2222222222222222, \"#7201a8\"], [0.3333333333333333, \"#9c179e\"], [0.4444444444444444, \"#bd3786\"], [0.5555555555555556, \"#d8576b\"], [0.6666666666666666, \"#ed7953\"], [0.7777777777777778, \"#fb9f3a\"], [0.8888888888888888, \"#fdca26\"], [1.0, \"#f0f921\"]], \"type\": \"surface\"}], \"table\": [{\"cells\": {\"fill\": {\"color\": \"#EBF0F8\"}, \"line\": {\"color\": \"white\"}}, \"header\": {\"fill\": {\"color\": \"#C8D4E3\"}, \"line\": {\"color\": \"white\"}}, \"type\": \"table\"}]}, \"layout\": {\"annotationdefaults\": {\"arrowcolor\": \"#2a3f5f\", \"arrowhead\": 0, \"arrowwidth\": 1}, \"coloraxis\": {\"colorbar\": {\"outlinewidth\": 0, \"ticks\": \"\"}}, \"colorscale\": {\"diverging\": [[0, \"#8e0152\"], [0.1, \"#c51b7d\"], [0.2, \"#de77ae\"], [0.3, \"#f1b6da\"], [0.4, \"#fde0ef\"], [0.5, \"#f7f7f7\"], [0.6, \"#e6f5d0\"], [0.7, \"#b8e186\"], [0.8, \"#7fbc41\"], [0.9, \"#4d9221\"], [1, \"#276419\"]], \"sequential\": [[0.0, \"#0d0887\"], [0.1111111111111111, \"#46039f\"], [0.2222222222222222, \"#7201a8\"], [0.3333333333333333, \"#9c179e\"], [0.4444444444444444, \"#bd3786\"], [0.5555555555555556, \"#d8576b\"], [0.6666666666666666, \"#ed7953\"], [0.7777777777777778, \"#fb9f3a\"], [0.8888888888888888, \"#fdca26\"], [1.0, \"#f0f921\"]], \"sequentialminus\": [[0.0, \"#0d0887\"], [0.1111111111111111, \"#46039f\"], [0.2222222222222222, \"#7201a8\"], [0.3333333333333333, \"#9c179e\"], [0.4444444444444444, \"#bd3786\"], [0.5555555555555556, \"#d8576b\"], [0.6666666666666666, \"#ed7953\"], [0.7777777777777778, \"#fb9f3a\"], [0.8888888888888888, \"#fdca26\"], [1.0, \"#f0f921\"]]}, \"colorway\": [\"#636efa\", \"#EF553B\", \"#00cc96\", \"#ab63fa\", \"#FFA15A\", \"#19d3f3\", \"#FF6692\", \"#B6E880\", \"#FF97FF\", \"#FECB52\"], \"font\": {\"color\": \"#2a3f5f\"}, \"geo\": {\"bgcolor\": \"white\", \"lakecolor\": \"white\", \"landcolor\": \"#E5ECF6\", \"showlakes\": true, \"showland\": true, \"subunitcolor\": \"white\"}, \"hoverlabel\": {\"align\": \"left\"}, \"hovermode\": \"closest\", \"mapbox\": {\"style\": \"light\"}, \"paper_bgcolor\": \"white\", \"plot_bgcolor\": \"#E5ECF6\", \"polar\": {\"angularaxis\": {\"gridcolor\": \"white\", \"linecolor\": \"white\", \"ticks\": \"\"}, \"bgcolor\": \"#E5ECF6\", \"radialaxis\": {\"gridcolor\": \"white\", \"linecolor\": \"white\", \"ticks\": \"\"}}, \"scene\": {\"xaxis\": {\"backgroundcolor\": \"#E5ECF6\", \"gridcolor\": \"white\", \"gridwidth\": 2, \"linecolor\": \"white\", \"showbackground\": true, \"ticks\": \"\", \"zerolinecolor\": \"white\"}, \"yaxis\": {\"backgroundcolor\": \"#E5ECF6\", \"gridcolor\": \"white\", \"gridwidth\": 2, \"linecolor\": \"white\", \"showbackground\": true, \"ticks\": \"\", \"zerolinecolor\": \"white\"}, \"zaxis\": {\"backgroundcolor\": \"#E5ECF6\", \"gridcolor\": \"white\", \"gridwidth\": 2, \"linecolor\": \"white\", \"showbackground\": true, \"ticks\": \"\", \"zerolinecolor\": \"white\"}}, \"shapedefaults\": {\"line\": {\"color\": \"#2a3f5f\"}}, \"ternary\": {\"aaxis\": {\"gridcolor\": \"white\", \"linecolor\": \"white\", \"ticks\": \"\"}, \"baxis\": {\"gridcolor\": \"white\", \"linecolor\": \"white\", \"ticks\": \"\"}, \"bgcolor\": \"#E5ECF6\", \"caxis\": {\"gridcolor\": \"white\", \"linecolor\": \"white\", \"ticks\": \"\"}}, \"title\": {\"x\": 0.05}, \"xaxis\": {\"automargin\": true, \"gridcolor\": \"white\", \"linecolor\": \"white\", \"ticks\": \"\", \"title\": {\"standoff\": 15}, \"zerolinecolor\": \"white\", \"zerolinewidth\": 2}, \"yaxis\": {\"automargin\": true, \"gridcolor\": \"white\", \"linecolor\": \"white\", \"ticks\": \"\", \"title\": {\"standoff\": 15}, \"zerolinecolor\": \"white\", \"zerolinewidth\": 2}}}, \"title\": {\"text\": \"Table booking\"}, \"width\": 600},\n",
              "                        {\"responsive\": true}\n",
              "                    ).then(function(){\n",
              "                            \n",
              "var gd = document.getElementById('ccc2a81e-fdbf-4e44-9666-f2054184b96b');\n",
              "var x = new MutationObserver(function (mutations, observer) {{\n",
              "        var display = window.getComputedStyle(gd).display;\n",
              "        if (!display || display === 'none') {{\n",
              "            console.log([gd, 'removed!']);\n",
              "            Plotly.purge(gd);\n",
              "            observer.disconnect();\n",
              "        }}\n",
              "}});\n",
              "\n",
              "// Listen for the removal of the full notebook cells\n",
              "var notebookContainer = gd.closest('#notebook-container');\n",
              "if (notebookContainer) {{\n",
              "    x.observe(notebookContainer, {childList: true});\n",
              "}}\n",
              "\n",
              "// Listen for the clearing of the current output cell\n",
              "var outputEl = gd.closest('.output');\n",
              "if (outputEl) {{\n",
              "    x.observe(outputEl, {childList: true});\n",
              "}}\n",
              "\n",
              "                        })\n",
              "                };\n",
              "                \n",
              "            </script>\n",
              "        </div>\n",
              "</body>\n",
              "</html>"
            ]
          },
          "metadata": {}
        }
      ]
    },
    {
      "cell_type": "code",
      "metadata": {
        "id": "Xw5Ob41FgvLS"
      },
      "source": [
        "# Insight"
      ],
      "execution_count": 33,
      "outputs": []
    },
    {
      "cell_type": "code",
      "metadata": {
        "id": "FpdKt3mAh287"
      },
      "source": [
        "# most of the Restaurarants do not offer table booking"
      ],
      "execution_count": 34,
      "outputs": []
    },
    {
      "cell_type": "code",
      "metadata": {
        "id": "aKub4vQbiIfV"
      },
      "source": [
        "# Whether Restaurants deliver online or not"
      ],
      "execution_count": 35,
      "outputs": []
    },
    {
      "cell_type": "code",
      "metadata": {
        "colab": {
          "base_uri": "https://localhost:8080/",
          "height": 622
        },
        "id": "XFZfd6QTiY3G",
        "outputId": "ad9e07c1-45f5-4324-fdc9-fd178fdc5093"
      },
      "source": [
        "sns.countplot(df['online_order'])\n",
        "fig=plt.gcf()\n",
        "fig.set_size_inches(10,10)\n",
        "plt.title('Whether Restaurant deliver online or Not')\n",
        "plt.show()"
      ],
      "execution_count": 36,
      "outputs": [
        {
          "output_type": "display_data",
          "data": {
            "image/png": "[encoded data removed]",
            "text/plain": [
              "<Figure size 720x720 with 1 Axes>"
            ]
          },
          "metadata": {
            "needs_background": "light"
          }
        }
      ]
    },
    {
      "cell_type": "code",
      "metadata": {
        "id": "CdHEubSUjE0H"
      },
      "source": [
        "# Insight"
      ],
      "execution_count": 37,
      "outputs": []
    },
    {
      "cell_type": "code",
      "metadata": {
        "id": "LomDP6pUjmVQ"
      },
      "source": [
        "# Most Restaurant offer option for online order and delivery"
      ],
      "execution_count": 38,
      "outputs": []
    },
    {
      "cell_type": "code",
      "metadata": {
        "id": "T8S-kw-Kj7xL"
      },
      "source": [
        "# Rating Destribution"
      ],
      "execution_count": 39,
      "outputs": []
    },
    {
      "cell_type": "code",
      "metadata": {
        "id": "o5DvtXEOkBkd"
      },
      "source": [
        "#how ratings are distributed"
      ],
      "execution_count": 40,
      "outputs": []
    },
    {
      "cell_type": "code",
      "metadata": {
        "colab": {
          "base_uri": "https://localhost:8080/",
          "height": 459
        },
        "id": "5wveByiRkIZJ",
        "outputId": "e7dd7598-7e9a-4ae0-a484-cfd8702ac27d"
      },
      "source": [
        "plt.figure(figsize=(9,7))\n",
        "sns.distplot(df['rate'],bins=20)"
      ],
      "execution_count": 41,
      "outputs": [
        {
          "output_type": "execute_result",
          "data": {
            "text/plain": [
              "<matplotlib.axes._subplots.AxesSubplot at 0x7fb8d141b1d0>"
            ]
          },
          "metadata": {},
          "execution_count": 41
        },
        {
          "output_type": "display_data",
          "data": {
            "image/png": "[encoded data removed]",
            "text/plain": [
              "<Figure size 648x504 with 1 Axes>"
            ]
          },
          "metadata": {
            "needs_background": "light"
          }
        }
      ]
    },
    {
      "cell_type": "code",
      "metadata": {
        "id": "OOOVMZiMkZhK"
      },
      "source": [
        "# Insight\n",
        "# we can infer from above that most of the ratings are within 3.5 and 4.5"
      ],
      "execution_count": 42,
      "outputs": []
    },
    {
      "cell_type": "code",
      "metadata": {
        "id": "vNAkZ6zDlCJZ"
      },
      "source": [
        "#Count of rating as between '1&2,2&3,3&4,4&5,5&6'"
      ],
      "execution_count": 43,
      "outputs": []
    },
    {
      "cell_type": "code",
      "metadata": {
        "colab": {
          "base_uri": "https://localhost:8080/"
        },
        "id": "VWB9n5Imlbqo",
        "outputId": "30c31e1a-d167-43b5-93d6-10a63fb7453e"
      },
      "source": [
        "df['rate'].unique()"
      ],
      "execution_count": 44,
      "outputs": [
        {
          "output_type": "execute_result",
          "data": {
            "text/plain": [
              "array(['4.1', '3.8', '3.7', '4.6', '4.0', '4.2', '3.9', '3.0', '3.6',\n",
              "       '2.8', '4.4', '3.1', '4.3', '2.6', '3.3', '3.5', '3.8 ', '3.2',\n",
              "       '4.5', '2.5', '2.9', '3.4', '2.7', '4.7', '2.4', '2.2', '2.3',\n",
              "       '4.8', '3.9 ', '4.2 ', '4.0 ', '4.1 ', '2.9 ', '2.7 ', '2.5 ',\n",
              "       '2.6 ', '4.5 ', '4.3 ', '3.7 ', '4.4 ', '4.9', '2.1', '2.0', '1.8',\n",
              "       '3.4 ', '3.6 ', '3.3 ', '4.6 ', '4.9 ', '3.2 ', '3.0 ', '2.8 ',\n",
              "       '3.5 ', '3.1 ', '4.8 ', '2.3 ', '4.7 ', '2.4 ', '2.1 ', '2.2 ',\n",
              "       '2.0 ', '1.8 '], dtype=object)"
            ]
          },
          "metadata": {},
          "execution_count": 44
        }
      ]
    },
    {
      "cell_type": "code",
      "metadata": {
        "colab": {
          "base_uri": "https://localhost:8080/",
          "height": 35
        },
        "id": "72FzDEellgpJ",
        "outputId": "c01053f9-e031-455c-bf22-d10f7d39746e"
      },
      "source": [
        "df['rate'].min()"
      ],
      "execution_count": 45,
      "outputs": [
        {
          "output_type": "execute_result",
          "data": {
            "application/vnd.google.colaboratory.intrinsic+json": {
              "type": "string"
            },
            "text/plain": [
              "'1.8'"
            ]
          },
          "metadata": {},
          "execution_count": 45
        }
      ]
    },
    {
      "cell_type": "code",
      "metadata": {
        "colab": {
          "base_uri": "https://localhost:8080/",
          "height": 35
        },
        "id": "rk_AQD3Slk-u",
        "outputId": "7eb283c8-29bf-4bd0-c35c-783b8c909e55"
      },
      "source": [
        "df['rate'].max()"
      ],
      "execution_count": 46,
      "outputs": [
        {
          "output_type": "execute_result",
          "data": {
            "application/vnd.google.colaboratory.intrinsic+json": {
              "type": "string"
            },
            "text/plain": [
              "'4.9 '"
            ]
          },
          "metadata": {},
          "execution_count": 46
        }
      ]
    },
    {
      "cell_type": "code",
      "metadata": {
        "id": "JakI4yMJls56"
      },
      "source": [
        "df['rate']=df['rate'].astype(float)"
      ],
      "execution_count": 47,
      "outputs": []
    },
    {
      "cell_type": "code",
      "metadata": {
        "colab": {
          "base_uri": "https://localhost:8080/"
        },
        "id": "EM9hsV52l0sW",
        "outputId": "0f66dd43-a5e3-4028-e9b1-1f70ed232fe5"
      },
      "source": [
        "((df['rate']>=1)&(df['rate']<2)).sum()"
      ],
      "execution_count": 48,
      "outputs": [
        {
          "output_type": "execute_result",
          "data": {
            "text/plain": [
              "5"
            ]
          },
          "metadata": {},
          "execution_count": 48
        }
      ]
    },
    {
      "cell_type": "code",
      "metadata": {
        "colab": {
          "base_uri": "https://localhost:8080/"
        },
        "id": "VoKXVHa_mD3u",
        "outputId": "ca645ca0-67cc-45d8-c220-e254ee7a16cc"
      },
      "source": [
        "((df['rate']>=2)&(df['rate']<3)).sum()"
      ],
      "execution_count": 49,
      "outputs": [
        {
          "output_type": "execute_result",
          "data": {
            "text/plain": [
              "1179"
            ]
          },
          "metadata": {},
          "execution_count": 49
        }
      ]
    },
    {
      "cell_type": "code",
      "metadata": {
        "colab": {
          "base_uri": "https://localhost:8080/"
        },
        "id": "Zvu6z1_rmVO9",
        "outputId": "e6f7814b-e86a-4ae1-f426-130d05cc2b28"
      },
      "source": [
        "((df['rate']>=3)&(df['rate']<4)).sum()"
      ],
      "execution_count": 50,
      "outputs": [
        {
          "output_type": "execute_result",
          "data": {
            "text/plain": [
              "10153"
            ]
          },
          "metadata": {},
          "execution_count": 50
        }
      ]
    },
    {
      "cell_type": "code",
      "metadata": {
        "colab": {
          "base_uri": "https://localhost:8080/"
        },
        "id": "QYE-CRITmZFa",
        "outputId": "7c6c0ac9-f403-48d1-f81e-dff3604898f2"
      },
      "source": [
        "(df['rate']>=4).sum()"
      ],
      "execution_count": 51,
      "outputs": [
        {
          "output_type": "execute_result",
          "data": {
            "text/plain": [
              "11911"
            ]
          },
          "metadata": {},
          "execution_count": 51
        }
      ]
    },
    {
      "cell_type": "code",
      "metadata": {
        "colab": {
          "base_uri": "https://localhost:8080/",
          "height": 592
        },
        "id": "VIldTPM7mh31",
        "outputId": "068eedec-e4a8-4a1d-949a-e2559e20b13d"
      },
      "source": [
        "slices=[((df['rate']>=1) &(df['rate']<2)).sum(),\n",
        "        ((df['rate']>=2) &(df['rate']<3)).sum(),\n",
        "        ((df['rate']>=3) &(df['rate']<4)).sum(),\n",
        "        (df['rate']>=4).sum()\n",
        "        ]\n",
        "labels=['1<rate<2','2<rate<3','3<rate<4','>4']\n",
        "colors=['#ff3333','#c2c2d6','#6699ff']\n",
        "plt.pie(slices,colors=colors,labels=labels,autopct='%1.0f%%',pctdistance=.5,labeldistance=1.2,shadow=True)\n",
        "fig=plt.gcf()\n",
        "plt.title(\"Percentage of restaurant according to their ratings\")\n",
        "fig.set_size_inches(10,10)\n",
        "plt.show()"
      ],
      "execution_count": 52,
      "outputs": [
        {
          "output_type": "display_data",
          "data": {
            "image/png": "[encoded data removed]",
            "text/plain": [
              "<Figure size 720x720 with 1 Axes>"
            ]
          },
          "metadata": {}
        }
      ]
    },
    {
      "cell_type": "code",
      "metadata": {
        "id": "fveD-QcQrJwh"
      },
      "source": [
        "# Service Types"
      ],
      "execution_count": 53,
      "outputs": []
    },
    {
      "cell_type": "code",
      "metadata": {
        "id": "kmRr8HiNsaxZ",
        "colab": {
          "base_uri": "https://localhost:8080/",
          "height": 825
        },
        "outputId": "30db01bb-ff9d-4ecb-e9e2-1b8543a792d3"
      },
      "source": [
        "# Types of services\n",
        "sns.countplot(df['type']).set_xticklabels(sns.countplot(df['type']).get_xticklabels(),rotation=90,ha='right')\n",
        "fig=plt.gcf()\n",
        "fig.set_size_inches(12,12)\n",
        "plt.title('Types of Service')"
      ],
      "execution_count": 54,
      "outputs": [
        {
          "output_type": "execute_result",
          "data": {
            "text/plain": [
              "Text(0.5, 1.0, 'Types of Service')"
            ]
          },
          "metadata": {},
          "execution_count": 54
        },
        {
          "output_type": "display_data",
          "data": {
            "image/png": "[encoded data removed]",
            "text/plain": [
              "<Figure size 864x864 with 1 Axes>"
            ]
          },
          "metadata": {
            "needs_background": "light"
          }
        }
      ]
    },
    {
      "cell_type": "code",
      "metadata": {
        "id": "liU1RtPyz5Nq"
      },
      "source": [
        "# Distribution of cost of food for two people\n",
        "from plotly.offline import iplot"
      ],
      "execution_count": 55,
      "outputs": []
    },
    {
      "cell_type": "code",
      "metadata": {
        "colab": {
          "base_uri": "https://localhost:8080/",
          "height": 817
        },
        "id": "oYRzdrZg2qyl",
        "outputId": "a2ba6471-805c-4a08-9ef1-da8bfbf4eff7"
      },
      "source": [
        "trace0=go.Box(y=df['cost'],name=\"accepting online orders\",\n",
        "              marker = dict(\n",
        "        color = 'rgb(113, 10, 100)',\n",
        "    ))\n",
        "data=[trace0]\n",
        "layout=go.Layout(title=\"Box plot of approximate cost\",width=800,height=800,yaxis=dict(title=\"Price\"))\n",
        "fig=go.Figure(data=data,layout=layout)\n",
        "py.iplot(fig)"
      ],
      "execution_count": 56,
      "outputs": [
        {
          "output_type": "display_data",
          "data": {
            "text/html": [
              "<html>\n",
              "<head><meta charset=\"utf-8\" /></head>\n",
              "<body>\n",
              "    <div>\n",
              "            <script src=\"https://cdnjs.cloudflare.com/ajax/libs/mathjax/2.7.5/MathJax.js?config=TeX-AMS-MML_SVG\"></script><script type=\"text/javascript\">if (window.MathJax) {MathJax.Hub.Config({SVG: {font: \"STIX-Web\"}});}</script>\n",
              "                <script type=\"text/javascript\">window.PlotlyConfig = {MathJaxConfig: 'local'};</script>\n",
              "        <script src=\"https://cdn.plot.ly/plotly-latest.min.js\"></script>    \n",
              "            <div id=\"fc84b0e0-114f-4025-94a2-e1c52d5d4b28\" class=\"plotly-graph-div\" style=\"height:800px; width:800px;\"></div>\n",
              "            <script type=\"text/javascript\">\n",
              "                \n",
              "                    window.PLOTLYENV=window.PLOTLYENV || {};\n",
              "                    \n",
              "                if (document.getElementById(\"fc84b0e0-114f-4025-94a2-e1c52d5d4b28\")) {\n",
              "                    Plotly.newPlot(\n",
              "                        'fc84b0e0-114f-4025-94a2-e1c52d5d4b28',\n",
              "                        [{\"marker\": {\"color\": \"rgb(113, 10, 100)\"}, \"name\": \"accepting online orders\", \"type\": \"box\", \"y\": [800.0, 800.0, 800.0, 300.0, 600.0, 600.0, 600.0, 700.0, 550.0, 500.0, 600.0, 500.0, 450.0, 800.0, 650.0, 800.0, 700.0, 300.0, 400.0, 500.0, 600.0, 550.0, 600.0, 500.0, 750.0, 500.0, 650.0, 600.0, 750.0, 200.0, 500.0, 800.0, 600.0, 400.0, 300.0, 450.0, 850.0, 300.0, 400.0, 750.0, 450.0, 450.0, 800.0, 800.0, 800.0, 850.0, 400.0, 1200.0, 300.0, 300.0, 150.0, 350.0, 400.0, 600.0, 600.0, 800.0, 300.0, 400.0, 300.0, 200.0, 400.0, 300.0, 450.0, 800.0, 500.0, 650.0, 400.0, 500.0, 450.0, 500.0, 750.0, 350.0, 800.0, 400.0, 1200.0, 150.0, 300.0, 500.0, 450.0, 200.0, 250.0, 650.0, 300.0, 700.0, 150.0, 400.0, 200.0, 300.0, 350.0, 500.0, 750.0, 550.0, 200.0, 400.0, 750.0, 650.0, 500.0, 250.0, 150.0, 500.0, 1500.0, 300.0, 800.0, 700.0, 700.0, 550.0, 1300.0, 500.0, 700.0, 1000.0, 750.0, 250.0, 200.0, 600.0, 650.0, 550.0, 450.0, 450.0, 150.0, 700.0, 600.0, 200.0, 400.0, 300.0, 600.0, 700.0, 750.0, 200.0, 600.0, 200.0, 600.0, 550.0, 200.0, 650.0, 500.0, 1200.0, 650.0, 600.0, 100.0, 850.0, 400.0, 450.0, 300.0, 500.0, 100.0, 400.0, 900.0, 550.0, 800.0, 250.0, 1200.0, 400.0, 500.0, 700.0, 400.0, 400.0, 800.0, 800.0, 200.0, 600.0, 900.0, 800.0, 400.0, 400.0, 300.0, 650.0, 600.0, 650.0, 100.0, 700.0, 700.0, 350.0, 300.0, 600.0, 400.0, 600.0, 400.0, 800.0, 400.0, 650.0, 150.0, 1200.0, 250.0, 400.0, 700.0, 1200.0, 200.0, 800.0, 500.0, 200.0, 800.0, 600.0, 900.0, 400.0, 250.0, 300.0, 400.0, 350.0, 600.0, 100.0, 450.0, 400.0, 100.0, 150.0, 400.0, 250.0, 100.0, 600.0, 200.0, 750.0, 800.0, 1000.0, 600.0, 750.0, 800.0, 800.0, 800.0, 450.0, 1000.0, 700.0, 800.0, 600.0, 1500.0, 300.0, 300.0, 200.0, 400.0, 700.0, 300.0, 550.0, 750.0, 500.0, 500.0, 500.0, 400.0, 150.0, 150.0, 400.0, 800.0, 700.0, 500.0, 400.0, 400.0, 400.0, 600.0, 300.0, 400.0, 750.0, 1200.0, 350.0, 600.0, 800.0, 800.0, 800.0, 1300.0, 1200.0, 700.0, 800.0, 550.0, 500.0, 600.0, 500.0, 800.0, 450.0, 600.0, 850.0, 450.0, 800.0, 800.0, 650.0, 900.0, 700.0, 800.0, 700.0, 300.0, 300.0, 500.0, 400.0, 700.0, 600.0, 800.0, 600.0, 750.0, 600.0, 150.0, 800.0, 850.0, 800.0, 400.0, 750.0, 650.0, 100.0, 200.0, 450.0, 450.0, 200.0, 500.0, 100.0, 500.0, 100.0, 200.0, 300.0, 500.0, 300.0, 300.0, 600.0, 250.0, 300.0, 350.0, 800.0, 250.0, 350.0, 600.0, 500.0, 300.0, 100.0, 300.0, 300.0, 450.0, 200.0, 200.0, 250.0, 400.0, 250.0, 300.0, 400.0, 350.0, 500.0, 600.0, 150.0, 350.0, 750.0, 550.0, 600.0, 500.0, 150.0, 150.0, 550.0, 1100.0, 450.0, 300.0, 100.0, 650.0, 600.0, 250.0, 600.0, 400.0, 800.0, 750.0, 600.0, 800.0, 200.0, 300.0, 100.0, 150.0, 100.0, 200.0, 300.0, 700.0, 300.0, 300.0, 450.0, 700.0, 200.0, 250.0, 200.0, 150.0, 300.0, 1300.0, 1200.0, 800.0, 800.0, 1100.0, 900.0, 1000.0, 750.0, 550.0, 1600.0, 1200.0, 800.0, 1000.0, 1000.0, 1000.0, 1000.0, 950.0, 600.0, 700.0, 450.0, 300.0, 400.0, 400.0, 500.0, 600.0, 700.0, 350.0, 650.0, 600.0, 600.0, 800.0, 550.0, 650.0, 600.0, 400.0, 450.0, 550.0, 700.0, 500.0, 500.0, 800.0, 800.0, 300.0, 400.0, 250.0, 400.0, 300.0, 300.0, 500.0, 400.0, 150.0, 500.0, 300.0, 700.0, 400.0, 400.0, 450.0, 300.0, 250.0, 600.0, 250.0, 400.0, 200.0, 350.0, 300.0, 450.0, 400.0, 350.0, 300.0, 400.0, 1000.0, 650.0, 550.0, 600.0, 300.0, 750.0, 600.0, 400.0, 300.0, 400.0, 600.0, 800.0, 500.0, 800.0, 800.0, 300.0, 700.0, 400.0, 700.0, 600.0, 300.0, 400.0, 600.0, 300.0, 400.0, 750.0, 650.0, 700.0, 300.0, 500.0, 250.0, 200.0, 550.0, 1000.0, 900.0, 700.0, 650.0, 500.0, 900.0, 600.0, 1000.0, 800.0, 250.0, 500.0, 400.0, 450.0, 250.0, 400.0, 300.0, 400.0, 400.0, 400.0, 600.0, 1200.0, 400.0, 1000.0, 800.0, 600.0, 700.0, 650.0, 500.0, 300.0, 600.0, 800.0, 600.0, 400.0, 700.0, 300.0, 500.0, 200.0, 400.0, 500.0, 500.0, 600.0, 250.0, 200.0, 300.0, 400.0, 300.0, 600.0, 500.0, 450.0, 1500.0, 750.0, 600.0, 1200.0, 300.0, 600.0, 1000.0, 1600.0, 400.0, 600.0, 500.0, 500.0, 400.0, 400.0, 600.0, 700.0, 400.0, 500.0, 600.0, 800.0, 600.0, 750.0, 500.0, 300.0, 800.0, 350.0, 1000.0, 250.0, 400.0, 500.0, 250.0, 400.0, 650.0, 600.0, 800.0, 450.0, 450.0, 600.0, 600.0, 750.0, 350.0, 1100.0, 600.0, 550.0, 230.0, 250.0, 400.0, 1000.0, 600.0, 500.0, 1200.0, 500.0, 300.0, 500.0, 450.0, 800.0, 250.0, 750.0, 300.0, 500.0, 500.0, 100.0, 600.0, 700.0, 500.0, 600.0, 1200.0, 400.0, 400.0, 500.0, 400.0, 800.0, 300.0, 1000.0, 350.0, 150.0, 250.0, 500.0, 200.0, 400.0, 400.0, 300.0, 1300.0, 400.0, 800.0, 600.0, 250.0, 400.0, 150.0, 700.0, 1100.0, 400.0, 800.0, 600.0, 500.0, 600.0, 400.0, 350.0, 1300.0, 300.0, 400.0, 400.0, 400.0, 1100.0, 650.0, 300.0, 250.0, 500.0, 750.0, 650.0, 400.0, 650.0, 700.0, 800.0, 500.0, 600.0, 550.0, 1000.0, 550.0, 500.0, 700.0, 1100.0, 500.0, 350.0, 500.0, 450.0, 650.0, 650.0, 1000.0, 450.0, 800.0, 450.0, 250.0, 800.0, 250.0, 500.0, 300.0, 750.0, 500.0, 500.0, 800.0, 450.0, 250.0, 250.0, 1700.0, 200.0, 600.0, 400.0, 150.0, 150.0, 900.0, 600.0, 1200.0, 1200.0, 1200.0, 550.0, 400.0, 600.0, 500.0, 700.0, 350.0, 400.0, 250.0, 500.0, 1000.0, 200.0, 500.0, 600.0, 500.0, 750.0, 500.0, 400.0, 800.0, 800.0, 500.0, 400.0, 200.0, 500.0, 400.0, 150.0, 400.0, 400.0, 250.0, 450.0, 350.0, 400.0, 300.0, 500.0, 400.0, 400.0, 800.0, 700.0, 500.0, 200.0, 700.0, 600.0, 300.0, 500.0, 500.0, 550.0, 500.0, 400.0, 600.0, 800.0, 500.0, 550.0, 1000.0, 800.0, 700.0, 800.0, 700.0, 650.0, 1000.0, 700.0, 700.0, 800.0, 400.0, 450.0, 800.0, 300.0, 400.0, 900.0, 500.0, 500.0, 600.0, 550.0, 400.0, 500.0, 500.0, 850.0, 450.0, 700.0, 400.0, 400.0, 600.0, 500.0, 450.0, 1000.0, 600.0, 650.0, 600.0, 800.0, 500.0, 800.0, 750.0, 500.0, 400.0, 250.0, 300.0, 1000.0, 250.0, 800.0, 400.0, 400.0, 500.0, 400.0, 400.0, 600.0, 500.0, 600.0, 800.0, 400.0, 400.0, 600.0, 400.0, 150.0, 300.0, 400.0, 250.0, 400.0, 350.0, 400.0, 600.0, 600.0, 400.0, 500.0, 300.0, 500.0, 200.0, 250.0, 750.0, 600.0, 200.0, 650.0, 250.0, 1100.0, 350.0, 400.0, 250.0, 250.0, 300.0, 400.0, 600.0, 300.0, 800.0, 250.0, 1200.0, 1600.0, 1200.0, 1600.0, 1500.0, 1300.0, 1200.0, 800.0, 1300.0, 1000.0, 400.0, 1200.0, 750.0, 1100.0, 700.0, 1200.0, 550.0, 1300.0, 1000.0, 1100.0, 1200.0, 1300.0, 600.0, 1000.0, 750.0, 1000.0, 500.0, 600.0, 700.0, 750.0, 700.0, 300.0, 500.0, 350.0, 400.0, 950.0, 400.0, 450.0, 800.0, 450.0, 550.0, 600.0, 600.0, 500.0, 400.0, 1000.0, 1100.0, 400.0, 1000.0, 500.0, 450.0, 950.0, 600.0, 600.0, 550.0, 450.0, 750.0, 750.0, 800.0, 800.0, 650.0, 700.0, 400.0, 300.0, 200.0, 600.0, 350.0, 800.0, 300.0, 1500.0, 500.0, 600.0, 500.0, 400.0, 600.0, 550.0, 300.0, 250.0, 400.0, 300.0, 500.0, 400.0, 500.0, 400.0, 300.0, 650.0, 250.0, 900.0, 1200.0, 1700.0, 800.0, 1200.0, 1600.0, 1300.0, 1200.0, 1200.0, 1300.0, 1100.0, 1100.0, 1500.0, 1000.0, 600.0, 600.0, 950.0, 1500.0, 750.0, 800.0, 800.0, 1000.0, 550.0, 1350.0, 1200.0, 800.0, 800.0, 600.0, 700.0, 550.0, 600.0, 500.0, 600.0, 400.0, 800.0, 500.0, 400.0, 800.0, 800.0, 850.0, 700.0, 600.0, 800.0, 700.0, 400.0, 550.0, 650.0, 700.0, 800.0, 650.0, 700.0, 400.0, 150.0, 650.0, 550.0, 650.0, 450.0, 400.0, 500.0, 450.0, 500.0, 400.0, 750.0, 450.0, 500.0, 200.0, 450.0, 300.0, 800.0, 250.0, 650.0, 600.0, 200.0, 500.0, 200.0, 800.0, 400.0, 300.0, 550.0, 400.0, 150.0, 300.0, 300.0, 100.0, 300.0, 800.0, 750.0, 500.0, 300.0, 500.0, 600.0, 400.0, 400.0, 650.0, 100.0, 200.0, 500.0, 400.0, 800.0, 750.0, 600.0, 750.0, 650.0, 200.0, 250.0, 500.0, 350.0, 500.0, 650.0, 600.0, 1200.0, 100.0, 250.0, 200.0, 400.0, 400.0, 550.0, 400.0, 400.0, 400.0, 600.0, 800.0, 200.0, 350.0, 250.0, 1200.0, 800.0, 200.0, 900.0, 400.0, 900.0, 800.0, 150.0, 200.0, 150.0, 300.0, 1600.0, 500.0, 650.0, 800.0, 500.0, 300.0, 500.0, 350.0, 300.0, 250.0, 500.0, 500.0, 200.0, 500.0, 800.0, 1200.0, 800.0, 500.0, 500.0, 400.0, 400.0, 600.0, 350.0, 250.0, 200.0, 200.0, 1000.0, 800.0, 500.0, 800.0, 400.0, 800.0, 450.0, 700.0, 700.0, 800.0, 300.0, 300.0, 250.0, 150.0, 650.0, 600.0, 700.0, 700.0, 400.0, 600.0, 450.0, 400.0, 300.0, 1000.0, 300.0, 600.0, 600.0, 400.0, 600.0, 150.0, 300.0, 1300.0, 200.0, 800.0, 600.0, 1200.0, 600.0, 700.0, 800.0, 100.0, 200.0, 900.0, 100.0, 700.0, 300.0, 350.0, 450.0, 400.0, 800.0, 400.0, 700.0, 300.0, 1500.0, 800.0, 600.0, 1000.0, 700.0, 450.0, 400.0, 400.0, 600.0, 400.0, 300.0, 900.0, 800.0, 650.0, 650.0, 1200.0, 300.0, 200.0, 200.0, 750.0, 400.0, 650.0, 500.0, 400.0, 100.0, 400.0, 450.0, 900.0, 400.0, 1100.0, 400.0, 350.0, 400.0, 500.0, 400.0, 700.0, 750.0, 550.0, 650.0, 200.0, 300.0, 550.0, 300.0, 1000.0, 700.0, 900.0, 600.0, 1000.0, 500.0, 250.0, 750.0, 400.0, 700.0, 800.0, 300.0, 750.0, 600.0, 500.0, 200.0, 600.0, 1200.0, 600.0, 1200.0, 800.0, 1000.0, 150.0, 800.0, 800.0, 500.0, 450.0, 1700.0, 400.0, 400.0, 300.0, 450.0, 100.0, 400.0, 150.0, 700.0, 800.0, 800.0, 1200.0, 750.0, 100.0, 400.0, 900.0, 700.0, 150.0, 1500.0, 1200.0, 400.0, 300.0, 800.0, 900.0, 200.0, 1000.0, 600.0, 1000.0, 300.0, 1000.0, 100.0, 800.0, 700.0, 800.0, 650.0, 1350.0, 550.0, 600.0, 950.0, 650.0, 600.0, 400.0, 1350.0, 300.0, 850.0, 1200.0, 1000.0, 550.0, 200.0, 600.0, 600.0, 650.0, 1200.0, 1000.0, 800.0, 300.0, 200.0, 600.0, 1200.0, 800.0, 400.0, 800.0, 800.0, 450.0, 200.0, 800.0, 300.0, 350.0, 150.0, 550.0, 400.0, 300.0, 400.0, 400.0, 500.0, 400.0, 750.0, 500.0, 150.0, 400.0, 400.0, 400.0, 400.0, 300.0, 600.0, 400.0, 500.0, 400.0, 400.0, 800.0, 400.0, 200.0, 200.0, 150.0, 800.0, 250.0, 150.0, 400.0, 200.0, 400.0, 500.0, 350.0, 500.0, 700.0, 500.0, 400.0, 400.0, 800.0, 300.0, 400.0, 150.0, 700.0, 300.0, 200.0, 400.0, 400.0, 300.0, 500.0, 1000.0, 750.0, 600.0, 350.0, 600.0, 1000.0, 750.0, 700.0, 500.0, 550.0, 1100.0, 550.0, 600.0, 450.0, 650.0, 800.0, 600.0, 2200.0, 500.0, 600.0, 600.0, 400.0, 800.0, 650.0, 400.0, 450.0, 600.0, 700.0, 600.0, 300.0, 250.0, 150.0, 100.0, 150.0, 400.0, 150.0, 500.0, 100.0, 400.0, 300.0, 500.0, 250.0, 100.0, 200.0, 100.0, 600.0, 200.0, 300.0, 300.0, 400.0, 150.0, 250.0, 200.0, 500.0, 300.0, 100.0, 750.0, 400.0, 300.0, 500.0, 150.0, 150.0, 200.0, 600.0, 200.0, 200.0, 300.0, 150.0, 600.0, 600.0, 1000.0, 600.0, 1200.0, 950.0, 800.0, 1500.0, 1000.0, 800.0, 700.0, 1300.0, 350.0, 800.0, 700.0, 500.0, 1000.0, 1500.0, 400.0, 350.0, 750.0, 800.0, 900.0, 600.0, 750.0, 800.0, 1200.0, 800.0, 800.0, 1200.0, 600.0, 650.0, 800.0, 800.0, 400.0, 1200.0, 250.0, 800.0, 450.0, 700.0, 1200.0, 850.0, 700.0, 1300.0, 600.0, 800.0, 650.0, 700.0, 400.0, 550.0, 1000.0, 600.0, 650.0, 900.0, 400.0, 800.0, 800.0, 200.0, 700.0, 350.0, 900.0, 800.0, 800.0, 750.0, 1200.0, 800.0, 700.0, 450.0, 150.0, 650.0, 500.0, 550.0, 1350.0, 450.0, 800.0, 600.0, 400.0, 200.0, 100.0, 400.0, 700.0, 750.0, 1000.0, 400.0, 900.0, 500.0, 100.0, 400.0, 400.0, 1000.0, 550.0, 550.0, 500.0, 300.0, 700.0, 500.0, 100.0, 1000.0, 400.0, 1350.0, 650.0, 250.0, 250.0, 250.0, 300.0, 400.0, 350.0, 250.0, 1200.0, 650.0, 450.0, 150.0, 450.0, 700.0, 800.0, 300.0, 250.0, 400.0, 200.0, 350.0, 500.0, 150.0, 600.0, 350.0, 100.0, 300.0, 650.0, 800.0, 850.0, 250.0, 300.0, 300.0, 800.0, 300.0, 400.0, 850.0, 1000.0, 1100.0, 2200.0, 1500.0, 1200.0, 1200.0, 1300.0, 1350.0, 1000.0, 800.0, 1500.0, 1400.0, 2000.0, 1000.0, 1400.0, 1800.0, 1200.0, 1500.0, 1500.0, 1100.0, 1500.0, 1000.0, 700.0, 800.0, 2000.0, 1500.0, 1400.0, 1300.0, 1600.0, 1300.0, 1000.0, 1500.0, 1100.0, 1500.0, 1300.0, 500.0, 700.0, 1900.0, 400.0, 600.0, 900.0, 600.0, 500.0, 550.0, 1000.0, 500.0, 600.0, 800.0, 700.0, 500.0, 400.0, 650.0, 500.0, 450.0, 200.0, 450.0, 400.0, 400.0, 400.0, 300.0, 300.0, 400.0, 500.0, 300.0, 400.0, 200.0, 600.0, 700.0, 600.0, 500.0, 800.0, 900.0, 750.0, 550.0, 400.0, 400.0, 800.0, 400.0, 400.0, 300.0, 300.0, 550.0, 600.0, 250.0, 600.0, 300.0, 400.0, 300.0, 600.0, 750.0, 650.0, 750.0, 450.0, 450.0, 600.0, 400.0, 950.0, 400.0, 650.0, 400.0, 500.0, 200.0, 450.0, 400.0, 500.0, 600.0, 800.0, 500.0, 450.0, 300.0, 800.0, 600.0, 600.0, 1200.0, 800.0, 500.0, 150.0, 500.0, 1500.0, 1400.0, 300.0, 600.0, 600.0, 1200.0, 500.0, 800.0, 400.0, 800.0, 1300.0, 1600.0, 700.0, 1800.0, 500.0, 300.0, 400.0, 400.0, 800.0, 1100.0, 400.0, 600.0, 600.0, 1500.0, 800.0, 750.0, 600.0, 350.0, 300.0, 550.0, 900.0, 300.0, 400.0, 250.0, 100.0, 1500.0, 800.0, 600.0, 500.0, 1800.0, 1000.0, 500.0, 250.0, 400.0, 850.0, 500.0, 1800.0, 500.0, 450.0, 1200.0, 600.0, 700.0, 1000.0, 200.0, 600.0, 400.0, 1100.0, 500.0, 900.0, 150.0, 250.0, 1500.0, 200.0, 450.0, 1000.0, 450.0, 1000.0, 500.0, 250.0, 500.0, 450.0, 750.0, 800.0, 750.0, 500.0, 1400.0, 600.0, 600.0, 300.0, 500.0, 200.0, 500.0, 400.0, 250.0, 900.0, 1000.0, 200.0, 700.0, 500.0, 1200.0, 600.0, 200.0, 400.0, 1100.0, 350.0, 400.0, 350.0, 1200.0, 450.0, 600.0, 600.0, 1500.0, 1700.0, 400.0, 250.0, 400.0, 600.0, 1200.0, 800.0, 1400.0, 650.0, 180.0, 400.0, 650.0, 300.0, 300.0, 400.0, 1400.0, 200.0, 300.0, 800.0, 800.0, 150.0, 1700.0, 500.0, 500.0, 1000.0, 300.0, 500.0, 1300.0, 1300.0, 750.0, 600.0, 200.0, 400.0, 750.0, 600.0, 750.0, 400.0, 400.0, 700.0, 600.0, 800.0, 1500.0, 500.0, 330.0, 250.0, 550.0, 600.0, 1400.0, 800.0, 600.0, 800.0, 550.0, 200.0, 500.0, 700.0, 700.0, 300.0, 500.0, 500.0, 500.0, 450.0, 400.0, 800.0, 500.0, 800.0, 400.0, 550.0, 550.0, 150.0, 450.0, 500.0, 650.0, 300.0, 750.0, 1500.0, 600.0, 300.0, 300.0, 100.0, 150.0, 400.0, 1000.0, 600.0, 700.0, 250.0, 800.0, 300.0, 600.0, 500.0, 300.0, 400.0, 500.0, 200.0, 500.0, 400.0, 250.0, 600.0, 500.0, 600.0, 600.0, 900.0, 300.0, 600.0, 500.0, 400.0, 750.0, 150.0, 700.0, 300.0, 300.0, 350.0, 500.0, 2000.0, 1500.0, 1100.0, 1000.0, 1800.0, 1700.0, 1800.0, 1400.0, 750.0, 1200.0, 800.0, 1800.0, 1200.0, 950.0, 600.0, 400.0, 700.0, 600.0, 750.0, 1500.0, 500.0, 1500.0, 1200.0, 400.0, 600.0, 900.0, 400.0, 800.0, 500.0, 650.0, 500.0, 1500.0, 800.0, 1600.0, 1400.0, 600.0, 500.0, 800.0, 550.0, 500.0, 1000.0, 400.0, 600.0, 800.0, 900.0, 700.0, 400.0, 500.0, 450.0, 800.0, 550.0, 550.0, 750.0, 2000.0, 400.0, 550.0, 1000.0, 800.0, 450.0, 300.0, 500.0, 300.0, 400.0, 250.0, 500.0, 600.0, 300.0, 400.0, 200.0, 500.0, 450.0, 250.0, 350.0, 200.0, 330.0, 200.0, 400.0, 600.0, 250.0, 200.0, 500.0, 400.0, 800.0, 400.0, 450.0, 400.0, 1500.0, 1600.0, 1400.0, 1400.0, 1500.0, 1900.0, 1300.0, 1500.0, 1500.0, 1600.0, 1400.0, 1300.0, 1000.0, 1500.0, 1400.0, 1100.0, 1500.0, 1300.0, 2000.0, 2000.0, 2500.0, 600.0, 700.0, 700.0, 800.0, 500.0, 500.0, 850.0, 800.0, 1200.0, 900.0, 800.0, 1000.0, 550.0, 800.0, 300.0, 750.0, 600.0, 600.0, 150.0, 700.0, 400.0, 500.0, 700.0, 150.0, 600.0, 600.0, 250.0, 2500.0, 500.0, 250.0, 300.0, 200.0, 1900.0, 400.0, 550.0, 250.0, 600.0, 400.0, 400.0, 400.0, 500.0, 300.0, 800.0, 300.0, 1300.0, 1600.0, 1400.0, 1000.0, 1700.0, 1500.0, 1500.0, 1400.0, 2000.0, 1600.0, 1400.0, 1500.0, 1900.0, 1500.0, 1900.0, 1500.0, 1200.0, 2500.0, 1600.0, 1400.0, 1400.0, 1700.0, 1800.0, 1500.0, 1100.0, 1500.0, 1400.0, 1400.0, 1500.0, 1900.0, 1500.0, 1500.0, 1500.0, 1200.0, 1500.0, 1200.0, 1500.0, 800.0, 650.0, 1000.0, 1800.0, 2200.0, 2100.0, 3000.0, 1200.0, 2800.0, 1700.0, 1400.0, 1600.0, 2500.0, 750.0, 3000.0, 1500.0, 500.0, 1000.0, 1500.0, 3400.0, 2000.0, 1200.0, 1700.0, 1200.0, 1600.0, 2000.0, 1300.0, 2200.0, 1300.0, 1600.0, 3000.0, 1000.0, 1200.0, 1000.0, 1400.0, 1900.0, 800.0, 1000.0, 500.0, 1200.0, 650.0, 1300.0, 1700.0, 1800.0, 1600.0, 1100.0, 750.0, 1200.0, 500.0, 650.0, 800.0, 350.0, 1100.0, 800.0, 900.0, 1700.0, 1000.0, 600.0, 600.0, 2500.0, 650.0, 1400.0, 750.0, 400.0, 900.0, 700.0, 700.0, 500.0, 700.0, 800.0, 800.0, 750.0, 650.0, 750.0, 500.0, 1000.0, 1000.0, 400.0, 1200.0, 500.0, 500.0, 600.0, 800.0, 1000.0, 500.0, 600.0, 700.0, 900.0, 1300.0, 750.0, 1000.0, 750.0, 300.0, 300.0, 300.0, 500.0, 450.0, 150.0, 600.0, 800.0, 550.0, 350.0, 250.0, 500.0, 500.0, 350.0, 500.0, 650.0, 500.0, 600.0, 650.0, 400.0, 250.0, 750.0, 200.0, 750.0, 400.0, 1200.0, 400.0, 200.0, 750.0, 400.0, 450.0, 400.0, 800.0, 250.0, 800.0, 500.0, 750.0, 400.0, 650.0, 400.0, 750.0, 650.0, 1300.0, 1600.0, 1200.0, 1200.0, 500.0, 300.0, 600.0, 450.0, 750.0, 1300.0, 600.0, 350.0, 600.0, 500.0, 500.0, 700.0, 1500.0, 400.0, 400.0, 800.0, 900.0, 400.0, 400.0, 1600.0, 800.0, 300.0, 400.0, 1300.0, 350.0, 400.0, 500.0, 900.0, 1600.0, 250.0, 1100.0, 400.0, 700.0, 700.0, 650.0, 700.0, 700.0, 500.0, 300.0, 400.0, 300.0, 400.0, 100.0, 400.0, 250.0, 350.0, 800.0, 400.0, 600.0, 3000.0, 700.0, 500.0, 700.0, 1500.0, 450.0, 700.0, 300.0, 400.0, 500.0, 500.0, 800.0, 40.0, 180.0, 300.0, 150.0, 750.0, 400.0, 500.0, 200.0, 750.0, 150.0, 1300.0, 1300.0, 600.0, 150.0, 850.0, 500.0, 1000.0, 1000.0, 700.0, 700.0, 1000.0, 300.0, 800.0, 950.0, 300.0, 900.0, 800.0, 500.0, 1000.0, 500.0, 300.0, 1400.0, 1300.0, 1500.0, 500.0, 550.0, 600.0, 750.0, 550.0, 2000.0, 550.0, 1000.0, 700.0, 600.0, 250.0, 1400.0, 1500.0, 200.0, 700.0, 400.0, 400.0, 600.0, 400.0, 200.0, 450.0, 450.0, 500.0, 500.0, 500.0, 1000.0, 700.0, 300.0, 700.0, 350.0, 450.0, 250.0, 200.0, 400.0, 400.0, 2000.0, 400.0, 400.0, 700.0, 600.0, 750.0, 700.0, 300.0, 700.0, 1200.0, 400.0, 800.0, 200.0, 600.0, 1000.0, 500.0, 700.0, 1500.0, 600.0, 550.0, 300.0, 500.0, 650.0, 800.0, 650.0, 500.0, 500.0, 650.0, 2000.0, 300.0, 600.0, 750.0, 650.0, 1000.0, 700.0, 200.0, 800.0, 800.0, 300.0, 700.0, 600.0, 550.0, 1000.0, 1500.0, 150.0, 400.0, 500.0, 1200.0, 700.0, 750.0, 1200.0, 800.0, 900.0, 650.0, 800.0, 1700.0, 1700.0, 800.0, 1900.0, 1300.0, 300.0, 2100.0, 600.0, 1000.0, 1700.0, 2100.0, 1500.0, 500.0, 1700.0, 1100.0, 1400.0, 650.0, 800.0, 450.0, 1000.0, 600.0, 600.0, 700.0, 1000.0, 2000.0, 750.0, 1000.0, 1400.0, 1500.0, 1200.0, 850.0, 1500.0, 850.0, 1000.0, 600.0, 1200.0, 300.0, 1000.0, 1400.0, 1400.0, 1800.0, 400.0, 1400.0, 350.0, 800.0, 300.0, 1800.0, 500.0, 1300.0, 800.0, 2100.0, 400.0, 550.0, 800.0, 1000.0, 300.0, 800.0, 550.0, 600.0, 1000.0, 500.0, 1300.0, 1000.0, 1200.0, 1300.0, 300.0, 550.0, 250.0, 500.0, 700.0, 1200.0, 1000.0, 1200.0, 1000.0, 1500.0, 550.0, 800.0, 900.0, 1700.0, 1400.0, 550.0, 400.0, 750.0, 400.0, 900.0, 500.0, 800.0, 500.0, 800.0, 400.0, 800.0, 150.0, 750.0, 600.0, 1200.0, 500.0, 400.0, 500.0, 800.0, 1100.0, 500.0, 150.0, 300.0, 350.0, 100.0, 300.0, 250.0, 300.0, 550.0, 500.0, 600.0, 1600.0, 1800.0, 1600.0, 550.0, 400.0, 450.0, 250.0, 450.0, 180.0, 400.0, 200.0, 300.0, 800.0, 800.0, 2000.0, 1000.0, 600.0, 400.0, 1250.0, 1400.0, 300.0, 150.0, 700.0, 700.0, 500.0, 300.0, 400.0, 400.0, 2000.0, 700.0, 1000.0, 500.0, 400.0, 300.0, 350.0, 400.0, 300.0, 800.0, 400.0, 400.0, 300.0, 150.0, 900.0, 150.0, 250.0, 400.0, 400.0, 150.0, 300.0, 300.0, 500.0, 350.0, 600.0, 900.0, 1300.0, 200.0, 750.0, 300.0, 700.0, 1300.0, 1100.0, 2000.0, 1500.0, 1500.0, 2000.0, 750.0, 1500.0, 1500.0, 1600.0, 1500.0, 1200.0, 800.0, 1100.0, 1100.0, 2000.0, 500.0, 750.0, 1500.0, 800.0, 700.0, 650.0, 650.0, 350.0, 400.0, 650.0, 700.0, 500.0, 1300.0, 1000.0, 600.0, 500.0, 500.0, 800.0, 800.0, 550.0, 450.0, 250.0, 300.0, 400.0, 600.0, 500.0, 300.0, 450.0, 600.0, 1700.0, 1500.0, 1800.0, 1500.0, 1500.0, 2500.0, 3000.0, 2200.0, 3000.0, 800.0, 2800.0, 550.0, 1100.0, 2100.0, 1500.0, 3000.0, 2500.0, 3500.0, 1700.0, 1700.0, 1500.0, 1200.0, 1200.0, 1300.0, 1500.0, 1300.0, 2800.0, 2100.0, 1200.0, 800.0, 1600.0, 1700.0, 1600.0, 3000.0, 1000.0, 1500.0, 800.0, 2000.0, 1500.0, 700.0, 1500.0, 2500.0, 1000.0, 2100.0, 1900.0, 1700.0, 2000.0, 2200.0, 1400.0, 1500.0, 600.0, 800.0, 900.0, 1200.0, 1700.0, 2500.0, 1600.0, 1300.0, 1400.0, 1000.0, 1000.0, 600.0, 2500.0, 1400.0, 200.0, 1500.0, 4000.0, 550.0, 3000.0, 1500.0, 3000.0, 500.0, 1000.0, 1100.0, 650.0, 1200.0, 2500.0, 1500.0, 2000.0, 1500.0, 1000.0, 1400.0, 1500.0, 1100.0, 600.0, 1300.0, 1000.0, 1300.0, 650.0, 850.0, 750.0, 1800.0, 500.0, 1800.0, 1000.0, 1000.0, 1200.0, 3400.0, 750.0, 1800.0, 2000.0, 3000.0, 1000.0, 1400.0, 3500.0, 400.0, 900.0, 1200.0, 800.0, 1500.0, 1200.0, 4000.0, 500.0, 700.0, 1300.0, 4000.0, 1200.0, 1000.0, 1200.0, 1000.0, 700.0, 1700.0, 2000.0, 1200.0, 1600.0, 800.0, 2000.0, 3000.0, 2000.0, 2000.0, 3500.0, 1200.0, 1000.0, 700.0, 1300.0, 800.0, 1000.0, 500.0, 750.0, 800.0, 1800.0, 800.0, 2800.0, 800.0, 1000.0, 500.0, 3000.0, 750.0, 800.0, 2000.0, 2200.0, 650.0, 1800.0, 950.0, 750.0, 3000.0, 1000.0, 1500.0, 500.0, 400.0, 550.0, 1000.0, 600.0, 700.0, 2000.0, 550.0, 1200.0, 1000.0, 300.0, 1300.0, 500.0, 1000.0, 500.0, 1600.0, 500.0, 3000.0, 1000.0, 450.0, 1000.0, 400.0, 650.0, 550.0, 1200.0, 1200.0, 1000.0, 1000.0, 2000.0, 1500.0, 400.0, 300.0, 1200.0, 3000.0, 500.0, 500.0, 1800.0, 2500.0, 800.0, 2500.0, 700.0, 1400.0, 600.0, 600.0, 800.0, 550.0, 850.0, 2400.0, 500.0, 1400.0, 1900.0, 800.0, 1000.0, 1200.0, 1500.0, 250.0, 600.0, 700.0, 500.0, 3000.0, 500.0, 800.0, 600.0, 800.0, 1200.0, 550.0, 800.0, 800.0, 1200.0, 800.0, 600.0, 350.0, 2000.0, 700.0, 600.0, 2500.0, 900.0, 600.0, 1000.0, 600.0, 400.0, 250.0, 700.0, 400.0, 300.0, 500.0, 200.0, 150.0, 150.0, 150.0, 500.0, 300.0, 500.0, 300.0, 300.0, 150.0, 300.0, 250.0, 500.0, 150.0, 300.0, 400.0, 250.0, 350.0, 800.0, 200.0, 400.0, 350.0, 400.0, 500.0, 500.0, 200.0, 400.0, 500.0, 350.0, 250.0, 400.0, 500.0, 250.0, 300.0, 300.0, 300.0, 300.0, 100.0, 500.0, 1300.0, 1100.0, 1300.0, 750.0, 1300.0, 1700.0, 600.0, 1000.0, 750.0, 550.0, 850.0, 200.0, 700.0, 700.0, 750.0, 1800.0, 1600.0, 400.0, 300.0, 150.0, 400.0, 400.0, 1100.0, 600.0, 300.0, 1300.0, 2000.0, 1200.0, 2000.0, 1500.0, 1500.0, 1500.0, 1600.0, 1100.0, 1100.0, 2000.0, 1500.0, 1700.0, 1500.0, 2500.0, 3000.0, 3000.0, 1500.0, 2500.0, 1700.0, 1700.0, 1200.0, 1300.0, 1300.0, 1700.0, 1500.0, 2000.0, 1500.0, 2500.0, 1900.0, 1300.0, 1000.0, 3000.0, 1100.0, 1200.0, 1000.0, 1400.0, 1100.0, 1000.0, 1000.0, 1200.0, 1200.0, 1500.0, 1000.0, 2000.0, 1200.0, 2800.0, 3000.0, 1500.0, 600.0, 1000.0, 1000.0, 1000.0, 2000.0, 1500.0, 3000.0, 1200.0, 2500.0, 2400.0, 1400.0, 1200.0, 1500.0, 1300.0, 1300.0, 800.0, 700.0, 350.0, 150.0, 200.0, 200.0, 400.0, 500.0, 250.0, 1200.0, 1300.0, 2100.0, 1700.0, 1500.0, 2500.0, 1900.0, 1700.0, 1000.0, 1000.0, 1100.0, 1200.0, 1000.0, 1400.0, 1100.0, 1300.0, 1000.0, 1000.0, 1000.0, 1200.0, 1500.0, 4000.0, 1200.0, 1000.0, 1700.0, 2000.0, 2000.0, 3500.0, 1200.0, 1300.0, 1800.0, 1000.0, 1800.0, 1500.0, 600.0, 1000.0, 1000.0, 1200.0, 1000.0, 3000.0, 1200.0, 1800.0, 1400.0, 1200.0, 1500.0, 800.0, 1300.0, 600.0, 700.0, 750.0, 1600.0, 1400.0, 1100.0, 1000.0, 1800.0, 1700.0, 1500.0, 1200.0, 2500.0, 1000.0, 1500.0, 2000.0, 800.0, 1500.0, 2000.0, 1900.0, 1200.0, 1200.0, 1200.0, 600.0, 1100.0, 400.0, 600.0, 300.0, 600.0, 500.0, 500.0, 650.0, 900.0, 600.0, 900.0, 1400.0, 2000.0, 1000.0, 700.0, 600.0, 300.0, 400.0, 700.0, 400.0, 700.0, 600.0, 450.0, 450.0, 250.0, 500.0, 400.0, 400.0, 700.0, 300.0, 850.0, 500.0, 500.0, 650.0, 600.0, 400.0, 400.0, 500.0, 400.0, 600.0, 800.0, 400.0, 300.0, 450.0, 1000.0, 800.0, 800.0, 500.0, 500.0, 300.0, 350.0, 500.0, 400.0, 400.0, 300.0, 300.0, 700.0, 150.0, 600.0, 500.0, 250.0, 650.0, 250.0, 750.0, 800.0, 500.0, 350.0, 500.0, 500.0, 400.0, 500.0, 350.0, 400.0, 1400.0, 700.0, 300.0, 600.0, 450.0, 600.0, 600.0, 300.0, 300.0, 550.0, 750.0, 300.0, 800.0, 400.0, 200.0, 300.0, 500.0, 450.0, 450.0, 400.0, 200.0, 400.0, 800.0, 600.0, 400.0, 300.0, 400.0, 650.0, 450.0, 400.0, 400.0, 750.0, 650.0, 150.0, 800.0, 200.0, 300.0, 450.0, 600.0, 350.0, 400.0, 300.0, 550.0, 1400.0, 300.0, 300.0, 1300.0, 250.0, 500.0, 800.0, 600.0, 400.0, 600.0, 750.0, 1000.0, 600.0, 1000.0, 300.0, 300.0, 400.0, 400.0, 700.0, 700.0, 700.0, 400.0, 650.0, 1400.0, 900.0, 350.0, 750.0, 900.0, 400.0, 750.0, 900.0, 500.0, 600.0, 500.0, 750.0, 800.0, 600.0, 300.0, 1500.0, 450.0, 800.0, 550.0, 500.0, 400.0, 550.0, 700.0, 1000.0, 450.0, 250.0, 500.0, 2000.0, 1000.0, 1200.0, 300.0, 600.0, 600.0, 400.0, 800.0, 700.0, 900.0, 1000.0, 350.0, 800.0, 300.0, 2000.0, 450.0, 350.0, 200.0, 250.0, 400.0, 550.0, 1100.0, 250.0, 400.0, 1500.0, 800.0, 400.0, 600.0, 1500.0, 500.0, 800.0, 1500.0, 200.0, 400.0, 300.0, 600.0, 600.0, 200.0, 1100.0, 500.0, 600.0, 300.0, 800.0, 900.0, 1500.0, 800.0, 600.0, 1100.0, 200.0, 200.0, 350.0, 500.0, 400.0, 450.0, 1200.0, 1000.0, 700.0, 700.0, 650.0, 500.0, 300.0, 600.0, 400.0, 400.0, 350.0, 1100.0, 400.0, 250.0, 800.0, 750.0, 400.0, 450.0, 300.0, 300.0, 600.0, 650.0, 600.0, 800.0, 700.0, 250.0, 500.0, 1000.0, 350.0, 700.0, 200.0, 400.0, 350.0, 500.0, 800.0, 2000.0, 350.0, 600.0, 700.0, 800.0, 300.0, 550.0, 400.0, 550.0, 400.0, 750.0, 150.0, 700.0, 300.0, 600.0, 600.0, 500.0, 1000.0, 250.0, 1000.0, 1100.0, 300.0, 1200.0, 500.0, 600.0, 450.0, 300.0, 400.0, 800.0, 400.0, 800.0, 500.0, 300.0, 300.0, 800.0, 200.0, 800.0, 900.0, 600.0, 1600.0, 800.0, 650.0, 750.0, 500.0, 750.0, 750.0, 500.0, 500.0, 350.0, 1000.0, 1200.0, 550.0, 200.0, 750.0, 900.0, 400.0, 700.0, 550.0, 500.0, 500.0, 700.0, 200.0, 200.0, 250.0, 800.0, 1000.0, 600.0, 1500.0, 150.0, 750.0, 150.0, 500.0, 450.0, 400.0, 300.0, 900.0, 1000.0, 500.0, 850.0, 800.0, 500.0, 250.0, 400.0, 1000.0, 1000.0, 1100.0, 700.0, 1700.0, 400.0, 300.0, 600.0, 500.0, 400.0, 400.0, 450.0, 400.0, 550.0, 900.0, 400.0, 500.0, 300.0, 1000.0, 200.0, 600.0, 400.0, 350.0, 250.0, 400.0, 450.0, 1200.0, 800.0, 1000.0, 600.0, 700.0, 600.0, 300.0, 750.0, 1500.0, 600.0, 600.0, 800.0, 800.0, 800.0, 700.0, 750.0, 750.0, 550.0, 400.0, 250.0, 500.0, 500.0, 850.0, 500.0, 600.0, 400.0, 650.0, 750.0, 550.0, 350.0, 500.0, 800.0, 450.0, 500.0, 900.0, 750.0, 800.0, 600.0, 500.0, 400.0, 300.0, 450.0, 600.0, 500.0, 200.0, 900.0, 200.0, 450.0, 450.0, 200.0, 450.0, 250.0, 500.0, 400.0, 350.0, 450.0, 300.0, 550.0, 350.0, 800.0, 650.0, 150.0, 150.0, 500.0, 250.0, 300.0, 300.0, 2400.0, 2500.0, 1600.0, 1400.0, 1700.0, 1100.0, 1000.0, 1800.0, 1300.0, 1700.0, 800.0, 800.0, 800.0, 1500.0, 800.0, 900.0, 700.0, 1200.0, 2500.0, 500.0, 850.0, 900.0, 700.0, 1000.0, 850.0, 700.0, 1500.0, 1000.0, 1400.0, 1450.0, 1400.0, 800.0, 3000.0, 700.0, 2000.0, 1000.0, 1000.0, 450.0, 1000.0, 900.0, 900.0, 1500.0, 800.0, 2000.0, 750.0, 400.0, 800.0, 250.0, 200.0, 800.0, 600.0, 1000.0, 1000.0, 600.0, 700.0, 1100.0, 800.0, 150.0, 700.0, 300.0, 200.0, 1000.0, 800.0, 350.0, 250.0, 500.0, 400.0, 300.0, 500.0, 1500.0, 300.0, 2000.0, 1000.0, 750.0, 300.0, 350.0, 600.0, 400.0, 600.0, 600.0, 300.0, 250.0, 1900.0, 600.0, 3000.0, 1200.0, 350.0, 450.0, 500.0, 350.0, 800.0, 400.0, 750.0, 700.0, 200.0, 400.0, 500.0, 300.0, 1200.0, 1000.0, 1000.0, 700.0, 700.0, 650.0, 1200.0, 400.0, 300.0, 400.0, 500.0, 400.0, 300.0, 600.0, 600.0, 700.0, 350.0, 400.0, 500.0, 300.0, 200.0, 450.0, 400.0, 300.0, 650.0, 500.0, 250.0, 700.0, 350.0, 600.0, 700.0, 400.0, 700.0, 250.0, 300.0, 1100.0, 300.0, 600.0, 1000.0, 500.0, 1200.0, 1500.0, 2400.0, 2500.0, 1000.0, 1450.0, 2000.0, 1200.0, 1600.0, 1300.0, 1600.0, 1100.0, 800.0, 600.0, 1100.0, 1400.0, 2000.0, 1500.0, 1200.0, 900.0, 1600.0, 1300.0, 1500.0, 1300.0, 1000.0, 1500.0, 1500.0, 1500.0, 1500.0, 600.0, 1100.0, 750.0, 700.0, 1400.0, 800.0, 1000.0, 900.0, 2000.0, 900.0, 1000.0, 400.0, 950.0, 1000.0, 900.0, 500.0, 700.0, 500.0, 200.0, 600.0, 650.0, 600.0, 400.0, 500.0, 650.0, 700.0, 500.0, 200.0, 600.0, 900.0, 800.0, 1300.0, 600.0, 600.0, 800.0, 900.0, 500.0, 800.0, 900.0, 800.0, 550.0, 800.0, 900.0, 600.0, 1000.0, 900.0, 500.0, 700.0, 600.0, 800.0, 1200.0, 600.0, 1200.0, 650.0, 1000.0, 600.0, 900.0, 600.0, 450.0, 750.0, 650.0, 600.0, 400.0, 600.0, 500.0, 700.0, 400.0, 350.0, 700.0, 700.0, 300.0, 400.0, 800.0, 600.0, 400.0, 400.0, 500.0, 500.0, 500.0, 450.0, 450.0, 300.0, 400.0, 400.0, 200.0, 400.0, 400.0, 250.0, 300.0, 200.0, 250.0, 600.0, 600.0, 100.0, 250.0, 400.0, 500.0, 150.0, 500.0, 400.0, 450.0, 550.0, 400.0, 400.0, 650.0, 600.0, 250.0, 150.0, 600.0, 400.0, 600.0, 250.0, 250.0, 400.0, 600.0, 600.0, 200.0, 200.0, 300.0, 250.0, 400.0, 300.0, 400.0, 300.0, 250.0, 300.0, 600.0, 350.0, 300.0, 400.0, 400.0, 800.0, 300.0, 500.0, 500.0, 350.0, 400.0, 300.0, 500.0, 600.0, 400.0, 500.0, 350.0, 300.0, 400.0, 500.0, 800.0, 800.0, 700.0, 500.0, 650.0, 300.0, 300.0, 450.0, 600.0, 600.0, 250.0, 750.0, 650.0, 550.0, 500.0, 400.0, 100.0, 400.0, 800.0, 500.0, 600.0, 200.0, 400.0, 600.0, 1000.0, 200.0, 200.0, 250.0, 700.0, 400.0, 450.0, 800.0, 300.0, 500.0, 100.0, 450.0, 300.0, 450.0, 500.0, 400.0, 400.0, 550.0, 700.0, 400.0, 400.0, 600.0, 550.0, 200.0, 300.0, 400.0, 300.0, 200.0, 650.0, 200.0, 500.0, 500.0, 300.0, 400.0, 800.0, 200.0, 400.0, 800.0, 400.0, 800.0, 450.0, 400.0, 200.0, 600.0, 750.0, 300.0, 400.0, 600.0, 600.0, 300.0, 250.0, 300.0, 800.0, 250.0, 500.0, 200.0, 1200.0, 300.0, 100.0, 400.0, 400.0, 350.0, 400.0, 700.0, 350.0, 1200.0, 1000.0, 300.0, 1500.0, 300.0, 600.0, 500.0, 400.0, 600.0, 600.0, 300.0, 150.0, 800.0, 350.0, 200.0, 700.0, 150.0, 600.0, 600.0, 600.0, 400.0, 700.0, 500.0, 700.0, 500.0, 100.0, 600.0, 500.0, 800.0, 700.0, 500.0, 400.0, 800.0, 400.0, 400.0, 800.0, 750.0, 600.0, 500.0, 250.0, 900.0, 200.0, 850.0, 400.0, 400.0, 400.0, 300.0, 850.0, 150.0, 800.0, 700.0, 250.0, 750.0, 600.0, 1000.0, 300.0, 600.0, 500.0, 400.0, 600.0, 500.0, 500.0, 500.0, 700.0, 200.0, 200.0, 600.0, 400.0, 500.0, 800.0, 200.0, 250.0, 150.0, 300.0, 500.0, 900.0, 1000.0, 700.0, 300.0, 450.0, 800.0, 500.0, 1000.0, 1200.0, 450.0, 230.0, 500.0, 500.0, 300.0, 700.0, 500.0, 400.0, 400.0, 500.0, 400.0, 400.0, 300.0, 650.0, 300.0, 300.0, 250.0, 500.0, 400.0, 600.0, 600.0, 300.0, 150.0, 300.0, 500.0, 300.0, 250.0, 400.0, 600.0, 700.0, 550.0, 400.0, 800.0, 900.0, 300.0, 700.0, 950.0, 500.0, 200.0, 1200.0, 900.0, 150.0, 800.0, 300.0, 750.0, 400.0, 350.0, 200.0, 400.0, 800.0, 600.0, 450.0, 500.0, 500.0, 500.0, 400.0, 300.0, 1500.0, 500.0, 550.0, 900.0, 500.0, 900.0, 400.0, 550.0, 400.0, 1300.0, 300.0, 400.0, 300.0, 400.0, 400.0, 700.0, 1000.0, 600.0, 800.0, 400.0, 300.0, 600.0, 600.0, 150.0, 750.0, 550.0, 250.0, 300.0, 750.0, 650.0, 500.0, 400.0, 450.0, 400.0, 400.0, 600.0, 500.0, 650.0, 800.0, 800.0, 600.0, 650.0, 700.0, 400.0, 600.0, 450.0, 250.0, 1200.0, 1000.0, 150.0, 700.0, 400.0, 800.0, 500.0, 800.0, 1100.0, 1300.0, 700.0, 600.0, 500.0, 600.0, 1200.0, 500.0, 400.0, 600.0, 1500.0, 600.0, 300.0, 550.0, 500.0, 1000.0, 600.0, 500.0, 1100.0, 1000.0, 300.0, 500.0, 1000.0, 400.0, 650.0, 300.0, 400.0, 500.0, 1200.0, 300.0, 500.0, 800.0, 250.0, 500.0, 800.0, 450.0, 600.0, 400.0, 500.0, 350.0, 250.0, 600.0, 200.0, 550.0, 600.0, 450.0, 400.0, 750.0, 750.0, 400.0, 600.0, 700.0, 500.0, 450.0, 400.0, 550.0, 300.0, 750.0, 1600.0, 600.0, 600.0, 1000.0, 800.0, 1600.0, 500.0, 1000.0, 800.0, 700.0, 800.0, 650.0, 300.0, 600.0, 400.0, 1000.0, 800.0, 300.0, 600.0, 1300.0, 200.0, 400.0, 1000.0, 600.0, 600.0, 700.0, 600.0, 600.0, 1500.0, 400.0, 1200.0, 1200.0, 600.0, 500.0, 1300.0, 300.0, 1100.0, 800.0, 500.0, 1200.0, 400.0, 800.0, 250.0, 500.0, 450.0, 900.0, 500.0, 350.0, 600.0, 1000.0, 300.0, 1300.0, 1000.0, 800.0, 1000.0, 600.0, 1200.0, 350.0, 1000.0, 1000.0, 2500.0, 800.0, 300.0, 450.0, 450.0, 700.0, 900.0, 600.0, 650.0, 700.0, 1500.0, 500.0, 900.0, 350.0, 1500.0, 550.0, 1100.0, 700.0, 500.0, 600.0, 700.0, 1200.0, 500.0, 500.0, 550.0, 1200.0, 750.0, 650.0, 300.0, 400.0, 300.0, 300.0, 800.0, 1000.0, 900.0, 650.0, 1400.0, 700.0, 1200.0, 600.0, 1500.0, 1600.0, 550.0, 250.0, 300.0, 1400.0, 500.0, 1000.0, 800.0, 250.0, 1200.0, 700.0, 600.0, 1500.0, 700.0, 400.0, 400.0, 250.0, 750.0, 1500.0, 1000.0, 400.0, 750.0, 600.0, 1500.0, 450.0, 1100.0, 1000.0, 200.0, 400.0, 700.0, 350.0, 1500.0, 650.0, 400.0, 250.0, 600.0, 1000.0, 1200.0, 900.0, 750.0, 900.0, 300.0, 400.0, 600.0, 500.0, 800.0, 1000.0, 900.0, 400.0, 300.0, 300.0, 1100.0, 400.0, 700.0, 300.0, 700.0, 400.0, 550.0, 500.0, 400.0, 200.0, 500.0, 500.0, 550.0, 300.0, 1700.0, 1200.0, 500.0, 550.0, 400.0, 400.0, 600.0, 600.0, 650.0, 1000.0, 400.0, 400.0, 600.0, 500.0, 200.0, 650.0, 600.0, 250.0, 350.0, 750.0, 400.0, 1100.0, 700.0, 600.0, 900.0, 1100.0, 500.0, 500.0, 200.0, 450.0, 800.0, 500.0, 800.0, 650.0, 350.0, 200.0, 600.0, 600.0, 600.0, 600.0, 450.0, 1000.0, 800.0, 400.0, 500.0, 600.0, 500.0, 400.0, 200.0, 500.0, 450.0, 150.0, 650.0, 600.0, 400.0, 300.0, 400.0, 150.0, 600.0, 500.0, 1300.0, 500.0, 300.0, 100.0, 400.0, 600.0, 1000.0, 500.0, 300.0, 550.0, 1200.0, 900.0, 400.0, 400.0, 800.0, 1300.0, 1200.0, 450.0, 1400.0, 800.0, 650.0, 1100.0, 350.0, 1200.0, 400.0, 700.0, 900.0, 500.0, 500.0, 300.0, 450.0, 500.0, 750.0, 800.0, 300.0, 800.0, 200.0, 350.0, 500.0, 450.0, 900.0, 400.0, 450.0, 700.0, 200.0, 600.0, 300.0, 800.0, 1000.0, 350.0, 1000.0, 1400.0, 700.0, 600.0, 400.0, 400.0, 500.0, 550.0, 800.0, 600.0, 900.0, 650.0, 800.0, 650.0, 150.0, 500.0, 650.0, 350.0, 200.0, 400.0, 800.0, 150.0, 200.0, 800.0, 700.0, 150.0, 500.0, 600.0, 200.0, 400.0, 900.0, 700.0, 600.0, 800.0, 150.0, 400.0, 1500.0, 500.0, 400.0, 900.0, 400.0, 300.0, 400.0, 300.0, 500.0, 300.0, 200.0, 200.0, 200.0, 150.0, 300.0, 500.0, 250.0, 400.0, 800.0, 400.0, 500.0, 500.0, 200.0, 200.0, 400.0, 100.0, 600.0, 1100.0, 400.0, 1300.0, 600.0, 700.0, 500.0, 800.0, 550.0, 400.0, 450.0, 500.0, 600.0, 300.0, 400.0, 1200.0, 400.0, 650.0, 500.0, 900.0, 350.0, 600.0, 400.0, 400.0, 400.0, 400.0, 250.0, 300.0, 200.0, 450.0, 500.0, 300.0, 500.0, 200.0, 500.0, 500.0, 350.0, 400.0, 400.0, 400.0, 400.0, 800.0, 700.0, 350.0, 150.0, 400.0, 200.0, 800.0, 700.0, 400.0, 150.0, 400.0, 500.0, 600.0, 400.0, 250.0, 200.0, 500.0, 400.0, 400.0, 200.0, 1600.0, 1300.0, 1600.0, 1100.0, 800.0, 900.0, 800.0, 1500.0, 900.0, 500.0, 850.0, 550.0, 550.0, 300.0, 800.0, 800.0, 300.0, 800.0, 600.0, 1100.0, 500.0, 550.0, 500.0, 400.0, 500.0, 700.0, 600.0, 400.0, 600.0, 700.0, 900.0, 1000.0, 600.0, 500.0, 600.0, 400.0, 350.0, 700.0, 350.0, 600.0, 600.0, 500.0, 200.0, 600.0, 600.0, 650.0, 600.0, 400.0, 800.0, 500.0, 600.0, 600.0, 500.0, 550.0, 600.0, 1000.0, 600.0, 500.0, 650.0, 450.0, 500.0, 650.0, 700.0, 500.0, 250.0, 500.0, 300.0, 1000.0, 300.0, 500.0, 250.0, 400.0, 300.0, 200.0, 300.0, 400.0, 250.0, 300.0, 400.0, 400.0, 500.0, 300.0, 300.0, 400.0, 500.0, 400.0, 150.0, 250.0, 500.0, 150.0, 200.0, 250.0, 300.0, 200.0, 300.0, 700.0, 500.0, 300.0, 200.0, 300.0, 300.0, 400.0, 600.0, 500.0, 400.0, 500.0, 300.0, 500.0, 300.0, 200.0, 400.0, 400.0, 250.0, 300.0, 300.0, 400.0, 350.0, 450.0, 250.0, 450.0, 400.0, 300.0, 550.0, 600.0, 400.0, 400.0, 500.0, 400.0, 650.0, 250.0, 400.0, 350.0, 400.0, 300.0, 300.0, 250.0, 1100.0, 200.0, 600.0, 900.0, 1400.0, 1500.0, 2000.0, 1000.0, 1100.0, 1500.0, 1200.0, 900.0, 1600.0, 1300.0, 1300.0, 1400.0, 800.0, 1600.0, 1600.0, 700.0, 1500.0, 1600.0, 750.0, 1300.0, 1500.0, 1000.0, 1000.0, 1300.0, 1500.0, 1500.0, 1400.0, 1800.0, 600.0, 1400.0, 1300.0, 600.0, 1200.0, 1500.0, 1400.0, 1200.0, 1300.0, 1500.0, 1500.0, 1000.0, 1000.0, 1000.0, 600.0, 650.0, 1400.0, 800.0, 1200.0, 800.0, 1000.0, 1100.0, 1500.0, 1200.0, 1400.0, 650.0, 550.0, 600.0, 1100.0, 700.0, 1000.0, 800.0, 600.0, 900.0, 750.0, 500.0, 1500.0, 800.0, 1200.0, 550.0, 900.0, 800.0, 550.0, 1200.0, 800.0, 600.0, 900.0, 600.0, 800.0, 750.0, 650.0, 1200.0, 800.0, 550.0, 1200.0, 1000.0, 1000.0, 900.0, 500.0, 1200.0, 750.0, 900.0, 500.0, 800.0, 700.0, 800.0, 1200.0, 600.0, 800.0, 650.0, 600.0, 800.0, 750.0, 500.0, 1200.0, 600.0, 1500.0, 700.0, 1200.0, 700.0, 750.0, 1400.0, 1000.0, 700.0, 650.0, 750.0, 1300.0, 1300.0, 500.0, 1000.0, 1000.0, 800.0, 650.0, 600.0, 1100.0, 800.0, 600.0, 450.0, 500.0, 1000.0, 800.0, 1300.0, 550.0, 300.0, 650.0, 700.0, 400.0, 500.0, 800.0, 1400.0, 600.0, 350.0, 750.0, 650.0, 700.0, 750.0, 700.0, 400.0, 1300.0, 650.0, 600.0, 500.0, 400.0, 300.0, 300.0, 600.0, 800.0, 450.0, 350.0, 700.0, 500.0, 800.0, 300.0, 200.0, 600.0, 1000.0, 400.0, 600.0, 900.0, 450.0, 250.0, 600.0, 700.0, 2000.0, 500.0, 550.0, 150.0, 450.0, 600.0, 600.0, 1500.0, 200.0, 700.0, 400.0, 350.0, 900.0, 350.0, 800.0, 600.0, 1000.0, 400.0, 500.0, 900.0, 400.0, 400.0, 500.0, 650.0, 650.0, 800.0, 1100.0, 700.0, 900.0, 200.0, 600.0, 500.0, 400.0, 250.0, 200.0, 400.0, 300.0, 600.0, 450.0, 200.0, 700.0, 1000.0, 800.0, 200.0, 600.0, 600.0, 300.0, 400.0, 700.0, 600.0, 300.0, 400.0, 250.0, 400.0, 400.0, 200.0, 300.0, 400.0, 1300.0, 200.0, 400.0, 200.0, 950.0, 400.0, 400.0, 750.0, 500.0, 400.0, 700.0, 650.0, 200.0, 300.0, 200.0, 100.0, 800.0, 600.0, 1000.0, 400.0, 400.0, 600.0, 700.0, 400.0, 450.0, 600.0, 500.0, 500.0, 650.0, 900.0, 350.0, 400.0, 200.0, 400.0, 400.0, 350.0, 300.0, 200.0, 400.0, 450.0, 300.0, 300.0, 300.0, 450.0, 500.0, 600.0, 300.0, 800.0, 300.0, 300.0, 600.0, 550.0, 200.0, 750.0, 300.0, 400.0, 200.0, 500.0, 400.0, 900.0, 250.0, 400.0, 550.0, 350.0, 800.0, 450.0, 500.0, 1000.0, 1100.0, 1500.0, 1100.0, 1500.0, 2000.0, 1100.0, 900.0, 1600.0, 1600.0, 1600.0, 1000.0, 1500.0, 1400.0, 1800.0, 1400.0, 1200.0, 1300.0, 1000.0, 1200.0, 1400.0, 1200.0, 1200.0, 1200.0, 1200.0, 1500.0, 1400.0, 1000.0, 1300.0, 1300.0, 1400.0, 1500.0, 1100.0, 1300.0, 1100.0, 1600.0, 1500.0, 1100.0, 1400.0, 1000.0, 1100.0, 1500.0, 900.0, 1400.0, 1600.0, 1500.0, 1000.0, 1500.0, 1800.0, 1500.0, 1200.0, 1300.0, 1000.0, 1200.0, 1400.0, 1000.0, 1500.0, 1200.0, 800.0, 1200.0, 1200.0, 1200.0, 1200.0, 1400.0, 1000.0, 1300.0, 1000.0, 1300.0, 1300.0, 1500.0, 1100.0, 1300.0, 1200.0, 1500.0, 1200.0, 1700.0, 750.0, 1800.0, 1500.0, 2200.0, 3000.0, 2100.0, 2800.0, 1400.0, 1600.0, 2500.0, 3000.0, 500.0, 1500.0, 1000.0, 3400.0, 2000.0, 1500.0, 1300.0, 1700.0, 1200.0, 1600.0, 800.0, 2200.0, 2000.0, 1200.0, 1000.0, 1900.0, 650.0, 1400.0, 1000.0, 800.0, 1000.0, 1300.0, 1600.0, 3000.0, 500.0, 1000.0, 1200.0, 650.0, 2500.0, 1300.0, 1200.0, 1700.0, 1800.0, 1600.0, 1100.0, 750.0, 1200.0, 500.0, 1100.0, 1000.0, 600.0, 650.0, 900.0, 700.0, 500.0, 700.0, 800.0, 1700.0, 900.0, 600.0, 2500.0, 1400.0, 400.0, 750.0, 700.0, 700.0, 500.0, 1100.0, 800.0, 750.0, 500.0, 650.0, 500.0, 1000.0, 650.0, 1200.0, 800.0, 800.0, 400.0, 800.0, 600.0, 400.0, 1000.0, 500.0, 600.0, 1000.0, 800.0, 900.0, 700.0, 350.0, 1300.0, 750.0, 300.0, 1000.0, 750.0, 750.0, 1100.0, 500.0, 650.0, 400.0, 750.0, 750.0, 500.0, 750.0, 600.0, 750.0, 300.0, 600.0, 400.0, 650.0, 400.0, 500.0, 550.0, 150.0, 500.0, 1500.0, 800.0, 400.0, 400.0, 200.0, 600.0, 800.0, 300.0, 850.0, 400.0, 400.0, 300.0, 450.0, 650.0, 250.0, 450.0, 600.0, 1600.0, 400.0, 1300.0, 1200.0, 1200.0, 450.0, 600.0, 700.0, 500.0, 400.0, 700.0, 350.0, 200.0, 400.0, 500.0, 400.0, 550.0, 500.0, 400.0, 900.0, 800.0, 400.0, 200.0, 1300.0, 1200.0, 600.0, 550.0, 1100.0, 500.0, 600.0, 400.0, 800.0, 1300.0, 200.0, 1700.0, 150.0, 2100.0, 1700.0, 1500.0, 750.0, 500.0, 300.0, 150.0, 2000.0, 250.0, 750.0, 400.0, 600.0, 650.0, 500.0, 800.0, 1400.0, 2100.0, 1500.0, 1200.0, 450.0, 1000.0, 400.0, 1500.0, 600.0, 1400.0, 200.0, 2000.0, 1000.0, 500.0, 300.0, 250.0, 300.0, 400.0, 800.0, 700.0, 700.0, 900.0, 200.0, 1700.0, 500.0, 1200.0, 650.0, 500.0, 300.0, 1500.0, 950.0, 1600.0, 1500.0, 1000.0, 300.0, 300.0, 500.0, 900.0, 700.0, 1000.0, 1200.0, 700.0, 1000.0, 800.0, 1500.0, 1400.0, 900.0, 700.0, 250.0, 700.0, 1000.0, 750.0, 600.0, 1300.0, 400.0, 250.0, 350.0, 800.0, 300.0, 1400.0, 500.0, 180.0, 500.0, 800.0, 750.0, 250.0, 500.0, 700.0, 200.0, 600.0, 800.0, 550.0, 2100.0, 900.0, 1100.0, 550.0, 1400.0, 600.0, 400.0, 400.0, 400.0, 750.0, 800.0, 500.0, 150.0, 600.0, 750.0, 600.0, 1200.0, 500.0, 600.0, 500.0, 550.0, 400.0, 400.0, 200.0, 800.0, 800.0, 500.0, 800.0, 1000.0, 500.0, 300.0, 500.0, 500.0, 500.0, 550.0, 300.0, 450.0, 350.0, 150.0, 100.0, 300.0, 600.0, 800.0, 350.0, 1600.0, 650.0, 750.0, 300.0, 400.0, 450.0, 500.0, 200.0, 700.0, 500.0, 1000.0, 200.0, 300.0, 850.0, 800.0, 1000.0, 1000.0, 850.0, 800.0, 800.0, 800.0, 700.0, 1000.0, 600.0, 300.0, 600.0, 300.0, 250.0, 400.0, 600.0, 700.0, 450.0, 500.0, 700.0, 800.0, 1000.0, 600.0, 400.0, 500.0, 900.0, 700.0, 650.0, 500.0, 800.0, 500.0, 350.0, 1800.0, 1300.0, 500.0, 300.0, 550.0, 200.0, 1200.0, 1200.0, 1300.0, 1600.0, 600.0, 1400.0, 550.0, 1200.0, 1000.0, 600.0, 400.0, 1000.0, 500.0, 1200.0, 600.0, 40.0, 250.0, 250.0, 500.0, 600.0, 400.0, 700.0, 350.0, 600.0, 1700.0, 550.0, 600.0, 1100.0, 1000.0, 150.0, 250.0, 700.0, 400.0, 300.0, 400.0, 400.0, 700.0, 700.0, 1800.0, 750.0, 1900.0, 1300.0, 1000.0, 500.0, 1600.0, 700.0, 300.0, 800.0, 300.0, 1000.0, 600.0, 650.0, 750.0, 500.0, 1300.0, 800.0, 1400.0, 650.0, 1000.0, 2000.0, 150.0, 2000.0, 750.0, 700.0, 1500.0, 1700.0, 1100.0, 1800.0, 1000.0, 150.0, 400.0, 250.0, 400.0, 2000.0, 800.0, 400.0, 600.0, 550.0, 400.0, 1400.0, 700.0, 300.0, 1250.0, 700.0, 500.0, 400.0, 450.0, 2000.0, 1000.0, 700.0, 500.0, 400.0, 300.0, 300.0, 350.0, 400.0, 800.0, 400.0, 250.0, 900.0, 400.0, 300.0, 400.0, 150.0, 300.0, 180.0, 150.0, 450.0, 400.0, 400.0, 900.0, 300.0, 150.0, 300.0, 600.0, 300.0, 500.0, 350.0, 1300.0, 800.0, 200.0, 750.0, 300.0, 500.0, 1500.0, 300.0, 1100.0, 1500.0, 1200.0, 1000.0, 1000.0, 1700.0, 1000.0, 600.0, 650.0, 1300.0, 1100.0, 1100.0, 750.0, 750.0, 1400.0, 650.0, 1300.0, 1200.0, 900.0, 600.0, 800.0, 700.0, 1000.0, 800.0, 1500.0, 950.0, 500.0, 800.0, 1200.0, 600.0, 600.0, 500.0, 200.0, 150.0, 500.0, 250.0, 400.0, 250.0, 350.0, 1700.0, 2500.0, 1500.0, 1800.0, 1500.0, 2000.0, 3000.0, 2200.0, 3000.0, 800.0, 550.0, 2800.0, 2500.0, 1500.0, 2000.0, 1500.0, 1500.0, 3000.0, 2100.0, 3500.0, 1700.0, 1700.0, 1300.0, 1600.0, 2800.0, 1700.0, 1500.0, 1200.0, 1500.0, 1600.0, 1300.0, 1200.0, 2000.0, 3000.0, 800.0, 700.0, 2100.0, 1500.0, 2500.0, 1900.0, 2200.0, 1500.0, 1400.0, 2000.0, 1200.0, 1400.0, 1500.0, 600.0, 1300.0, 2100.0, 1700.0, 900.0, 1100.0, 1600.0, 2500.0, 1500.0, 2500.0, 550.0, 1000.0, 3000.0, 1200.0, 1300.0, 1400.0, 4000.0, 500.0, 1800.0, 1300.0, 1500.0, 200.0, 1000.0, 2000.0, 1500.0, 1000.0, 1800.0, 1000.0, 500.0, 1000.0, 1500.0, 1200.0, 2500.0, 400.0, 3400.0, 3000.0, 2000.0, 850.0, 2000.0, 750.0, 700.0, 3500.0, 600.0, 1800.0, 1500.0, 3000.0, 1300.0, 1500.0, 700.0, 1600.0, 1200.0, 1300.0, 1500.0, 1200.0, 1100.0, 1700.0, 2000.0, 500.0, 800.0, 4000.0, 3000.0, 1100.0, 1000.0, 1500.0, 700.0, 2800.0, 1000.0, 1200.0, 1000.0, 1200.0, 4000.0, 2000.0, 3500.0, 1200.0, 550.0, 1000.0, 1600.0, 500.0, 300.0, 2000.0, 650.0, 1800.0, 3000.0, 800.0, 2200.0, 1100.0, 800.0, 2000.0, 500.0, 800.0, 750.0, 1500.0, 1000.0, 800.0, 1000.0, 650.0, 750.0, 500.0, 1800.0, 1000.0, 400.0, 550.0, 600.0, 700.0, 700.0, 2000.0, 1000.0, 1000.0, 3000.0, 2000.0, 800.0, 550.0, 400.0, 650.0, 800.0, 450.0, 650.0, 550.0, 1200.0, 1800.0, 800.0, 800.0, 1200.0, 1000.0, 1000.0, 700.0, 2000.0, 500.0, 1500.0, 300.0, 350.0, 600.0, 3000.0, 400.0, 1900.0, 500.0, 2500.0, 650.0, 800.0, 2500.0, 1400.0, 800.0, 1200.0, 800.0, 600.0, 3000.0, 1000.0, 550.0, 400.0, 800.0, 800.0, 400.0, 850.0, 800.0, 1000.0, 500.0, 1300.0, 1600.0, 3000.0, 600.0, 1000.0, 1400.0, 700.0, 3000.0, 500.0, 1000.0, 2400.0, 600.0, 1500.0, 500.0, 1000.0, 500.0, 800.0, 1300.0, 800.0, 1200.0, 800.0, 250.0, 600.0, 350.0, 500.0, 500.0, 900.0, 2000.0, 700.0, 2500.0, 600.0, 400.0, 600.0, 550.0, 400.0, 300.0, 250.0, 150.0, 700.0, 150.0, 500.0, 150.0, 300.0, 500.0, 250.0, 300.0, 450.0, 400.0, 400.0, 500.0, 150.0, 300.0, 400.0, 300.0, 200.0, 350.0, 500.0, 400.0, 400.0, 250.0, 350.0, 300.0, 500.0, 200.0, 600.0, 600.0, 500.0, 300.0, 300.0, 500.0, 300.0, 450.0, 300.0, 100.0, 300.0, 500.0, 1300.0, 800.0, 1100.0, 1100.0, 1400.0, 1300.0, 600.0, 3200.0, 750.0, 2500.0, 1500.0, 1300.0, 1200.0, 300.0, 4000.0, 1700.0, 1000.0, 2500.0, 750.0, 600.0, 850.0, 550.0, 600.0, 400.0, 700.0, 1000.0, 200.0, 700.0, 750.0, 500.0, 700.0, 750.0, 1800.0, 1200.0, 900.0, 1600.0, 700.0, 400.0, 150.0, 550.0, 700.0, 300.0, 500.0, 600.0, 400.0, 400.0, 1100.0, 500.0, 400.0, 500.0, 250.0, 250.0, 550.0, 500.0, 1100.0, 600.0, 300.0, 1200.0, 1500.0, 2000.0, 1300.0, 1100.0, 1100.0, 1200.0, 1000.0, 1500.0, 1700.0, 2500.0, 1500.0, 2000.0, 3000.0, 3000.0, 2500.0, 1500.0, 1500.0, 1700.0, 1700.0, 1300.0, 1700.0, 1500.0, 1300.0, 1200.0, 2000.0, 1500.0, 2500.0, 1900.0, 1300.0, 1500.0, 1000.0, 1200.0, 1400.0, 1300.0, 1000.0, 3000.0, 1600.0, 1500.0, 1100.0, 1100.0, 1000.0, 2800.0, 1000.0, 2000.0, 1200.0, 2000.0, 3000.0, 1500.0, 600.0, 1000.0, 1000.0, 1000.0, 2000.0, 1500.0, 2500.0, 3000.0, 1400.0, 2400.0, 1500.0, 1300.0, 1300.0, 1200.0, 2500.0, 1200.0, 1200.0, 1200.0, 1100.0, 1100.0, 1200.0, 1000.0, 1500.0, 2000.0, 2500.0, 1500.0, 1700.0, 1300.0, 1700.0, 1500.0, 1200.0, 2100.0, 2500.0, 1900.0, 1300.0, 1500.0, 1000.0, 1200.0, 1300.0, 1400.0, 1300.0, 1000.0, 1000.0, 1000.0, 1600.0, 1200.0, 1300.0, 1500.0, 1100.0, 1700.0, 2000.0, 1100.0, 1000.0, 1000.0, 1000.0, 1200.0, 4000.0, 2000.0, 3500.0, 1200.0, 2000.0, 1800.0, 1800.0, 600.0, 1000.0, 1000.0, 1800.0, 1200.0, 1000.0, 3000.0, 800.0, 1400.0, 1500.0, 1300.0, 1300.0, 1200.0, 1200.0, 1500.0, 1200.0, 1600.0, 600.0, 1100.0, 3000.0, 2200.0, 1200.0, 1400.0, 800.0, 2000.0, 900.0, 850.0, 800.0, 1500.0, 600.0, 700.0, 650.0, 500.0, 400.0, 600.0, 600.0, 700.0, 400.0, 400.0, 700.0, 200.0, 450.0, 200.0, 250.0, 300.0, 400.0, 500.0, 500.0, 500.0, 500.0, 200.0, 700.0, 600.0, 600.0, 300.0, 500.0, 800.0, 800.0, 300.0, 250.0, 500.0, 700.0, 300.0, 650.0, 400.0, 450.0, 500.0, 400.0, 600.0, 200.0, 400.0, 500.0, 400.0, 400.0, 400.0, 750.0, 500.0, 400.0, 450.0, 400.0, 150.0, 400.0, 450.0, 400.0, 650.0, 800.0, 250.0, 450.0, 600.0, 550.0, 250.0, 250.0, 900.0, 750.0, 700.0, 400.0, 500.0, 300.0, 500.0, 150.0, 800.0, 500.0, 700.0, 800.0, 750.0, 350.0, 400.0, 900.0, 300.0, 400.0, 700.0, 900.0, 350.0, 400.0, 700.0, 500.0, 400.0, 300.0, 600.0, 600.0, 450.0, 750.0, 400.0, 600.0, 250.0, 650.0, 600.0, 500.0, 450.0, 400.0, 600.0, 600.0, 1500.0, 1200.0, 400.0, 400.0, 500.0, 400.0, 400.0, 650.0, 400.0, 500.0, 1000.0, 1200.0, 700.0, 900.0, 200.0, 500.0, 1100.0, 1000.0, 700.0, 600.0, 1500.0, 400.0, 500.0, 700.0, 500.0, 350.0, 450.0, 400.0, 400.0, 500.0, 500.0, 600.0, 2000.0, 600.0, 200.0, 250.0, 400.0, 450.0, 400.0, 500.0, 600.0, 400.0, 250.0, 400.0, 400.0, 700.0, 500.0, 500.0, 1500.0, 1200.0, 1200.0, 1200.0, 1600.0, 600.0, 1100.0, 1500.0, 900.0, 800.0, 1400.0, 600.0, 650.0, 700.0, 800.0, 3000.0, 1500.0, 1300.0, 2200.0, 450.0, 500.0, 500.0, 800.0, 600.0, 1200.0, 1400.0, 400.0, 700.0, 800.0, 400.0, 450.0, 2000.0, 400.0, 600.0, 1200.0, 700.0, 600.0, 400.0, 500.0, 600.0, 900.0, 750.0, 700.0, 2500.0, 2200.0, 700.0, 900.0, 1500.0, 650.0, 750.0, 400.0, 1000.0, 700.0, 850.0, 1200.0, 450.0, 2500.0, 850.0, 500.0, 500.0, 1000.0, 700.0, 400.0, 600.0, 1500.0, 800.0, 700.0, 600.0, 550.0, 1500.0, 400.0, 800.0, 500.0, 700.0, 500.0, 500.0, 500.0, 300.0, 450.0, 500.0, 550.0, 400.0, 500.0, 400.0, 400.0, 350.0, 400.0, 650.0, 400.0, 250.0, 300.0, 400.0, 250.0, 400.0, 250.0, 400.0, 500.0, 450.0, 400.0, 500.0, 300.0, 200.0, 350.0, 400.0, 400.0, 300.0, 450.0, 150.0, 600.0, 400.0, 400.0, 300.0, 400.0, 300.0, 600.0, 400.0, 600.0, 750.0, 400.0, 500.0, 500.0, 250.0, 350.0, 400.0, 500.0, 400.0, 350.0, 500.0, 250.0, 300.0, 1200.0, 1200.0, 1200.0, 1500.0, 1400.0, 1300.0, 1200.0, 2500.0, 900.0, 1500.0, 1500.0, 1200.0, 1200.0, 1200.0, 1500.0, 1400.0, 1300.0, 1200.0, 1200.0, 900.0, 1500.0, 1500.0, 750.0, 1300.0, 2800.0, 1300.0, 1700.0, 2200.0, 1800.0, 1600.0, 1100.0, 1100.0, 700.0, 700.0, 350.0, 600.0, 1300.0, 1200.0, 750.0, 750.0, 700.0, 300.0, 1000.0, 750.0, 800.0, 650.0, 800.0, 650.0, 750.0, 800.0, 700.0, 1000.0, 500.0, 500.0, 800.0, 400.0, 1100.0, 600.0, 450.0, 500.0, 450.0, 500.0, 600.0, 750.0, 300.0, 300.0, 600.0, 300.0, 600.0, 650.0, 600.0, 200.0, 400.0, 350.0, 400.0, 800.0, 750.0, 250.0, 500.0, 750.0, 800.0, 1000.0, 500.0, 750.0, 400.0, 550.0, 400.0, 950.0, 400.0, 600.0, 400.0, 300.0, 800.0, 150.0, 200.0, 750.0, 250.0, 300.0, 750.0, 400.0, 500.0, 400.0, 700.0, 600.0, 800.0, 550.0, 650.0, 400.0, 500.0, 1200.0, 900.0, 1500.0, 800.0, 1100.0, 500.0, 1400.0, 650.0, 450.0, 400.0, 1300.0, 800.0, 700.0, 750.0, 1500.0, 600.0, 600.0, 400.0, 1600.0, 500.0, 500.0, 600.0, 650.0, 300.0, 800.0, 600.0, 1700.0, 1200.0, 1300.0, 500.0, 400.0, 700.0, 400.0, 600.0, 1600.0, 650.0, 700.0, 400.0, 400.0, 500.0, 300.0, 1000.0, 1500.0, 650.0, 1300.0, 600.0, 1200.0, 550.0, 300.0, 600.0, 1100.0, 500.0, 800.0, 400.0, 700.0, 900.0, 400.0, 450.0, 500.0, 900.0, 450.0, 400.0, 450.0, 40.0, 550.0, 300.0, 3000.0, 350.0, 700.0, 250.0, 650.0, 700.0, 200.0, 800.0, 300.0, 550.0, 750.0, 600.0, 450.0, 100.0, 500.0, 350.0, 600.0, 1300.0, 1700.0, 180.0, 1700.0, 600.0, 2100.0, 600.0, 700.0, 300.0, 500.0, 1000.0, 550.0, 2000.0, 500.0, 1500.0, 450.0, 1500.0, 700.0, 400.0, 750.0, 1300.0, 1000.0, 400.0, 1000.0, 700.0, 500.0, 800.0, 1300.0, 500.0, 750.0, 500.0, 1300.0, 700.0, 500.0, 700.0, 750.0, 800.0, 1000.0, 2100.0, 1000.0, 500.0, 1900.0, 450.0, 150.0, 150.0, 700.0, 300.0, 2000.0, 400.0, 1000.0, 650.0, 950.0, 150.0, 500.0, 300.0, 1400.0, 800.0, 1200.0, 1000.0, 1000.0, 150.0, 700.0, 750.0, 1500.0, 300.0, 200.0, 700.0, 800.0, 250.0, 1800.0, 500.0, 350.0, 1500.0, 800.0, 1000.0, 200.0, 550.0, 400.0, 500.0, 400.0, 250.0, 1000.0, 1400.0, 400.0, 800.0, 700.0, 600.0, 550.0, 600.0, 350.0, 1500.0, 1500.0, 500.0, 200.0, 550.0, 300.0, 1100.0, 850.0, 400.0, 150.0, 850.0, 700.0, 300.0, 1800.0, 800.0, 1800.0, 600.0, 1000.0, 800.0, 2000.0, 400.0, 300.0, 600.0, 1500.0, 750.0, 1000.0, 1500.0, 700.0, 400.0, 700.0, 300.0, 600.0, 300.0, 900.0, 400.0, 450.0, 650.0, 500.0, 800.0, 800.0, 2000.0, 750.0, 1700.0, 700.0, 850.0, 1000.0, 650.0, 500.0, 600.0, 500.0, 250.0, 200.0, 250.0, 500.0, 200.0, 350.0, 100.0, 1200.0, 550.0, 600.0, 500.0, 300.0, 700.0, 300.0, 300.0, 800.0, 700.0, 300.0, 800.0, 1200.0, 400.0, 600.0, 300.0, 1700.0, 550.0, 1300.0, 250.0, 1100.0, 750.0, 800.0, 750.0, 700.0, 400.0, 200.0, 1100.0, 300.0, 300.0, 300.0, 400.0, 500.0, 600.0, 1600.0, 600.0, 200.0, 150.0, 400.0, 150.0, 700.0, 500.0, 100.0, 500.0, 300.0, 250.0, 250.0, 350.0, 500.0, 500.0, 300.0, 300.0, 350.0, 300.0, 400.0, 150.0, 1300.0, 400.0, 750.0, 700.0, 700.0, 400.0, 500.0, 400.0, 300.0, 300.0, 300.0, 700.0, 600.0, 750.0, 800.0, 700.0, 700.0, 700.0, 600.0, 1100.0, 550.0, 600.0, 1100.0, 1500.0, 800.0, 850.0, 700.0, 600.0, 750.0, 500.0, 1000.0, 500.0, 500.0, 700.0, 700.0, 600.0, 700.0, 1000.0, 300.0, 500.0, 1000.0, 750.0, 600.0, 1000.0, 200.0, 300.0, 500.0, 300.0, 600.0, 400.0, 400.0, 150.0, 700.0, 400.0, 400.0, 200.0, 250.0, 500.0, 300.0, 600.0, 500.0, 500.0, 1300.0, 800.0, 550.0, 550.0, 450.0, 800.0, 650.0, 700.0, 300.0, 600.0, 800.0, 300.0, 150.0, 600.0, 350.0, 400.0, 500.0, 300.0, 300.0, 1300.0, 2800.0, 1200.0, 1600.0, 1000.0, 2500.0, 2500.0, 1100.0, 1100.0, 1300.0, 1300.0, 600.0, 1000.0, 1300.0, 750.0, 1800.0, 750.0, 700.0, 1800.0, 3000.0, 1300.0, 1700.0, 300.0, 600.0, 1200.0, 1000.0, 750.0, 650.0, 2000.0, 3000.0, 2000.0, 750.0, 800.0, 650.0, 800.0, 2200.0, 650.0, 850.0, 800.0, 700.0, 700.0, 1000.0, 1000.0, 700.0, 750.0, 1800.0, 500.0, 400.0, 500.0, 1600.0, 500.0, 150.0, 500.0, 400.0, 1500.0, 400.0, 250.0, 500.0, 550.0, 800.0, 800.0, 400.0, 300.0, 400.0, 1100.0, 600.0, 200.0, 450.0, 1100.0, 250.0, 300.0, 800.0, 400.0, 400.0, 1500.0, 1300.0, 2500.0, 1300.0, 1300.0, 1000.0, 1500.0, 1500.0, 1000.0, 1300.0, 1300.0, 2500.0, 1300.0, 1000.0, 1200.0, 2000.0, 1000.0, 1400.0, 1500.0, 1800.0, 600.0, 1200.0, 1000.0, 850.0, 750.0, 600.0, 800.0, 400.0, 1000.0, 1600.0, 1500.0, 1500.0, 900.0, 1200.0, 1500.0, 1900.0, 700.0, 800.0, 600.0, 750.0, 500.0, 700.0, 800.0, 1200.0, 800.0, 950.0, 650.0, 750.0, 300.0, 600.0, 700.0, 700.0, 600.0, 300.0, 700.0, 600.0, 500.0, 450.0, 650.0, 1300.0, 350.0, 550.0, 600.0, 1000.0, 250.0, 500.0, 600.0, 1000.0, 400.0, 700.0, 500.0, 600.0, 500.0, 600.0, 400.0, 500.0, 500.0, 600.0, 500.0, 500.0, 450.0, 350.0, 500.0, 400.0, 250.0, 250.0, 400.0, 750.0, 800.0, 650.0, 450.0, 400.0, 600.0, 450.0, 450.0, 300.0, 500.0, 500.0, 500.0, 400.0, 800.0, 250.0, 600.0, 300.0, 500.0, 600.0, 750.0, 400.0, 400.0, 300.0, 650.0, 400.0, 400.0, 400.0, 900.0, 200.0, 400.0, 450.0, 600.0, 750.0, 400.0, 800.0, 800.0, 800.0, 750.0, 400.0, 150.0, 500.0, 600.0, 500.0, 200.0, 750.0, 600.0, 600.0, 500.0, 550.0, 400.0, 400.0, 300.0, 900.0, 400.0, 250.0, 600.0, 650.0, 300.0, 800.0, 600.0, 450.0, 700.0, 200.0, 400.0, 650.0, 300.0, 500.0, 350.0, 550.0, 300.0, 150.0, 400.0, 500.0, 100.0, 300.0, 500.0, 400.0, 500.0, 600.0, 200.0, 350.0, 450.0, 500.0, 600.0, 600.0, 650.0, 200.0, 400.0, 400.0, 400.0, 300.0, 750.0, 800.0, 200.0, 300.0, 800.0, 500.0, 1500.0, 1400.0, 300.0, 500.0, 400.0, 550.0, 300.0, 550.0, 1400.0, 200.0, 600.0, 450.0, 800.0, 600.0, 400.0, 700.0, 400.0, 400.0, 1700.0, 1900.0, 500.0, 350.0, 180.0, 200.0, 1000.0, 900.0, 400.0, 400.0, 400.0, 550.0, 300.0, 800.0, 150.0, 600.0, 400.0, 700.0, 1400.0, 250.0, 200.0, 400.0, 350.0, 250.0, 1200.0, 700.0, 1000.0, 400.0, 650.0, 500.0, 500.0, 1000.0, 450.0, 600.0, 400.0, 1000.0, 800.0, 600.0, 1000.0, 600.0, 150.0, 200.0, 600.0, 550.0, 350.0, 400.0, 350.0, 550.0, 250.0, 200.0, 400.0, 550.0, 500.0, 450.0, 1000.0, 600.0, 400.0, 700.0, 1000.0, 300.0, 600.0, 700.0, 550.0, 300.0, 300.0, 800.0, 300.0, 900.0, 500.0, 1200.0, 500.0, 750.0, 350.0, 1400.0, 1700.0, 400.0, 300.0, 800.0, 400.0, 950.0, 450.0, 300.0, 1200.0, 1500.0, 300.0, 250.0, 200.0, 700.0, 600.0, 200.0, 600.0, 800.0, 300.0, 700.0, 300.0, 900.0, 850.0, 500.0, 750.0, 650.0, 350.0, 500.0, 500.0, 300.0, 800.0, 400.0, 600.0, 400.0, 650.0, 100.0, 500.0, 800.0, 200.0, 1800.0, 500.0, 250.0, 1500.0, 300.0, 400.0, 150.0, 250.0, 400.0, 450.0, 450.0, 800.0, 450.0, 700.0, 600.0, 650.0, 400.0, 400.0, 300.0, 350.0, 800.0, 500.0, 250.0, 600.0, 400.0, 900.0, 400.0, 100.0, 250.0, 400.0, 150.0, 1300.0, 700.0, 800.0, 300.0, 450.0, 500.0, 500.0, 400.0, 700.0, 350.0, 500.0, 400.0, 600.0, 450.0, 400.0, 300.0, 400.0, 600.0, 800.0, 500.0, 700.0, 800.0, 250.0, 600.0, 500.0, 1100.0, 900.0, 200.0, 1400.0, 400.0, 400.0, 200.0, 500.0, 250.0, 550.0, 800.0, 500.0, 300.0, 550.0, 500.0, 400.0, 400.0, 500.0, 300.0, 800.0, 500.0, 500.0, 550.0, 400.0, 550.0, 600.0, 400.0, 1300.0, 400.0, 1200.0, 1200.0, 300.0, 400.0, 250.0, 600.0, 300.0, 800.0, 1000.0, 500.0, 1100.0, 250.0, 1200.0, 300.0, 1300.0, 600.0, 1000.0, 400.0, 450.0, 1200.0, 200.0, 600.0, 400.0, 700.0, 750.0, 800.0, 700.0, 600.0, 600.0, 400.0, 850.0, 300.0, 700.0, 1000.0, 400.0, 700.0, 400.0, 500.0, 600.0, 800.0, 600.0, 950.0, 1300.0, 700.0, 1200.0, 150.0, 600.0, 1000.0, 1500.0, 1500.0, 550.0, 1100.0, 500.0, 800.0, 600.0, 500.0, 500.0, 400.0, 800.0, 400.0, 950.0, 200.0, 350.0, 400.0, 400.0, 300.0, 300.0, 400.0, 500.0, 600.0, 400.0, 300.0, 400.0, 450.0, 200.0, 100.0, 300.0, 600.0, 350.0, 180.0, 500.0, 500.0, 400.0, 500.0, 350.0, 500.0, 100.0, 150.0, 400.0, 450.0, 350.0, 300.0, 1000.0, 500.0, 150.0, 500.0, 300.0, 400.0, 600.0, 650.0, 500.0, 500.0, 1200.0, 500.0, 800.0, 1000.0, 700.0, 1500.0, 1500.0, 1000.0, 1800.0, 600.0, 1200.0, 850.0, 1400.0, 1200.0, 1000.0, 550.0, 750.0, 1100.0, 800.0, 1200.0, 700.0, 900.0, 1000.0, 600.0, 750.0, 1200.0, 800.0, 800.0, 850.0, 700.0, 1200.0, 600.0, 800.0, 850.0, 200.0, 800.0, 750.0, 800.0, 950.0, 700.0, 1200.0, 600.0, 800.0, 900.0, 600.0, 650.0, 1000.0, 1000.0, 400.0, 550.0, 750.0, 400.0, 800.0, 500.0, 500.0, 800.0, 800.0, 600.0, 800.0, 1400.0, 700.0, 800.0, 900.0, 700.0, 750.0, 450.0, 300.0, 700.0, 650.0, 1300.0, 600.0, 500.0, 800.0, 500.0, 600.0, 700.0, 400.0, 500.0, 500.0, 550.0, 800.0, 1000.0, 450.0, 400.0, 250.0, 650.0, 550.0, 700.0, 800.0, 550.0, 800.0, 400.0, 400.0, 500.0, 700.0, 650.0, 1300.0, 550.0, 550.0, 750.0, 600.0, 700.0, 500.0, 750.0, 900.0, 1000.0, 250.0, 600.0, 300.0, 600.0, 450.0, 600.0, 450.0, 900.0, 500.0, 1000.0, 600.0, 500.0, 600.0, 400.0, 400.0, 450.0, 500.0, 400.0, 300.0, 250.0, 400.0, 500.0, 150.0, 400.0, 300.0, 400.0, 400.0, 500.0, 300.0, 400.0, 300.0, 350.0, 350.0, 400.0, 500.0, 400.0, 300.0, 150.0, 400.0, 600.0, 400.0, 500.0, 600.0, 400.0, 200.0, 400.0, 400.0, 300.0, 200.0, 500.0, 450.0, 500.0, 400.0, 450.0, 400.0, 400.0, 250.0, 250.0, 600.0, 300.0, 500.0, 400.0, 600.0, 200.0, 250.0, 300.0, 400.0, 400.0, 400.0, 400.0, 300.0, 300.0, 750.0, 300.0, 300.0, 700.0, 200.0, 400.0, 800.0, 200.0, 150.0, 350.0, 250.0, 500.0, 500.0, 300.0, 500.0, 400.0, 200.0, 400.0, 250.0, 1400.0, 1900.0, 1000.0, 1600.0, 1500.0, 600.0, 1500.0, 1000.0, 2000.0, 700.0, 750.0, 1200.0, 800.0, 550.0, 550.0, 900.0, 250.0, 550.0, 1200.0, 400.0, 1500.0, 450.0, 300.0, 500.0, 1900.0, 350.0, 300.0, 250.0, 600.0, 300.0, 350.0, 100.0, 450.0, 1000.0, 1000.0, 1500.0, 1500.0, 850.0, 1400.0, 1100.0, 900.0, 1900.0, 1000.0, 1200.0, 1500.0, 1000.0, 850.0, 1000.0, 1500.0, 1400.0, 1100.0, 900.0, 1200.0, 1200.0, 1400.0, 1300.0, 1400.0, 1900.0, 1500.0, 1200.0, 1500.0, 1000.0, 1200.0, 1800.0, 1600.0, 2100.0, 1200.0, 1700.0, 1400.0, 1100.0, 1300.0, 800.0, 1000.0, 1300.0, 750.0, 1600.0, 900.0, 1700.0, 1100.0, 1200.0, 1200.0, 400.0, 850.0, 1200.0, 1500.0, 1700.0, 1000.0, 1100.0, 3500.0, 3000.0, 2100.0, 2800.0, 2200.0, 3000.0, 1400.0, 1500.0, 3000.0, 1000.0, 900.0, 800.0, 600.0, 800.0, 900.0, 600.0, 1000.0, 600.0, 1300.0, 600.0, 200.0, 500.0, 550.0, 700.0, 800.0, 600.0, 900.0, 1000.0, 700.0, 400.0, 600.0, 800.0, 400.0, 700.0, 650.0, 500.0, 700.0, 450.0, 800.0, 500.0, 650.0, 800.0, 850.0, 800.0, 750.0, 500.0, 450.0, 500.0, 500.0, 700.0, 500.0, 1100.0, 900.0, 200.0, 500.0, 700.0, 600.0, 500.0, 600.0, 500.0, 1600.0, 500.0, 1700.0, 2500.0, 700.0, 700.0, 700.0, 500.0, 300.0, 300.0, 300.0, 200.0, 800.0, 500.0, 600.0, 300.0, 600.0, 400.0, 400.0, 450.0, 150.0, 400.0, 350.0, 350.0, 400.0, 500.0, 200.0, 400.0, 650.0, 500.0, 400.0, 300.0, 1000.0, 350.0, 150.0, 200.0, 800.0, 650.0, 800.0, 400.0, 800.0, 400.0, 850.0, 600.0, 300.0, 500.0, 500.0, 550.0, 250.0, 550.0, 750.0, 400.0, 800.0, 600.0, 250.0, 300.0, 150.0, 1000.0, 950.0, 250.0, 200.0, 600.0, 1200.0, 800.0, 650.0, 600.0, 800.0, 700.0, 500.0, 900.0, 700.0, 600.0, 500.0, 500.0, 450.0, 600.0, 1200.0, 300.0, 400.0, 750.0, 700.0, 600.0, 400.0, 1600.0, 600.0, 400.0, 1200.0, 650.0, 400.0, 500.0, 600.0, 300.0, 800.0, 150.0, 300.0, 1200.0, 800.0, 600.0, 900.0, 40.0, 300.0, 750.0, 400.0, 250.0, 500.0, 700.0, 650.0, 500.0, 350.0, 600.0, 750.0, 200.0, 600.0, 400.0, 1500.0, 450.0, 650.0, 100.0, 500.0, 500.0, 350.0, 800.0, 250.0, 500.0, 500.0, 1300.0, 850.0, 1400.0, 700.0, 800.0, 550.0, 600.0, 1000.0, 1100.0, 1200.0, 1500.0, 600.0, 500.0, 1000.0, 1200.0, 900.0, 1600.0, 500.0, 300.0, 300.0, 300.0, 500.0, 1800.0, 900.0, 250.0, 450.0, 700.0, 800.0, 850.0, 800.0, 450.0, 700.0, 550.0, 500.0, 600.0, 800.0, 200.0, 300.0, 1100.0, 450.0, 400.0, 350.0, 800.0, 500.0, 400.0, 750.0, 500.0, 900.0, 650.0, 400.0, 1100.0, 1600.0, 600.0, 900.0, 350.0, 800.0, 1300.0, 800.0, 300.0, 400.0, 400.0, 500.0, 800.0, 400.0, 550.0, 1500.0, 250.0, 150.0, 400.0, 600.0, 650.0, 750.0, 800.0, 1000.0, 1500.0, 450.0, 350.0, 700.0, 300.0, 500.0, 300.0, 2100.0, 1300.0, 180.0, 400.0, 200.0, 450.0, 300.0, 500.0, 400.0, 750.0, 700.0, 700.0, 800.0, 700.0, 1000.0, 200.0, 500.0, 300.0, 2000.0, 1000.0, 700.0, 1000.0, 700.0, 250.0, 200.0, 600.0, 950.0, 1000.0, 550.0, 400.0, 500.0, 650.0, 800.0, 1200.0, 2000.0, 250.0, 550.0, 250.0, 1400.0, 200.0, 900.0, 850.0, 1500.0, 700.0, 400.0, 700.0, 200.0, 1000.0, 1600.0, 1500.0, 2100.0, 350.0, 450.0, 1000.0, 300.0, 300.0, 1200.0, 300.0, 400.0, 550.0, 900.0, 150.0, 700.0, 800.0, 2000.0, 500.0, 350.0, 300.0, 800.0, 1400.0, 700.0, 450.0, 500.0, 1200.0, 700.0, 600.0, 350.0, 500.0, 800.0, 1200.0, 300.0, 500.0, 450.0, 600.0, 600.0, 600.0, 400.0, 400.0, 350.0, 800.0, 900.0, 200.0, 2000.0, 1700.0, 650.0, 450.0, 500.0, 500.0, 200.0, 400.0, 500.0, 700.0, 600.0, 500.0, 1500.0, 350.0, 300.0, 1000.0, 500.0, 650.0, 1400.0, 1400.0, 700.0, 200.0, 400.0, 700.0, 300.0, 400.0, 450.0, 300.0, 500.0, 750.0, 500.0, 450.0, 750.0, 1200.0, 200.0, 1800.0, 800.0, 200.0, 200.0, 400.0, 1000.0, 700.0, 400.0, 200.0, 1100.0, 1500.0, 800.0, 300.0, 650.0, 400.0, 400.0, 300.0, 350.0, 450.0, 600.0, 1000.0, 600.0, 1200.0, 400.0, 800.0, 300.0, 1000.0, 500.0, 1500.0, 400.0, 700.0, 150.0, 350.0, 1400.0, 600.0, 400.0, 500.0, 1900.0, 400.0, 500.0, 1700.0, 1400.0, 650.0, 450.0, 500.0, 600.0, 1600.0, 250.0, 300.0, 800.0, 1700.0, 500.0, 450.0, 400.0, 150.0, 500.0, 450.0, 700.0, 500.0, 250.0, 1100.0, 400.0, 150.0, 200.0, 500.0, 500.0, 500.0, 500.0, 850.0, 500.0, 1600.0, 600.0, 600.0, 200.0, 1200.0, 800.0, 400.0, 600.0, 800.0, 900.0, 400.0, 1000.0, 500.0, 550.0, 500.0, 150.0, 500.0, 800.0, 700.0, 300.0, 400.0, 800.0, 400.0, 300.0, 400.0, 300.0, 400.0, 300.0, 200.0, 800.0, 400.0, 400.0, 300.0, 300.0, 400.0, 800.0, 800.0, 500.0, 300.0, 500.0, 750.0, 150.0, 500.0, 450.0, 500.0, 400.0, 300.0, 400.0, 200.0, 1100.0, 200.0, 200.0, 200.0, 650.0, 300.0, 250.0, 500.0, 600.0, 400.0, 300.0, 500.0, 200.0, 250.0, 300.0, 200.0, 400.0, 450.0, 300.0, 2000.0, 700.0, 400.0, 800.0, 1200.0, 700.0, 200.0, 200.0, 2500.0, 1600.0, 1500.0, 1000.0, 800.0, 1500.0, 2000.0, 1400.0, 1800.0, 1200.0, 1200.0, 1500.0, 1500.0, 1600.0, 1200.0, 1300.0, 900.0, 2100.0, 2500.0, 1500.0, 1400.0, 1000.0, 1300.0, 800.0, 1300.0, 900.0, 1200.0, 1700.0, 800.0, 1500.0, 1400.0, 1400.0, 1100.0, 1100.0, 1600.0, 1000.0, 1200.0, 600.0, 800.0, 1000.0, 1500.0, 1000.0, 850.0, 1300.0, 1200.0, 600.0, 1200.0, 800.0, 750.0, 1500.0, 1000.0, 1000.0, 1300.0, 1500.0, 800.0, 1200.0, 1000.0, 600.0, 1200.0, 800.0, 200.0, 1000.0, 1200.0, 750.0, 1600.0, 1100.0, 500.0, 1500.0, 1200.0, 900.0, 1000.0, 800.0, 1500.0, 900.0, 1200.0, 1700.0, 650.0, 1400.0, 700.0, 1300.0, 1500.0, 1100.0, 900.0, 800.0, 800.0, 600.0, 900.0, 1000.0, 1100.0, 1500.0, 1100.0, 900.0, 1000.0, 700.0, 700.0, 500.0, 600.0, 1500.0, 800.0, 700.0, 650.0, 650.0, 500.0, 500.0, 950.0, 1400.0, 750.0, 800.0, 800.0, 400.0, 1200.0, 800.0, 450.0, 500.0, 1200.0, 500.0, 750.0, 1700.0, 850.0, 800.0, 1600.0, 500.0, 1800.0, 1200.0, 600.0, 800.0, 850.0, 800.0, 350.0, 800.0, 1500.0, 800.0, 650.0, 850.0, 700.0, 1000.0, 1100.0, 650.0, 450.0, 800.0, 250.0, 600.0, 650.0, 650.0, 550.0, 500.0, 1100.0, 500.0, 650.0, 700.0, 1200.0, 1500.0, 700.0, 400.0, 1100.0, 500.0, 600.0, 700.0, 650.0, 600.0, 600.0, 700.0, 650.0, 600.0, 450.0, 500.0, 1000.0, 700.0, 550.0, 600.0, 300.0, 500.0, 150.0, 450.0, 350.0, 300.0, 400.0, 600.0, 150.0, 800.0, 200.0, 300.0, 200.0, 600.0, 300.0, 300.0, 400.0, 500.0, 650.0, 800.0, 150.0, 200.0, 350.0, 350.0, 500.0, 200.0, 500.0, 200.0, 600.0, 40.0, 400.0, 500.0, 600.0, 500.0, 400.0, 200.0, 400.0, 350.0, 400.0, 700.0, 400.0, 200.0, 350.0, 250.0, 250.0, 400.0, 600.0, 200.0, 400.0, 200.0, 400.0, 500.0, 500.0, 350.0, 300.0, 300.0, 1600.0, 600.0, 1700.0, 1500.0, 750.0, 600.0, 600.0, 1800.0, 850.0, 1700.0, 750.0, 600.0, 1000.0, 800.0, 500.0, 500.0, 500.0, 700.0, 500.0, 550.0, 600.0, 600.0, 500.0, 1800.0, 1300.0, 400.0, 450.0, 700.0, 250.0, 1100.0, 600.0, 500.0, 500.0, 500.0, 450.0, 300.0, 150.0, 400.0, 350.0, 150.0, 300.0, 250.0, 200.0, 150.0, 450.0, 350.0, 450.0, 300.0, 250.0, 200.0, 450.0, 500.0, 500.0, 150.0, 500.0, 350.0, 450.0, 300.0, 250.0, 350.0, 400.0, 200.0, 400.0, 500.0, 600.0, 1800.0, 2800.0, 3500.0, 3000.0, 2100.0, 2800.0, 4000.0, 1000.0, 1000.0, 1700.0, 2200.0, 2500.0, 3000.0, 1000.0, 1400.0, 1000.0, 2500.0, 3500.0, 2000.0, 550.0, 600.0, 3000.0, 2400.0, 1500.0, 6000.0, 3000.0, 2800.0, 1200.0, 1000.0, 1500.0, 1800.0, 3000.0, 2000.0, 700.0, 2000.0, 700.0, 450.0, 400.0, 150.0, 3000.0, 2500.0, 3000.0, 250.0, 3000.0, 400.0, 550.0, 150.0, 1200.0, 3000.0, 400.0, 1400.0, 2400.0, 700.0, 1900.0, 1000.0, 450.0, 500.0, 500.0, 400.0, 300.0, 700.0, 2500.0, 800.0, 1300.0, 1500.0, 1400.0, 1500.0, 2000.0, 1500.0, 2100.0, 1400.0, 1300.0, 1300.0, 1400.0, 1000.0, 1500.0, 1500.0, 1400.0, 1200.0, 1100.0, 1000.0, 1200.0, 1400.0, 1300.0, 1500.0, 1100.0, 1500.0, 1400.0, 750.0, 1700.0, 1600.0, 1800.0, 1500.0, 1000.0, 1200.0, 1000.0, 1600.0, 1700.0, 1300.0, 1800.0, 1000.0, 1000.0, 1800.0, 2400.0, 1500.0, 2800.0, 3000.0, 3000.0, 3000.0, 1200.0, 1400.0, 2400.0, 1400.0, 1300.0, 1000.0, 2000.0, 1200.0, 1500.0, 1500.0, 2500.0, 1400.0, 1300.0, 1300.0, 1400.0, 1100.0, 1500.0, 1500.0, 800.0, 1200.0, 1100.0, 1000.0, 1200.0, 1300.0, 1500.0, 1100.0, 900.0, 1500.0, 1400.0, 750.0, 1700.0, 1000.0, 1200.0, 1000.0, 1700.0, 1700.0, 1300.0, 1800.0, 1000.0, 1000.0, 1400.0, 1000.0, 1800.0, 1500.0, 1200.0, 1800.0, 3000.0, 1200.0, 1400.0, 1100.0, 1000.0, 950.0, 1000.0, 1500.0, 750.0, 600.0, 550.0, 1350.0, 1200.0, 1600.0, 900.0, 1600.0, 1200.0, 1000.0, 800.0, 1100.0, 1000.0, 800.0, 600.0, 800.0, 900.0, 1000.0, 950.0, 800.0, 800.0, 800.0, 800.0, 500.0, 400.0, 800.0, 800.0, 850.0, 700.0, 800.0, 400.0, 650.0, 700.0, 750.0, 400.0, 300.0, 150.0, 400.0, 650.0, 550.0, 650.0, 400.0, 450.0, 400.0, 600.0, 600.0, 600.0, 1000.0, 600.0, 600.0, 500.0, 600.0, 600.0, 650.0, 400.0, 550.0, 400.0, 700.0, 500.0, 600.0, 700.0, 600.0, 650.0, 600.0, 400.0, 500.0, 500.0, 700.0, 500.0, 500.0, 250.0, 300.0, 200.0, 300.0, 400.0, 400.0, 450.0, 900.0, 400.0, 450.0, 400.0, 400.0, 150.0, 500.0, 300.0, 500.0, 150.0, 800.0, 600.0, 600.0, 200.0, 500.0, 550.0, 250.0, 300.0, 400.0, 400.0, 200.0, 300.0, 500.0, 200.0, 450.0, 600.0, 800.0, 250.0, 500.0, 400.0, 400.0, 200.0, 400.0, 250.0, 300.0, 700.0, 400.0, 400.0, 200.0, 600.0, 600.0, 800.0, 600.0, 500.0, 300.0, 400.0, 700.0, 150.0, 550.0, 150.0, 300.0, 100.0, 300.0, 800.0, 300.0, 300.0, 350.0, 400.0, 400.0, 500.0, 800.0, 750.0, 600.0, 500.0, 350.0, 400.0, 300.0, 400.0, 700.0, 500.0, 100.0, 200.0, 600.0, 500.0, 450.0, 250.0, 800.0, 300.0, 300.0, 750.0, 650.0, 200.0, 800.0, 1000.0, 300.0, 250.0, 500.0, 500.0, 300.0, 600.0, 350.0, 650.0, 600.0, 200.0, 650.0, 400.0, 1200.0, 300.0, 700.0, 200.0, 250.0, 400.0, 400.0, 300.0, 400.0, 1000.0, 100.0, 600.0, 800.0, 1000.0, 400.0, 1200.0, 600.0, 500.0, 800.0, 500.0, 400.0, 200.0, 500.0, 600.0, 900.0, 400.0, 450.0, 650.0, 400.0, 450.0, 800.0, 600.0, 200.0, 400.0, 300.0, 1600.0, 500.0, 400.0, 650.0, 800.0, 500.0, 600.0, 300.0, 600.0, 500.0, 800.0, 800.0, 250.0, 500.0, 1500.0, 800.0, 350.0, 300.0, 1600.0, 400.0, 500.0, 600.0, 250.0, 500.0, 250.0, 300.0, 400.0, 400.0, 200.0, 600.0, 250.0, 200.0, 500.0, 350.0, 800.0, 300.0, 1200.0, 1200.0, 450.0, 300.0, 600.0, 800.0, 500.0, 400.0, 400.0, 400.0, 600.0, 1000.0, 600.0, 700.0, 600.0, 600.0, 400.0, 350.0, 450.0, 200.0, 500.0, 200.0, 1000.0, 600.0, 500.0, 500.0, 800.0, 900.0, 400.0, 150.0, 400.0, 500.0, 800.0, 800.0, 200.0, 750.0, 500.0, 450.0, 700.0, 230.0, 600.0, 650.0, 1500.0, 1500.0, 200.0, 700.0, 800.0, 500.0, 500.0, 200.0, 500.0, 300.0, 250.0, 1600.0, 200.0, 600.0, 700.0, 300.0, 300.0, 450.0, 200.0, 300.0, 200.0, 900.0, 400.0, 600.0, 450.0, 1100.0, 500.0, 400.0, 300.0, 1000.0, 700.0, 300.0, 600.0, 400.0, 150.0, 500.0, 1200.0, 200.0, 1200.0, 300.0, 400.0, 200.0, 750.0, 650.0, 300.0, 550.0, 400.0, 800.0, 650.0, 600.0, 700.0, 500.0, 1200.0, 600.0, 700.0, 800.0, 600.0, 700.0, 300.0, 500.0, 800.0, 150.0, 250.0, 250.0, 100.0, 1200.0, 200.0, 500.0, 900.0, 350.0, 100.0, 1200.0, 800.0, 1500.0, 300.0, 300.0, 500.0, 350.0, 500.0, 250.0, 600.0, 450.0, 400.0, 1500.0, 500.0, 300.0, 800.0, 1000.0, 500.0, 750.0, 200.0, 200.0, 800.0, 1300.0, 700.0, 300.0, 1500.0, 400.0, 200.0, 600.0, 1000.0, 400.0, 600.0, 450.0, 450.0, 1100.0, 300.0, 500.0, 300.0, 700.0, 1000.0, 400.0, 400.0, 650.0, 800.0, 500.0, 400.0, 400.0, 600.0, 1300.0, 300.0, 700.0, 600.0, 300.0, 300.0, 400.0, 600.0, 800.0, 650.0, 650.0, 600.0, 1200.0, 300.0, 200.0, 800.0, 500.0, 500.0, 750.0, 1000.0, 1100.0, 400.0, 400.0, 200.0, 800.0, 300.0, 600.0, 650.0, 600.0, 100.0, 400.0, 300.0, 400.0, 800.0, 450.0, 400.0, 900.0, 400.0, 350.0, 400.0, 1200.0, 1100.0, 600.0, 800.0, 400.0, 600.0, 750.0, 400.0, 700.0, 250.0, 350.0, 400.0, 400.0, 700.0, 400.0, 500.0, 750.0, 800.0, 400.0, 300.0, 600.0, 950.0, 550.0, 900.0, 400.0, 1400.0, 500.0, 300.0, 750.0, 700.0, 300.0, 550.0, 450.0, 300.0, 1000.0, 700.0, 600.0, 900.0, 600.0, 600.0, 500.0, 600.0, 1000.0, 500.0, 600.0, 300.0, 600.0, 1500.0, 650.0, 250.0, 1100.0, 750.0, 400.0, 600.0, 800.0, 500.0, 600.0, 150.0, 700.0, 1500.0, 300.0, 750.0, 750.0, 600.0, 500.0, 800.0, 500.0, 150.0, 700.0, 1000.0, 1200.0, 350.0, 600.0, 150.0, 350.0, 400.0, 800.0, 800.0, 350.0, 300.0, 400.0, 1000.0, 400.0, 550.0, 600.0, 300.0, 700.0, 900.0, 600.0, 800.0, 850.0, 100.0, 400.0, 700.0, 600.0, 300.0, 550.0, 400.0, 700.0, 1500.0, 1400.0, 800.0, 1350.0, 800.0, 1200.0, 1350.0, 550.0, 650.0, 750.0, 800.0, 600.0, 600.0, 400.0, 1100.0, 1300.0, 900.0, 250.0, 500.0, 900.0, 700.0, 150.0, 700.0, 1500.0, 400.0, 300.0, 800.0, 1300.0, 700.0, 900.0, 1000.0, 1000.0, 300.0, 300.0, 1000.0, 500.0, 600.0, 1000.0, 800.0, 450.0, 800.0, 400.0, 600.0, 600.0, 650.0, 550.0, 1200.0, 600.0, 1200.0, 800.0, 550.0, 700.0, 450.0, 900.0, 500.0, 300.0, 500.0, 500.0, 450.0, 550.0, 550.0, 600.0, 600.0, 450.0, 1000.0, 600.0, 1000.0, 1300.0, 600.0, 200.0, 300.0, 550.0, 900.0, 100.0, 700.0, 200.0, 350.0, 400.0, 600.0, 600.0, 650.0, 1200.0, 800.0, 650.0, 1200.0, 800.0, 300.0, 400.0, 200.0, 600.0, 800.0, 800.0, 450.0, 200.0, 650.0, 700.0, 350.0, 250.0, 600.0, 650.0, 200.0, 300.0, 300.0, 150.0, 450.0, 400.0, 600.0, 650.0, 500.0, 900.0, 400.0, 350.0, 500.0, 400.0, 750.0, 400.0, 800.0, 400.0, 800.0, 200.0, 200.0, 200.0, 400.0, 500.0, 800.0, 400.0, 250.0, 400.0, 400.0, 400.0, 200.0, 600.0, 400.0, 350.0, 500.0, 700.0, 400.0, 400.0, 300.0, 400.0, 300.0, 150.0, 300.0, 250.0, 300.0, 200.0, 400.0, 400.0, 400.0, 400.0, 300.0, 700.0, 600.0, 150.0, 600.0, 500.0, 150.0, 500.0, 150.0, 500.0, 600.0, 400.0, 400.0, 230.0, 550.0, 400.0, 100.0, 400.0, 700.0, 500.0, 500.0, 700.0, 200.0, 400.0, 250.0, 600.0, 300.0, 200.0, 200.0, 800.0, 500.0, 400.0, 300.0, 800.0, 1100.0, 700.0, 1000.0, 600.0, 1200.0, 950.0, 800.0, 1000.0, 1500.0, 800.0, 650.0, 350.0, 800.0, 800.0, 1000.0, 1700.0, 700.0, 1000.0, 500.0, 1500.0, 400.0, 750.0, 550.0, 900.0, 600.0, 750.0, 1200.0, 800.0, 800.0, 800.0, 600.0, 650.0, 1200.0, 1200.0, 250.0, 600.0, 850.0, 700.0, 1000.0, 800.0, 400.0, 1000.0, 900.0, 600.0, 800.0, 800.0, 500.0, 700.0, 350.0, 900.0, 700.0, 750.0, 400.0, 800.0, 600.0, 450.0, 800.0, 400.0, 550.0, 750.0, 1350.0, 600.0, 450.0, 750.0, 750.0, 1000.0, 400.0, 900.0, 500.0, 300.0, 550.0, 550.0, 700.0, 600.0, 500.0, 400.0, 100.0, 1350.0, 650.0, 400.0, 1200.0, 650.0, 450.0, 700.0, 300.0, 800.0, 900.0, 850.0, 400.0, 400.0, 200.0, 200.0, 500.0, 1200.0, 400.0, 150.0, 200.0, 100.0, 400.0, 600.0, 400.0, 200.0, 500.0, 600.0, 400.0, 100.0, 400.0, 500.0, 200.0, 200.0, 400.0, 300.0, 400.0, 200.0, 400.0, 250.0, 300.0, 200.0, 400.0, 150.0, 250.0, 500.0, 350.0, 200.0, 350.0, 650.0, 300.0, 600.0, 400.0, 550.0, 1500.0, 1600.0, 1600.0, 1200.0, 1600.0, 1200.0, 1500.0, 1500.0, 1300.0, 800.0, 600.0, 1000.0, 800.0, 800.0, 1200.0, 800.0, 600.0, 1000.0, 800.0, 800.0, 1000.0, 800.0, 1000.0, 800.0, 1200.0, 1100.0, 1500.0, 800.0, 900.0, 600.0, 600.0, 600.0, 1000.0, 700.0, 700.0, 800.0, 300.0, 1300.0, 1300.0, 600.0, 1000.0, 1000.0, 800.0, 600.0, 500.0, 500.0, 600.0, 500.0, 300.0, 650.0, 1100.0, 750.0, 150.0, 400.0, 300.0, 650.0, 650.0, 400.0, 300.0, 650.0, 200.0, 1000.0, 550.0, 600.0, 250.0, 450.0, 800.0, 900.0, 900.0, 400.0, 400.0, 350.0, 1000.0, 850.0, 300.0, 100.0, 500.0, 500.0, 700.0, 650.0, 750.0, 400.0, 1100.0, 400.0, 300.0, 600.0, 300.0, 600.0, 450.0, 450.0, 500.0, 150.0, 150.0, 700.0, 400.0, 1100.0, 250.0, 200.0, 600.0, 600.0, 700.0, 400.0, 500.0, 400.0, 500.0, 600.0, 600.0, 400.0, 650.0, 600.0, 400.0, 950.0, 400.0, 300.0, 300.0, 400.0, 500.0, 600.0, 600.0, 100.0, 300.0, 300.0, 350.0, 650.0, 300.0, 200.0, 400.0, 500.0, 250.0, 650.0, 600.0, 600.0, 400.0, 600.0, 600.0, 350.0, 300.0, 300.0, 150.0, 200.0, 550.0, 400.0, 450.0, 450.0, 250.0, 300.0, 800.0, 500.0, 600.0, 300.0, 800.0, 400.0, 300.0, 300.0, 300.0, 300.0, 300.0, 150.0, 450.0, 400.0, 400.0, 200.0, 400.0, 650.0, 500.0, 500.0, 400.0, 500.0, 300.0, 700.0, 250.0, 250.0, 500.0, 1000.0, 1300.0, 1200.0, 1500.0, 1200.0, 1350.0, 1000.0, 1500.0, 1500.0, 900.0, 1600.0, 1200.0, 1100.0, 1200.0, 1100.0, 1500.0, 1000.0, 1300.0, 1100.0, 1100.0, 800.0, 1100.0, 1600.0, 1200.0, 1000.0, 800.0, 1000.0, 600.0, 1000.0, 800.0, 900.0, 1000.0, 950.0, 900.0, 1000.0, 1600.0, 1000.0, 1100.0, 600.0, 1200.0, 1350.0, 800.0, 600.0, 600.0, 1000.0, 600.0, 600.0, 700.0, 800.0, 550.0, 650.0, 600.0, 400.0, 600.0, 450.0, 550.0, 700.0, 400.0, 500.0, 500.0, 400.0, 500.0, 600.0, 800.0, 500.0, 850.0, 500.0, 650.0, 500.0, 300.0, 400.0, 750.0, 400.0, 550.0, 650.0, 600.0, 400.0, 400.0, 700.0, 500.0, 250.0, 300.0, 450.0, 600.0, 900.0, 800.0, 400.0, 300.0, 500.0, 400.0, 500.0, 400.0, 200.0, 200.0, 400.0, 600.0, 300.0, 700.0, 400.0, 250.0, 400.0, 600.0, 250.0, 300.0, 400.0, 450.0, 300.0, 250.0, 300.0, 200.0, 400.0, 350.0, 800.0, 250.0, 200.0, 300.0, 150.0, 400.0, 600.0, 350.0, 300.0, 600.0, 300.0, 550.0, 100.0, 750.0, 300.0, 300.0, 500.0, 200.0, 300.0, 700.0, 500.0, 400.0, 400.0, 400.0, 650.0, 800.0, 300.0, 500.0, 400.0, 500.0, 600.0, 750.0, 800.0, 400.0, 250.0, 350.0, 600.0, 500.0, 200.0, 400.0, 200.0, 300.0, 250.0, 600.0, 500.0, 250.0, 1000.0, 500.0, 700.0, 600.0, 1200.0, 300.0, 400.0, 400.0, 650.0, 700.0, 400.0, 400.0, 200.0, 400.0, 600.0, 400.0, 400.0, 100.0, 750.0, 400.0, 250.0, 1200.0, 1000.0, 900.0, 400.0, 600.0, 800.0, 900.0, 400.0, 400.0, 450.0, 400.0, 700.0, 300.0, 650.0, 350.0, 300.0, 400.0, 300.0, 800.0, 600.0, 300.0, 500.0, 300.0, 300.0, 500.0, 700.0, 400.0, 500.0, 1600.0, 600.0, 500.0, 600.0, 200.0, 250.0, 1500.0, 500.0, 300.0, 600.0, 400.0, 400.0, 350.0, 500.0, 1200.0, 650.0, 600.0, 500.0, 400.0, 500.0, 600.0, 350.0, 1200.0, 200.0, 200.0, 500.0, 450.0, 600.0, 400.0, 800.0, 400.0, 600.0, 750.0, 1000.0, 800.0, 450.0, 500.0, 400.0, 450.0, 250.0, 250.0, 700.0, 750.0, 230.0, 500.0, 100.0, 250.0, 500.0, 750.0, 300.0, 250.0, 300.0, 600.0, 300.0, 400.0, 600.0, 400.0, 1100.0, 700.0, 1200.0, 1200.0, 750.0, 400.0, 500.0, 1000.0, 800.0, 600.0, 200.0, 800.0, 200.0, 600.0, 700.0, 800.0, 100.0, 150.0, 500.0, 450.0, 300.0, 600.0, 400.0, 1000.0, 200.0, 350.0, 600.0, 700.0, 500.0, 400.0, 250.0, 400.0, 800.0, 500.0, 250.0, 1500.0, 400.0, 500.0, 300.0, 700.0, 500.0, 1300.0, 300.0, 300.0, 300.0, 300.0, 450.0, 650.0, 800.0, 400.0, 800.0, 500.0, 600.0, 1200.0, 300.0, 650.0, 400.0, 400.0, 800.0, 700.0, 1100.0, 400.0, 400.0, 650.0, 900.0, 1200.0, 650.0, 300.0, 650.0, 800.0, 350.0, 300.0, 400.0, 1300.0, 400.0, 1200.0, 700.0, 350.0, 650.0, 800.0, 1100.0, 550.0, 400.0, 500.0, 750.0, 400.0, 900.0, 300.0, 700.0, 450.0, 650.0, 500.0, 300.0, 1200.0, 400.0, 400.0, 300.0, 1000.0, 200.0, 200.0, 400.0, 500.0, 200.0, 800.0, 750.0, 500.0, 900.0, 300.0, 700.0, 700.0, 500.0, 600.0, 350.0, 150.0, 800.0, 750.0, 1000.0, 500.0, 600.0, 800.0, 600.0, 600.0, 800.0, 700.0, 250.0, 700.0, 400.0, 800.0, 350.0, 600.0, 1700.0, 300.0, 400.0, 600.0, 400.0, 700.0, 500.0, 200.0, 700.0, 600.0, 600.0, 1000.0, 450.0, 650.0, 600.0, 600.0, 550.0, 900.0, 300.0, 300.0, 500.0, 400.0, 1200.0, 450.0, 650.0, 800.0, 800.0, 400.0, 600.0, 1100.0, 750.0, 500.0, 800.0, 500.0, 600.0, 150.0, 700.0, 100.0, 500.0, 900.0, 1000.0, 800.0, 400.0, 1000.0, 1700.0, 1000.0, 800.0, 550.0, 500.0, 600.0, 1200.0, 600.0, 600.0, 450.0, 350.0, 800.0, 550.0, 500.0, 650.0, 800.0, 450.0, 1350.0, 1000.0, 600.0, 550.0, 500.0, 600.0, 1000.0, 300.0, 550.0, 600.0, 450.0, 650.0, 500.0, 600.0, 1350.0, 300.0, 500.0, 200.0, 800.0, 500.0, 400.0, 200.0, 500.0, 450.0, 400.0, 550.0, 300.0, 750.0, 900.0, 250.0, 400.0, 500.0, 500.0, 900.0, 700.0, 600.0, 500.0, 300.0, 400.0, 600.0, 500.0, 400.0, 500.0, 400.0, 550.0, 200.0, 200.0, 200.0, 250.0, 600.0, 500.0, 500.0, 400.0, 600.0, 250.0, 800.0, 400.0, 100.0, 500.0, 300.0, 400.0, 200.0, 400.0, 400.0, 400.0, 800.0, 400.0, 500.0, 400.0, 600.0, 300.0, 400.0, 700.0, 150.0, 300.0, 500.0, 400.0, 300.0, 250.0, 200.0, 400.0, 400.0, 300.0, 230.0, 300.0, 1200.0, 1500.0, 1200.0, 1600.0, 1200.0, 1600.0, 1000.0, 1500.0, 1300.0, 1200.0, 1200.0, 800.0, 1300.0, 800.0, 1000.0, 800.0, 1500.0, 800.0, 600.0, 750.0, 1200.0, 700.0, 800.0, 1100.0, 900.0, 800.0, 550.0, 1300.0, 1100.0, 600.0, 1000.0, 800.0, 1200.0, 1300.0, 1100.0, 600.0, 1000.0, 600.0, 750.0, 1000.0, 1000.0, 800.0, 500.0, 600.0, 750.0, 700.0, 700.0, 600.0, 300.0, 400.0, 700.0, 700.0, 500.0, 350.0, 500.0, 950.0, 400.0, 450.0, 300.0, 800.0, 650.0, 450.0, 400.0, 650.0, 900.0, 550.0, 600.0, 850.0, 600.0, 500.0, 400.0, 400.0, 1000.0, 400.0, 600.0, 1100.0, 650.0, 1000.0, 500.0, 450.0, 950.0, 600.0, 650.0, 500.0, 700.0, 550.0, 750.0, 450.0, 400.0, 750.0, 750.0, 500.0, 800.0, 650.0, 800.0, 600.0, 700.0, 750.0, 300.0, 500.0, 500.0, 300.0, 300.0, 400.0, 700.0, 300.0, 400.0, 300.0, 400.0, 100.0, 450.0, 500.0, 500.0, 400.0, 400.0, 500.0, 200.0, 500.0, 450.0, 100.0, 250.0, 400.0, 250.0, 200.0, 400.0, 600.0, 300.0, 300.0, 200.0, 600.0, 350.0, 200.0, 150.0, 300.0, 800.0, 300.0, 200.0, 400.0, 300.0, 900.0, 1200.0, 1500.0, 1200.0, 1000.0, 800.0, 1000.0, 1000.0, 550.0, 800.0, 1000.0, 800.0, 800.0, 500.0, 600.0, 400.0, 500.0, 500.0, 600.0, 500.0, 450.0, 1000.0, 600.0, 650.0, 600.0, 800.0, 800.0, 750.0, 250.0, 400.0, 400.0, 250.0, 350.0, 600.0, 400.0, 600.0, 600.0, 1100.0, 400.0, 300.0, 300.0, 250.0, 1600.0, 450.0, 1100.0, 800.0, 1000.0, 1100.0, 1000.0, 800.0, 800.0, 500.0, 800.0, 650.0, 1000.0, 1700.0, 250.0, 1200.0, 550.0, 800.0, 850.0, 600.0, 600.0, 350.0, 500.0, 500.0, 600.0, 900.0, 400.0, 500.0, 500.0, 650.0, 600.0, 700.0, 550.0, 400.0, 1350.0, 1200.0, 500.0, 300.0, 250.0, 750.0, 300.0, 400.0, 750.0, 1000.0, 200.0, 100.0, 300.0, 400.0, 700.0, 500.0, 200.0, 300.0, 400.0, 150.0, 500.0, 450.0, 700.0, 300.0, 300.0, 500.0, 600.0, 200.0, 400.0, 500.0, 500.0, 500.0, 400.0, 400.0, 800.0, 300.0, 350.0, 300.0, 200.0, 500.0, 400.0, 550.0, 550.0, 650.0, 600.0, 400.0, 500.0, 400.0, 350.0, 250.0, 450.0, 550.0, 250.0, 300.0, 300.0, 300.0, 1350.0, 900.0, 400.0, 400.0, 400.0, 300.0, 700.0, 650.0, 250.0, 1000.0, 1300.0, 1500.0, 1200.0, 1600.0, 1200.0, 1500.0, 1200.0, 1200.0, 1300.0, 1100.0, 1100.0, 1000.0, 1100.0, 900.0, 1200.0, 1100.0, 1350.0, 1400.0, 1400.0, 1600.0, 800.0, 600.0, 750.0, 1500.0, 800.0, 1000.0, 1400.0, 750.0, 800.0, 900.0, 1200.0, 700.0, 700.0, 500.0, 700.0, 600.0, 700.0, 900.0, 700.0, 500.0, 650.0, 650.0, 350.0, 600.0, 700.0, 800.0, 1000.0, 800.0, 650.0, 500.0, 500.0, 500.0, 550.0, 500.0, 400.0, 450.0, 350.0, 300.0, 400.0, 800.0, 400.0, 800.0, 600.0, 400.0, 300.0, 350.0, 450.0, 600.0, 200.0, 300.0, 300.0, 400.0, 600.0, 600.0, 650.0, 100.0, 400.0, 450.0, 600.0, 300.0, 500.0, 400.0, 500.0, 750.0, 650.0, 400.0, 400.0, 450.0, 400.0, 300.0, 600.0, 500.0, 600.0, 550.0, 400.0, 500.0, 700.0, 1500.0, 600.0, 550.0, 300.0, 500.0, 500.0, 450.0, 700.0, 500.0, 700.0, 600.0, 600.0, 500.0, 400.0, 150.0, 600.0, 400.0, 500.0, 400.0, 400.0, 800.0, 1300.0, 750.0, 400.0, 250.0, 900.0, 1400.0, 500.0, 450.0, 500.0, 400.0, 450.0, 300.0, 800.0, 500.0, 500.0, 650.0, 400.0, 450.0, 500.0, 1200.0, 600.0, 650.0, 500.0, 200.0, 350.0, 1200.0, 400.0, 500.0, 350.0, 800.0, 300.0, 400.0, 400.0, 700.0, 500.0, 600.0, 1050.0, 500.0, 750.0, 600.0, 800.0, 750.0, 500.0, 600.0, 1400.0, 200.0, 800.0, 400.0, 400.0, 900.0, 300.0, 700.0, 1500.0, 300.0, 700.0, 550.0, 300.0, 500.0, 650.0, 800.0, 300.0, 750.0, 500.0, 500.0, 350.0, 400.0, 1000.0, 400.0, 600.0, 600.0, 400.0, 600.0, 750.0, 1400.0, 250.0, 250.0, 800.0, 150.0, 800.0, 250.0, 1100.0, 200.0, 550.0, 500.0, 600.0, 900.0, 450.0, 400.0, 700.0, 500.0, 750.0, 600.0, 750.0, 700.0, 150.0, 700.0, 750.0, 500.0, 300.0, 550.0, 500.0, 300.0, 1400.0, 800.0, 800.0, 650.0, 750.0, 1200.0, 600.0, 1800.0, 700.0, 500.0, 400.0, 600.0, 400.0, 900.0, 400.0, 700.0, 1100.0, 550.0, 650.0, 1000.0, 1500.0, 500.0, 1000.0, 600.0, 1000.0, 700.0, 400.0, 600.0, 350.0, 500.0, 700.0, 1000.0, 500.0, 600.0, 500.0, 800.0, 1400.0, 700.0, 800.0, 500.0, 1300.0, 650.0, 600.0, 400.0, 1500.0, 450.0, 400.0, 650.0, 1000.0, 550.0, 800.0, 500.0, 700.0, 600.0, 800.0, 1000.0, 600.0, 300.0, 600.0, 800.0, 450.0, 600.0, 450.0, 300.0, 1200.0, 500.0, 250.0, 300.0, 650.0, 600.0, 700.0, 350.0, 500.0, 250.0, 300.0, 300.0, 400.0, 300.0, 1200.0, 250.0, 700.0, 250.0, 400.0, 700.0, 400.0, 300.0, 200.0, 400.0, 500.0, 500.0, 600.0, 700.0, 500.0, 300.0, 300.0, 600.0, 650.0, 1000.0, 400.0, 400.0, 800.0, 350.0, 400.0, 300.0, 150.0, 500.0, 650.0, 450.0, 150.0, 1400.0, 1800.0, 1200.0, 1400.0, 1400.0, 1400.0, 1600.0, 900.0, 1100.0, 800.0, 800.0, 600.0, 800.0, 1200.0, 800.0, 750.0, 1000.0, 700.0, 800.0, 1400.0, 1300.0, 1500.0, 700.0, 600.0, 750.0, 750.0, 1500.0, 1300.0, 650.0, 1400.0, 800.0, 1200.0, 600.0, 600.0, 800.0, 1100.0, 700.0, 500.0, 700.0, 1200.0, 900.0, 1000.0, 1300.0, 700.0, 600.0, 700.0, 500.0, 600.0, 1000.0, 400.0, 600.0, 400.0, 800.0, 600.0, 900.0, 600.0, 700.0, 800.0, 400.0, 500.0, 750.0, 650.0, 500.0, 650.0, 500.0, 750.0, 800.0, 700.0, 600.0, 600.0, 1000.0, 350.0, 500.0, 750.0, 700.0, 250.0, 500.0, 500.0, 350.0, 400.0, 400.0, 250.0, 300.0, 500.0, 300.0, 600.0, 450.0, 300.0, 200.0, 500.0, 650.0, 350.0, 200.0, 150.0, 200.0, 400.0, 600.0, 800.0, 600.0, 1500.0, 450.0, 800.0, 1200.0, 1500.0, 600.0, 600.0, 1400.0, 800.0, 700.0, 300.0, 450.0, 650.0, 550.0, 400.0, 650.0, 800.0, 1400.0, 700.0, 750.0, 700.0, 650.0, 750.0, 600.0, 1000.0, 800.0, 600.0, 700.0, 700.0, 500.0, 700.0, 550.0, 450.0, 300.0, 400.0, 400.0, 600.0, 250.0, 300.0, 600.0, 450.0, 500.0, 350.0, 300.0, 450.0, 500.0, 550.0, 400.0, 300.0, 250.0, 300.0, 550.0, 400.0, 300.0, 500.0, 450.0, 350.0, 750.0, 450.0, 650.0, 1100.0, 700.0, 1000.0, 600.0, 500.0, 500.0, 300.0, 300.0, 600.0, 1050.0, 200.0, 250.0, 600.0, 500.0, 600.0, 600.0, 500.0, 200.0, 600.0, 400.0, 400.0, 1200.0, 500.0, 400.0, 250.0, 600.0, 550.0, 500.0, 500.0, 300.0, 300.0, 400.0, 400.0, 400.0, 1400.0, 1800.0, 1400.0, 1200.0, 1300.0, 1500.0, 1200.0, 1200.0, 1300.0, 1500.0, 500.0, 1100.0, 1200.0, 800.0, 600.0, 800.0, 1000.0, 800.0, 900.0, 1200.0, 700.0, 700.0, 500.0, 700.0, 700.0, 500.0, 600.0, 700.0, 500.0, 900.0, 700.0, 500.0, 650.0, 450.0, 550.0, 350.0, 650.0, 700.0, 500.0, 400.0, 450.0, 350.0, 350.0, 600.0, 500.0, 400.0, 300.0, 750.0, 300.0, 250.0, 400.0, 600.0, 300.0, 800.0, 800.0, 450.0, 300.0, 400.0, 400.0, 500.0, 650.0, 500.0, 400.0, 600.0, 300.0, 400.0, 450.0, 300.0, 750.0, 100.0, 600.0, 200.0, 600.0, 300.0, 400.0, 400.0, 450.0, 400.0, 400.0, 400.0, 500.0, 750.0, 650.0, 750.0, 500.0, 400.0, 700.0, 300.0, 1500.0, 1400.0, 500.0, 400.0, 150.0, 350.0, 700.0, 700.0, 500.0, 450.0, 400.0, 700.0, 500.0, 600.0, 200.0, 400.0, 600.0, 800.0, 450.0, 500.0, 500.0, 400.0, 600.0, 300.0, 600.0, 500.0, 600.0, 1300.0, 300.0, 800.0, 150.0, 650.0, 400.0, 250.0, 650.0, 750.0, 500.0, 600.0, 1200.0, 650.0, 500.0, 550.0, 300.0, 450.0, 600.0, 400.0, 1400.0, 350.0, 600.0, 700.0, 400.0, 1400.0, 700.0, 700.0, 500.0, 450.0, 1000.0, 500.0, 400.0, 550.0, 500.0, 200.0, 600.0, 800.0, 750.0, 400.0, 450.0, 400.0, 650.0, 1000.0, 800.0, 700.0, 500.0, 500.0, 300.0, 600.0, 500.0, 300.0, 400.0, 1300.0, 300.0, 600.0, 700.0, 450.0, 200.0, 750.0, 650.0, 500.0, 1500.0, 500.0, 350.0, 450.0, 500.0, 750.0, 800.0, 600.0, 300.0, 400.0, 400.0, 900.0, 900.0, 450.0, 600.0, 1000.0, 150.0, 1000.0, 550.0, 600.0, 750.0, 500.0, 350.0, 600.0, 500.0, 550.0, 800.0, 600.0, 300.0, 400.0, 800.0, 600.0, 250.0, 400.0, 600.0, 700.0, 350.0, 800.0, 600.0, 450.0, 500.0, 500.0, 250.0, 600.0, 300.0, 1100.0, 500.0, 500.0, 700.0, 550.0, 250.0, 400.0, 700.0, 800.0, 500.0, 600.0, 600.0, 500.0, 400.0, 900.0, 500.0, 800.0, 1050.0, 650.0, 700.0, 400.0, 750.0, 1500.0, 400.0, 1000.0, 400.0, 400.0, 600.0, 800.0, 700.0, 700.0, 800.0, 450.0, 1200.0, 1100.0, 800.0, 300.0, 500.0, 800.0, 1400.0, 850.0, 800.0, 300.0, 1400.0, 500.0, 500.0, 400.0, 550.0, 1000.0, 200.0, 1200.0, 300.0, 600.0, 200.0, 1800.0, 800.0, 900.0, 1200.0, 750.0, 500.0, 600.0, 500.0, 200.0, 500.0, 700.0, 400.0, 100.0, 350.0, 300.0, 650.0, 700.0, 300.0, 600.0, 400.0, 650.0, 1000.0, 300.0, 250.0, 700.0, 1200.0, 800.0, 400.0, 350.0, 400.0, 150.0, 400.0, 700.0, 400.0, 400.0, 300.0, 200.0, 400.0, 500.0, 500.0, 600.0, 700.0, 400.0, 450.0, 300.0, 500.0, 300.0, 300.0, 300.0, 150.0, 600.0, 650.0, 1000.0, 650.0, 500.0, 100.0, 500.0, 600.0, 800.0, 600.0, 1500.0, 450.0, 800.0, 1200.0, 600.0, 800.0, 1400.0, 300.0, 450.0, 650.0, 550.0, 400.0, 800.0, 550.0, 1400.0, 700.0, 750.0, 700.0, 750.0, 800.0, 600.0, 700.0, 700.0, 500.0, 700.0, 600.0, 550.0, 450.0, 300.0, 250.0, 400.0, 400.0, 600.0, 250.0, 300.0, 450.0, 600.0, 500.0, 350.0, 450.0, 500.0, 600.0, 400.0, 300.0, 300.0, 550.0, 400.0, 300.0, 500.0, 450.0, 1400.0, 1400.0, 1800.0, 2000.0, 1600.0, 900.0, 1100.0, 800.0, 800.0, 800.0, 1200.0, 800.0, 1200.0, 350.0, 800.0, 750.0, 1000.0, 700.0, 400.0, 800.0, 1400.0, 1400.0, 750.0, 1500.0, 1300.0, 700.0, 600.0, 450.0, 750.0, 750.0, 1500.0, 1500.0, 600.0, 1300.0, 200.0, 650.0, 700.0, 1400.0, 800.0, 1100.0, 1200.0, 700.0, 1000.0, 600.0, 600.0, 800.0, 800.0, 1100.0, 650.0, 700.0, 500.0, 600.0, 700.0, 1200.0, 500.0, 900.0, 650.0, 500.0, 1000.0, 1300.0, 600.0, 600.0, 600.0, 500.0, 600.0, 1000.0, 600.0, 400.0, 600.0, 800.0, 500.0, 600.0, 900.0, 600.0, 700.0, 1050.0, 800.0, 1300.0, 400.0, 500.0, 600.0, 600.0, 600.0, 750.0, 500.0, 600.0, 650.0, 1200.0, 500.0, 400.0, 500.0, 450.0, 650.0, 500.0, 750.0, 800.0, 600.0, 700.0, 500.0, 550.0, 600.0, 1000.0, 350.0, 500.0, 750.0, 700.0, 250.0, 500.0, 300.0, 500.0, 400.0, 200.0, 250.0, 400.0, 250.0, 200.0, 300.0, 500.0, 450.0, 300.0, 300.0, 500.0, 200.0, 600.0, 300.0, 400.0, 450.0, 300.0, 200.0, 400.0, 250.0, 500.0, 650.0, 500.0, 500.0, 400.0, 300.0, 200.0, 300.0, 400.0, 150.0, 400.0, 400.0, 500.0, 300.0, 700.0, 400.0, 1400.0, 1800.0, 2000.0, 500.0, 1200.0, 1500.0, 1300.0, 1500.0, 1100.0, 1200.0, 1200.0, 1300.0, 1200.0, 1300.0, 1500.0, 1400.0, 600.0, 1000.0, 1700.0, 1500.0, 2000.0, 1200.0, 1000.0, 1500.0, 1600.0, 1500.0, 1300.0, 1500.0, 1500.0, 2000.0, 1500.0, 750.0, 900.0, 1100.0, 1100.0, 600.0, 1000.0, 1400.0, 700.0, 800.0, 2000.0, 1000.0, 900.0, 1000.0, 3000.0, 1000.0, 1200.0, 1500.0, 800.0, 400.0, 600.0, 800.0, 1100.0, 1000.0, 800.0, 600.0, 600.0, 800.0, 600.0, 850.0, 700.0, 700.0, 700.0, 650.0, 650.0, 500.0, 300.0, 450.0, 900.0, 800.0, 1300.0, 500.0, 400.0, 600.0, 600.0, 600.0, 900.0, 500.0, 1000.0, 600.0, 900.0, 800.0, 800.0, 900.0, 1000.0, 800.0, 700.0, 550.0, 700.0, 600.0, 800.0, 700.0, 800.0, 300.0, 700.0, 900.0, 600.0, 1200.0, 600.0, 650.0, 800.0, 200.0, 1200.0, 900.0, 650.0, 700.0, 600.0, 700.0, 450.0, 350.0, 500.0, 400.0, 800.0, 600.0, 600.0, 600.0, 600.0, 600.0, 800.0, 500.0, 450.0, 600.0, 250.0, 700.0, 600.0, 1600.0, 750.0, 900.0, 700.0, 800.0, 450.0, 600.0, 600.0, 500.0, 500.0, 300.0, 250.0, 800.0, 450.0, 400.0, 900.0, 500.0, 800.0, 100.0, 600.0, 800.0, 200.0, 400.0, 450.0, 500.0, 300.0, 250.0, 400.0, 500.0, 500.0, 200.0, 600.0, 200.0, 650.0, 600.0, 400.0, 250.0, 150.0, 600.0, 300.0, 400.0, 400.0, 300.0, 400.0, 250.0, 250.0, 300.0, 550.0, 400.0, 300.0, 600.0, 400.0, 750.0, 250.0, 450.0, 600.0, 400.0, 500.0, 600.0, 400.0, 700.0, 400.0, 150.0, 750.0, 300.0, 250.0, 400.0, 350.0, 300.0, 400.0, 400.0, 650.0, 300.0, 800.0, 600.0, 200.0, 550.0, 500.0, 500.0, 400.0, 300.0, 450.0, 650.0, 300.0, 400.0, 150.0, 800.0, 500.0, 500.0, 150.0, 200.0, 750.0, 250.0, 350.0, 500.0, 350.0, 600.0, 500.0, 600.0, 200.0, 650.0, 300.0, 300.0, 300.0, 500.0, 800.0, 500.0, 300.0, 100.0, 750.0, 600.0, 500.0, 300.0, 300.0, 300.0, 500.0, 600.0, 800.0, 400.0, 400.0, 250.0, 200.0, 300.0, 300.0, 700.0, 700.0, 1000.0, 400.0, 400.0, 500.0, 450.0, 300.0, 400.0, 700.0, 400.0, 450.0, 550.0, 400.0, 600.0, 600.0, 600.0, 400.0, 400.0, 300.0, 600.0, 450.0, 300.0, 450.0, 300.0, 400.0, 650.0, 400.0, 300.0, 1000.0, 450.0, 600.0, 200.0, 700.0, 300.0, 600.0, 800.0, 600.0, 400.0, 800.0, 400.0, 1200.0, 700.0, 800.0, 500.0, 200.0, 500.0, 500.0, 1200.0, 750.0, 400.0, 350.0, 300.0, 550.0, 750.0, 300.0, 800.0, 250.0, 1500.0, 500.0, 400.0, 350.0, 250.0, 400.0, 400.0, 600.0, 200.0, 600.0, 800.0, 1000.0, 600.0, 650.0, 600.0, 1000.0, 250.0, 750.0, 400.0, 400.0, 600.0, 150.0, 800.0, 350.0, 600.0, 600.0, 500.0, 600.0, 800.0, 300.0, 450.0, 500.0, 450.0, 600.0, 400.0, 400.0, 450.0, 1000.0, 600.0, 900.0, 1200.0, 300.0, 800.0, 750.0, 400.0, 550.0, 550.0, 200.0, 300.0, 600.0, 600.0, 750.0, 500.0, 500.0, 600.0, 400.0, 400.0, 350.0, 500.0, 600.0, 450.0, 400.0, 400.0, 250.0, 800.0, 300.0, 1300.0, 150.0, 500.0, 600.0, 900.0, 500.0, 200.0, 500.0, 1500.0, 300.0, 500.0, 200.0, 500.0, 500.0, 230.0, 400.0, 500.0, 300.0, 250.0, 1500.0, 300.0, 750.0, 300.0, 200.0, 700.0, 900.0, 400.0, 1600.0, 300.0, 900.0, 500.0, 200.0, 500.0, 500.0, 600.0, 1200.0, 300.0, 600.0, 400.0, 500.0, 700.0, 150.0, 300.0, 1000.0, 700.0, 200.0, 700.0, 180.0, 450.0, 400.0, 40.0, 200.0, 200.0, 600.0, 700.0, 600.0, 650.0, 650.0, 700.0, 1000.0, 300.0, 600.0, 200.0, 550.0, 1800.0, 250.0, 800.0, 950.0, 850.0, 750.0, 250.0, 900.0, 650.0, 1000.0, 1500.0, 1500.0, 300.0, 500.0, 600.0, 300.0, 250.0, 1000.0, 1400.0, 400.0, 1200.0, 800.0, 600.0, 1200.0, 700.0, 1400.0, 300.0, 1000.0, 500.0, 700.0, 250.0, 750.0, 800.0, 350.0, 800.0, 400.0, 500.0, 200.0, 300.0, 400.0, 300.0, 650.0, 1500.0, 350.0, 700.0, 1300.0, 1500.0, 500.0, 700.0, 500.0, 500.0, 800.0, 650.0, 300.0, 600.0, 1000.0, 500.0, 300.0, 350.0, 850.0, 300.0, 1300.0, 500.0, 700.0, 600.0, 600.0, 1100.0, 450.0, 600.0, 600.0, 600.0, 600.0, 700.0, 600.0, 250.0, 700.0, 800.0, 600.0, 400.0, 400.0, 700.0, 450.0, 1200.0, 500.0, 150.0, 1000.0, 900.0, 600.0, 800.0, 500.0, 800.0, 700.0, 350.0, 1000.0, 1400.0, 400.0, 700.0, 800.0, 400.0, 1100.0, 350.0, 250.0, 400.0, 400.0, 900.0, 650.0, 250.0, 400.0, 400.0, 200.0, 500.0, 700.0, 600.0, 500.0, 1000.0, 200.0, 1500.0, 900.0, 1200.0, 450.0, 450.0, 600.0, 400.0, 450.0, 400.0, 300.0, 750.0, 400.0, 600.0, 250.0, 600.0, 1200.0, 800.0, 600.0, 400.0, 500.0, 500.0, 400.0, 600.0, 750.0, 500.0, 600.0, 400.0, 1200.0, 400.0, 400.0, 700.0, 300.0, 600.0, 1000.0, 550.0, 800.0, 400.0, 350.0, 350.0, 1500.0, 600.0, 1000.0, 400.0, 400.0, 400.0, 450.0, 800.0, 800.0, 500.0, 1200.0, 650.0, 500.0, 750.0, 900.0, 300.0, 600.0, 600.0, 1000.0, 900.0, 300.0, 700.0, 1000.0, 800.0, 300.0, 900.0, 250.0, 600.0, 250.0, 1000.0, 600.0, 600.0, 550.0, 900.0, 600.0, 1500.0, 300.0, 800.0, 350.0, 250.0, 650.0, 500.0, 800.0, 1400.0, 450.0, 700.0, 750.0, 600.0, 700.0, 400.0, 400.0, 400.0, 800.0, 450.0, 1300.0, 400.0, 800.0, 350.0, 700.0, 1300.0, 700.0, 550.0, 500.0, 500.0, 500.0, 1100.0, 300.0, 500.0, 800.0, 600.0, 900.0, 2500.0, 500.0, 400.0, 1700.0, 350.0, 700.0, 150.0, 300.0, 600.0, 400.0, 900.0, 400.0, 400.0, 500.0, 600.0, 450.0, 350.0, 800.0, 650.0, 1100.0, 150.0, 500.0, 300.0, 500.0, 450.0, 600.0, 800.0, 400.0, 600.0, 600.0, 500.0, 400.0, 300.0, 700.0, 600.0, 800.0, 300.0, 1100.0, 200.0, 1300.0, 500.0, 1000.0, 1200.0, 1000.0, 800.0, 600.0, 650.0, 1000.0, 1600.0, 2000.0, 1400.0, 900.0, 600.0, 400.0, 800.0, 1300.0, 600.0, 200.0, 1400.0, 400.0, 500.0, 350.0, 800.0, 900.0, 700.0, 400.0, 650.0, 150.0, 650.0, 1200.0, 300.0, 200.0, 350.0, 200.0, 200.0, 400.0, 500.0, 250.0, 200.0, 150.0, 500.0, 250.0, 350.0, 150.0, 1000.0, 1100.0, 200.0, 400.0, 500.0, 600.0, 550.0, 500.0, 300.0, 200.0, 400.0, 650.0, 300.0, 800.0, 350.0, 500.0, 250.0, 900.0, 200.0, 350.0, 800.0, 900.0, 400.0, 500.0, 550.0, 1500.0, 700.0, 450.0, 450.0, 2000.0, 350.0, 1300.0, 600.0, 500.0, 600.0, 600.0, 400.0, 500.0, 800.0, 1100.0, 550.0, 1100.0, 400.0, 400.0, 400.0, 450.0, 650.0, 500.0, 300.0, 400.0, 500.0, 650.0, 200.0, 400.0, 900.0, 400.0, 400.0, 250.0, 400.0, 1200.0, 500.0, 350.0, 200.0, 250.0, 500.0, 700.0, 200.0, 400.0, 500.0, 300.0, 700.0, 800.0, 150.0, 350.0, 200.0, 200.0, 400.0, 500.0, 200.0, 400.0, 250.0, 400.0, 500.0, 600.0, 450.0, 500.0, 150.0, 200.0, 350.0, 250.0, 500.0, 200.0, 300.0, 400.0, 300.0, 400.0, 500.0, 800.0, 200.0, 400.0, 400.0, 200.0, 350.0, 500.0, 150.0, 350.0, 1000.0, 1200.0, 2100.0, 600.0, 1800.0, 600.0, 1400.0, 1200.0, 800.0, 1200.0, 1400.0, 1300.0, 1300.0, 600.0, 1000.0, 800.0, 850.0, 650.0, 1500.0, 750.0, 800.0, 800.0, 700.0, 1700.0, 750.0, 1000.0, 700.0, 750.0, 700.0, 1500.0, 800.0, 1200.0, 600.0, 650.0, 1500.0, 650.0, 500.0, 450.0, 1300.0, 1000.0, 250.0, 250.0, 800.0, 450.0, 600.0, 450.0, 400.0, 500.0, 400.0, 400.0, 400.0, 600.0, 600.0, 400.0, 1400.0, 900.0, 2000.0, 1500.0, 2000.0, 1000.0, 1100.0, 1500.0, 1200.0, 1300.0, 1400.0, 900.0, 1300.0, 1600.0, 1600.0, 700.0, 750.0, 800.0, 1000.0, 1000.0, 1500.0, 1600.0, 1500.0, 1500.0, 1200.0, 1800.0, 600.0, 1300.0, 600.0, 1500.0, 1400.0, 1300.0, 1500.0, 1000.0, 600.0, 1500.0, 1200.0, 800.0, 500.0, 1000.0, 1000.0, 1400.0, 400.0, 600.0, 1400.0, 1200.0, 1400.0, 600.0, 2500.0, 650.0, 2000.0, 1100.0, 1500.0, 600.0, 900.0, 750.0, 1200.0, 1000.0, 500.0, 1000.0, 1000.0, 900.0, 600.0, 1200.0, 1500.0, 800.0, 600.0, 1200.0, 800.0, 800.0, 800.0, 900.0, 1000.0, 1000.0, 750.0, 700.0, 550.0, 1100.0, 550.0, 900.0, 1100.0, 700.0, 500.0, 1100.0, 650.0, 650.0, 600.0, 600.0, 1200.0, 600.0, 800.0, 1000.0, 500.0, 700.0, 650.0, 750.0, 1200.0, 800.0, 800.0, 850.0, 800.0, 1400.0, 1000.0, 700.0, 700.0, 900.0, 600.0, 650.0, 600.0, 750.0, 1200.0, 800.0, 600.0, 900.0, 650.0, 1500.0, 800.0, 1000.0, 750.0, 1000.0, 800.0, 500.0, 500.0, 800.0, 200.0, 1100.0, 1000.0, 750.0, 1200.0, 650.0, 700.0, 600.0, 1400.0, 1400.0, 700.0, 1300.0, 750.0, 500.0, 800.0, 700.0, 650.0, 700.0, 1200.0, 600.0, 750.0, 650.0, 1700.0, 2000.0, 700.0, 600.0, 450.0, 150.0, 250.0, 1000.0, 700.0, 350.0, 800.0, 500.0, 900.0, 250.0, 800.0, 550.0, 600.0, 600.0, 500.0, 800.0, 1000.0, 500.0, 1300.0, 250.0, 600.0, 1000.0, 600.0, 600.0, 750.0, 600.0, 600.0, 500.0, 600.0, 500.0, 400.0, 800.0, 600.0, 1000.0, 250.0, 500.0, 500.0, 800.0, 700.0, 450.0, 800.0, 700.0, 650.0, 600.0, 400.0, 1500.0, 600.0, 500.0, 800.0, 500.0, 350.0, 500.0, 900.0, 700.0, 700.0, 500.0, 750.0, 1200.0, 600.0, 600.0, 400.0, 600.0, 400.0, 500.0, 400.0, 200.0, 350.0, 350.0, 550.0, 300.0, 450.0, 250.0, 400.0, 300.0, 400.0, 200.0, 200.0, 450.0, 250.0, 500.0, 600.0, 500.0, 200.0, 400.0, 600.0, 500.0, 450.0, 300.0, 250.0, 300.0, 250.0, 200.0, 900.0, 250.0, 300.0, 400.0, 600.0, 500.0, 500.0, 400.0, 300.0, 500.0, 400.0, 300.0, 200.0, 500.0, 200.0, 400.0, 300.0, 200.0, 500.0, 350.0, 400.0, 300.0, 300.0, 200.0, 200.0, 600.0, 600.0, 500.0, 600.0, 500.0, 300.0, 200.0, 250.0, 400.0, 300.0, 400.0, 300.0, 600.0, 400.0, 350.0, 300.0, 300.0, 500.0, 550.0, 200.0, 150.0, 450.0, 300.0, 300.0, 400.0, 450.0, 550.0, 300.0, 200.0, 400.0, 350.0, 300.0, 250.0, 400.0, 250.0, 200.0, 800.0, 100.0, 1200.0, 850.0, 800.0, 1200.0, 1600.0, 3000.0, 1000.0, 750.0, 1200.0, 1200.0, 900.0, 1700.0, 1250.0, 700.0, 800.0, 800.0, 800.0, 600.0, 1500.0, 800.0, 550.0, 650.0, 300.0, 700.0, 1800.0, 600.0, 900.0, 2000.0, 800.0, 800.0, 800.0, 800.0, 450.0, 1300.0, 700.0, 150.0, 400.0, 700.0, 600.0, 1000.0, 200.0, 900.0, 3000.0, 600.0, 550.0, 650.0, 1000.0, 450.0, 400.0, 350.0, 300.0, 600.0, 150.0, 1200.0, 550.0, 350.0, 800.0, 500.0, 400.0, 400.0, 400.0, 900.0, 800.0, 200.0, 500.0, 600.0, 500.0, 600.0, 600.0, 300.0, 1800.0, 1000.0, 500.0, 600.0, 350.0, 600.0, 350.0, 500.0, 300.0, 400.0, 300.0, 1000.0, 1100.0, 300.0, 600.0, 500.0, 250.0, 300.0, 400.0, 650.0, 350.0, 300.0, 500.0, 250.0, 400.0, 400.0, 600.0, 300.0, 700.0, 1400.0, 1200.0, 1200.0, 1800.0, 1200.0, 1400.0, 1300.0, 1500.0, 1200.0, 1500.0, 1300.0, 2000.0, 1500.0, 2000.0, 1000.0, 1100.0, 1600.0, 2100.0, 1600.0, 1000.0, 1000.0, 1500.0, 1800.0, 1400.0, 1000.0, 1200.0, 1000.0, 1200.0, 1400.0, 2000.0, 1200.0, 1200.0, 1000.0, 1400.0, 1000.0, 1500.0, 1000.0, 1400.0, 1400.0, 1300.0, 1200.0, 1700.0, 1300.0, 1500.0, 1200.0, 1200.0, 850.0, 1600.0, 1200.0, 1700.0, 1400.0, 1200.0, 1300.0, 2000.0, 1500.0, 1300.0, 1500.0, 750.0, 1100.0, 1400.0, 700.0, 1000.0, 1000.0, 600.0, 1600.0, 1500.0, 1500.0, 1500.0, 2000.0, 1500.0, 1000.0, 900.0, 1100.0, 600.0, 1700.0, 1500.0, 1000.0, 800.0, 2000.0, 1000.0, 900.0, 1300.0, 800.0, 900.0, 800.0, 1300.0, 600.0, 600.0, 900.0, 500.0, 900.0, 800.0, 800.0, 900.0, 800.0, 600.0, 800.0, 300.0, 1200.0, 650.0, 1200.0, 450.0, 800.0, 600.0, 300.0, 600.0, 800.0, 650.0, 700.0, 600.0, 600.0, 800.0, 500.0, 400.0, 600.0, 1000.0, 600.0, 600.0, 1000.0, 850.0, 1000.0, 700.0, 500.0, 450.0, 800.0, 800.0, 250.0, 300.0, 200.0, 450.0, 400.0, 900.0, 500.0, 250.0, 400.0, 800.0, 400.0, 600.0, 400.0, 500.0, 600.0, 300.0, 600.0, 400.0, 650.0, 500.0, 250.0, 450.0, 300.0, 250.0, 200.0, 450.0, 400.0, 500.0, 300.0, 300.0, 650.0, 150.0, 400.0, 400.0, 200.0, 250.0, 150.0, 250.0, 250.0, 550.0, 400.0, 600.0, 400.0, 400.0, 300.0, 600.0, 400.0, 750.0, 600.0, 300.0, 300.0, 350.0, 400.0, 900.0, 600.0, 700.0, 600.0, 400.0, 400.0, 600.0, 650.0, 250.0, 400.0, 250.0, 150.0, 800.0, 650.0, 300.0, 500.0, 300.0, 400.0, 500.0, 800.0, 300.0, 500.0, 750.0, 300.0, 500.0, 800.0, 600.0, 500.0, 600.0, 400.0, 350.0, 400.0, 650.0, 300.0, 550.0, 500.0, 450.0, 300.0, 600.0, 150.0, 750.0, 300.0, 500.0, 500.0, 650.0, 400.0, 750.0, 200.0, 600.0, 200.0, 600.0, 500.0, 400.0, 200.0, 450.0, 250.0, 400.0, 700.0, 400.0, 600.0, 800.0, 250.0, 400.0, 450.0, 400.0, 800.0, 300.0, 700.0, 100.0, 600.0, 650.0, 600.0, 600.0, 400.0, 600.0, 400.0, 450.0, 400.0, 550.0, 700.0, 500.0, 400.0, 300.0, 400.0, 800.0, 200.0, 600.0, 300.0, 500.0, 500.0, 600.0, 1500.0, 300.0, 550.0, 350.0, 800.0, 600.0, 200.0, 600.0, 600.0, 500.0, 600.0, 1000.0, 600.0, 300.0, 300.0, 200.0, 800.0, 400.0, 1000.0, 450.0, 300.0, 800.0, 400.0, 650.0, 400.0, 300.0, 750.0, 300.0, 600.0, 400.0, 300.0, 300.0, 1200.0, 250.0, 500.0, 300.0, 400.0, 250.0, 400.0, 800.0, 450.0, 800.0, 600.0, 500.0, 600.0, 300.0, 300.0, 250.0, 450.0, 350.0, 500.0, 1200.0, 1300.0, 800.0, 600.0, 500.0, 1000.0, 400.0, 750.0, 300.0, 450.0, 550.0, 900.0, 200.0, 500.0, 1500.0, 400.0, 600.0, 400.0, 600.0, 400.0, 300.0, 450.0, 1200.0, 500.0, 700.0, 200.0, 700.0, 200.0, 1000.0, 1000.0, 300.0, 600.0, 400.0, 600.0, 600.0, 500.0, 300.0, 600.0, 700.0, 500.0, 1000.0, 500.0, 600.0, 350.0, 500.0, 650.0, 700.0, 350.0, 400.0, 400.0, 800.0, 400.0, 600.0, 800.0, 700.0, 800.0, 600.0, 800.0, 1300.0, 700.0, 500.0, 250.0, 1000.0, 1000.0, 500.0, 300.0, 500.0, 400.0, 300.0, 200.0, 750.0, 700.0, 750.0, 600.0, 300.0, 400.0, 900.0, 1400.0, 500.0, 600.0, 200.0, 1000.0, 500.0, 1300.0, 600.0, 450.0, 300.0, 40.0, 900.0, 300.0, 500.0, 650.0, 1200.0, 150.0, 250.0, 1000.0, 450.0, 900.0, 1000.0, 500.0, 600.0, 1000.0, 650.0, 800.0, 600.0, 600.0, 500.0, 300.0, 400.0, 700.0, 450.0, 450.0, 800.0, 700.0, 400.0, 500.0, 500.0, 700.0, 300.0, 200.0, 1000.0, 200.0, 200.0, 300.0, 400.0, 700.0, 1000.0, 500.0, 600.0, 1000.0, 600.0, 900.0, 500.0, 500.0, 350.0, 230.0, 1500.0, 500.0, 1200.0, 1200.0, 1100.0, 650.0, 900.0, 900.0, 250.0, 700.0, 650.0, 2500.0, 300.0, 1500.0, 200.0, 1000.0, 500.0, 1000.0, 450.0, 500.0, 500.0, 400.0, 1300.0, 400.0, 750.0, 800.0, 300.0, 500.0, 1000.0, 700.0, 800.0, 300.0, 400.0, 1100.0, 300.0, 300.0, 700.0, 900.0, 550.0, 600.0, 500.0, 400.0, 400.0, 800.0, 150.0, 300.0, 350.0, 700.0, 650.0, 700.0, 1600.0, 600.0, 1500.0, 400.0, 1500.0, 750.0, 250.0, 400.0, 650.0, 150.0, 750.0, 750.0, 200.0, 250.0, 750.0, 250.0, 1400.0, 900.0, 1200.0, 200.0, 300.0, 600.0, 800.0, 700.0, 600.0, 450.0, 400.0, 900.0, 600.0, 300.0, 1500.0, 500.0, 750.0, 1000.0, 1200.0, 600.0, 400.0, 1000.0, 1000.0, 400.0, 350.0, 350.0, 900.0, 650.0, 1500.0, 600.0, 400.0, 900.0, 1500.0, 600.0, 1200.0, 400.0, 1100.0, 300.0, 1500.0, 400.0, 800.0, 1000.0, 250.0, 600.0, 250.0, 700.0, 450.0, 700.0, 500.0, 150.0, 500.0, 700.0, 400.0, 500.0, 650.0, 600.0, 800.0, 1300.0, 300.0, 300.0, 700.0, 900.0, 1100.0, 250.0, 200.0, 750.0, 750.0, 500.0, 550.0, 1700.0, 500.0, 200.0, 350.0, 800.0, 1400.0, 300.0, 400.0, 150.0, 350.0, 350.0, 1200.0, 1000.0, 400.0, 150.0, 1200.0, 400.0, 900.0, 600.0, 600.0, 500.0, 400.0, 1400.0, 1000.0, 250.0, 300.0, 600.0, 600.0, 250.0, 400.0, 400.0, 1200.0, 400.0, 700.0, 300.0, 350.0, 1100.0, 600.0, 200.0, 500.0, 650.0, 400.0, 500.0, 400.0, 400.0, 500.0, 400.0, 600.0, 600.0, 600.0, 800.0, 800.0, 500.0, 200.0, 350.0, 400.0, 300.0, 500.0, 600.0, 800.0, 650.0, 300.0, 150.0, 450.0, 300.0, 400.0, 200.0, 300.0, 600.0, 400.0, 600.0, 300.0, 500.0, 700.0, 400.0, 800.0, 300.0, 500.0, 800.0, 500.0, 700.0, 200.0, 700.0, 600.0, 1300.0, 500.0, 400.0, 300.0, 550.0, 250.0, 600.0, 350.0, 1400.0, 2000.0, 1100.0, 550.0, 700.0, 600.0, 800.0, 850.0, 650.0, 700.0, 800.0, 800.0, 650.0, 300.0, 200.0, 350.0, 800.0, 600.0, 200.0, 500.0, 500.0, 200.0, 400.0, 500.0, 250.0, 400.0, 200.0, 700.0, 600.0, 450.0, 250.0, 150.0, 500.0, 350.0, 400.0, 600.0, 550.0, 1000.0, 400.0, 400.0, 400.0, 500.0, 600.0, 550.0, 500.0, 300.0, 200.0, 200.0, 650.0, 300.0, 250.0, 800.0, 500.0, 500.0, 200.0, 800.0, 350.0, 900.0, 400.0, 450.0, 1500.0, 200.0, 900.0, 500.0, 400.0, 1300.0, 600.0, 500.0, 400.0, 800.0, 400.0, 400.0, 400.0, 450.0, 500.0, 300.0, 400.0, 650.0, 400.0, 250.0, 400.0, 1200.0, 500.0, 350.0, 500.0, 200.0, 400.0, 350.0, 400.0, 200.0, 200.0, 400.0, 400.0, 200.0, 350.0, 250.0, 200.0, 400.0, 800.0, 2000.0, 600.0, 800.0, 600.0, 500.0, 600.0, 400.0, 550.0, 1100.0, 500.0, 1100.0, 650.0, 450.0, 500.0, 200.0, 300.0, 400.0, 400.0, 900.0, 200.0, 300.0, 300.0, 250.0, 700.0, 500.0, 300.0, 700.0, 800.0, 150.0, 300.0, 500.0, 200.0, 400.0, 250.0, 400.0, 500.0, 600.0, 450.0, 500.0, 150.0, 500.0, 600.0, 450.0, 300.0, 300.0, 400.0, 500.0, 450.0, 200.0, 250.0, 200.0, 700.0, 700.0, 500.0, 400.0, 1200.0, 1300.0, 1200.0, 1400.0, 900.0, 2000.0, 1000.0, 1500.0, 1300.0, 1400.0, 1300.0, 900.0, 2100.0, 1600.0, 700.0, 750.0, 800.0, 1000.0, 1500.0, 1500.0, 1500.0, 1800.0, 1300.0, 600.0, 1400.0, 1000.0, 600.0, 1200.0, 800.0, 1400.0, 600.0, 1400.0, 600.0, 650.0, 900.0, 750.0, 1200.0, 500.0, 1000.0, 900.0, 1200.0, 1500.0, 800.0, 800.0, 1200.0, 600.0, 800.0, 900.0, 800.0, 750.0, 550.0, 1100.0, 650.0, 600.0, 600.0, 500.0, 750.0, 1200.0, 800.0, 850.0, 800.0, 1000.0, 700.0, 600.0, 750.0, 1200.0, 800.0, 650.0, 1500.0, 1000.0, 800.0, 500.0, 500.0, 800.0, 1200.0, 700.0, 1400.0, 700.0, 750.0, 1300.0, 750.0, 700.0, 450.0, 150.0, 350.0, 800.0, 550.0, 800.0, 1000.0, 600.0, 600.0, 500.0, 600.0, 800.0, 600.0, 1000.0, 500.0, 600.0, 650.0, 500.0, 900.0, 700.0, 500.0, 400.0, 200.0, 350.0, 400.0, 200.0, 500.0, 600.0, 200.0, 600.0, 750.0, 500.0, 250.0, 500.0, 300.0, 250.0, 600.0, 200.0, 300.0, 300.0, 450.0, 250.0, 800.0, 2000.0, 1500.0, 1100.0, 600.0, 1600.0, 1800.0, 1200.0, 1000.0, 600.0, 1600.0, 1200.0, 600.0, 1400.0, 1500.0, 1000.0, 1200.0, 800.0, 1500.0, 1200.0, 1500.0, 1400.0, 500.0, 1000.0, 400.0, 1200.0, 1400.0, 1300.0, 2500.0, 2000.0, 1100.0, 1500.0, 600.0, 1300.0, 1000.0, 1000.0, 600.0, 1000.0, 600.0, 800.0, 850.0, 1000.0, 650.0, 1000.0, 700.0, 1500.0, 550.0, 750.0, 800.0, 1100.0, 900.0, 700.0, 800.0, 500.0, 700.0, 650.0, 1100.0, 600.0, 1200.0, 800.0, 1000.0, 700.0, 650.0, 800.0, 1700.0, 1400.0, 750.0, 1000.0, 900.0, 900.0, 650.0, 600.0, 600.0, 700.0, 750.0, 700.0, 900.0, 1500.0, 800.0, 1000.0, 800.0, 200.0, 1200.0, 1100.0, 1000.0, 750.0, 600.0, 650.0, 600.0, 1400.0, 500.0, 500.0, 800.0, 650.0, 650.0, 700.0, 1200.0, 750.0, 600.0, 650.0, 1700.0, 2000.0, 700.0, 600.0, 250.0, 1000.0, 1500.0, 700.0, 500.0, 900.0, 250.0, 600.0, 600.0, 800.0, 500.0, 1000.0, 500.0, 500.0, 1300.0, 250.0, 600.0, 600.0, 750.0, 600.0, 450.0, 1300.0, 500.0, 400.0, 1000.0, 500.0, 250.0, 250.0, 800.0, 800.0, 700.0, 450.0, 800.0, 700.0, 650.0, 400.0, 1500.0, 600.0, 500.0, 800.0, 500.0, 350.0, 700.0, 500.0, 1200.0, 600.0, 450.0, 600.0, 400.0, 600.0, 400.0, 350.0, 550.0, 600.0, 300.0, 450.0, 250.0, 400.0, 300.0, 450.0, 200.0, 450.0, 250.0, 500.0, 400.0, 450.0, 300.0, 250.0, 500.0, 300.0, 200.0, 400.0, 900.0, 300.0, 400.0, 250.0, 600.0, 500.0, 400.0, 500.0, 400.0, 400.0, 300.0, 200.0, 500.0, 200.0, 400.0, 300.0, 200.0, 500.0, 300.0, 350.0, 400.0, 300.0, 300.0, 400.0, 200.0, 600.0, 500.0, 600.0, 500.0, 200.0, 400.0, 400.0, 300.0, 300.0, 400.0, 600.0, 350.0, 300.0, 600.0, 500.0, 550.0, 200.0, 150.0, 600.0, 300.0, 300.0, 400.0, 450.0, 550.0, 300.0, 200.0, 350.0, 300.0, 400.0, 400.0, 250.0, 200.0, 100.0, 1300.0, 800.0, 900.0, 900.0, 800.0, 800.0, 300.0, 700.0, 1100.0, 650.0, 900.0, 800.0, 800.0, 1300.0, 400.0, 600.0, 400.0, 500.0, 800.0, 600.0, 1000.0, 200.0, 500.0, 600.0, 900.0, 1000.0, 400.0, 350.0, 700.0, 150.0, 700.0, 900.0, 800.0, 600.0, 300.0, 200.0, 600.0, 400.0, 500.0, 600.0, 300.0, 200.0, 500.0, 600.0, 250.0, 200.0, 350.0, 500.0, 300.0, 400.0, 300.0, 1000.0, 300.0, 600.0, 500.0, 600.0, 250.0, 300.0, 550.0, 350.0, 400.0, 400.0, 650.0, 300.0, 500.0, 250.0, 400.0, 400.0, 200.0, 500.0, 300.0, 700.0, 200.0, 1500.0, 1800.0, 1000.0, 2000.0, 2100.0, 1600.0, 1000.0, 1400.0, 1000.0, 1200.0, 1200.0, 1000.0, 1500.0, 1000.0, 1400.0, 1300.0, 2000.0, 1500.0, 1100.0, 1600.0, 1800.0, 1200.0, 1000.0, 1400.0, 1200.0, 1200.0, 1400.0, 1000.0, 1200.0, 1400.0, 2000.0, 1300.0, 1200.0, 1000.0, 1400.0, 1500.0, 1200.0, 1400.0, 1200.0, 1700.0, 1500.0, 1300.0, 1300.0, 1500.0, 1200.0, 1100.0, 2100.0, 1000.0, 1000.0, 1400.0, 1000.0, 1500.0, 1300.0, 1400.0, 1500.0, 1800.0, 1200.0, 1500.0, 1200.0, 1000.0, 1200.0, 1000.0, 1300.0, 1100.0, 1600.0, 1800.0, 1200.0, 1200.0, 1500.0, 1200.0, 1200.0, 1400.0, 1000.0, 1200.0, 1400.0, 1300.0, 800.0, 1200.0, 1000.0, 1400.0, 1500.0, 1000.0, 1200.0, 1400.0, 1200.0, 1700.0, 1500.0, 1300.0, 1300.0, 1500.0, 1100.0, 1300.0, 1300.0, 2000.0, 1400.0, 2000.0, 600.0, 1000.0, 900.0, 1500.0, 1200.0, 1500.0, 1300.0, 1000.0, 600.0, 1500.0, 1500.0, 1500.0, 1500.0, 1100.0, 750.0, 900.0, 1700.0, 1000.0, 700.0, 1500.0, 1400.0, 800.0, 1000.0, 2000.0, 1000.0, 1500.0, 800.0, 1100.0, 1000.0, 500.0, 600.0, 600.0, 800.0, 700.0, 700.0, 400.0, 600.0, 600.0, 450.0, 250.0, 900.0, 600.0, 800.0, 600.0, 1300.0, 800.0, 400.0, 600.0, 600.0, 600.0, 1000.0, 800.0, 1000.0, 900.0, 600.0, 500.0, 800.0, 900.0, 800.0, 550.0, 800.0, 900.0, 850.0, 900.0, 300.0, 700.0, 700.0, 600.0, 700.0, 800.0, 800.0, 1200.0, 600.0, 1200.0, 650.0, 700.0, 900.0, 450.0, 200.0, 700.0, 650.0, 600.0, 600.0, 600.0, 800.0, 700.0, 650.0, 350.0, 500.0, 700.0, 300.0, 600.0, 500.0, 700.0, 500.0, 800.0, 600.0, 600.0, 450.0, 900.0, 1600.0, 600.0, 500.0, 500.0, 450.0, 500.0, 450.0, 800.0, 400.0, 800.0, 300.0, 900.0, 200.0, 250.0, 400.0, 250.0, 300.0, 600.0, 400.0, 400.0, 650.0, 500.0, 600.0, 500.0, 600.0, 600.0, 400.0, 800.0, 500.0, 400.0, 300.0, 300.0, 600.0, 200.0, 500.0, 300.0, 150.0, 300.0, 400.0, 600.0, 400.0, 550.0, 750.0, 150.0, 450.0, 650.0, 500.0, 400.0, 400.0, 300.0, 500.0, 400.0, 400.0, 600.0, 600.0, 800.0, 700.0, 250.0, 400.0, 700.0, 250.0, 800.0, 250.0, 250.0, 750.0, 350.0, 600.0, 600.0, 600.0, 200.0, 350.0, 600.0, 1000.0, 400.0, 700.0, 400.0, 300.0, 500.0, 400.0, 500.0, 650.0, 500.0, 300.0, 500.0, 300.0, 500.0, 1000.0, 200.0, 750.0, 400.0, 350.0, 800.0, 400.0, 450.0, 300.0, 500.0, 400.0, 600.0, 550.0, 600.0, 650.0, 300.0, 500.0, 150.0, 300.0, 600.0, 250.0, 500.0, 600.0, 500.0, 800.0, 250.0, 600.0, 600.0, 800.0, 750.0, 300.0, 600.0, 600.0, 450.0, 750.0, 450.0, 500.0, 400.0, 200.0, 250.0, 700.0, 500.0, 300.0, 400.0, 800.0, 600.0, 400.0, 300.0, 400.0, 200.0, 800.0, 1500.0, 800.0, 300.0, 200.0, 450.0, 300.0, 450.0, 500.0, 500.0, 400.0, 400.0, 550.0, 450.0, 1000.0, 600.0, 300.0, 550.0, 300.0, 650.0, 500.0, 500.0, 1200.0, 650.0, 400.0, 200.0, 450.0, 300.0, 500.0, 400.0, 600.0, 500.0, 1600.0, 600.0, 300.0, 800.0, 300.0, 400.0, 40.0, 500.0, 500.0, 600.0, 400.0, 400.0, 300.0, 800.0, 900.0, 600.0, 1800.0, 300.0, 400.0, 800.0, 500.0, 650.0, 300.0, 700.0, 450.0, 300.0, 500.0, 200.0, 800.0, 500.0, 500.0, 300.0, 300.0, 350.0, 600.0, 800.0, 400.0, 350.0, 600.0, 350.0, 200.0, 700.0, 1000.0, 1200.0, 1500.0, 350.0, 1300.0, 600.0, 450.0, 1200.0, 650.0, 400.0, 500.0, 400.0, 400.0, 1000.0, 600.0, 600.0, 400.0, 250.0, 1000.0, 250.0, 300.0, 500.0, 500.0, 600.0, 450.0, 600.0, 1300.0, 400.0, 600.0, 300.0, 800.0, 300.0, 1000.0, 500.0, 300.0, 400.0, 800.0, 600.0, 300.0, 500.0, 1000.0, 600.0, 450.0, 1600.0, 600.0, 400.0, 800.0, 400.0, 1300.0, 650.0, 800.0, 200.0, 300.0, 700.0, 250.0, 600.0, 700.0, 600.0, 500.0, 500.0, 600.0, 700.0, 600.0, 400.0, 1100.0, 750.0, 1500.0, 400.0, 230.0, 800.0, 500.0, 700.0, 1500.0, 400.0, 300.0, 300.0, 2500.0, 600.0, 300.0, 500.0, 1500.0, 900.0, 700.0, 200.0, 600.0, 600.0, 500.0, 900.0, 900.0, 500.0, 400.0, 600.0, 200.0, 500.0, 1000.0, 1200.0, 200.0, 400.0, 500.0, 250.0, 700.0, 500.0, 300.0, 250.0, 600.0, 650.0, 650.0, 500.0, 250.0, 1200.0, 1200.0, 800.0, 400.0, 500.0, 1500.0, 150.0, 700.0, 1000.0, 350.0, 1000.0, 700.0, 900.0, 750.0, 700.0, 300.0, 650.0, 500.0, 700.0, 400.0, 400.0, 500.0, 800.0, 400.0, 1000.0, 1500.0, 300.0, 600.0, 100.0, 1000.0, 800.0, 700.0, 700.0, 400.0, 350.0, 350.0, 450.0, 200.0, 400.0, 900.0, 450.0, 300.0, 300.0, 300.0, 600.0, 1000.0, 1000.0, 550.0, 200.0, 500.0, 1500.0, 1000.0, 400.0, 600.0, 900.0, 150.0, 1400.0, 750.0, 400.0, 900.0, 300.0, 1200.0, 600.0, 400.0, 500.0, 1500.0, 450.0, 450.0, 200.0, 1100.0, 500.0, 1700.0, 600.0, 400.0, 350.0, 250.0, 600.0, 700.0, 600.0, 400.0, 400.0, 600.0, 750.0, 600.0, 250.0, 2000.0, 500.0, 1500.0, 700.0, 1000.0, 700.0, 1300.0, 500.0, 500.0, 800.0, 800.0, 500.0, 600.0, 300.0, 700.0, 450.0, 750.0, 350.0, 150.0, 300.0, 1200.0, 600.0, 1200.0, 400.0, 300.0, 1100.0, 700.0, 300.0, 650.0, 700.0, 300.0, 650.0, 400.0, 1100.0, 900.0, 450.0, 550.0, 400.0, 750.0, 250.0, 1200.0, 350.0, 400.0, 800.0, 1000.0, 400.0, 700.0, 1200.0, 500.0, 1000.0, 750.0, 550.0, 600.0, 150.0, 1400.0, 350.0, 700.0, 300.0, 250.0, 400.0, 250.0, 250.0, 450.0, 200.0, 600.0, 600.0, 1000.0, 200.0, 300.0, 750.0, 250.0, 250.0, 200.0, 600.0, 600.0, 600.0, 600.0, 600.0, 500.0, 150.0, 600.0, 1000.0, 600.0, 200.0, 800.0, 350.0, 350.0, 650.0, 500.0, 400.0, 400.0, 500.0, 550.0, 300.0, 300.0, 500.0, 1300.0, 250.0, 500.0, 600.0, 650.0, 150.0, 900.0, 200.0, 700.0, 550.0, 400.0, 800.0, 450.0, 1400.0, 800.0, 600.0, 150.0, 300.0, 400.0, 200.0, 800.0, 600.0, 300.0, 600.0, 700.0, 250.0, 300.0, 1000.0, 1000.0, 1000.0, 1400.0, 1600.0, 300.0, 700.0, 450.0, 900.0, 1400.0, 800.0, 900.0, 900.0, 1300.0, 800.0, 1400.0, 800.0, 650.0, 1100.0, 400.0, 650.0, 500.0, 800.0, 900.0, 800.0, 850.0, 800.0, 350.0, 1200.0, 400.0, 650.0, 300.0, 650.0, 200.0, 350.0, 400.0, 150.0, 200.0, 500.0, 400.0, 400.0, 500.0, 600.0, 450.0, 250.0, 150.0, 500.0, 600.0, 300.0, 200.0, 1000.0, 1100.0, 400.0, 400.0, 600.0, 500.0, 200.0, 400.0, 650.0, 800.0, 350.0, 700.0, 500.0, 500.0, 250.0, 200.0, 800.0, 350.0, 500.0, 1500.0, 200.0, 400.0, 600.0, 2000.0, 500.0, 600.0, 1100.0, 400.0, 500.0, 250.0, 500.0, 250.0, 300.0, 300.0, 250.0, 400.0, 1300.0, 600.0, 800.0, 600.0, 600.0, 400.0, 500.0, 800.0, 550.0, 450.0, 450.0, 400.0, 400.0, 300.0, 500.0, 500.0, 400.0, 650.0, 400.0, 1200.0, 400.0, 1100.0, 650.0, 300.0, 500.0, 900.0, 350.0, 400.0, 400.0, 300.0, 200.0, 400.0, 250.0, 200.0, 450.0, 300.0, 500.0, 350.0, 200.0, 500.0, 500.0, 200.0, 500.0, 400.0, 400.0, 400.0, 800.0, 700.0, 350.0, 150.0, 200.0, 200.0, 300.0, 400.0, 400.0, 500.0, 400.0, 600.0, 150.0, 700.0, 500.0, 600.0, 200.0, 450.0, 400.0, 400.0, 200.0, 800.0, 450.0, 200.0, 400.0, 200.0, 500.0, 2000.0, 1000.0, 500.0, 2500.0, 1100.0, 2000.0, 600.0, 1100.0, 700.0, 1000.0, 600.0, 650.0, 800.0, 700.0, 1000.0, 600.0, 700.0, 1000.0, 1400.0, 750.0, 1000.0, 250.0, 900.0, 1700.0, 250.0, 250.0, 600.0, 700.0, 800.0, 500.0, 600.0, 250.0, 800.0, 1500.0, 450.0, 1300.0, 400.0, 500.0, 1200.0, 500.0, 750.0, 600.0, 400.0, 600.0, 400.0, 250.0, 300.0, 400.0, 400.0, 200.0, 550.0, 450.0, 400.0, 300.0, 200.0, 400.0, 400.0, 200.0, 600.0, 600.0, 350.0, 200.0, 550.0, 300.0, 400.0, 1400.0, 900.0, 1500.0, 2000.0, 1000.0, 1100.0, 1500.0, 2100.0, 1200.0, 600.0, 1300.0, 1300.0, 1400.0, 800.0, 1800.0, 1600.0, 1200.0, 1600.0, 700.0, 900.0, 1500.0, 750.0, 1300.0, 1500.0, 1000.0, 1000.0, 600.0, 1300.0, 1500.0, 1500.0, 1400.0, 1800.0, 600.0, 1200.0, 1600.0, 1400.0, 600.0, 1400.0, 1000.0, 1200.0, 800.0, 1500.0, 1500.0, 1200.0, 400.0, 1000.0, 1000.0, 1400.0, 600.0, 1400.0, 800.0, 1200.0, 600.0, 1300.0, 1200.0, 600.0, 1300.0, 1500.0, 1400.0, 1200.0, 650.0, 600.0, 550.0, 1000.0, 1100.0, 1000.0, 800.0, 1000.0, 650.0, 900.0, 600.0, 750.0, 500.0, 1500.0, 1500.0, 1200.0, 800.0, 900.0, 800.0, 550.0, 800.0, 900.0, 800.0, 900.0, 1700.0, 600.0, 800.0, 750.0, 850.0, 750.0, 800.0, 1200.0, 1000.0, 1200.0, 900.0, 1000.0, 500.0, 900.0, 750.0, 500.0, 800.0, 700.0, 600.0, 700.0, 1200.0, 800.0, 600.0, 700.0, 800.0, 650.0, 600.0, 800.0, 800.0, 850.0, 750.0, 1200.0, 500.0, 600.0, 1500.0, 750.0, 1100.0, 1200.0, 750.0, 1000.0, 650.0, 1000.0, 700.0, 700.0, 750.0, 1200.0, 800.0, 650.0, 800.0, 1100.0, 650.0, 500.0, 1500.0, 1000.0, 450.0, 500.0, 800.0, 1300.0, 200.0, 750.0, 1200.0, 600.0, 1400.0, 800.0, 600.0, 1000.0, 750.0, 650.0, 700.0, 700.0, 600.0, 650.0, 500.0, 600.0, 600.0, 800.0, 500.0, 1000.0, 600.0, 600.0, 700.0, 2000.0, 600.0, 150.0, 250.0, 500.0, 600.0, 800.0, 1500.0, 700.0, 350.0, 500.0, 800.0, 650.0, 600.0, 550.0, 650.0, 650.0, 700.0, 900.0, 500.0, 600.0, 1000.0, 800.0, 400.0, 450.0, 1000.0, 1300.0, 500.0, 750.0, 700.0, 500.0, 500.0, 700.0, 650.0, 800.0, 1000.0, 600.0, 700.0, 250.0, 800.0, 500.0, 600.0, 500.0, 600.0, 700.0, 350.0, 450.0, 400.0, 500.0, 600.0, 200.0, 450.0, 250.0, 350.0, 300.0, 450.0, 350.0, 500.0, 300.0, 200.0, 600.0, 400.0, 250.0, 450.0, 600.0, 200.0, 500.0, 500.0, 900.0, 500.0, 250.0, 200.0, 500.0, 300.0, 400.0, 400.0, 600.0, 300.0, 300.0, 400.0, 500.0, 400.0, 400.0, 450.0, 200.0, 200.0, 500.0, 400.0, 500.0, 300.0, 500.0, 300.0, 200.0, 300.0, 600.0, 400.0, 500.0, 400.0, 500.0, 350.0, 300.0, 200.0, 400.0, 300.0, 300.0, 600.0, 150.0, 500.0, 300.0, 400.0, 300.0, 450.0, 250.0, 600.0, 300.0, 600.0, 400.0, 550.0, 200.0, 300.0, 300.0, 350.0, 400.0, 250.0, 800.0, 300.0, 250.0, 350.0, 200.0, 100.0, 1200.0, 800.0, 1700.0, 900.0, 1600.0, 800.0, 700.0, 1500.0, 1800.0, 300.0, 800.0, 800.0, 1000.0, 1300.0, 900.0, 400.0, 200.0, 1000.0, 600.0, 600.0, 800.0, 400.0, 500.0, 200.0, 250.0, 400.0, 500.0, 600.0, 200.0, 300.0, 300.0, 300.0, 600.0, 600.0, 1800.0, 400.0, 250.0, 900.0, 350.0, 300.0, 1000.0, 1100.0, 350.0, 600.0, 500.0, 300.0, 400.0, 400.0, 650.0, 500.0, 400.0, 700.0, 400.0, 500.0, 200.0, 300.0, 2100.0, 1100.0, 1300.0, 2000.0, 1000.0, 2000.0, 1000.0, 1400.0, 1700.0, 1500.0, 1200.0, 1500.0, 2000.0, 1000.0, 1800.0, 1600.0, 1200.0, 1600.0, 1000.0, 1000.0, 1500.0, 1400.0, 1800.0, 1400.0, 1200.0, 1200.0, 1000.0, 1400.0, 1200.0, 1200.0, 1300.0, 1400.0, 1200.0, 1200.0, 1500.0, 1000.0, 1000.0, 1200.0, 1500.0, 1300.0, 1200.0, 1400.0, 1500.0, 1300.0, 1200.0, 1700.0, 1600.0, 1400.0, 1200.0, 2000.0, 1500.0, 1500.0, 1500.0, 800.0, 1000.0, 1500.0, 1300.0, 1500.0, 1300.0, 1000.0, 600.0, 1500.0, 2000.0, 600.0, 1100.0, 750.0, 900.0, 1700.0, 1000.0, 700.0, 1100.0, 1500.0, 1000.0, 1400.0, 2000.0, 900.0, 1000.0, 1300.0, 1100.0, 800.0, 1000.0, 800.0, 1000.0, 550.0, 700.0, 600.0, 900.0, 650.0, 700.0, 350.0, 600.0, 650.0, 900.0, 600.0, 800.0, 600.0, 1300.0, 800.0, 500.0, 400.0, 600.0, 600.0, 600.0, 800.0, 1000.0, 900.0, 600.0, 500.0, 800.0, 900.0, 800.0, 900.0, 850.0, 600.0, 900.0, 300.0, 700.0, 800.0, 600.0, 700.0, 800.0, 800.0, 700.0, 1200.0, 1200.0, 650.0, 700.0, 450.0, 200.0, 700.0, 600.0, 600.0, 600.0, 800.0, 650.0, 500.0, 700.0, 400.0, 300.0, 500.0, 600.0, 600.0, 700.0, 500.0, 800.0, 450.0, 250.0, 450.0, 600.0, 900.0, 1000.0, 700.0, 700.0, 600.0, 600.0, 500.0, 600.0, 500.0, 450.0, 500.0, 450.0, 250.0, 800.0, 300.0, 400.0, 400.0, 400.0, 800.0, 900.0, 200.0, 250.0, 300.0, 600.0, 400.0, 400.0, 650.0, 500.0, 250.0, 600.0, 500.0, 600.0, 600.0, 400.0, 800.0, 450.0, 500.0, 400.0, 300.0, 200.0, 500.0, 300.0, 150.0, 300.0, 600.0, 400.0, 550.0, 150.0, 450.0, 500.0, 400.0, 400.0, 500.0, 400.0, 400.0, 400.0, 600.0, 600.0, 800.0, 250.0, 700.0, 250.0, 300.0, 400.0, 900.0, 700.0, 250.0, 450.0, 300.0, 800.0, 250.0, 250.0, 750.0, 350.0, 600.0, 600.0, 600.0, 200.0, 350.0, 600.0, 400.0, 700.0, 500.0, 600.0, 200.0, 400.0, 300.0, 500.0, 650.0, 500.0, 300.0, 500.0, 350.0, 500.0, 600.0, 200.0, 300.0, 750.0, 800.0, 400.0, 350.0, 800.0, 400.0, 450.0, 400.0, 300.0, 300.0, 500.0, 400.0, 600.0, 550.0, 600.0, 650.0, 300.0, 500.0, 150.0, 300.0, 600.0, 250.0, 650.0, 400.0, 800.0, 200.0, 1000.0, 250.0, 600.0, 1200.0, 700.0, 600.0, 800.0, 400.0, 750.0, 400.0, 300.0, 600.0, 450.0, 750.0, 450.0, 500.0, 400.0, 200.0, 100.0, 250.0, 650.0, 500.0, 300.0, 400.0, 500.0, 1200.0, 400.0, 400.0, 200.0, 800.0, 400.0, 1500.0, 800.0, 400.0, 300.0, 200.0, 450.0, 400.0, 400.0, 450.0, 1000.0, 600.0, 700.0, 250.0, 300.0, 200.0, 600.0, 400.0, 650.0, 500.0, 650.0, 650.0, 400.0, 200.0, 450.0, 500.0, 400.0, 600.0, 500.0, 600.0, 300.0, 800.0, 300.0, 400.0, 500.0, 400.0, 600.0, 800.0, 900.0, 600.0, 300.0, 400.0, 800.0, 500.0, 650.0, 300.0, 700.0, 450.0, 300.0, 500.0, 500.0, 200.0, 800.0, 500.0, 300.0, 500.0, 300.0, 600.0, 800.0, 400.0, 350.0, 200.0, 300.0, 700.0, 1000.0, 1200.0, 1500.0, 350.0, 200.0, 1300.0, 600.0, 1000.0, 450.0, 1200.0, 300.0, 350.0, 650.0, 500.0, 400.0, 600.0, 300.0, 600.0, 250.0, 500.0, 800.0, 1000.0, 600.0, 250.0, 300.0, 500.0, 500.0, 500.0, 600.0, 450.0, 600.0, 1300.0, 400.0, 300.0, 400.0, 300.0, 1000.0, 500.0, 800.0, 300.0, 500.0, 200.0, 800.0, 600.0, 300.0, 500.0, 600.0, 450.0, 1600.0, 600.0, 400.0, 400.0, 1300.0, 1000.0, 400.0, 750.0, 700.0, 650.0, 800.0, 1000.0, 300.0, 700.0, 600.0, 600.0, 1500.0, 500.0, 700.0, 400.0, 1100.0, 750.0, 1500.0, 400.0, 230.0, 500.0, 700.0, 400.0, 300.0, 2500.0, 1200.0, 300.0, 250.0, 600.0, 300.0, 900.0, 350.0, 1500.0, 200.0, 900.0, 700.0, 200.0, 600.0, 600.0, 900.0, 900.0, 500.0, 500.0, 400.0, 600.0, 500.0, 500.0, 1200.0, 1000.0, 200.0, 400.0, 500.0, 700.0, 500.0, 180.0, 300.0, 550.0, 400.0, 250.0, 600.0, 650.0, 500.0, 250.0, 300.0, 450.0, 600.0, 1200.0, 800.0, 800.0, 400.0, 500.0, 1500.0, 150.0, 700.0, 1000.0, 1000.0, 700.0, 900.0, 750.0, 700.0, 500.0, 650.0, 500.0, 700.0, 400.0, 150.0, 400.0, 400.0, 400.0, 400.0, 1500.0, 300.0, 600.0, 400.0, 400.0, 100.0, 1200.0, 300.0, 1000.0, 800.0, 700.0, 350.0, 350.0, 450.0, 200.0, 200.0, 400.0, 400.0, 600.0, 300.0, 300.0, 200.0, 300.0, 500.0, 600.0, 1000.0, 1000.0, 550.0, 200.0, 300.0, 500.0, 1500.0, 1000.0, 250.0, 400.0, 600.0, 900.0, 150.0, 1400.0, 750.0, 400.0, 1000.0, 900.0, 300.0, 1200.0, 300.0, 600.0, 400.0, 300.0, 1500.0, 450.0, 450.0, 200.0, 1100.0, 400.0, 800.0, 1700.0, 1500.0, 600.0, 400.0, 600.0, 800.0, 600.0, 400.0, 700.0, 400.0, 1000.0, 600.0, 700.0, 700.0, 750.0, 600.0, 250.0, 400.0, 150.0, 1200.0, 400.0, 700.0, 100.0, 1000.0, 900.0, 700.0, 1300.0, 500.0, 500.0, 800.0, 550.0, 800.0, 500.0, 600.0, 300.0, 700.0, 750.0, 500.0, 350.0, 300.0, 650.0, 600.0, 1200.0, 200.0, 400.0, 1100.0, 700.0, 300.0, 650.0, 700.0, 400.0, 300.0, 650.0, 400.0, 1100.0, 600.0, 900.0, 450.0, 550.0, 350.0, 400.0, 750.0, 250.0, 1200.0, 200.0, 500.0, 350.0, 400.0, 800.0, 500.0, 650.0, 1000.0, 750.0, 400.0, 700.0, 1200.0, 500.0, 500.0, 1000.0, 750.0, 550.0, 600.0, 1400.0, 400.0, 300.0, 1000.0, 350.0, 700.0, 750.0, 200.0, 400.0, 250.0, 250.0, 600.0, 600.0, 650.0, 1000.0, 200.0, 800.0, 300.0, 750.0, 600.0, 600.0, 600.0, 600.0, 600.0, 250.0, 550.0, 400.0, 500.0, 400.0, 150.0, 600.0, 1000.0, 250.0, 600.0, 100.0, 800.0, 450.0, 500.0, 400.0, 650.0, 500.0, 1300.0, 400.0, 600.0, 650.0, 350.0, 150.0, 200.0, 700.0, 550.0, 400.0, 800.0, 600.0, 450.0, 500.0, 800.0, 600.0, 300.0, 400.0, 900.0, 200.0, 200.0, 800.0, 900.0, 600.0, 300.0, 600.0, 700.0, 250.0, 1000.0, 1000.0, 1000.0, 1400.0, 2000.0, 300.0, 450.0, 700.0, 1100.0, 900.0, 1400.0, 1000.0, 800.0, 900.0, 900.0, 1300.0, 800.0, 600.0, 1400.0, 800.0, 650.0, 1100.0, 400.0, 650.0, 500.0, 550.0, 800.0, 900.0, 800.0, 850.0, 800.0, 350.0, 1200.0, 400.0, 650.0, 600.0, 150.0, 700.0, 300.0, 200.0, 800.0, 150.0, 500.0, 200.0, 500.0, 200.0, 500.0, 400.0, 400.0, 500.0, 250.0, 200.0, 700.0, 450.0, 250.0, 350.0, 400.0, 600.0, 500.0, 300.0, 200.0, 550.0, 1000.0, 400.0, 400.0, 400.0, 500.0, 600.0, 550.0, 500.0, 300.0, 200.0, 200.0, 400.0, 650.0, 300.0, 250.0, 800.0, 500.0, 700.0, 500.0, 250.0, 800.0, 500.0, 350.0, 400.0, 500.0, 1500.0, 500.0, 400.0, 550.0, 400.0, 900.0, 400.0, 300.0, 200.0, 450.0, 250.0, 500.0, 500.0, 800.0, 700.0, 150.0, 600.0, 150.0, 400.0, 2000.0, 400.0, 1300.0, 600.0, 800.0, 500.0, 600.0, 600.0, 400.0, 500.0, 800.0, 1100.0, 450.0, 450.0, 400.0, 400.0, 300.0, 500.0, 500.0, 400.0, 400.0, 1200.0, 400.0, 1100.0, 650.0, 500.0, 300.0, 500.0, 350.0, 400.0, 300.0, 400.0, 250.0, 300.0, 500.0, 350.0, 200.0, 200.0, 400.0, 400.0, 350.0, 200.0, 200.0, 300.0, 400.0, 400.0, 500.0, 400.0, 250.0, 500.0, 250.0, 700.0, 500.0, 600.0, 200.0, 450.0, 300.0, 400.0, 300.0, 200.0, 800.0, 450.0, 600.0, 200.0, 200.0, 200.0, 700.0, 400.0, 1600.0, 2100.0, 1500.0, 1500.0, 1100.0, 1500.0, 600.0, 1500.0, 1400.0, 550.0, 900.0, 500.0, 600.0, 750.0, 650.0, 1100.0, 1000.0, 600.0, 650.0, 650.0, 500.0, 800.0, 1000.0, 750.0, 700.0, 800.0, 650.0, 750.0, 800.0, 400.0, 750.0, 700.0, 650.0, 700.0, 650.0, 500.0, 700.0, 450.0, 350.0, 300.0, 450.0, 600.0, 900.0, 200.0, 400.0, 400.0, 200.0, 500.0, 200.0, 450.0, 600.0, 400.0, 500.0, 200.0, 250.0, 400.0, 500.0, 300.0, 400.0, 550.0, 200.0, 300.0, 400.0, 300.0, 600.0, 1400.0, 900.0, 2000.0, 2000.0, 1000.0, 1500.0, 1200.0, 600.0, 1300.0, 1300.0, 1400.0, 800.0, 1200.0, 1800.0, 1600.0, 700.0, 900.0, 1500.0, 750.0, 1300.0, 1500.0, 1000.0, 1000.0, 600.0, 1300.0, 1500.0, 1400.0, 1800.0, 1400.0, 600.0, 1400.0, 1000.0, 1200.0, 800.0, 1000.0, 1500.0, 500.0, 1200.0, 400.0, 1000.0, 1000.0, 1400.0, 600.0, 1400.0, 800.0, 1200.0, 1300.0, 2500.0, 600.0, 1300.0, 1100.0, 1200.0, 650.0, 550.0, 600.0, 2000.0, 600.0, 1100.0, 1000.0, 800.0, 1000.0, 650.0, 900.0, 600.0, 500.0, 1500.0, 1500.0, 800.0, 1200.0, 900.0, 800.0, 800.0, 900.0, 1100.0, 800.0, 900.0, 700.0, 1700.0, 800.0, 1000.0, 600.0, 750.0, 850.0, 750.0, 1200.0, 800.0, 1000.0, 600.0, 1200.0, 900.0, 1000.0, 650.0, 500.0, 750.0, 800.0, 700.0, 700.0, 1200.0, 800.0, 600.0, 700.0, 800.0, 650.0, 600.0, 800.0, 700.0, 800.0, 1000.0, 750.0, 600.0, 1200.0, 500.0, 1500.0, 750.0, 1100.0, 1200.0, 1000.0, 1000.0, 650.0, 700.0, 750.0, 700.0, 1200.0, 800.0, 800.0, 1300.0, 1500.0, 450.0, 500.0, 800.0, 200.0, 750.0, 600.0, 1000.0, 1400.0, 1400.0, 800.0, 1000.0, 750.0, 750.0, 700.0, 700.0, 1000.0, 600.0, 500.0, 250.0, 600.0, 600.0, 700.0, 2000.0, 600.0, 150.0, 250.0, 500.0, 600.0, 800.0, 1500.0, 350.0, 900.0, 600.0, 550.0, 650.0, 1700.0, 250.0, 700.0, 900.0, 250.0, 600.0, 600.0, 1000.0, 700.0, 800.0, 450.0, 500.0, 1000.0, 1300.0, 600.0, 500.0, 250.0, 700.0, 500.0, 500.0, 800.0, 1000.0, 600.0, 250.0, 800.0, 1500.0, 800.0, 450.0, 1300.0, 500.0, 400.0, 500.0, 1200.0, 500.0, 350.0, 450.0, 600.0, 400.0, 600.0, 400.0, 400.0, 500.0, 600.0, 200.0, 200.0, 450.0, 250.0, 350.0, 300.0, 400.0, 500.0, 400.0, 200.0, 600.0, 400.0, 250.0, 200.0, 550.0, 200.0, 500.0, 500.0, 400.0, 250.0, 500.0, 300.0, 400.0, 400.0, 600.0, 300.0, 300.0, 200.0, 200.0, 500.0, 200.0, 300.0, 400.0, 500.0, 400.0, 300.0, 200.0, 600.0, 400.0, 600.0, 300.0, 600.0, 350.0, 300.0, 450.0, 200.0, 600.0, 300.0, 600.0, 550.0, 300.0, 250.0, 800.0, 400.0, 350.0, 200.0, 1600.0, 1300.0, 1200.0, 1100.0, 800.0, 600.0, 1200.0, 900.0, 1000.0, 550.0, 800.0, 900.0, 600.0, 800.0, 600.0, 700.0, 300.0, 800.0, 700.0, 400.0, 800.0, 1100.0, 650.0, 500.0, 1000.0, 550.0, 650.0, 700.0, 600.0, 250.0, 1300.0, 300.0, 600.0, 600.0, 1000.0, 500.0, 900.0, 600.0, 900.0, 800.0, 400.0, 200.0, 1000.0, 400.0, 600.0, 450.0, 600.0, 350.0, 500.0, 1000.0, 500.0, 350.0, 200.0, 400.0, 500.0, 500.0, 1000.0, 700.0, 300.0, 250.0, 500.0, 150.0, 600.0, 500.0, 600.0, 500.0, 300.0, 600.0, 200.0, 300.0, 400.0, 500.0, 300.0, 200.0, 300.0, 300.0, 600.0, 600.0, 600.0, 450.0, 200.0, 400.0, 250.0, 900.0, 500.0, 600.0, 350.0, 300.0, 200.0, 150.0, 250.0, 1000.0, 400.0, 350.0, 600.0, 600.0, 500.0, 300.0, 400.0, 150.0, 300.0, 550.0, 400.0, 300.0, 400.0, 400.0, 650.0, 500.0, 400.0, 700.0, 400.0, 600.0, 500.0, 250.0, 200.0, 300.0, 1000.0, 2000.0, 2100.0, 1500.0, 1100.0, 1600.0, 1400.0, 2000.0, 1800.0, 1200.0, 1600.0, 1000.0, 1000.0, 1500.0, 1400.0, 1800.0, 1400.0, 1200.0, 1000.0, 1200.0, 1000.0, 1400.0, 1200.0, 1300.0, 1100.0, 2000.0, 1200.0, 1200.0, 1000.0, 1500.0, 1000.0, 1000.0, 1200.0, 1500.0, 1300.0, 1400.0, 1400.0, 1500.0, 1700.0, 1300.0, 1500.0, 1300.0, 1200.0, 1100.0, 1200.0, 1100.0, 1000.0, 1000.0, 1600.0, 1100.0, 1000.0, 1500.0, 1400.0, 1000.0, 1400.0, 1500.0, 2100.0, 1300.0, 1400.0, 1800.0, 1200.0, 1500.0, 1000.0, 1800.0, 1200.0, 1000.0, 1200.0, 1400.0, 1200.0, 1300.0, 1100.0, 1000.0, 1500.0, 800.0, 1200.0, 1200.0, 1000.0, 1200.0, 1000.0, 1000.0, 1200.0, 1500.0, 1300.0, 1400.0, 1500.0, 1800.0, 1300.0, 1500.0, 1300.0, 1200.0, 1100.0, 1200.0, 1100.0, 1300.0, 1000.0, 1000.0, 1600.0, 2200.0, 1200.0, 1400.0, 1000.0, 1500.0, 1600.0, 1200.0, 1800.0, 1500.0, 1500.0, 2100.0, 3000.0, 1200.0, 1700.0, 750.0, 3000.0, 1500.0, 500.0, 2500.0, 1500.0, 3400.0, 2000.0, 1200.0, 800.0, 1700.0, 1200.0, 2000.0, 1300.0, 1300.0, 1600.0, 3000.0, 1000.0, 1000.0, 650.0, 1400.0, 1900.0, 800.0, 1000.0, 1000.0, 500.0, 1200.0, 650.0, 2800.0, 1600.0, 4100.0, 3400.0, 1300.0, 1700.0, 1800.0, 1100.0, 750.0, 1200.0, 750.0, 600.0, 1400.0, 1100.0, 1000.0, 1200.0, 1100.0, 800.0, 900.0, 1700.0, 1000.0, 600.0, 2500.0, 650.0, 400.0, 900.0, 700.0, 450.0, 700.0, 800.0, 750.0, 650.0, 500.0, 500.0, 400.0, 650.0, 500.0, 600.0, 800.0, 1000.0, 500.0, 700.0, 800.0, 900.0, 350.0, 1300.0, 1100.0, 750.0, 750.0, 300.0, 1000.0, 750.0, 1000.0, 500.0, 1100.0, 600.0, 2000.0, 500.0, 500.0, 450.0, 400.0, 500.0, 200.0, 550.0, 300.0, 250.0, 500.0, 500.0, 350.0, 650.0, 500.0, 200.0, 750.0, 650.0, 750.0, 400.0, 400.0, 200.0, 800.0, 600.0, 450.0, 400.0, 800.0, 250.0, 500.0, 500.0, 600.0, 400.0, 250.0, 650.0, 1300.0, 1600.0, 1200.0, 500.0, 300.0, 450.0, 750.0, 1300.0, 500.0, 150.0, 200.0, 350.0, 600.0, 500.0, 500.0, 1500.0, 400.0, 400.0, 250.0, 800.0, 900.0, 1600.0, 300.0, 550.0, 1300.0, 400.0, 900.0, 1100.0, 400.0, 400.0, 700.0, 700.0, 200.0, 700.0, 500.0, 300.0, 300.0, 400.0, 600.0, 250.0, 350.0, 400.0, 400.0, 500.0, 3000.0, 700.0, 700.0, 400.0, 1500.0, 450.0, 300.0, 500.0, 800.0, 180.0, 150.0, 500.0, 750.0, 400.0, 700.0, 500.0, 750.0, 1200.0, 1300.0, 1300.0, 300.0, 850.0, 500.0, 600.0, 1000.0, 700.0, 1000.0, 300.0, 800.0, 950.0, 300.0, 800.0, 900.0, 600.0, 800.0, 350.0, 500.0, 1000.0, 500.0, 300.0, 1400.0, 1500.0, 750.0, 550.0, 2000.0, 550.0, 1000.0, 600.0, 250.0, 1400.0, 200.0, 1500.0, 700.0, 400.0, 400.0, 350.0, 200.0, 450.0, 1000.0, 700.0, 300.0, 350.0, 400.0, 250.0, 400.0, 2000.0, 400.0, 750.0, 700.0, 300.0, 700.0, 1200.0, 800.0, 600.0, 1000.0, 500.0, 700.0, 300.0, 600.0, 1200.0, 800.0, 600.0, 650.0, 500.0, 400.0, 2100.0, 400.0, 2000.0, 300.0, 600.0, 600.0, 1000.0, 200.0, 800.0, 600.0, 1000.0, 1500.0, 150.0, 400.0, 400.0, 1200.0, 700.0, 1200.0, 800.0, 650.0, 400.0, 1700.0, 600.0, 1700.0, 800.0, 700.0, 1500.0, 1300.0, 300.0, 2100.0, 600.0, 600.0, 1700.0, 750.0, 2100.0, 700.0, 1500.0, 700.0, 1700.0, 1400.0, 650.0, 800.0, 1000.0, 600.0, 1000.0, 2000.0, 750.0, 1000.0, 1000.0, 1400.0, 1200.0, 850.0, 1500.0, 300.0, 850.0, 1000.0, 1800.0, 550.0, 800.0, 300.0, 500.0, 1800.0, 1300.0, 800.0, 700.0, 400.0, 550.0, 800.0, 1000.0, 550.0, 600.0, 1000.0, 450.0, 500.0, 1300.0, 1000.0, 1200.0, 1300.0, 700.0, 250.0, 500.0, 1300.0, 1000.0, 1000.0, 1500.0, 800.0, 900.0, 1700.0, 1100.0, 1400.0, 550.0, 400.0, 600.0, 750.0, 400.0, 900.0, 500.0, 800.0, 450.0, 800.0, 500.0, 800.0, 150.0, 1200.0, 500.0, 500.0, 650.0, 400.0, 450.0, 500.0, 200.0, 800.0, 500.0, 1100.0, 500.0, 200.0, 500.0, 300.0, 450.0, 350.0, 100.0, 300.0, 250.0, 550.0, 500.0, 400.0, 600.0, 1800.0, 1600.0, 1600.0, 600.0, 1400.0, 300.0, 400.0, 300.0, 400.0, 550.0, 800.0, 800.0, 2000.0, 1000.0, 550.0, 400.0, 1250.0, 400.0, 300.0, 300.0, 700.0, 450.0, 500.0, 1000.0, 500.0, 450.0, 300.0, 350.0, 400.0, 800.0, 400.0, 400.0, 250.0, 450.0, 300.0, 150.0, 150.0, 250.0, 180.0, 400.0, 500.0, 200.0, 300.0, 200.0, 300.0, 300.0, 500.0, 350.0, 600.0, 900.0, 1300.0, 1100.0, 750.0, 700.0, 500.0, 200.0, 300.0, 400.0, 2200.0, 3000.0, 1800.0, 2500.0, 3000.0, 3000.0, 1500.0, 1200.0, 1300.0, 2100.0, 1700.0, 1600.0, 1500.0, 2200.0, 1400.0, 1500.0, 1000.0, 1000.0, 1500.0, 1500.0, 1500.0, 1300.0, 1200.0, 1600.0, 1000.0, 1100.0, 600.0, 1000.0, 1200.0, 1200.0, 1800.0, 2500.0, 2000.0, 600.0, 400.0, 350.0, 500.0, 1700.0, 1800.0, 1500.0, 1500.0, 1500.0, 2000.0, 800.0, 2800.0, 700.0, 1100.0, 1500.0, 2100.0, 1500.0, 2000.0, 3000.0, 2500.0, 3500.0, 1700.0, 1700.0, 1500.0, 1200.0, 1500.0, 1300.0, 1200.0, 700.0, 800.0, 1600.0, 1000.0, 1500.0, 800.0, 2000.0, 1500.0, 2500.0, 2100.0, 1000.0, 1900.0, 1700.0, 2000.0, 1100.0, 1300.0, 600.0, 900.0, 1200.0, 1700.0, 1400.0, 1300.0, 1000.0, 600.0, 2500.0, 1400.0, 200.0, 1500.0, 550.0, 750.0, 1000.0, 1500.0, 3000.0, 1500.0, 3000.0, 1100.0, 650.0, 1200.0, 2500.0, 2000.0, 600.0, 1400.0, 1100.0, 3200.0, 650.0, 750.0, 850.0, 1800.0, 500.0, 2500.0, 1000.0, 1500.0, 1000.0, 1200.0, 3400.0, 2000.0, 1000.0, 1400.0, 3500.0, 700.0, 1600.0, 1200.0, 400.0, 900.0, 1500.0, 1200.0, 800.0, 1500.0, 1200.0, 4000.0, 500.0, 1300.0, 700.0, 4000.0, 4000.0, 1200.0, 800.0, 600.0, 1100.0, 1100.0, 1000.0, 1700.0, 2000.0, 1200.0, 800.0, 2000.0, 3000.0, 2000.0, 800.0, 2000.0, 3500.0, 1000.0, 1300.0, 700.0, 1000.0, 500.0, 800.0, 2800.0, 2500.0, 800.0, 500.0, 3000.0, 750.0, 800.0, 650.0, 1800.0, 950.0, 1500.0, 3000.0, 750.0, 750.0, 1500.0, 1000.0, 1500.0, 550.0, 500.0, 700.0, 500.0, 600.0, 700.0, 800.0, 700.0, 1200.0, 1000.0, 300.0, 700.0, 1300.0, 1000.0, 500.0, 1600.0, 500.0, 1600.0, 3000.0, 900.0, 450.0, 1000.0, 650.0, 550.0, 650.0, 1000.0, 1000.0, 2000.0, 350.0, 400.0, 300.0, 3000.0, 1200.0, 3000.0, 400.0, 500.0, 650.0, 800.0, 2500.0, 700.0, 1400.0, 500.0, 600.0, 500.0, 800.0, 600.0, 850.0, 700.0, 500.0, 1900.0, 800.0, 1000.0, 500.0, 1300.0, 1500.0, 250.0, 1000.0, 1000.0, 700.0, 500.0, 3000.0, 600.0, 500.0, 800.0, 600.0, 500.0, 800.0, 1200.0, 500.0, 550.0, 800.0, 800.0, 1200.0, 800.0, 600.0, 350.0, 800.0, 700.0, 600.0, 2500.0, 800.0, 600.0, 1000.0, 550.0, 250.0, 700.0, 400.0, 300.0, 500.0, 200.0, 300.0, 150.0, 450.0, 300.0, 500.0, 300.0, 300.0, 150.0, 300.0, 450.0, 500.0, 150.0, 300.0, 600.0, 400.0, 250.0, 350.0, 400.0, 200.0, 400.0, 250.0, 400.0, 500.0, 300.0, 400.0, 500.0, 500.0, 400.0, 200.0, 400.0, 350.0, 250.0, 400.0, 500.0, 250.0, 300.0, 300.0, 300.0, 450.0, 300.0, 100.0, 500.0, 1300.0, 2800.0, 3000.0, 2500.0, 1600.0, 1100.0, 1100.0, 4100.0, 1300.0, 3000.0, 600.0, 2000.0, 2000.0, 1000.0, 1300.0, 1100.0, 750.0, 3400.0, 750.0, 1800.0, 3000.0, 1300.0, 700.0, 1500.0, 1700.0, 300.0, 600.0, 1200.0, 2300.0, 1000.0, 750.0, 3000.0, 2000.0, 1000.0, 500.0, 3000.0, 1300.0, 750.0, 850.0, 450.0, 700.0, 1000.0, 600.0, 750.0, 1800.0, 400.0, 650.0, 500.0, 750.0, 400.0, 500.0, 400.0, 450.0, 150.0, 200.0, 2200.0, 200.0, 150.0, 700.0, 2400.0, 350.0, 400.0, 400.0, 1100.0, 600.0, 200.0, 2000.0, 1100.0, 450.0, 600.0, 300.0, 150.0, 750.0, 600.0, 350.0, 1200.0, 1300.0, 1800.0, 1200.0, 2100.0, 1700.0, 1000.0, 1000.0, 1300.0, 1200.0, 1800.0, 1200.0, 2000.0, 1500.0, 2500.0, 1700.0, 1200.0, 1300.0, 1500.0, 2500.0, 1900.0, 1700.0, 1000.0, 1500.0, 1100.0, 1200.0, 1400.0, 1100.0, 1000.0, 1000.0, 1600.0, 1200.0, 1200.0, 1500.0, 4000.0, 1100.0, 1100.0, 1000.0, 1700.0, 2000.0, 2000.0, 2000.0, 3500.0, 1300.0, 1800.0, 1500.0, 1500.0, 600.0, 1000.0, 1000.0, 1000.0, 3000.0, 1200.0, 1300.0, 1500.0, 800.0, 1300.0, 3000.0, 3000.0, 2000.0, 1000.0, 3400.0, 1200.0, 1300.0, 2200.0, 1100.0, 1200.0, 2000.0, 1700.0, 1500.0, 950.0, 1000.0, 1200.0, 2400.0, 800.0, 4100.0, 1500.0, 1400.0, 3000.0, 1200.0, 600.0, 800.0, 600.0, 900.0, 500.0, 600.0, 500.0, 700.0, 700.0, 400.0, 350.0, 500.0, 400.0, 800.0, 1000.0, 400.0, 800.0, 600.0, 650.0, 500.0, 500.0, 650.0, 200.0, 120.0, 350.0, 400.0, 450.0, 400.0, 600.0, 400.0, 750.0, 300.0, 250.0, 500.0, 400.0, 600.0, 500.0, 400.0, 600.0, 400.0, 250.0, 400.0, 450.0, 250.0, 300.0, 300.0, 300.0, 300.0, 700.0, 750.0, 500.0, 400.0, 500.0, 400.0, 300.0, 200.0, 350.0, 600.0, 500.0, 150.0, 250.0, 800.0, 400.0, 500.0, 700.0, 350.0, 150.0, 450.0, 700.0, 750.0, 500.0, 600.0, 300.0, 500.0, 250.0, 100.0, 450.0, 800.0, 600.0, 650.0, 300.0, 550.0, 450.0, 1400.0, 300.0, 250.0, 600.0, 800.0, 500.0, 1200.0, 2000.0, 1100.0, 1200.0, 150.0, 900.0, 700.0, 500.0, 150.0, 500.0, 200.0, 300.0, 800.0, 250.0, 350.0, 650.0, 1000.0, 1300.0, 450.0, 800.0, 900.0, 200.0, 300.0, 700.0, 150.0, 150.0, 300.0, 500.0, 800.0, 300.0, 400.0, 100.0, 300.0, 450.0, 500.0, 400.0, 300.0, 450.0, 500.0, 400.0, 500.0, 500.0, 600.0, 1100.0, 1000.0, 300.0, 400.0, 1500.0, 500.0, 600.0, 400.0, 750.0, 400.0, 800.0, 400.0, 600.0, 300.0, 300.0, 600.0, 300.0, 1000.0, 350.0, 700.0, 300.0, 750.0, 400.0, 800.0, 150.0, 750.0, 400.0, 600.0, 400.0, 500.0, 400.0, 400.0, 400.0, 700.0, 900.0, 300.0, 650.0, 600.0, 200.0, 500.0, 700.0, 400.0, 150.0, 450.0, 600.0, 800.0, 400.0, 1000.0, 1100.0, 1200.0, 200.0, 550.0, 200.0, 500.0, 500.0, 500.0, 350.0, 800.0, 500.0, 650.0, 200.0, 600.0, 300.0, 400.0, 700.0, 500.0, 350.0, 600.0, 450.0, 1700.0, 650.0, 950.0, 400.0, 500.0, 1100.0, 600.0, 600.0, 650.0, 400.0, 150.0, 600.0, 1000.0, 600.0, 450.0, 500.0, 1700.0, 1500.0, 600.0, 100.0, 600.0, 800.0, 1200.0, 500.0, 750.0, 800.0, 900.0, 500.0, 500.0, 1000.0, 700.0, 1000.0, 850.0, 900.0, 300.0, 1100.0, 900.0, 1200.0, 1200.0, 800.0, 1400.0, 600.0, 1000.0, 900.0, 750.0, 750.0, 800.0, 800.0, 1000.0, 300.0, 500.0, 700.0, 1500.0, 1400.0, 650.0, 1800.0, 600.0, 400.0, 400.0, 250.0, 700.0, 200.0, 250.0, 250.0, 300.0, 500.0, 300.0, 400.0, 400.0, 400.0, 100.0, 250.0, 200.0, 450.0, 400.0, 800.0, 400.0, 400.0, 1250.0, 800.0, 200.0, 600.0, 450.0, 500.0, 500.0, 1100.0, 2600.0, 2000.0, 1800.0, 2000.0, 1300.0, 2500.0, 1200.0, 1700.0, 1400.0, 700.0, 1000.0, 1400.0, 1500.0, 800.0, 1000.0, 1400.0, 950.0, 500.0, 600.0, 1100.0, 1000.0, 1500.0, 500.0, 600.0, 1200.0, 100.0, 1500.0, 650.0, 700.0, 500.0, 500.0, 2500.0, 1500.0, 700.0, 1500.0, 600.0, 400.0, 1100.0, 750.0, 1100.0, 600.0, 150.0, 2000.0, 400.0, 500.0, 600.0, 800.0, 600.0, 250.0, 150.0, 250.0, 300.0, 250.0, 300.0, 200.0, 200.0, 350.0, 150.0, 300.0, 400.0, 800.0, 400.0, 300.0, 350.0, 250.0, 600.0, 400.0, 600.0, 200.0, 500.0, 200.0, 250.0, 200.0, 300.0, 500.0, 300.0, 400.0, 300.0, 500.0, 300.0, 100.0, 300.0, 300.0, 550.0, 400.0, 500.0, 800.0, 500.0, 150.0, 500.0, 1200.0, 1200.0, 1200.0, 2400.0, 1000.0, 800.0, 4100.0, 1500.0, 2000.0, 900.0, 5000.0, 800.0, 1400.0, 3000.0, 3000.0, 1500.0, 1000.0, 1000.0, 4000.0, 2200.0, 1800.0, 4000.0, 1200.0, 700.0, 800.0, 700.0, 600.0, 2200.0, 2500.0, 450.0, 650.0, 3700.0, 700.0, 600.0, 750.0, 600.0, 800.0, 300.0, 200.0, 300.0, 200.0, 200.0, 250.0, 1650.0, 1100.0, 1300.0, 400.0, 1200.0, 1200.0, 600.0, 600.0, 800.0, 700.0, 1400.0, 850.0, 300.0, 900.0, 650.0, 1100.0, 800.0, 450.0, 700.0, 400.0, 600.0, 300.0, 600.0, 400.0, 600.0, 900.0, 500.0, 450.0, 450.0, 600.0, 750.0, 300.0, 450.0, 1200.0, 2600.0, 1800.0, 1200.0, 1400.0, 1400.0, 1100.0, 1500.0, 1500.0, 1100.0, 2000.0, 2000.0, 3000.0, 1500.0, 2200.0, 1650.0, 1200.0, 1100.0, 1200.0, 1400.0, 1400.0, 1100.0, 1500.0, 1100.0, 2000.0, 3000.0, 2500.0, 1650.0, 1300.0, 1400.0, 2500.0, 1400.0, 1500.0, 1500.0, 1600.0, 1300.0, 1400.0, 1100.0, 1300.0, 1200.0, 2700.0, 1000.0, 1600.0, 1500.0, 1500.0, 1700.0, 1300.0, 750.0, 1000.0, 1000.0, 1200.0, 600.0, 700.0, 750.0, 1200.0, 600.0, 400.0, 600.0, 700.0, 300.0, 700.0, 400.0, 650.0, 300.0, 600.0, 500.0, 500.0, 600.0, 300.0, 400.0, 700.0, 600.0, 450.0, 450.0, 250.0, 500.0, 700.0, 300.0, 600.0, 850.0, 500.0, 500.0, 650.0, 400.0, 400.0, 500.0, 650.0, 400.0, 800.0, 300.0, 400.0, 400.0, 450.0, 1000.0, 800.0, 500.0, 400.0, 300.0, 250.0, 350.0, 400.0, 400.0, 300.0, 700.0, 150.0, 600.0, 800.0, 250.0, 650.0, 250.0, 500.0, 350.0, 800.0, 200.0, 1400.0, 500.0, 1100.0, 350.0, 650.0, 400.0, 1400.0, 700.0, 300.0, 800.0, 600.0, 900.0, 600.0, 300.0, 450.0, 300.0, 300.0, 800.0, 600.0, 800.0, 400.0, 200.0, 300.0, 1100.0, 450.0, 400.0, 450.0, 400.0, 200.0, 500.0, 200.0, 700.0, 650.0, 600.0, 400.0, 1000.0, 300.0, 400.0, 800.0, 600.0, 800.0, 400.0, 150.0, 200.0, 1000.0, 1000.0, 500.0, 300.0, 600.0, 600.0, 400.0, 500.0, 550.0, 1400.0, 300.0, 300.0, 500.0, 300.0, 350.0, 1300.0, 250.0, 450.0, 400.0, 600.0, 600.0, 400.0, 1000.0, 600.0, 1000.0, 300.0, 300.0, 800.0, 600.0, 400.0, 700.0, 700.0, 400.0, 1400.0, 900.0, 750.0, 750.0, 400.0, 500.0, 500.0, 750.0, 200.0, 800.0, 300.0, 600.0, 300.0, 1500.0, 1500.0, 450.0, 700.0, 1000.0, 500.0, 350.0, 1000.0, 1200.0, 300.0, 600.0, 200.0, 600.0, 400.0, 800.0, 250.0, 150.0, 1000.0, 800.0, 350.0, 250.0, 550.0, 800.0, 400.0, 650.0, 200.0, 400.0, 300.0, 600.0, 600.0, 200.0, 300.0, 1100.0, 500.0, 600.0, 500.0, 400.0, 550.0, 500.0, 400.0, 400.0, 450.0, 300.0, 650.0, 450.0, 800.0, 600.0, 450.0, 800.0, 750.0, 400.0, 750.0, 300.0, 600.0, 650.0, 600.0, 250.0, 800.0, 250.0, 700.0, 250.0, 400.0, 500.0, 1000.0, 350.0, 700.0, 900.0, 300.0, 200.0, 400.0, 350.0, 500.0, 800.0, 500.0, 800.0, 300.0, 700.0, 650.0, 750.0, 150.0, 750.0, 600.0, 500.0, 700.0, 300.0, 300.0, 250.0, 450.0, 1000.0, 300.0, 700.0, 300.0, 400.0, 500.0, 700.0, 800.0, 500.0, 300.0, 750.0, 300.0, 800.0, 200.0, 450.0, 900.0, 600.0, 300.0, 450.0, 650.0, 600.0, 750.0, 500.0, 750.0, 750.0, 500.0, 1200.0, 600.0, 350.0, 400.0, 750.0, 400.0, 600.0, 650.0, 800.0, 500.0, 600.0, 500.0, 200.0, 750.0, 200.0, 250.0, 800.0, 600.0, 1500.0, 150.0, 750.0, 150.0, 500.0, 450.0, 400.0, 750.0, 500.0, 300.0, 450.0, 1000.0, 500.0, 850.0, 800.0, 400.0, 500.0, 250.0, 400.0, 600.0, 1700.0, 400.0, 1000.0, 1000.0, 1100.0, 500.0, 400.0, 1400.0, 400.0, 200.0, 250.0, 500.0, 500.0, 500.0, 300.0, 350.0, 300.0, 300.0, 700.0, 300.0, 400.0, 600.0, 500.0, 400.0, 400.0, 400.0, 550.0, 400.0, 1100.0, 1400.0, 2500.0, 1500.0, 1600.0, 1300.0, 1400.0, 1100.0, 1500.0, 1300.0, 1300.0, 1500.0, 1800.0, 650.0, 1200.0, 2700.0, 800.0, 1600.0, 1000.0, 600.0, 1000.0, 600.0, 1600.0, 1100.0, 900.0, 1000.0, 800.0, 750.0, 800.0, 800.0, 1500.0, 1500.0, 1000.0, 600.0, 2500.0, 1300.0, 500.0, 1400.0, 800.0, 2000.0, 1100.0, 700.0, 1100.0, 850.0, 1700.0, 650.0, 1500.0, 800.0, 750.0, 750.0, 800.0, 800.0, 800.0, 850.0, 800.0, 1000.0, 600.0, 800.0, 650.0, 1300.0, 1000.0, 900.0, 750.0, 400.0, 900.0, 700.0, 700.0, 4500.0, 800.0, 600.0, 1000.0, 800.0, 600.0, 800.0, 400.0, 1100.0, 650.0, 750.0, 450.0, 500.0, 300.0, 500.0, 1000.0, 750.0, 1200.0, 650.0, 650.0, 700.0, 500.0, 500.0, 400.0, 1000.0, 1000.0, 450.0, 750.0, 2500.0, 600.0, 600.0, 800.0, 800.0, 1000.0, 400.0, 550.0, 1000.0, 1200.0, 500.0, 600.0, 400.0, 650.0, 800.0, 700.0, 750.0, 600.0, 700.0, 250.0, 600.0, 1000.0, 800.0, 600.0, 200.0, 450.0, 150.0, 400.0, 450.0, 200.0, 300.0, 300.0, 250.0, 400.0, 300.0, 500.0, 600.0, 400.0, 350.0, 350.0, 600.0, 350.0, 400.0, 300.0, 250.0, 400.0, 300.0, 300.0, 200.0, 500.0, 400.0, 350.0, 400.0, 200.0, 200.0, 250.0, 150.0, 400.0, 450.0, 250.0, 300.0, 700.0, 400.0, 400.0, 500.0, 300.0, 400.0, 150.0, 500.0, 300.0, 500.0, 300.0, 250.0, 200.0, 200.0, 600.0, 500.0, 350.0, 450.0, 400.0, 400.0, 300.0, 300.0, 600.0, 450.0, 1200.0, 1000.0, 700.0, 600.0, 300.0, 750.0, 1500.0, 600.0, 600.0, 800.0, 800.0, 800.0, 700.0, 750.0, 750.0, 800.0, 500.0, 250.0, 300.0, 550.0, 400.0, 600.0, 500.0, 500.0, 400.0, 400.0, 500.0, 500.0, 850.0, 300.0, 600.0, 500.0, 500.0, 600.0, 900.0, 600.0, 400.0, 450.0, 350.0, 400.0, 450.0, 1200.0, 250.0, 750.0, 600.0, 150.0, 350.0, 500.0, 500.0, 500.0, 350.0, 450.0, 550.0, 350.0, 650.0, 300.0, 450.0, 600.0, 500.0, 150.0, 500.0, 250.0, 300.0, 750.0, 300.0, 800.0, 600.0, 1400.0, 1800.0, 4500.0, 1100.0, 1500.0, 1300.0, 1500.0, 1200.0, 1600.0, 1000.0, 1500.0, 1300.0, 1100.0, 1200.0, 2500.0, 1000.0, 1200.0, 1200.0, 1500.0, 1500.0, 1500.0, 2200.0, 2100.0, 3000.0, 3000.0, 1500.0, 1600.0, 3000.0, 800.0, 1800.0, 1200.0, 2800.0, 1700.0, 1400.0, 1600.0, 1500.0, 2500.0, 750.0, 500.0, 1000.0, 1500.0, 3400.0, 2000.0, 1200.0, 800.0, 1700.0, 1600.0, 2000.0, 1300.0, 2200.0, 1200.0, 1000.0, 1200.0, 650.0, 1400.0, 1900.0, 1000.0, 1000.0, 500.0, 1200.0, 650.0, 1300.0, 1700.0, 1200.0, 1300.0, 1000.0, 1100.0, 750.0, 1200.0, 1700.0, 2500.0, 450.0, 500.0, 800.0, 700.0, 1100.0, 800.0, 900.0, 1000.0, 600.0, 600.0, 650.0, 1400.0, 750.0, 700.0, 400.0, 900.0, 700.0, 700.0, 800.0, 750.0, 800.0, 500.0, 1000.0, 1000.0, 400.0, 650.0, 1200.0, 500.0, 500.0, 600.0, 400.0, 1000.0, 500.0, 600.0, 800.0, 350.0, 1300.0, 1100.0, 750.0, 1000.0, 800.0, 650.0, 500.0, 600.0, 1200.0, 500.0, 300.0, 200.0, 500.0, 450.0, 400.0, 600.0, 800.0, 300.0, 500.0, 300.0, 650.0, 600.0, 200.0, 400.0, 400.0, 350.0, 750.0, 500.0, 800.0, 500.0, 300.0, 800.0, 800.0, 1000.0, 500.0, 750.0, 400.0, 550.0, 400.0, 750.0, 950.0, 400.0, 600.0, 400.0, 800.0, 150.0, 1500.0, 450.0, 200.0, 250.0, 300.0, 750.0, 400.0, 800.0, 250.0, 700.0, 150.0, 800.0, 650.0, 400.0, 1200.0, 900.0, 1200.0, 300.0, 1100.0, 400.0, 500.0, 600.0, 1400.0, 650.0, 900.0, 400.0, 1300.0, 500.0, 700.0, 800.0, 300.0, 800.0, 800.0, 750.0, 1500.0, 400.0, 700.0, 350.0, 850.0, 1600.0, 500.0, 400.0, 650.0, 800.0, 1700.0, 500.0, 1200.0, 1300.0, 500.0, 500.0, 700.0, 400.0, 350.0, 400.0, 600.0, 1600.0, 650.0, 700.0, 400.0, 550.0, 500.0, 300.0, 1000.0, 1500.0, 650.0, 1300.0, 600.0, 1200.0, 600.0, 1100.0, 500.0, 1500.0, 400.0, 700.0, 900.0, 400.0, 600.0, 500.0, 400.0, 500.0, 500.0, 800.0, 600.0, 1600.0, 400.0, 250.0, 3000.0, 350.0, 250.0, 250.0, 1700.0, 900.0, 350.0, 400.0, 600.0, 300.0, 200.0, 800.0, 200.0, 300.0, 550.0, 750.0, 600.0, 450.0, 600.0, 100.0, 350.0, 600.0, 1300.0, 180.0, 1700.0, 500.0, 2100.0, 700.0, 300.0, 500.0, 2000.0, 1000.0, 1500.0, 300.0, 150.0, 800.0, 1500.0, 700.0, 750.0, 400.0, 1300.0, 600.0, 400.0, 1000.0, 700.0, 500.0, 800.0, 1300.0, 500.0, 450.0, 500.0, 750.0, 500.0, 400.0, 1300.0, 600.0, 700.0, 500.0, 700.0, 750.0, 500.0, 1000.0, 1200.0, 500.0, 2100.0, 1000.0, 500.0, 1900.0, 400.0, 450.0, 300.0, 1400.0, 300.0, 600.0, 2000.0, 400.0, 1000.0, 650.0, 950.0, 1000.0, 500.0, 300.0, 1400.0, 800.0, 1200.0, 1000.0, 1000.0, 150.0, 700.0, 700.0, 700.0, 750.0, 500.0, 1500.0, 300.0, 700.0, 700.0, 800.0, 450.0, 1200.0, 1800.0, 500.0, 800.0, 200.0, 1500.0, 500.0, 200.0, 700.0, 700.0, 400.0, 500.0, 400.0, 450.0, 1000.0, 400.0, 1400.0, 800.0, 600.0, 700.0, 350.0, 1500.0, 1500.0, 200.0, 500.0, 300.0, 600.0, 400.0, 700.0, 300.0, 1800.0, 800.0, 1800.0, 1000.0, 800.0, 2000.0, 1200.0, 300.0, 500.0, 300.0, 600.0, 1200.0, 1000.0, 700.0, 400.0, 250.0, 200.0, 250.0, 200.0, 1700.0, 300.0, 1000.0, 350.0, 400.0, 650.0, 300.0, 800.0, 1000.0, 800.0, 750.0, 2000.0, 1700.0, 850.0, 1000.0, 850.0, 650.0, 500.0, 600.0, 400.0, 1200.0, 800.0, 350.0, 300.0, 1500.0, 550.0, 300.0, 700.0, 300.0, 700.0, 300.0, 800.0, 750.0, 1000.0, 550.0, 2000.0, 700.0, 300.0, 400.0, 800.0, 550.0, 250.0, 600.0, 300.0, 1700.0, 500.0, 1200.0, 1300.0, 700.0, 1300.0, 1000.0, 1200.0, 1000.0, 1400.0, 800.0, 700.0, 2100.0, 800.0, 900.0, 550.0, 400.0, 750.0, 400.0, 500.0, 900.0, 500.0, 800.0, 500.0, 800.0, 600.0, 800.0, 150.0, 750.0, 600.0, 1200.0, 1300.0, 600.0, 500.0, 650.0, 500.0, 400.0, 500.0, 200.0, 800.0, 350.0, 1000.0, 500.0, 1100.0, 500.0, 500.0, 200.0, 500.0, 300.0, 450.0, 100.0, 600.0, 500.0, 1600.0, 600.0, 1600.0, 450.0, 500.0, 800.0, 900.0, 300.0, 800.0, 2000.0, 1000.0, 600.0, 550.0, 400.0, 1250.0, 400.0, 1400.0, 700.0, 300.0, 300.0, 700.0, 500.0, 300.0, 400.0, 2000.0, 1000.0, 700.0, 400.0, 450.0, 300.0, 350.0, 400.0, 300.0, 400.0, 400.0, 250.0, 450.0, 400.0, 300.0, 150.0, 250.0, 200.0, 180.0, 400.0, 150.0, 500.0, 400.0, 200.0, 300.0, 300.0, 500.0, 350.0, 600.0, 1300.0, 800.0, 200.0, 1100.0, 750.0, 500.0, 2100.0, 1800.0, 1500.0, 1700.0, 2800.0, 2100.0, 3000.0, 1200.0, 1500.0, 1500.0, 1700.0, 200.0, 1500.0, 1000.0, 3000.0, 1500.0, 2500.0, 2000.0, 1500.0, 600.0, 2000.0, 3000.0, 1000.0, 2800.0, 3000.0, 1800.0, 500.0, 1000.0, 1600.0, 3000.0, 3000.0, 3000.0, 2500.0, 800.0, 800.0, 1500.0, 750.0, 350.0, 700.0, 2500.0, 2500.0, 1000.0, 700.0, 450.0, 500.0, 400.0, 500.0, 200.0, 250.0, 1800.0, 1500.0, 1500.0, 2500.0, 2000.0, 3000.0, 2200.0, 3000.0, 800.0, 700.0, 1100.0, 1500.0, 1500.0, 2000.0, 1500.0, 2500.0, 3500.0, 1700.0, 1700.0, 1500.0, 1200.0, 1200.0, 1300.0, 1500.0, 1300.0, 2800.0, 2100.0, 700.0, 1700.0, 1600.0, 1000.0, 3000.0, 800.0, 2000.0, 1500.0, 1000.0, 1900.0, 1700.0, 2000.0, 1100.0, 1300.0, 2200.0, 1400.0, 1500.0, 600.0, 900.0, 1200.0, 2500.0, 1600.0, 1400.0, 1300.0, 1500.0, 1000.0, 1000.0, 600.0, 2500.0, 4000.0, 550.0, 750.0, 1300.0, 1500.0, 3000.0, 500.0, 1000.0, 1100.0, 650.0, 1200.0, 1500.0, 1400.0, 1500.0, 1100.0, 600.0, 1300.0, 1000.0, 1300.0, 650.0, 850.0, 750.0, 1800.0, 1000.0, 1500.0, 750.0, 1000.0, 1200.0, 3400.0, 700.0, 1800.0, 2000.0, 3000.0, 1000.0, 1400.0, 3500.0, 700.0, 1600.0, 400.0, 900.0, 1500.0, 1200.0, 1200.0, 800.0, 1200.0, 4000.0, 500.0, 1300.0, 700.0, 4000.0, 1200.0, 800.0, 600.0, 1200.0, 1100.0, 1100.0, 1000.0, 1700.0, 2000.0, 550.0, 2000.0, 650.0, 3000.0, 1600.0, 800.0, 2000.0, 2000.0, 3500.0, 1300.0, 700.0, 1000.0, 750.0, 800.0, 1800.0, 800.0, 650.0, 800.0, 2000.0, 2200.0, 950.0, 800.0, 3000.0, 750.0, 1500.0, 1000.0, 1100.0, 550.0, 700.0, 500.0, 1000.0, 600.0, 700.0, 800.0, 2000.0, 700.0, 1200.0, 300.0, 700.0, 500.0, 1000.0, 1000.0, 450.0, 1000.0, 650.0, 550.0, 650.0, 1200.0, 1200.0, 1000.0, 2000.0, 1500.0, 350.0, 300.0, 400.0, 400.0, 1800.0, 500.0, 500.0, 2500.0, 650.0, 800.0, 1400.0, 500.0, 600.0, 500.0, 800.0, 600.0, 850.0, 700.0, 400.0, 2400.0, 1400.0, 1900.0, 1000.0, 500.0, 1300.0, 250.0, 1000.0, 600.0, 700.0, 500.0, 3000.0, 600.0, 500.0, 800.0, 600.0, 500.0, 800.0, 1200.0, 500.0, 800.0, 1200.0, 800.0, 600.0, 800.0, 2000.0, 600.0, 800.0, 600.0, 600.0, 550.0, 400.0, 250.0, 400.0, 300.0, 500.0, 200.0, 150.0, 300.0, 300.0, 500.0, 300.0, 300.0, 150.0, 250.0, 200.0, 450.0, 150.0, 300.0, 600.0, 400.0, 350.0, 200.0, 250.0, 400.0, 250.0, 400.0, 300.0, 400.0, 500.0, 500.0, 500.0, 400.0, 500.0, 350.0, 400.0, 500.0, 300.0, 300.0, 300.0, 300.0, 450.0, 300.0, 100.0, 500.0, 1300.0, 800.0, 1600.0, 2500.0, 1100.0, 1100.0, 750.0, 700.0, 1300.0, 1700.0, 600.0, 1000.0, 1200.0, 550.0, 600.0, 500.0, 800.0, 650.0, 200.0, 700.0, 650.0, 200.0, 750.0, 1300.0, 500.0, 200.0, 1000.0, 650.0, 300.0, 400.0, 500.0, 500.0, 300.0, 300.0, 500.0, 300.0, 250.0, 700.0, 400.0, 350.0, 300.0, 1100.0, 500.0, 400.0, 250.0, 800.0, 600.0, 700.0, 600.0, 300.0, 1300.0, 2000.0, 2000.0, 1700.0, 1500.0, 1000.0, 1500.0, 2800.0, 3000.0, 1000.0, 3000.0, 1500.0, 1500.0, 2500.0, 2000.0, 3000.0, 3000.0, 1500.0, 1500.0, 1500.0, 2500.0, 1700.0, 1700.0, 1200.0, 1300.0, 1300.0, 1700.0, 2000.0, 1500.0, 1900.0, 1300.0, 1000.0, 1300.0, 1500.0, 3000.0, 1100.0, 1200.0, 1400.0, 1100.0, 1000.0, 1000.0, 1600.0, 1200.0, 1200.0, 1100.0, 1100.0, 1000.0, 2000.0, 2000.0, 1500.0, 1100.0, 600.0, 1000.0, 1000.0, 2000.0, 1500.0, 2500.0, 2400.0, 1400.0, 1300.0, 2500.0, 1200.0, 1300.0, 1300.0, 1200.0, 1500.0, 1000.0, 1500.0, 2000.0, 1800.0, 1000.0, 3000.0, 1500.0, 2000.0, 1500.0, 2500.0, 1700.0, 1200.0, 1200.0, 1300.0, 2100.0, 1700.0, 1900.0, 1700.0, 1000.0, 1500.0, 1300.0, 1000.0, 1100.0, 1200.0, 1400.0, 1100.0, 1300.0, 1000.0, 1000.0, 1000.0, 1600.0, 1200.0, 1200.0, 4000.0, 1200.0, 1100.0, 1200.0, 1100.0, 1000.0, 1700.0, 2000.0, 2000.0, 3500.0, 1300.0, 1800.0, 1100.0, 600.0, 1000.0, 1200.0, 1000.0, 1800.0, 1400.0, 1300.0, 800.0, 1300.0, 2500.0, 1400.0, 1100.0, 1800.0, 900.0, 900.0, 1200.0, 700.0, 650.0, 800.0, 600.0, 600.0, 800.0, 1000.0, 500.0, 900.0, 800.0, 1100.0, 700.0, 900.0, 700.0, 250.0, 400.0, 600.0, 500.0, 650.0, 650.0, 300.0, 350.0, 400.0, 300.0, 450.0, 400.0, 800.0, 500.0, 600.0, 300.0, 600.0, 1400.0, 500.0, 600.0, 500.0, 400.0, 850.0, 500.0, 800.0, 250.0, 300.0, 300.0, 500.0, 400.0, 300.0, 500.0, 100.0, 600.0, 700.0, 750.0, 400.0, 750.0, 450.0, 500.0, 400.0, 600.0, 1700.0, 800.0, 200.0, 300.0, 500.0, 600.0, 300.0, 700.0, 400.0, 650.0, 500.0, 500.0, 300.0, 1200.0, 700.0, 250.0, 400.0, 300.0, 200.0, 900.0, 350.0, 450.0, 700.0, 500.0, 650.0, 700.0, 800.0, 150.0, 400.0, 500.0, 800.0, 700.0, 300.0, 650.0, 300.0, 450.0, 400.0, 400.0, 500.0, 500.0, 600.0, 1000.0, 400.0, 900.0, 1250.0, 650.0, 500.0, 300.0, 600.0, 600.0, 800.0, 1000.0, 600.0, 400.0, 400.0, 1100.0, 800.0, 800.0, 400.0, 600.0, 300.0, 700.0, 700.0, 700.0, 100.0, 700.0, 1100.0, 400.0, 900.0, 900.0, 400.0, 350.0, 500.0, 400.0, 200.0, 600.0, 150.0, 800.0, 350.0, 200.0, 1100.0, 1400.0, 450.0, 450.0, 400.0, 700.0, 800.0, 250.0, 600.0, 650.0, 400.0, 700.0, 400.0, 400.0, 300.0, 600.0, 500.0, 600.0, 900.0, 700.0, 400.0, 500.0, 400.0, 300.0, 200.0, 400.0, 500.0, 400.0, 300.0, 400.0, 200.0, 500.0, 350.0, 1400.0, 900.0, 1200.0, 1400.0, 1200.0, 600.0, 500.0, 1000.0, 800.0, 700.0, 800.0, 1000.0, 700.0, 700.0, 650.0, 1100.0, 500.0, 500.0, 400.0, 800.0, 600.0, 700.0, 400.0, 600.0, 400.0, 800.0, 800.0, 1400.0, 600.0, 750.0, 600.0, 700.0, 650.0, 1400.0, 800.0, 1000.0, 500.0, 1100.0, 900.0, 700.0, 300.0, 650.0, 800.0, 1100.0, 750.0, 1800.0, 850.0, 700.0, 800.0, 900.0, 700.0, 400.0, 900.0, 700.0, 650.0, 700.0, 250.0, 650.0, 400.0, 600.0, 400.0, 600.0, 700.0, 300.0, 350.0, 500.0, 400.0, 400.0, 500.0, 300.0, 600.0, 500.0, 300.0, 300.0, 500.0, 500.0, 450.0, 350.0, 300.0, 400.0, 400.0, 400.0, 250.0, 400.0, 400.0, 400.0, 600.0, 200.0, 400.0, 300.0, 300.0, 350.0, 400.0, 400.0, 300.0, 350.0, 1400.0, 1200.0, 1400.0, 1200.0, 1400.0, 1100.0, 1200.0, 1400.0, 1400.0, 1200.0, 1000.0, 1400.0, 1100.0, 1800.0, 1200.0, 3000.0, 3500.0, 2200.0, 1400.0, 1500.0, 1600.0, 1900.0, 1400.0, 1700.0, 1500.0, 1200.0, 1300.0, 600.0, 750.0, 800.0, 1000.0, 1200.0, 1200.0, 1500.0, 1700.0, 1000.0, 1100.0, 700.0, 450.0, 700.0, 500.0, 800.0, 900.0, 1000.0, 1000.0, 1600.0, 200.0, 700.0, 500.0, 1000.0, 700.0, 800.0, 650.0, 400.0, 400.0, 700.0, 700.0, 450.0, 800.0, 500.0, 800.0, 750.0, 600.0, 700.0, 500.0, 500.0, 200.0, 600.0, 500.0, 500.0, 600.0, 500.0, 500.0, 300.0, 200.0, 800.0, 450.0, 450.0, 300.0, 400.0, 400.0, 150.0, 200.0, 400.0, 600.0, 300.0, 750.0, 600.0, 250.0, 400.0, 200.0, 300.0, 400.0, 400.0, 300.0, 600.0, 700.0, 250.0, 700.0, 400.0, 500.0, 400.0, 650.0, 350.0, 1000.0, 300.0, 450.0, 400.0, 600.0, 1000.0, 500.0, 500.0, 800.0, 1000.0, 350.0, 800.0, 800.0, 1000.0, 600.0, 400.0, 500.0, 800.0, 400.0, 650.0, 850.0, 700.0, 300.0, 300.0, 950.0, 800.0, 500.0, 350.0, 600.0, 350.0, 600.0, 250.0, 800.0, 600.0, 400.0, 1500.0, 600.0, 200.0, 600.0, 600.0, 300.0, 300.0, 500.0, 200.0, 700.0, 800.0, 600.0, 300.0, 250.0, 600.0, 700.0, 750.0, 800.0, 300.0, 500.0, 500.0, 500.0, 1200.0, 750.0, 300.0, 300.0, 500.0, 1200.0, 400.0, 1200.0, 300.0, 800.0, 1200.0, 1600.0, 1100.0, 400.0, 250.0, 500.0, 650.0, 600.0, 400.0, 900.0, 500.0, 100.0, 700.0, 500.0, 400.0, 300.0, 500.0, 600.0, 1700.0, 500.0, 600.0, 400.0, 800.0, 1200.0, 800.0, 1500.0, 600.0, 1300.0, 400.0, 750.0, 350.0, 450.0, 500.0, 500.0, 1500.0, 500.0, 650.0, 150.0, 800.0, 1400.0, 500.0, 350.0, 350.0, 400.0, 600.0, 500.0, 300.0, 650.0, 400.0, 550.0, 450.0, 600.0, 400.0, 500.0, 300.0, 1200.0, 1500.0, 1800.0, 800.0, 400.0, 200.0, 800.0, 900.0, 1100.0, 600.0, 500.0, 500.0, 500.0, 450.0, 800.0, 250.0, 600.0, 1600.0, 600.0, 300.0, 350.0, 400.0, 800.0, 800.0, 550.0, 550.0, 900.0, 350.0, 400.0, 600.0, 400.0, 450.0, 200.0, 200.0, 300.0, 1500.0, 550.0, 200.0, 750.0, 450.0, 600.0, 500.0, 650.0, 300.0, 300.0, 600.0, 800.0, 1400.0, 600.0, 200.0, 500.0, 500.0, 800.0, 600.0, 1000.0, 600.0, 400.0, 350.0, 350.0, 700.0, 400.0, 500.0, 400.0, 500.0, 700.0, 300.0, 800.0, 500.0, 1200.0, 250.0, 500.0, 400.0, 400.0, 300.0, 600.0, 700.0, 1200.0, 450.0, 200.0, 600.0, 1000.0, 300.0, 500.0, 150.0, 700.0, 250.0, 1500.0, 700.0, 300.0, 1000.0, 450.0, 200.0, 500.0, 750.0, 500.0, 450.0, 500.0, 1400.0, 1200.0, 400.0, 300.0, 550.0, 500.0, 500.0, 150.0, 400.0, 450.0, 450.0, 400.0, 300.0, 1200.0, 750.0, 300.0, 300.0, 1000.0, 450.0, 250.0, 200.0, 300.0, 250.0, 1900.0, 750.0, 400.0, 200.0, 500.0, 1200.0, 150.0, 1500.0, 900.0, 400.0, 800.0, 700.0, 700.0, 600.0, 800.0, 2000.0, 500.0, 350.0, 700.0, 800.0, 300.0, 400.0, 400.0, 200.0, 200.0, 600.0, 500.0, 500.0, 1700.0, 1500.0, 1600.0, 400.0, 1400.0, 900.0, 700.0, 800.0, 800.0, 900.0, 1500.0, 650.0, 700.0, 500.0, 800.0, 300.0, 600.0, 350.0, 600.0, 400.0, 200.0, 700.0, 150.0, 500.0, 400.0, 700.0, 400.0, 450.0, 250.0, 1100.0, 400.0, 300.0, 200.0, 500.0, 500.0, 300.0, 500.0, 500.0, 500.0, 500.0, 1500.0, 600.0, 600.0, 500.0, 400.0, 400.0, 1200.0, 700.0, 200.0, 400.0, 200.0, 250.0, 300.0, 200.0, 1200.0, 400.0, 800.0, 900.0, 1000.0, 200.0, 700.0, 400.0, 300.0, 400.0, 400.0, 400.0, 300.0, 300.0, 450.0, 800.0, 400.0, 500.0, 400.0, 400.0, 400.0, 800.0, 800.0, 750.0, 300.0, 500.0, 300.0, 600.0, 350.0, 400.0, 300.0, 200.0, 300.0, 200.0, 200.0, 300.0, 500.0, 450.0, 600.0, 1800.0, 3500.0, 4000.0, 1000.0, 1000.0, 2200.0, 1400.0, 2000.0, 700.0, 6000.0, 3500.0, 2400.0, 900.0, 1500.0, 700.0, 450.0, 800.0, 300.0, 600.0, 550.0, 400.0, 750.0, 1900.0, 3000.0, 500.0, 200.0, 400.0, 250.0, 400.0, 350.0, 150.0, 300.0, 400.0, 400.0, 700.0, 500.0, 500.0, 400.0, 400.0, 500.0, 400.0, 450.0, 250.0, 600.0, 600.0, 850.0, 700.0, 500.0, 750.0, 500.0, 800.0, 500.0, 600.0, 750.0, 650.0, 600.0, 500.0, 400.0, 700.0, 500.0, 500.0, 600.0, 500.0, 500.0, 800.0, 400.0, 350.0, 300.0, 150.0, 250.0, 200.0, 150.0, 200.0, 550.0, 250.0, 450.0, 300.0, 500.0, 350.0, 150.0, 450.0, 350.0, 450.0, 500.0, 400.0, 200.0, 250.0, 400.0, 350.0, 1600.0, 1000.0, 800.0, 1500.0, 1800.0, 1400.0, 2000.0, 1200.0, 1500.0, 1900.0, 1500.0, 1500.0, 1200.0, 1600.0, 1400.0, 1500.0, 2500.0, 1300.0, 1000.0, 1400.0, 1700.0, 1700.0, 900.0, 1500.0, 1500.0, 1200.0, 1300.0, 1400.0, 700.0, 1300.0, 1600.0, 1000.0, 1000.0, 1200.0, 1100.0, 1000.0, 3000.0, 1500.0, 600.0, 2000.0, 800.0, 1700.0, 750.0, 1200.0, 600.0, 800.0, 800.0, 1200.0, 1600.0, 800.0, 200.0, 1000.0, 1100.0, 900.0, 700.0, 1500.0, 700.0, 1100.0, 1300.0, 1500.0, 1500.0, 450.0, 650.0, 500.0, 1000.0, 1000.0, 1800.0, 1500.0, 700.0, 800.0, 650.0, 1100.0, 1200.0, 1200.0, 1500.0, 800.0, 500.0, 1400.0, 1800.0, 1500.0, 700.0, 1800.0, 800.0, 500.0, 1200.0, 1700.0, 2000.0, 1300.0, 1600.0, 800.0, 500.0, 450.0, 300.0, 1000.0, 800.0, 300.0, 800.0, 600.0, 800.0, 300.0, 600.0, 3000.0, 1000.0, 600.0, 400.0, 350.0, 300.0, 400.0, 700.0, 400.0, 400.0, 200.0, 300.0, 700.0, 150.0, 600.0, 600.0, 300.0, 600.0, 400.0, 500.0, 250.0, 1800.0, 1300.0, 350.0, 400.0, 500.0, 350.0, 600.0, 300.0, 500.0, 450.0, 500.0, 250.0, 1100.0, 600.0, 1200.0, 500.0, 500.0, 300.0, 250.0, 500.0, 200.0, 600.0, 1500.0, 1800.0, 1000.0, 1800.0, 2400.0, 3000.0, 1400.0, 2000.0, 1900.0, 1500.0, 1400.0, 1300.0, 1400.0, 1300.0, 1300.0, 1400.0, 1000.0, 1500.0, 2000.0, 1700.0, 1600.0, 1100.0, 1100.0, 1500.0, 1500.0, 1800.0, 1500.0, 1100.0, 1400.0, 1800.0, 1200.0, 1300.0, 1600.0, 1000.0, 1300.0, 1300.0, 1000.0, 1800.0, 1000.0, 1400.0, 1800.0, 900.0, 1000.0, 1400.0, 2000.0, 1200.0, 1500.0, 1500.0, 2500.0, 1300.0, 1500.0, 1300.0, 1400.0, 1700.0, 800.0, 1100.0, 1100.0, 1500.0, 1500.0, 1800.0, 1100.0, 1400.0, 1500.0, 1200.0, 1700.0, 2000.0, 1300.0, 1000.0, 1300.0, 1200.0, 1600.0, 800.0, 1800.0, 750.0, 1000.0, 600.0, 900.0, 600.0, 2000.0, 1200.0, 1700.0, 1500.0, 1100.0, 1000.0, 1000.0, 600.0, 600.0, 500.0, 600.0, 500.0, 700.0, 500.0, 700.0, 350.0, 500.0, 400.0, 500.0, 450.0, 500.0, 450.0, 400.0, 750.0, 400.0, 400.0, 300.0, 850.0, 700.0, 250.0, 400.0, 500.0, 450.0, 1100.0, 250.0, 1000.0, 350.0, 600.0, 300.0, 250.0, 400.0, 400.0, 800.0, 250.0, 500.0, 400.0, 150.0, 650.0, 500.0, 200.0, 600.0, 350.0, 750.0, 450.0, 450.0, 500.0, 800.0, 300.0, 600.0, 500.0, 400.0, 600.0, 800.0, 600.0, 600.0, 1400.0, 700.0, 2000.0, 1700.0, 1200.0, 350.0, 500.0, 600.0, 600.0, 1100.0, 600.0, 450.0, 400.0, 300.0, 800.0, 600.0, 400.0, 1000.0, 650.0, 600.0, 800.0, 700.0, 500.0, 400.0, 150.0, 250.0, 200.0, 350.0, 400.0, 1000.0, 300.0, 450.0, 500.0, 1100.0, 500.0, 1500.0, 300.0, 1200.0, 500.0, 500.0, 300.0, 400.0, 250.0, 300.0, 300.0, 500.0, 900.0, 350.0, 600.0, 800.0, 1100.0, 300.0, 400.0, 600.0, 700.0, 800.0, 800.0, 1400.0, 600.0, 120.0, 1000.0, 400.0, 250.0, 400.0, 400.0, 150.0, 100.0, 800.0, 900.0, 500.0, 150.0, 1000.0, 400.0, 750.0, 150.0, 150.0, 200.0, 350.0, 600.0, 300.0, 150.0, 900.0, 300.0, 100.0, 350.0, 600.0, 600.0, 1500.0, 500.0, 1100.0, 200.0, 400.0, 600.0, 750.0, 800.0, 250.0, 500.0, 500.0, 600.0, 200.0, 500.0, 400.0, 500.0, 600.0, 250.0, 200.0, 500.0, 100.0, 500.0, 600.0, 350.0, 250.0, 200.0, 500.0, 400.0, 700.0, 250.0, 250.0, 300.0, 100.0, 250.0, 200.0, 450.0, 300.0, 400.0, 1650.0, 1100.0, 1600.0, 400.0, 600.0, 800.0, 700.0, 1800.0, 700.0, 750.0, 900.0, 1100.0, 450.0, 800.0, 900.0, 800.0, 1000.0, 600.0, 700.0, 700.0, 600.0, 350.0, 500.0, 900.0, 1000.0, 600.0, 600.0, 1200.0, 400.0, 300.0, 400.0, 400.0, 400.0, 350.0, 600.0, 450.0, 300.0, 300.0, 450.0, 750.0, 450.0, 800.0, 600.0, 600.0, 350.0, 300.0, 500.0, 500.0, 1200.0, 800.0, 750.0, 750.0, 600.0, 500.0, 800.0, 250.0, 400.0, 400.0, 500.0, 600.0, 200.0, 400.0, 2600.0, 2000.0, 1800.0, 2000.0, 1200.0, 1300.0, 2500.0, 1700.0, 1400.0, 1000.0, 1000.0, 1500.0, 1400.0, 800.0, 150.0, 1400.0, 1400.0, 1200.0, 1200.0, 600.0, 500.0, 1500.0, 1100.0, 1500.0, 1500.0, 250.0, 1100.0, 650.0, 1000.0, 700.0, 500.0, 100.0, 500.0, 600.0, 500.0, 300.0, 1100.0, 850.0, 2500.0, 250.0, 600.0, 1500.0, 150.0, 700.0, 1100.0, 200.0, 600.0, 350.0, 450.0, 200.0, 150.0, 600.0, 600.0, 200.0, 250.0, 300.0, 300.0, 400.0, 350.0, 2000.0, 200.0, 250.0, 400.0, 600.0, 1000.0, 200.0, 500.0, 400.0, 250.0, 500.0, 200.0, 300.0, 500.0, 200.0, 300.0, 300.0, 300.0, 400.0, 400.0, 500.0, 450.0, 800.0, 550.0, 500.0, 150.0, 300.0, 500.0, 1200.0, 1650.0, 1000.0, 2600.0, 1800.0, 1400.0, 1400.0, 1200.0, 1500.0, 1500.0, 1100.0, 1100.0, 800.0, 2000.0, 1200.0, 1650.0, 1100.0, 1800.0, 800.0, 900.0, 1200.0, 800.0, 1400.0, 1400.0, 1400.0, 1200.0, 1500.0, 1100.0, 1100.0, 800.0, 2000.0, 1200.0, 1500.0, 500.0, 3400.0, 2000.0, 1900.0, 1800.0, 1500.0, 2200.0, 2100.0, 3000.0, 1200.0, 1700.0, 1400.0, 2500.0, 750.0, 3000.0, 1500.0, 1000.0, 1500.0, 1500.0, 2000.0, 1200.0, 800.0, 1200.0, 1700.0, 1600.0, 1300.0, 1600.0, 3000.0, 1000.0, 1200.0, 1000.0, 650.0, 1400.0, 800.0, 1000.0, 1000.0, 500.0, 1200.0, 650.0, 2800.0, 1600.0, 1300.0, 1700.0, 1300.0, 1800.0, 1600.0, 1000.0, 1100.0, 750.0, 1200.0, 800.0, 400.0, 400.0, 600.0, 1100.0, 900.0, 1700.0, 1000.0, 600.0, 600.0, 2500.0, 650.0, 1400.0, 700.0, 900.0, 450.0, 700.0, 800.0, 750.0, 650.0, 500.0, 500.0, 1000.0, 1200.0, 650.0, 500.0, 800.0, 1000.0, 500.0, 700.0, 800.0, 350.0, 1300.0, 750.0, 1100.0, 750.0, 1000.0, 750.0, 1000.0, 600.0, 500.0, 450.0, 300.0, 500.0, 500.0, 650.0, 200.0, 350.0, 500.0, 500.0, 200.0, 650.0, 300.0, 400.0, 600.0, 750.0, 500.0, 550.0, 500.0, 1200.0, 150.0, 250.0, 600.0, 600.0, 800.0, 750.0, 400.0, 450.0, 300.0, 400.0, 800.0, 650.0, 900.0, 500.0, 600.0, 1300.0, 400.0, 800.0, 400.0, 550.0, 750.0, 1400.0, 1600.0, 400.0, 400.0, 350.0, 500.0, 1500.0, 300.0, 1300.0, 400.0, 600.0, 600.0, 300.0, 1100.0, 1300.0, 250.0, 850.0, 300.0, 500.0, 400.0, 400.0, 1700.0, 1200.0, 1500.0, 200.0, 400.0, 1600.0, 800.0, 700.0, 1200.0, 300.0, 300.0, 500.0, 250.0, 450.0, 700.0, 600.0, 400.0, 700.0, 700.0, 600.0, 400.0, 500.0, 450.0, 550.0, 500.0, 1000.0, 400.0, 1000.0, 700.0, 400.0, 750.0, 700.0, 400.0, 300.0, 800.0, 1300.0, 650.0, 400.0, 750.0, 1500.0, 350.0, 800.0, 1000.0, 1400.0, 500.0, 800.0, 500.0, 1300.0, 700.0, 600.0, 600.0, 450.0, 500.0, 1500.0, 800.0, 180.0, 2100.0, 400.0, 300.0, 400.0, 1700.0, 400.0, 150.0, 1000.0, 3000.0, 200.0, 1700.0, 1000.0, 200.0, 1000.0, 300.0, 600.0, 1300.0, 2000.0, 1300.0, 650.0, 950.0, 200.0, 300.0, 700.0, 800.0, 300.0, 400.0, 600.0, 500.0, 1400.0, 400.0, 700.0, 300.0, 400.0, 500.0, 600.0, 700.0, 250.0, 200.0, 700.0, 1500.0, 750.0, 800.0, 900.0, 700.0, 2000.0, 1500.0, 1500.0, 700.0, 1000.0, 500.0, 350.0, 1000.0, 1000.0, 1000.0, 250.0, 1000.0, 700.0, 1900.0, 800.0, 550.0, 2100.0, 600.0, 750.0, 1400.0, 1000.0, 1200.0, 300.0, 350.0, 300.0, 2000.0, 300.0, 500.0, 400.0, 1200.0, 750.0, 700.0, 800.0, 2000.0, 1800.0, 850.0, 1500.0, 200.0, 600.0, 400.0, 800.0, 300.0, 600.0, 1800.0, 850.0, 1800.0, 800.0, 500.0, 1000.0, 750.0, 1200.0, 650.0, 700.0, 800.0, 100.0, 800.0, 600.0, 1000.0, 650.0, 500.0, 1300.0, 700.0, 400.0, 200.0, 1000.0, 800.0, 300.0, 500.0, 1700.0, 250.0, 1200.0, 400.0, 1200.0, 1000.0, 1500.0, 1600.0, 700.0, 2100.0, 800.0, 900.0, 1700.0, 1400.0, 600.0, 400.0, 750.0, 500.0, 900.0, 450.0, 500.0, 150.0, 450.0, 600.0, 1200.0, 500.0, 500.0, 550.0, 400.0, 450.0, 500.0, 200.0, 800.0, 800.0, 800.0, 1000.0, 500.0, 1100.0, 200.0, 800.0, 500.0, 550.0, 300.0, 450.0, 350.0, 300.0, 250.0, 1300.0, 600.0, 500.0, 400.0, 600.0, 1600.0, 1300.0, 550.0, 800.0, 2000.0, 400.0, 400.0, 150.0, 400.0, 500.0, 500.0, 350.0, 600.0, 800.0, 1000.0, 600.0, 550.0, 1250.0, 400.0, 1400.0, 300.0, 700.0, 450.0, 300.0, 500.0, 1000.0, 500.0, 450.0, 300.0, 400.0, 300.0, 800.0, 250.0, 450.0, 400.0, 900.0, 150.0, 250.0, 180.0, 400.0, 500.0, 200.0, 300.0, 300.0, 300.0, 1300.0, 750.0, 1100.0, 300.0, 2000.0, 700.0, 350.0, 400.0, 300.0, 300.0, 400.0, 2000.0, 1500.0, 800.0, 3500.0, 1700.0, 800.0, 2000.0, 600.0, 1200.0, 1400.0, 550.0, 3000.0, 500.0, 400.0, 3400.0, 1000.0, 800.0, 4000.0, 1000.0, 2000.0, 3500.0, 1000.0, 800.0, 550.0, 700.0, 1000.0, 2000.0, 600.0, 1900.0, 250.0, 500.0, 600.0, 300.0, 200.0, 500.0, 400.0, 500.0, 100.0, 500.0, 1700.0, 1800.0, 1500.0, 1500.0, 2500.0, 2000.0, 3000.0, 2200.0, 3000.0, 2800.0, 700.0, 1500.0, 1100.0, 2100.0, 1500.0, 1500.0, 2000.0, 3000.0, 2500.0, 1700.0, 1500.0, 1200.0, 1200.0, 1300.0, 1500.0, 1300.0, 2100.0, 1200.0, 1600.0, 800.0, 1700.0, 1600.0, 1000.0, 3000.0, 1500.0, 1500.0, 700.0, 1500.0, 2500.0, 1000.0, 2100.0, 1900.0, 1100.0, 1300.0, 1700.0, 2200.0, 1400.0, 1500.0, 900.0, 1700.0, 1300.0, 1000.0, 1000.0, 600.0, 2500.0, 1400.0, 200.0, 1500.0, 4000.0, 750.0, 1500.0, 3000.0, 1500.0, 1000.0, 1100.0, 650.0, 1200.0, 2500.0, 1500.0, 1500.0, 2000.0, 1000.0, 1400.0, 1500.0, 1100.0, 1300.0, 650.0, 750.0, 850.0, 1800.0, 1000.0, 1500.0, 1000.0, 1200.0, 2000.0, 1400.0, 3500.0, 700.0, 1600.0, 1500.0, 1200.0, 1200.0, 1500.0, 1200.0, 4000.0, 700.0, 1300.0, 1200.0, 800.0, 600.0, 1100.0, 1100.0, 900.0, 2000.0, 1200.0, 1700.0, 1600.0, 800.0, 2000.0, 3000.0, 2000.0, 1200.0, 1000.0, 700.0, 800.0, 500.0, 2800.0, 1800.0, 650.0, 3000.0, 750.0, 650.0, 1800.0, 950.0, 3000.0, 750.0, 500.0, 750.0, 1500.0, 1000.0, 1100.0, 500.0, 600.0, 800.0, 1200.0, 1000.0, 700.0, 300.0, 1300.0, 1000.0, 500.0, 1600.0, 500.0, 3000.0, 1000.0, 1000.0, 400.0, 550.0, 1200.0, 650.0, 1200.0, 1000.0, 350.0, 400.0, 3000.0, 1200.0, 3000.0, 400.0, 500.0, 1800.0, 2500.0, 650.0, 800.0, 2500.0, 700.0, 1400.0, 800.0, 500.0, 800.0, 600.0, 850.0, 700.0, 500.0, 800.0, 1000.0, 500.0, 1300.0, 1500.0, 1000.0, 700.0, 500.0, 3000.0, 600.0, 800.0, 600.0, 500.0, 800.0, 1200.0, 500.0, 550.0, 800.0, 800.0, 1200.0, 350.0, 650.0, 800.0, 2000.0, 700.0, 600.0, 2500.0, 800.0, 600.0, 1000.0, 600.0, 550.0, 400.0, 250.0, 700.0, 400.0, 500.0, 200.0, 300.0, 150.0, 450.0, 300.0, 500.0, 300.0, 300.0, 150.0, 300.0, 450.0, 500.0, 300.0, 400.0, 250.0, 400.0, 250.0, 350.0, 300.0, 400.0, 500.0, 500.0, 400.0, 200.0, 500.0, 400.0, 350.0, 250.0, 250.0, 300.0, 300.0, 450.0, 600.0, 1300.0, 2800.0, 2500.0, 1600.0, 1100.0, 1300.0, 600.0, 600.0, 1300.0, 1000.0, 750.0, 1100.0, 1800.0, 3000.0, 750.0, 1300.0, 1700.0, 500.0, 600.0, 1200.0, 1000.0, 2000.0, 750.0, 3000.0, 1300.0, 750.0, 800.0, 2000.0, 850.0, 700.0, 700.0, 600.0, 750.0, 700.0, 1800.0, 300.0, 1600.0, 150.0, 900.0, 450.0, 1000.0, 400.0, 450.0, 300.0, 150.0, 2200.0, 200.0, 200.0, 500.0, 1000.0, 2400.0, 150.0, 350.0, 400.0, 400.0, 400.0, 1000.0, 600.0, 450.0, 1100.0, 450.0, 300.0, 800.0, 150.0, 300.0, 300.0, 600.0, 2000.0, 1700.0, 1500.0, 1500.0, 1700.0, 1200.0, 3000.0, 1000.0, 1000.0, 1000.0, 2000.0, 2500.0, 3000.0, 3000.0, 1500.0, 1500.0, 2000.0, 1500.0, 2500.0, 1700.0, 1200.0, 1300.0, 1300.0, 1700.0, 1500.0, 1500.0, 2500.0, 1900.0, 1300.0, 1300.0, 1000.0, 1500.0, 1100.0, 1200.0, 1000.0, 1400.0, 1100.0, 1000.0, 1600.0, 1200.0, 1200.0, 1500.0, 1100.0, 1100.0, 2000.0, 2000.0, 1200.0, 2800.0, 3000.0, 1500.0, 1100.0, 600.0, 1000.0, 1000.0, 3000.0, 1200.0, 2500.0, 1500.0, 1300.0, 1300.0, 1000.0, 2200.0, 2400.0, 1500.0, 2000.0, 1400.0, 1600.0, 1300.0, 1800.0, 1100.0, 1500.0, 1500.0, 500.0, 700.0, 1900.0, 1000.0, 1400.0, 1500.0, 1200.0, 2500.0, 1500.0, 1500.0, 1100.0, 1500.0, 1000.0, 700.0, 800.0, 500.0, 600.0, 800.0, 600.0, 500.0, 200.0, 600.0, 800.0, 400.0, 600.0, 500.0, 1000.0, 500.0, 400.0, 650.0, 500.0, 450.0, 200.0, 450.0, 400.0, 300.0, 400.0, 500.0, 200.0, 500.0, 500.0, 400.0, 400.0, 400.0, 600.0, 300.0, 600.0, 250.0, 400.0, 650.0, 450.0, 600.0, 400.0, 950.0, 650.0, 500.0, 200.0, 400.0, 200.0, 600.0, 350.0, 600.0, 1200.0, 800.0, 150.0, 500.0, 1500.0, 300.0, 500.0, 400.0, 700.0, 800.0, 400.0, 400.0, 100.0, 800.0, 600.0, 300.0, 100.0, 600.0, 500.0, 400.0, 500.0, 450.0, 1200.0, 600.0, 700.0, 800.0, 200.0, 600.0, 500.0, 250.0, 200.0, 450.0, 450.0, 500.0, 400.0, 800.0, 800.0, 1400.0, 600.0, 300.0, 500.0, 200.0, 400.0, 250.0, 900.0, 300.0, 200.0, 500.0, 750.0, 600.0, 400.0, 500.0, 300.0, 350.0, 400.0, 350.0, 450.0, 200.0, 700.0, 400.0, 800.0, 900.0, 750.0, 400.0, 600.0, 700.0, 650.0, 1000.0, 500.0, 300.0, 200.0, 500.0, 300.0, 800.0, 800.0, 150.0, 500.0, 400.0, 300.0, 600.0, 300.0, 600.0, 750.0, 300.0, 500.0, 400.0, 750.0, 450.0, 400.0, 800.0, 450.0, 750.0, 600.0, 1300.0, 400.0, 1400.0, 1200.0, 800.0, 1300.0, 1600.0, 1800.0, 500.0, 450.0, 400.0, 600.0, 600.0, 1500.0, 700.0, 600.0, 800.0, 1500.0, 600.0, 250.0, 1500.0, 800.0, 850.0, 500.0, 1800.0, 1000.0, 1100.0, 500.0, 900.0, 1500.0, 600.0, 500.0, 1000.0, 1500.0, 500.0, 700.0, 250.0, 500.0, 1000.0, 700.0, 550.0, 1100.0, 1200.0, 600.0, 600.0, 500.0, 1500.0, 1700.0, 900.0, 600.0, 400.0, 1200.0, 800.0, 1400.0, 1400.0, 800.0, 300.0, 400.0, 1400.0, 1700.0, 500.0, 1000.0, 1500.0, 1000.0, 550.0, 200.0, 700.0, 300.0, 400.0, 500.0, 600.0, 500.0, 700.0, 500.0, 1500.0, 500.0, 500.0, 400.0, 800.0, 300.0, 400.0, 500.0, 250.0, 600.0, 800.0, 750.0, 500.0, 300.0, 700.0, 500.0, 400.0, 200.0, 800.0, 500.0, 700.0, 450.0, 150.0, 800.0, 550.0, 600.0, 550.0, 300.0, 600.0, 300.0, 100.0, 150.0, 600.0, 330.0, 600.0, 600.0, 400.0, 400.0, 500.0, 400.0, 750.0, 600.0, 200.0, 500.0, 300.0, 200.0, 800.0, 300.0, 500.0, 400.0, 400.0, 350.0, 400.0, 500.0, 500.0, 300.0, 200.0, 500.0, 250.0, 500.0, 600.0, 600.0, 900.0, 300.0, 1400.0, 1500.0, 1500.0, 1600.0, 1400.0, 1500.0, 1900.0, 1600.0, 1400.0, 1300.0, 1300.0, 1800.0, 1400.0, 600.0, 1100.0, 1500.0, 1500.0, 1500.0, 2000.0, 600.0, 700.0, 700.0, 800.0, 800.0, 500.0, 500.0, 850.0, 800.0, 1200.0, 900.0, 700.0, 800.0, 1000.0, 600.0, 800.0, 600.0, 700.0, 400.0, 200.0, 800.0, 900.0, 600.0, 600.0, 800.0, 700.0, 500.0, 400.0, 1000.0, 1200.0, 1900.0, 550.0, 500.0, 550.0, 600.0, 500.0, 450.0, 800.0, 300.0, 150.0, 500.0, 500.0, 400.0, 450.0, 200.0, 600.0, 100.0, 250.0, 300.0, 400.0, 500.0, 250.0, 300.0, 200.0, 350.0, 400.0, 400.0, 500.0, 250.0, 600.0, 300.0, 500.0, 400.0, 750.0, 300.0, 300.0, 1000.0, 1800.0, 1700.0, 1800.0, 1400.0, 1500.0, 750.0, 1200.0, 800.0, 2000.0, 1200.0, 950.0, 2000.0, 600.0, 2500.0, 400.0, 700.0, 600.0, 750.0, 1500.0, 1500.0, 1100.0, 1200.0, 600.0, 900.0, 400.0, 500.0, 650.0, 500.0, 1500.0, 800.0, 1800.0, 450.0, 1400.0, 600.0, 500.0, 200.0, 800.0, 300.0, 500.0, 300.0, 550.0, 400.0, 800.0, 500.0, 200.0, 1000.0, 400.0, 250.0, 500.0, 300.0, 400.0, 600.0, 2500.0, 200.0, 500.0, 450.0, 800.0, 350.0, 200.0, 700.0, 330.0, 200.0, 400.0, 600.0, 250.0, 400.0, 200.0, 500.0, 450.0, 500.0, 400.0, 800.0, 550.0, 400.0, 400.0, 600.0, 1000.0, 450.0, 400.0, 800.0, 1500.0, 1400.0, 1400.0, 1600.0, 1400.0, 1500.0, 1900.0, 1500.0, 1300.0, 1500.0, 1200.0, 900.0, 1000.0, 1700.0, 1500.0, 1500.0, 1800.0, 1400.0, 2500.0, 1500.0, 1400.0, 1800.0, 1400.0, 1400.0, 1500.0, 1900.0, 1300.0, 1800.0, 1200.0, 900.0, 1700.0, 1800.0, 1400.0, 1500.0, 1100.0, 700.0, 900.0, 550.0, 600.0, 1400.0, 500.0, 900.0, 1100.0, 700.0, 2000.0, 600.0, 600.0, 1000.0, 900.0, 700.0, 350.0, 400.0, 650.0, 400.0, 400.0, 700.0, 1000.0, 800.0, 500.0, 300.0, 400.0, 750.0, 600.0, 250.0, 400.0, 700.0, 600.0, 400.0, 400.0, 400.0, 200.0, 300.0, 400.0, 250.0, 500.0, 500.0, 700.0, 500.0, 400.0, 300.0, 600.0, 800.0, 450.0, 800.0, 350.0, 450.0, 750.0, 550.0, 200.0, 800.0, 600.0, 750.0, 450.0, 400.0, 300.0, 500.0, 400.0, 800.0, 650.0, 1000.0, 600.0, 500.0, 400.0, 500.0, 500.0, 300.0, 350.0, 600.0, 550.0, 600.0, 1100.0, 900.0, 300.0, 250.0, 350.0, 150.0, 800.0, 200.0, 400.0, 400.0, 200.0, 750.0, 450.0, 200.0, 900.0, 550.0, 500.0, 300.0, 500.0, 250.0, 600.0, 900.0, 1000.0, 1700.0, 1200.0, 2000.0, 400.0, 400.0, 400.0, 1400.0, 450.0, 300.0, 600.0, 400.0, 600.0, 500.0, 650.0, 300.0, 600.0, 500.0, 300.0, 500.0, 300.0, 300.0, 450.0, 1000.0, 850.0, 2000.0, 300.0, 700.0, 300.0, 750.0, 500.0, 400.0, 400.0, 300.0, 250.0, 400.0, 300.0, 500.0, 400.0, 1500.0, 300.0, 400.0, 700.0, 400.0, 500.0, 1500.0, 400.0, 1400.0, 400.0, 500.0, 500.0, 1800.0, 450.0, 400.0, 1500.0, 1600.0, 1500.0, 1500.0, 900.0, 500.0, 200.0, 600.0, 500.0, 400.0, 1600.0, 1000.0, 550.0, 250.0, 600.0, 500.0, 550.0, 500.0, 1400.0, 800.0, 300.0, 600.0, 1200.0, 400.0, 600.0, 400.0, 500.0, 1500.0, 500.0, 450.0, 800.0, 150.0, 1000.0, 600.0, 300.0, 650.0, 300.0, 200.0, 500.0, 700.0, 300.0, 450.0, 1500.0, 400.0, 150.0, 300.0, 800.0, 700.0, 700.0, 900.0, 200.0, 350.0, 900.0, 1200.0, 750.0, 700.0, 700.0, 500.0, 200.0, 600.0, 2000.0, 700.0, 800.0, 200.0, 300.0, 1200.0, 400.0, 500.0, 750.0, 1000.0, 800.0, 1400.0, 300.0, 800.0, 800.0, 800.0, 350.0, 500.0, 350.0, 400.0, 400.0, 350.0, 1000.0, 1400.0, 750.0, 1100.0, 800.0, 600.0, 350.0, 1100.0, 750.0, 900.0, 400.0, 700.0, 1700.0, 600.0, 600.0, 1200.0, 800.0, 350.0, 1000.0, 300.0, 500.0, 700.0, 500.0, 650.0, 700.0, 300.0, 300.0, 500.0, 600.0, 400.0, 400.0, 400.0, 450.0, 450.0, 1500.0, 1200.0, 800.0, 400.0, 500.0, 1100.0, 500.0, 800.0, 800.0, 600.0, 400.0, 600.0, 300.0, 750.0, 800.0, 500.0, 900.0, 700.0, 600.0, 700.0, 1000.0, 500.0, 1700.0, 500.0, 1000.0, 450.0, 800.0, 900.0, 550.0, 600.0, 400.0, 400.0, 500.0, 700.0, 150.0, 500.0, 400.0, 600.0, 1500.0, 450.0, 500.0, 450.0, 400.0, 1000.0, 200.0, 300.0, 300.0, 150.0, 800.0, 250.0, 500.0, 1500.0, 400.0, 600.0, 400.0, 400.0, 200.0, 250.0, 300.0, 300.0, 500.0, 1000.0, 2000.0, 2500.0, 2400.0, 2500.0, 1600.0, 1600.0, 1400.0, 1600.0, 1700.0, 1700.0, 1700.0, 1100.0, 2000.0, 1000.0, 1500.0, 1900.0, 1500.0, 1600.0, 1800.0, 1800.0, 1700.0, 1200.0, 1500.0, 2000.0, 1000.0, 1500.0, 900.0, 550.0, 1600.0, 2500.0, 650.0, 800.0, 800.0, 800.0, 1700.0, 1400.0, 1000.0, 1800.0, 2000.0, 1400.0, 800.0, 750.0, 1500.0, 2000.0, 700.0, 1000.0, 850.0, 1200.0, 900.0, 1400.0, 700.0, 800.0, 1200.0, 1500.0, 750.0, 1700.0, 2000.0, 800.0, 550.0, 1400.0, 2000.0, 1500.0, 900.0, 1100.0, 700.0, 2500.0, 1100.0, 900.0, 400.0, 1000.0, 3000.0, 1000.0, 700.0, 800.0, 1450.0, 300.0, 2000.0, 800.0, 1000.0, 1400.0, 700.0, 600.0, 750.0, 1500.0, 1500.0, 1500.0, 1000.0, 700.0, 2000.0, 900.0, 2500.0, 800.0, 600.0, 900.0, 2100.0, 800.0, 400.0, 1200.0, 600.0, 1200.0, 800.0, 700.0, 1000.0, 1500.0, 600.0, 3000.0, 300.0, 300.0, 350.0, 400.0, 500.0, 800.0, 800.0, 700.0, 1700.0, 750.0, 400.0, 1200.0, 500.0, 2000.0, 350.0, 1500.0, 600.0, 750.0, 2000.0, 400.0, 3000.0, 650.0, 500.0, 800.0, 1900.0, 450.0, 1200.0, 750.0, 1000.0, 800.0, 2000.0, 700.0, 1200.0, 600.0, 700.0, 400.0, 700.0, 1800.0, 700.0, 700.0, 250.0, 700.0, 600.0, 600.0, 800.0, 150.0, 650.0, 550.0, 1100.0, 1600.0, 900.0, 500.0, 350.0, 450.0, 500.0, 600.0, 700.0, 600.0, 500.0, 200.0, 600.0, 350.0, 400.0, 300.0, 350.0, 600.0, 400.0, 500.0, 300.0, 350.0, 400.0, 300.0, 400.0, 450.0, 250.0, 500.0, 300.0, 400.0, 500.0, 400.0, 200.0, 200.0, 400.0, 400.0, 300.0, 300.0, 600.0, 400.0, 350.0, 400.0, 400.0, 350.0, 400.0, 400.0, 400.0, 600.0, 450.0, 300.0, 300.0, 400.0, 200.0, 300.0, 550.0, 350.0, 500.0, 600.0, 550.0, 400.0, 450.0, 500.0, 300.0, 400.0, 400.0, 450.0, 500.0, 500.0, 600.0, 300.0, 500.0, 400.0, 400.0, 450.0, 400.0, 400.0, 350.0, 700.0, 500.0, 500.0, 300.0, 400.0, 1500.0, 2500.0, 1000.0, 800.0, 500.0, 500.0, 300.0, 500.0, 600.0, 1800.0, 400.0, 300.0, 1700.0, 1200.0, 1600.0, 2400.0, 2500.0, 1700.0, 1000.0, 1900.0, 1500.0, 1000.0, 1500.0, 1600.0, 1700.0, 1800.0, 1200.0, 1500.0, 1400.0, 1450.0, 1500.0, 1500.0, 2100.0, 1700.0, 1200.0, 2000.0, 1800.0, 800.0, 2500.0, 1600.0, 1900.0, 1700.0, 2400.0, 2500.0, 1700.0, 1100.0, 1000.0, 1500.0, 1800.0, 1000.0, 1200.0, 1500.0, 1600.0, 1700.0, 1800.0, 1200.0, 1200.0, 1500.0, 1400.0, 1450.0, 1500.0, 1500.0, 1200.0, 2000.0, 1200.0, 800.0, 2500.0]}],\n",
              "                        {\"height\": 800, \"template\": {\"data\": {\"bar\": [{\"error_x\": {\"color\": \"#2a3f5f\"}, \"error_y\": {\"color\": \"#2a3f5f\"}, \"marker\": {\"line\": {\"color\": \"#E5ECF6\", \"width\": 0.5}}, \"type\": \"bar\"}], \"barpolar\": [{\"marker\": {\"line\": {\"color\": \"#E5ECF6\", \"width\": 0.5}}, \"type\": \"barpolar\"}], \"carpet\": [{\"aaxis\": {\"endlinecolor\": \"#2a3f5f\", \"gridcolor\": \"white\", \"linecolor\": \"white\", \"minorgridcolor\": \"white\", \"startlinecolor\": \"#2a3f5f\"}, \"baxis\": {\"endlinecolor\": \"#2a3f5f\", \"gridcolor\": \"white\", \"linecolor\": \"white\", \"minorgridcolor\": \"white\", \"startlinecolor\": \"#2a3f5f\"}, \"type\": \"carpet\"}], \"choropleth\": [{\"colorbar\": {\"outlinewidth\": 0, \"ticks\": \"\"}, \"type\": \"choropleth\"}], \"contour\": [{\"colorbar\": {\"outlinewidth\": 0, \"ticks\": \"\"}, \"colorscale\": [[0.0, \"#0d0887\"], [0.1111111111111111, \"#46039f\"], [0.2222222222222222, \"#7201a8\"], [0.3333333333333333, \"#9c179e\"], [0.4444444444444444, \"#bd3786\"], [0.5555555555555556, \"#d8576b\"], [0.6666666666666666, \"#ed7953\"], [0.7777777777777778, \"#fb9f3a\"], [0.8888888888888888, \"#fdca26\"], [1.0, \"#f0f921\"]], \"type\": \"contour\"}], \"contourcarpet\": [{\"colorbar\": {\"outlinewidth\": 0, \"ticks\": \"\"}, \"type\": \"contourcarpet\"}], \"heatmap\": [{\"colorbar\": {\"outlinewidth\": 0, \"ticks\": \"\"}, \"colorscale\": [[0.0, \"#0d0887\"], [0.1111111111111111, \"#46039f\"], [0.2222222222222222, \"#7201a8\"], [0.3333333333333333, \"#9c179e\"], [0.4444444444444444, \"#bd3786\"], [0.5555555555555556, \"#d8576b\"], [0.6666666666666666, \"#ed7953\"], [0.7777777777777778, \"#fb9f3a\"], [0.8888888888888888, \"#fdca26\"], [1.0, \"#f0f921\"]], \"type\": \"heatmap\"}], \"heatmapgl\": [{\"colorbar\": {\"outlinewidth\": 0, \"ticks\": \"\"}, \"colorscale\": [[0.0, \"#0d0887\"], [0.1111111111111111, \"#46039f\"], [0.2222222222222222, \"#7201a8\"], [0.3333333333333333, \"#9c179e\"], [0.4444444444444444, \"#bd3786\"], [0.5555555555555556, \"#d8576b\"], [0.6666666666666666, \"#ed7953\"], [0.7777777777777778, \"#fb9f3a\"], [0.8888888888888888, \"#fdca26\"], [1.0, \"#f0f921\"]], \"type\": \"heatmapgl\"}], \"histogram\": [{\"marker\": {\"colorbar\": {\"outlinewidth\": 0, \"ticks\": \"\"}}, \"type\": \"histogram\"}], \"histogram2d\": [{\"colorbar\": {\"outlinewidth\": 0, \"ticks\": \"\"}, \"colorscale\": [[0.0, \"#0d0887\"], [0.1111111111111111, \"#46039f\"], [0.2222222222222222, \"#7201a8\"], [0.3333333333333333, \"#9c179e\"], [0.4444444444444444, \"#bd3786\"], [0.5555555555555556, \"#d8576b\"], [0.6666666666666666, \"#ed7953\"], [0.7777777777777778, \"#fb9f3a\"], [0.8888888888888888, \"#fdca26\"], [1.0, \"#f0f921\"]], \"type\": \"histogram2d\"}], \"histogram2dcontour\": [{\"colorbar\": {\"outlinewidth\": 0, \"ticks\": \"\"}, \"colorscale\": [[0.0, \"#0d0887\"], [0.1111111111111111, \"#46039f\"], [0.2222222222222222, \"#7201a8\"], [0.3333333333333333, \"#9c179e\"], [0.4444444444444444, \"#bd3786\"], [0.5555555555555556, \"#d8576b\"], [0.6666666666666666, \"#ed7953\"], [0.7777777777777778, \"#fb9f3a\"], [0.8888888888888888, \"#fdca26\"], [1.0, \"#f0f921\"]], \"type\": \"histogram2dcontour\"}], \"mesh3d\": [{\"colorbar\": {\"outlinewidth\": 0, \"ticks\": \"\"}, \"type\": \"mesh3d\"}], \"parcoords\": [{\"line\": {\"colorbar\": {\"outlinewidth\": 0, \"ticks\": \"\"}}, \"type\": \"parcoords\"}], \"pie\": [{\"automargin\": true, \"type\": \"pie\"}], \"scatter\": [{\"marker\": {\"colorbar\": {\"outlinewidth\": 0, \"ticks\": \"\"}}, \"type\": \"scatter\"}], \"scatter3d\": [{\"line\": {\"colorbar\": {\"outlinewidth\": 0, \"ticks\": \"\"}}, \"marker\": {\"colorbar\": {\"outlinewidth\": 0, \"ticks\": \"\"}}, \"type\": \"scatter3d\"}], \"scattercarpet\": [{\"marker\": {\"colorbar\": {\"outlinewidth\": 0, \"ticks\": \"\"}}, \"type\": \"scattercarpet\"}], \"scattergeo\": [{\"marker\": {\"colorbar\": {\"outlinewidth\": 0, \"ticks\": \"\"}}, \"type\": \"scattergeo\"}], \"scattergl\": [{\"marker\": {\"colorbar\": {\"outlinewidth\": 0, \"ticks\": \"\"}}, \"type\": \"scattergl\"}], \"scattermapbox\": [{\"marker\": {\"colorbar\": {\"outlinewidth\": 0, \"ticks\": \"\"}}, \"type\": \"scattermapbox\"}], \"scatterpolar\": [{\"marker\": {\"colorbar\": {\"outlinewidth\": 0, \"ticks\": \"\"}}, \"type\": \"scatterpolar\"}], \"scatterpolargl\": [{\"marker\": {\"colorbar\": {\"outlinewidth\": 0, \"ticks\": \"\"}}, \"type\": \"scatterpolargl\"}], \"scatterternary\": [{\"marker\": {\"colorbar\": {\"outlinewidth\": 0, \"ticks\": \"\"}}, \"type\": \"scatterternary\"}], \"surface\": [{\"colorbar\": {\"outlinewidth\": 0, \"ticks\": \"\"}, \"colorscale\": [[0.0, \"#0d0887\"], [0.1111111111111111, \"#46039f\"], [0.2222222222222222, \"#7201a8\"], [0.3333333333333333, \"#9c179e\"], [0.4444444444444444, \"#bd3786\"], [0.5555555555555556, \"#d8576b\"], [0.6666666666666666, \"#ed7953\"], [0.7777777777777778, \"#fb9f3a\"], [0.8888888888888888, \"#fdca26\"], [1.0, \"#f0f921\"]], \"type\": \"surface\"}], \"table\": [{\"cells\": {\"fill\": {\"color\": \"#EBF0F8\"}, \"line\": {\"color\": \"white\"}}, \"header\": {\"fill\": {\"color\": \"#C8D4E3\"}, \"line\": {\"color\": \"white\"}}, \"type\": \"table\"}]}, \"layout\": {\"annotationdefaults\": {\"arrowcolor\": \"#2a3f5f\", \"arrowhead\": 0, \"arrowwidth\": 1}, \"coloraxis\": {\"colorbar\": {\"outlinewidth\": 0, \"ticks\": \"\"}}, \"colorscale\": {\"diverging\": [[0, \"#8e0152\"], [0.1, \"#c51b7d\"], [0.2, \"#de77ae\"], [0.3, \"#f1b6da\"], [0.4, \"#fde0ef\"], [0.5, \"#f7f7f7\"], [0.6, \"#e6f5d0\"], [0.7, \"#b8e186\"], [0.8, \"#7fbc41\"], [0.9, \"#4d9221\"], [1, \"#276419\"]], \"sequential\": [[0.0, \"#0d0887\"], [0.1111111111111111, \"#46039f\"], [0.2222222222222222, \"#7201a8\"], [0.3333333333333333, \"#9c179e\"], [0.4444444444444444, \"#bd3786\"], [0.5555555555555556, \"#d8576b\"], [0.6666666666666666, \"#ed7953\"], [0.7777777777777778, \"#fb9f3a\"], [0.8888888888888888, \"#fdca26\"], [1.0, \"#f0f921\"]], \"sequentialminus\": [[0.0, \"#0d0887\"], [0.1111111111111111, \"#46039f\"], [0.2222222222222222, \"#7201a8\"], [0.3333333333333333, \"#9c179e\"], [0.4444444444444444, \"#bd3786\"], [0.5555555555555556, \"#d8576b\"], [0.6666666666666666, \"#ed7953\"], [0.7777777777777778, \"#fb9f3a\"], [0.8888888888888888, \"#fdca26\"], [1.0, \"#f0f921\"]]}, \"colorway\": [\"#636efa\", \"#EF553B\", \"#00cc96\", \"#ab63fa\", \"#FFA15A\", \"#19d3f3\", \"#FF6692\", \"#B6E880\", \"#FF97FF\", \"#FECB52\"], \"font\": {\"color\": \"#2a3f5f\"}, \"geo\": {\"bgcolor\": \"white\", \"lakecolor\": \"white\", \"landcolor\": \"#E5ECF6\", \"showlakes\": true, \"showland\": true, \"subunitcolor\": \"white\"}, \"hoverlabel\": {\"align\": \"left\"}, \"hovermode\": \"closest\", \"mapbox\": {\"style\": \"light\"}, \"paper_bgcolor\": \"white\", \"plot_bgcolor\": \"#E5ECF6\", \"polar\": {\"angularaxis\": {\"gridcolor\": \"white\", \"linecolor\": \"white\", \"ticks\": \"\"}, \"bgcolor\": \"#E5ECF6\", \"radialaxis\": {\"gridcolor\": \"white\", \"linecolor\": \"white\", \"ticks\": \"\"}}, \"scene\": {\"xaxis\": {\"backgroundcolor\": \"#E5ECF6\", \"gridcolor\": \"white\", \"gridwidth\": 2, \"linecolor\": \"white\", \"showbackground\": true, \"ticks\": \"\", \"zerolinecolor\": \"white\"}, \"yaxis\": {\"backgroundcolor\": \"#E5ECF6\", \"gridcolor\": \"white\", \"gridwidth\": 2, \"linecolor\": \"white\", \"showbackground\": true, \"ticks\": \"\", \"zerolinecolor\": \"white\"}, \"zaxis\": {\"backgroundcolor\": \"#E5ECF6\", \"gridcolor\": \"white\", \"gridwidth\": 2, \"linecolor\": \"white\", \"showbackground\": true, \"ticks\": \"\", \"zerolinecolor\": \"white\"}}, \"shapedefaults\": {\"line\": {\"color\": \"#2a3f5f\"}}, \"ternary\": {\"aaxis\": {\"gridcolor\": \"white\", \"linecolor\": \"white\", \"ticks\": \"\"}, \"baxis\": {\"gridcolor\": \"white\", \"linecolor\": \"white\", \"ticks\": \"\"}, \"bgcolor\": \"#E5ECF6\", \"caxis\": {\"gridcolor\": \"white\", \"linecolor\": \"white\", \"ticks\": \"\"}}, \"title\": {\"x\": 0.05}, \"xaxis\": {\"automargin\": true, \"gridcolor\": \"white\", \"linecolor\": \"white\", \"ticks\": \"\", \"title\": {\"standoff\": 15}, \"zerolinecolor\": \"white\", \"zerolinewidth\": 2}, \"yaxis\": {\"automargin\": true, \"gridcolor\": \"white\", \"linecolor\": \"white\", \"ticks\": \"\", \"title\": {\"standoff\": 15}, \"zerolinecolor\": \"white\", \"zerolinewidth\": 2}}}, \"title\": {\"text\": \"Box plot of approximate cost\"}, \"width\": 800, \"yaxis\": {\"title\": {\"text\": \"Price\"}}},\n",
              "                        {\"responsive\": true}\n",
              "                    ).then(function(){\n",
              "                            \n",
              "var gd = document.getElementById('fc84b0e0-114f-4025-94a2-e1c52d5d4b28');\n",
              "var x = new MutationObserver(function (mutations, observer) {{\n",
              "        var display = window.getComputedStyle(gd).display;\n",
              "        if (!display || display === 'none') {{\n",
              "            console.log([gd, 'removed!']);\n",
              "            Plotly.purge(gd);\n",
              "            observer.disconnect();\n",
              "        }}\n",
              "}});\n",
              "\n",
              "// Listen for the removal of the full notebook cells\n",
              "var notebookContainer = gd.closest('#notebook-container');\n",
              "if (notebookContainer) {{\n",
              "    x.observe(notebookContainer, {childList: true});\n",
              "}}\n",
              "\n",
              "// Listen for the clearing of the current output cell\n",
              "var outputEl = gd.closest('.output');\n",
              "if (outputEl) {{\n",
              "    x.observe(outputEl, {childList: true});\n",
              "}}\n",
              "\n",
              "                        })\n",
              "                };\n",
              "                \n",
              "            </script>\n",
              "        </div>\n",
              "</body>\n",
              "</html>"
            ]
          },
          "metadata": {}
        }
      ]
    },
    {
      "cell_type": "code",
      "metadata": {
        "id": "lSjklOu56_bs"
      },
      "source": [
        "#Distribution of charges"
      ],
      "execution_count": 57,
      "outputs": []
    },
    {
      "cell_type": "code",
      "metadata": {
        "colab": {
          "base_uri": "https://localhost:8080/",
          "height": 496
        },
        "id": "Yt6yhP_D7Wp6",
        "outputId": "b1360144-6bc2-4179-d506-d34328290a3a"
      },
      "source": [
        "plt.figure(figsize=(8,8))\n",
        "sns.distplot(df['cost'])\n",
        "plt.show()"
      ],
      "execution_count": 58,
      "outputs": [
        {
          "output_type": "display_data",
          "data": {
            "image/png": "[encoded data removed]",
            "text/plain": [
              "<Figure size 576x576 with 1 Axes>"
            ]
          },
          "metadata": {
            "needs_background": "light"
          }
        }
      ]
    },
    {
      "cell_type": "code",
      "metadata": {
        "id": "HGB9ingK7aBH"
      },
      "source": [
        "#Most Liked Dishes"
      ],
      "execution_count": 59,
      "outputs": []
    },
    {
      "cell_type": "code",
      "metadata": {
        "id": "LFubh6rQ7rUq"
      },
      "source": [
        "#re=regular expression (use for splitting words)\n",
        "\n",
        "import re\n",
        "\n",
        "df.index=range(df.shape[0])\n",
        "likes=[]\n",
        "for i in range(df.shape[0]):\n",
        "    array_split=re.split(',',df['dish_liked'][i])\n",
        "    for item in array_split:\n",
        "        likes.append(item)"
      ],
      "execution_count": 60,
      "outputs": []
    },
    {
      "cell_type": "code",
      "metadata": {
        "id": "dUZsuy687wWW"
      },
      "source": [
        "df.index=range(df.shape[0])"
      ],
      "execution_count": 61,
      "outputs": []
    },
    {
      "cell_type": "code",
      "metadata": {
        "colab": {
          "base_uri": "https://localhost:8080/"
        },
        "id": "_yqxcod570eI",
        "outputId": "6509a1da-e056-4cc7-d5b9-e8a8fb8555ad"
      },
      "source": [
        "df.index"
      ],
      "execution_count": 62,
      "outputs": [
        {
          "output_type": "execute_result",
          "data": {
            "text/plain": [
              "RangeIndex(start=0, stop=23248, step=1)"
            ]
          },
          "metadata": {},
          "execution_count": 62
        }
      ]
    },
    {
      "cell_type": "code",
      "metadata": {
        "colab": {
          "base_uri": "https://localhost:8080/"
        },
        "id": "e37G0gh-73WY",
        "outputId": "654576e5-f520-43dd-9ab7-47ef3fdaea2a"
      },
      "source": [
        "print(\"Count of Most liked dishes in Bangalore\")\n",
        "favourite_food = pd.Series(likes).value_counts()\n",
        "favourite_food.head(30)"
      ],
      "execution_count": 63,
      "outputs": [
        {
          "output_type": "stream",
          "name": "stdout",
          "text": [
            "Count of Most liked dishes in Bangalore\n"
          ]
        },
        {
          "output_type": "execute_result",
          "data": {
            "text/plain": [
              " Pasta              2692\n",
              " Pizza              1915\n",
              " Cocktails          1880\n",
              " Burgers            1736\n",
              " Mocktails          1623\n",
              " Biryani            1307\n",
              " Sandwiches         1287\n",
              "Burgers             1256\n",
              " Coffee             1184\n",
              " Nachos             1170\n",
              " Fish               1116\n",
              " Paratha            1107\n",
              " Salads             1055\n",
              " Chicken Biryani    1004\n",
              "Cocktails            891\n",
              " Fries               876\n",
              " Noodles             854\n",
              " Beer                835\n",
              " Mutton Biryani      832\n",
              " Tea                 819\n",
              "Coffee               801\n",
              " Sandwich            788\n",
              " Butter Chicken      782\n",
              " Thali               770\n",
              "Biryani              749\n",
              "Pizza                747\n",
              " Roti                729\n",
              " Brownie             726\n",
              " Salad               677\n",
              " Hot Chocolate       672\n",
              "dtype: int64"
            ]
          },
          "metadata": {},
          "execution_count": 63
        }
      ]
    },
    {
      "cell_type": "code",
      "metadata": {
        "colab": {
          "base_uri": "https://localhost:8080/",
          "height": 676
        },
        "id": "MbTSpwy676hA",
        "outputId": "10044b86-2416-4866-c50c-6073e092d0c4"
      },
      "source": [
        "ax = favourite_food.nlargest(n=20, keep='first').plot(kind='bar',figsize=(18,10),title = 'Top 30 Favourite Food counts ')\n",
        "\n",
        "for i in ax.patches:\n",
        "    ax.annotate(str(i.get_height()), (i.get_x() * 1.005, i.get_height() * 1.005))"
      ],
      "execution_count": 64,
      "outputs": [
        {
          "output_type": "display_data",
          "data": {
            "image/png": "[encoded data removed]",
            "text/plain": [
              "<Figure size 1296x720 with 1 Axes>"
            ]
          },
          "metadata": {
            "needs_background": "light"
          }
        }
      ]
    },
    {
      "cell_type": "code",
      "metadata": {
        "id": "hC0AhF5z79tC"
      },
      "source": [
        "#Restaurant and their counts"
      ],
      "execution_count": 65,
      "outputs": []
    },
    {
      "cell_type": "code",
      "metadata": {
        "colab": {
          "base_uri": "https://localhost:8080/",
          "height": 476
        },
        "id": "vGUOna5I8Dbg",
        "outputId": "44bd54e2-151f-43ae-e7ca-5be5f59e9293"
      },
      "source": [
        "plt.figure(figsize=(15,7))\n",
        "rest=df['rest_type'].value_counts()[:20]\n",
        "sns.barplot(rest,rest.index)\n",
        "plt.title(\"Restaurant types\")\n",
        "plt.xlabel(\"count\")"
      ],
      "execution_count": 66,
      "outputs": [
        {
          "output_type": "execute_result",
          "data": {
            "text/plain": [
              "Text(0.5, 0, 'count')"
            ]
          },
          "metadata": {},
          "execution_count": 66
        },
        {
          "output_type": "display_data",
          "data": {
            "image/png": "[encoded data removed]",
            "text/plain": [
              "<Figure size 1080x504 with 1 Axes>"
            ]
          },
          "metadata": {
            "needs_background": "light"
          }
        }
      ]
    },
    {
      "cell_type": "code",
      "metadata": {
        "id": "NvDYDBoi8Ft0"
      },
      "source": [
        "#Most famous Restaurants"
      ],
      "execution_count": 67,
      "outputs": []
    },
    {
      "cell_type": "code",
      "metadata": {
        "id": "zuZgDIIf8Jm3"
      },
      "source": [
        "# plt.figure(figsize=(15,7))\n",
        "# chains=df['name'].value_counts()[:20]\n",
        "# sns.barplot(x=chains,y=chains.index,palette='Set1')\n",
        "# plt.title(\"Most famous restaurant chains in Bangaluru\",size=20,pad=20)"
      ],
      "execution_count": 68,
      "outputs": []
    },
    {
      "cell_type": "code",
      "metadata": {
        "id": "OTb4nzsa8Lq1"
      },
      "source": [
        "#Building Our Model"
      ],
      "execution_count": 69,
      "outputs": []
    },
    {
      "cell_type": "code",
      "metadata": {
        "colab": {
          "base_uri": "https://localhost:8080/",
          "height": 455
        },
        "id": "2of6x4hG8Oet",
        "outputId": "9735c0e6-de12-426e-d9de-b136d1521189"
      },
      "source": [
        "df.head()"
      ],
      "execution_count": 70,
      "outputs": [
        {
          "output_type": "execute_result",
          "data": {
            "text/html": [
              "<div>\n",
              "<style scoped>\n",
              "    .dataframe tbody tr th:only-of-type {\n",
              "        vertical-align: middle;\n",
              "    }\n",
              "\n",
              "    .dataframe tbody tr th {\n",
              "        vertical-align: top;\n",
              "    }\n",
              "\n",
              "    .dataframe thead th {\n",
              "        text-align: right;\n",
              "    }\n",
              "</style>\n",
              "<table border=\"1\" class=\"dataframe\">\n",
              "  <thead>\n",
              "    <tr style=\"text-align: right;\">\n",
              "      <th></th>\n",
              "      <th>address</th>\n",
              "      <th>name</th>\n",
              "      <th>online_order</th>\n",
              "      <th>book_table</th>\n",
              "      <th>rate</th>\n",
              "      <th>votes</th>\n",
              "      <th>location</th>\n",
              "      <th>rest_type</th>\n",
              "      <th>dish_liked</th>\n",
              "      <th>cuisines</th>\n",
              "      <th>cost</th>\n",
              "      <th>reviews_list</th>\n",
              "      <th>menu_item</th>\n",
              "      <th>type</th>\n",
              "      <th>city</th>\n",
              "    </tr>\n",
              "  </thead>\n",
              "  <tbody>\n",
              "    <tr>\n",
              "      <th>0</th>\n",
              "      <td>942, 21st Main Road, 2nd Stage, Banashankari, ...</td>\n",
              "      <td>Jalsa</td>\n",
              "      <td>Yes</td>\n",
              "      <td>Yes</td>\n",
              "      <td>4.1</td>\n",
              "      <td>775</td>\n",
              "      <td>Banashankari</td>\n",
              "      <td>Casual Dining</td>\n",
              "      <td>Pasta, Lunch Buffet, Masala Papad, Paneer Laja...</td>\n",
              "      <td>North Indian, Mughlai, Chinese</td>\n",
              "      <td>800.0</td>\n",
              "      <td>[('Rated 4.0', 'RATED\\n  A beautiful place to ...</td>\n",
              "      <td>[]</td>\n",
              "      <td>Buffet</td>\n",
              "      <td>Banashankari</td>\n",
              "    </tr>\n",
              "    <tr>\n",
              "      <th>1</th>\n",
              "      <td>2nd Floor, 80 Feet Road, Near Big Bazaar, 6th ...</td>\n",
              "      <td>Spice Elephant</td>\n",
              "      <td>Yes</td>\n",
              "      <td>No</td>\n",
              "      <td>4.1</td>\n",
              "      <td>787</td>\n",
              "      <td>Banashankari</td>\n",
              "      <td>Casual Dining</td>\n",
              "      <td>Momos, Lunch Buffet, Chocolate Nirvana, Thai G...</td>\n",
              "      <td>Chinese, North Indian, Thai</td>\n",
              "      <td>800.0</td>\n",
              "      <td>[('Rated 4.0', 'RATED\\n  Had been here for din...</td>\n",
              "      <td>[]</td>\n",
              "      <td>Buffet</td>\n",
              "      <td>Banashankari</td>\n",
              "    </tr>\n",
              "    <tr>\n",
              "      <th>2</th>\n",
              "      <td>1112, Next to KIMS Medical College, 17th Cross...</td>\n",
              "      <td>San Churro Cafe</td>\n",
              "      <td>Yes</td>\n",
              "      <td>No</td>\n",
              "      <td>3.8</td>\n",
              "      <td>918</td>\n",
              "      <td>Banashankari</td>\n",
              "      <td>Cafe, Casual Dining</td>\n",
              "      <td>Churros, Cannelloni, Minestrone Soup, Hot Choc...</td>\n",
              "      <td>Cafe, Mexican, Italian</td>\n",
              "      <td>800.0</td>\n",
              "      <td>[('Rated 3.0', \"RATED\\n  Ambience is not that ...</td>\n",
              "      <td>[]</td>\n",
              "      <td>Buffet</td>\n",
              "      <td>Banashankari</td>\n",
              "    </tr>\n",
              "    <tr>\n",
              "      <th>3</th>\n",
              "      <td>1st Floor, Annakuteera, 3rd Stage, Banashankar...</td>\n",
              "      <td>Addhuri Udupi Bhojana</td>\n",
              "      <td>No</td>\n",
              "      <td>No</td>\n",
              "      <td>3.7</td>\n",
              "      <td>88</td>\n",
              "      <td>Banashankari</td>\n",
              "      <td>Quick Bites</td>\n",
              "      <td>Masala Dosa</td>\n",
              "      <td>South Indian, North Indian</td>\n",
              "      <td>300.0</td>\n",
              "      <td>[('Rated 4.0', \"RATED\\n  Great food and proper...</td>\n",
              "      <td>[]</td>\n",
              "      <td>Buffet</td>\n",
              "      <td>Banashankari</td>\n",
              "    </tr>\n",
              "    <tr>\n",
              "      <th>4</th>\n",
              "      <td>10, 3rd Floor, Lakshmi Associates, Gandhi Baza...</td>\n",
              "      <td>Grand Village</td>\n",
              "      <td>No</td>\n",
              "      <td>No</td>\n",
              "      <td>3.8</td>\n",
              "      <td>166</td>\n",
              "      <td>Basavanagudi</td>\n",
              "      <td>Casual Dining</td>\n",
              "      <td>Panipuri, Gol Gappe</td>\n",
              "      <td>North Indian, Rajasthani</td>\n",
              "      <td>600.0</td>\n",
              "      <td>[('Rated 4.0', 'RATED\\n  Very good restaurant ...</td>\n",
              "      <td>[]</td>\n",
              "      <td>Buffet</td>\n",
              "      <td>Banashankari</td>\n",
              "    </tr>\n",
              "  </tbody>\n",
              "</table>\n",
              "</div>"
            ],
            "text/plain": [
              "                                             address  ...          city\n",
              "0  942, 21st Main Road, 2nd Stage, Banashankari, ...  ...  Banashankari\n",
              "1  2nd Floor, 80 Feet Road, Near Big Bazaar, 6th ...  ...  Banashankari\n",
              "2  1112, Next to KIMS Medical College, 17th Cross...  ...  Banashankari\n",
              "3  1st Floor, Annakuteera, 3rd Stage, Banashankar...  ...  Banashankari\n",
              "4  10, 3rd Floor, Lakshmi Associates, Gandhi Baza...  ...  Banashankari\n",
              "\n",
              "[5 rows x 15 columns]"
            ]
          },
          "metadata": {},
          "execution_count": 70
        }
      ]
    },
    {
      "cell_type": "code",
      "metadata": {
        "id": "7w5V2hfi8Rvu"
      },
      "source": [
        "#Convert the online categorical variables into a numeric format"
      ],
      "execution_count": 71,
      "outputs": []
    },
    {
      "cell_type": "code",
      "metadata": {
        "id": "4OO2m2-F8VLl"
      },
      "source": [
        "df.online_order[df.online_order == 'Yes'] = 1 \n",
        "df.online_order[df.online_order == 'No'] = 0"
      ],
      "execution_count": 72,
      "outputs": []
    },
    {
      "cell_type": "code",
      "metadata": {
        "colab": {
          "base_uri": "https://localhost:8080/"
        },
        "id": "3idrpk5T8Xad",
        "outputId": "6d1ffd9b-dda3-4dba-fa40-fc05051990e4"
      },
      "source": [
        "df.online_order.value_counts()"
      ],
      "execution_count": 73,
      "outputs": [
        {
          "output_type": "execute_result",
          "data": {
            "text/plain": [
              "1    16378\n",
              "0     6870\n",
              "Name: online_order, dtype: int64"
            ]
          },
          "metadata": {},
          "execution_count": 73
        }
      ]
    },
    {
      "cell_type": "code",
      "metadata": {
        "id": "J0eCRfDu8ZH1"
      },
      "source": [
        "\n",
        "df.online_order = pd.to_numeric(df.online_order)"
      ],
      "execution_count": 74,
      "outputs": []
    },
    {
      "cell_type": "code",
      "metadata": {
        "id": "MVTPMxrA8b0-"
      },
      "source": [
        "#change the string categorical into to a categorical int"
      ],
      "execution_count": 75,
      "outputs": []
    },
    {
      "cell_type": "code",
      "metadata": {
        "id": "RO9FYaZ38mzQ"
      },
      "source": [
        "df.book_table[df.book_table == 'Yes'] = 1 \n",
        "df.book_table[df.book_table == 'No'] = 0"
      ],
      "execution_count": 76,
      "outputs": []
    },
    {
      "cell_type": "code",
      "metadata": {
        "id": "EXiqG7UR8o9X"
      },
      "source": [
        "df.book_table = pd.to_numeric(df.book_table)"
      ],
      "execution_count": 77,
      "outputs": []
    },
    {
      "cell_type": "code",
      "metadata": {
        "colab": {
          "base_uri": "https://localhost:8080/"
        },
        "id": "IWKnK-Qd8q7r",
        "outputId": "fc5a194a-87bc-46ec-a56b-373835c0d80a"
      },
      "source": [
        "df.book_table.value_counts()"
      ],
      "execution_count": 78,
      "outputs": [
        {
          "output_type": "execute_result",
          "data": {
            "text/plain": [
              "0    17191\n",
              "1     6057\n",
              "Name: book_table, dtype: int64"
            ]
          },
          "metadata": {},
          "execution_count": 78
        }
      ]
    },
    {
      "cell_type": "code",
      "metadata": {
        "id": "4cRfqpDh8soO"
      },
      "source": [
        "#Label encode the categorical variables to make it easier to build algorithm"
      ],
      "execution_count": 79,
      "outputs": []
    },
    {
      "cell_type": "code",
      "metadata": {
        "id": "cw5-dAlT8wgG"
      },
      "source": [
        "from sklearn.preprocessing import LabelEncoder\n",
        "le = LabelEncoder()"
      ],
      "execution_count": 80,
      "outputs": []
    },
    {
      "cell_type": "code",
      "metadata": {
        "id": "oeT9P2WY8yfw"
      },
      "source": [
        "df.location = le.fit_transform(df.location)\n",
        "df.rest_type = le.fit_transform(df.rest_type)\n",
        "df.cuisines = le.fit_transform(df.cuisines)\n",
        "df.menu_item = le.fit_transform(df.menu_item)"
      ],
      "execution_count": 81,
      "outputs": []
    },
    {
      "cell_type": "code",
      "metadata": {
        "colab": {
          "base_uri": "https://localhost:8080/",
          "height": 388
        },
        "id": "aZckM1gs80nA",
        "outputId": "f4cc7da5-f021-4953-99b0-a9bd6d2e5f37"
      },
      "source": [
        "df.head()"
      ],
      "execution_count": 82,
      "outputs": [
        {
          "output_type": "execute_result",
          "data": {
            "text/html": [
              "<div>\n",
              "<style scoped>\n",
              "    .dataframe tbody tr th:only-of-type {\n",
              "        vertical-align: middle;\n",
              "    }\n",
              "\n",
              "    .dataframe tbody tr th {\n",
              "        vertical-align: top;\n",
              "    }\n",
              "\n",
              "    .dataframe thead th {\n",
              "        text-align: right;\n",
              "    }\n",
              "</style>\n",
              "<table border=\"1\" class=\"dataframe\">\n",
              "  <thead>\n",
              "    <tr style=\"text-align: right;\">\n",
              "      <th></th>\n",
              "      <th>address</th>\n",
              "      <th>name</th>\n",
              "      <th>online_order</th>\n",
              "      <th>book_table</th>\n",
              "      <th>rate</th>\n",
              "      <th>votes</th>\n",
              "      <th>location</th>\n",
              "      <th>rest_type</th>\n",
              "      <th>dish_liked</th>\n",
              "      <th>cuisines</th>\n",
              "      <th>cost</th>\n",
              "      <th>reviews_list</th>\n",
              "      <th>menu_item</th>\n",
              "      <th>type</th>\n",
              "      <th>city</th>\n",
              "    </tr>\n",
              "  </thead>\n",
              "  <tbody>\n",
              "    <tr>\n",
              "      <th>0</th>\n",
              "      <td>942, 21st Main Road, 2nd Stage, Banashankari, ...</td>\n",
              "      <td>Jalsa</td>\n",
              "      <td>1</td>\n",
              "      <td>1</td>\n",
              "      <td>4.1</td>\n",
              "      <td>775</td>\n",
              "      <td>1</td>\n",
              "      <td>20</td>\n",
              "      <td>Pasta, Lunch Buffet, Masala Papad, Paneer Laja...</td>\n",
              "      <td>1386</td>\n",
              "      <td>800.0</td>\n",
              "      <td>[('Rated 4.0', 'RATED\\n  A beautiful place to ...</td>\n",
              "      <td>5047</td>\n",
              "      <td>Buffet</td>\n",
              "      <td>Banashankari</td>\n",
              "    </tr>\n",
              "    <tr>\n",
              "      <th>1</th>\n",
              "      <td>2nd Floor, 80 Feet Road, Near Big Bazaar, 6th ...</td>\n",
              "      <td>Spice Elephant</td>\n",
              "      <td>1</td>\n",
              "      <td>0</td>\n",
              "      <td>4.1</td>\n",
              "      <td>787</td>\n",
              "      <td>1</td>\n",
              "      <td>20</td>\n",
              "      <td>Momos, Lunch Buffet, Chocolate Nirvana, Thai G...</td>\n",
              "      <td>594</td>\n",
              "      <td>800.0</td>\n",
              "      <td>[('Rated 4.0', 'RATED\\n  Had been here for din...</td>\n",
              "      <td>5047</td>\n",
              "      <td>Buffet</td>\n",
              "      <td>Banashankari</td>\n",
              "    </tr>\n",
              "    <tr>\n",
              "      <th>2</th>\n",
              "      <td>1112, Next to KIMS Medical College, 17th Cross...</td>\n",
              "      <td>San Churro Cafe</td>\n",
              "      <td>1</td>\n",
              "      <td>0</td>\n",
              "      <td>3.8</td>\n",
              "      <td>918</td>\n",
              "      <td>1</td>\n",
              "      <td>16</td>\n",
              "      <td>Churros, Cannelloni, Minestrone Soup, Hot Choc...</td>\n",
              "      <td>484</td>\n",
              "      <td>800.0</td>\n",
              "      <td>[('Rated 3.0', \"RATED\\n  Ambience is not that ...</td>\n",
              "      <td>5047</td>\n",
              "      <td>Buffet</td>\n",
              "      <td>Banashankari</td>\n",
              "    </tr>\n",
              "    <tr>\n",
              "      <th>3</th>\n",
              "      <td>1st Floor, Annakuteera, 3rd Stage, Banashankar...</td>\n",
              "      <td>Addhuri Udupi Bhojana</td>\n",
              "      <td>0</td>\n",
              "      <td>0</td>\n",
              "      <td>3.7</td>\n",
              "      <td>88</td>\n",
              "      <td>1</td>\n",
              "      <td>62</td>\n",
              "      <td>Masala Dosa</td>\n",
              "      <td>1587</td>\n",
              "      <td>300.0</td>\n",
              "      <td>[('Rated 4.0', \"RATED\\n  Great food and proper...</td>\n",
              "      <td>5047</td>\n",
              "      <td>Buffet</td>\n",
              "      <td>Banashankari</td>\n",
              "    </tr>\n",
              "    <tr>\n",
              "      <th>4</th>\n",
              "      <td>10, 3rd Floor, Lakshmi Associates, Gandhi Baza...</td>\n",
              "      <td>Grand Village</td>\n",
              "      <td>0</td>\n",
              "      <td>0</td>\n",
              "      <td>3.8</td>\n",
              "      <td>166</td>\n",
              "      <td>4</td>\n",
              "      <td>20</td>\n",
              "      <td>Panipuri, Gol Gappe</td>\n",
              "      <td>1406</td>\n",
              "      <td>600.0</td>\n",
              "      <td>[('Rated 4.0', 'RATED\\n  Very good restaurant ...</td>\n",
              "      <td>5047</td>\n",
              "      <td>Buffet</td>\n",
              "      <td>Banashankari</td>\n",
              "    </tr>\n",
              "  </tbody>\n",
              "</table>\n",
              "</div>"
            ],
            "text/plain": [
              "                                             address  ...          city\n",
              "0  942, 21st Main Road, 2nd Stage, Banashankari, ...  ...  Banashankari\n",
              "1  2nd Floor, 80 Feet Road, Near Big Bazaar, 6th ...  ...  Banashankari\n",
              "2  1112, Next to KIMS Medical College, 17th Cross...  ...  Banashankari\n",
              "3  1st Floor, Annakuteera, 3rd Stage, Banashankar...  ...  Banashankari\n",
              "4  10, 3rd Floor, Lakshmi Associates, Gandhi Baza...  ...  Banashankari\n",
              "\n",
              "[5 rows x 15 columns]"
            ]
          },
          "metadata": {},
          "execution_count": 82
        }
      ]
    },
    {
      "cell_type": "code",
      "metadata": {
        "id": "5Qb1q0O082-z"
      },
      "source": [
        "my_data=df.iloc[:,[2,3,4,5,6,7,9,10,12]]\n",
        "my_data.to_csv('Zomato_df.csv')"
      ],
      "execution_count": 83,
      "outputs": []
    },
    {
      "cell_type": "code",
      "metadata": {
        "colab": {
          "base_uri": "https://localhost:8080/",
          "height": 203
        },
        "id": "EA1ysKe885pX",
        "outputId": "d5e525a1-2dc6-4fdf-a755-3304145cb137"
      },
      "source": [
        "x = df.iloc[:,[2,3,5,6,7,9,10,12]]\n",
        "x.head()"
      ],
      "execution_count": 84,
      "outputs": [
        {
          "output_type": "execute_result",
          "data": {
            "text/html": [
              "<div>\n",
              "<style scoped>\n",
              "    .dataframe tbody tr th:only-of-type {\n",
              "        vertical-align: middle;\n",
              "    }\n",
              "\n",
              "    .dataframe tbody tr th {\n",
              "        vertical-align: top;\n",
              "    }\n",
              "\n",
              "    .dataframe thead th {\n",
              "        text-align: right;\n",
              "    }\n",
              "</style>\n",
              "<table border=\"1\" class=\"dataframe\">\n",
              "  <thead>\n",
              "    <tr style=\"text-align: right;\">\n",
              "      <th></th>\n",
              "      <th>online_order</th>\n",
              "      <th>book_table</th>\n",
              "      <th>votes</th>\n",
              "      <th>location</th>\n",
              "      <th>rest_type</th>\n",
              "      <th>cuisines</th>\n",
              "      <th>cost</th>\n",
              "      <th>menu_item</th>\n",
              "    </tr>\n",
              "  </thead>\n",
              "  <tbody>\n",
              "    <tr>\n",
              "      <th>0</th>\n",
              "      <td>1</td>\n",
              "      <td>1</td>\n",
              "      <td>775</td>\n",
              "      <td>1</td>\n",
              "      <td>20</td>\n",
              "      <td>1386</td>\n",
              "      <td>800.0</td>\n",
              "      <td>5047</td>\n",
              "    </tr>\n",
              "    <tr>\n",
              "      <th>1</th>\n",
              "      <td>1</td>\n",
              "      <td>0</td>\n",
              "      <td>787</td>\n",
              "      <td>1</td>\n",
              "      <td>20</td>\n",
              "      <td>594</td>\n",
              "      <td>800.0</td>\n",
              "      <td>5047</td>\n",
              "    </tr>\n",
              "    <tr>\n",
              "      <th>2</th>\n",
              "      <td>1</td>\n",
              "      <td>0</td>\n",
              "      <td>918</td>\n",
              "      <td>1</td>\n",
              "      <td>16</td>\n",
              "      <td>484</td>\n",
              "      <td>800.0</td>\n",
              "      <td>5047</td>\n",
              "    </tr>\n",
              "    <tr>\n",
              "      <th>3</th>\n",
              "      <td>0</td>\n",
              "      <td>0</td>\n",
              "      <td>88</td>\n",
              "      <td>1</td>\n",
              "      <td>62</td>\n",
              "      <td>1587</td>\n",
              "      <td>300.0</td>\n",
              "      <td>5047</td>\n",
              "    </tr>\n",
              "    <tr>\n",
              "      <th>4</th>\n",
              "      <td>0</td>\n",
              "      <td>0</td>\n",
              "      <td>166</td>\n",
              "      <td>4</td>\n",
              "      <td>20</td>\n",
              "      <td>1406</td>\n",
              "      <td>600.0</td>\n",
              "      <td>5047</td>\n",
              "    </tr>\n",
              "  </tbody>\n",
              "</table>\n",
              "</div>"
            ],
            "text/plain": [
              "   online_order  book_table  votes  ...  cuisines   cost  menu_item\n",
              "0             1           1    775  ...      1386  800.0       5047\n",
              "1             1           0    787  ...       594  800.0       5047\n",
              "2             1           0    918  ...       484  800.0       5047\n",
              "3             0           0     88  ...      1587  300.0       5047\n",
              "4             0           0    166  ...      1406  600.0       5047\n",
              "\n",
              "[5 rows x 8 columns]"
            ]
          },
          "metadata": {},
          "execution_count": 84
        }
      ]
    },
    {
      "cell_type": "code",
      "metadata": {
        "colab": {
          "base_uri": "https://localhost:8080/"
        },
        "id": "70xWE0nA87t_",
        "outputId": "a357f4d0-806a-4066-e505-7803518ce917"
      },
      "source": [
        "y = df['rate']\n",
        "y"
      ],
      "execution_count": 85,
      "outputs": [
        {
          "output_type": "execute_result",
          "data": {
            "text/plain": [
              "0        4.1\n",
              "1        4.1\n",
              "2        3.8\n",
              "3        3.7\n",
              "4        3.8\n",
              "        ... \n",
              "23243    3.8\n",
              "23244    3.9\n",
              "23245    2.8\n",
              "23246    2.5\n",
              "23247    4.3\n",
              "Name: rate, Length: 23248, dtype: float64"
            ]
          },
          "metadata": {},
          "execution_count": 85
        }
      ]
    },
    {
      "cell_type": "code",
      "metadata": {
        "id": "CnBjj2FU8-Rr"
      },
      "source": [
        "x_train,x_test,y_train,y_test=train_test_split(x,y,test_size=.3,random_state=10)"
      ],
      "execution_count": 86,
      "outputs": []
    },
    {
      "cell_type": "code",
      "metadata": {
        "id": "edidgKMa9BXp"
      },
      "source": [
        "#Linear Regression"
      ],
      "execution_count": 87,
      "outputs": []
    },
    {
      "cell_type": "code",
      "metadata": {
        "colab": {
          "base_uri": "https://localhost:8080/"
        },
        "id": "OnFp5ER19Fks",
        "outputId": "597e273c-f81b-4371-d534-dad77108ba5a"
      },
      "source": [
        "\n",
        "lr_model=LinearRegression()\n",
        "lr_model.fit(x_train,y_train)"
      ],
      "execution_count": 88,
      "outputs": [
        {
          "output_type": "execute_result",
          "data": {
            "text/plain": [
              "LinearRegression(copy_X=True, fit_intercept=True, n_jobs=None, normalize=False)"
            ]
          },
          "metadata": {},
          "execution_count": 88
        }
      ]
    },
    {
      "cell_type": "code",
      "metadata": {
        "colab": {
          "base_uri": "https://localhost:8080/"
        },
        "id": "ddvWplxe9Ipd",
        "outputId": "77d4ed3d-c36e-456c-d764-8296b03e7165"
      },
      "source": [
        "from sklearn.metrics import r2_score\n",
        "y_pred=lr_model.predict(x_test)\n",
        "r2_score(y_test,y_pred)"
      ],
      "execution_count": 89,
      "outputs": [
        {
          "output_type": "execute_result",
          "data": {
            "text/plain": [
              "0.2281882852296705"
            ]
          },
          "metadata": {},
          "execution_count": 89
        }
      ]
    },
    {
      "cell_type": "code",
      "metadata": {
        "id": "7KsLFTQ79K4n"
      },
      "source": [
        "#Random Forest"
      ],
      "execution_count": 90,
      "outputs": []
    },
    {
      "cell_type": "code",
      "metadata": {
        "id": "h8QbE-6l9NpS"
      },
      "source": [
        "#from sklearn.tree import DecisionTreeRegressor\n",
        "\n",
        "\n"
      ],
      "execution_count": 91,
      "outputs": []
    },
    {
      "cell_type": "code",
      "metadata": {
        "colab": {
          "base_uri": "https://localhost:8080/"
        },
        "id": "hUW1PGqU9UJK",
        "outputId": "11e4df04-da34-4d5f-d5be-06f646733085"
      },
      "source": [
        "from sklearn.ensemble import RandomForestRegressor\n",
        "RF_Model=RandomForestRegressor(n_estimators=650,random_state=245,min_samples_leaf=.0001)\n",
        "RF_Model.fit(x_train,y_train)\n",
        "y_predict=RF_Model.predict(x_test)\n",
        "r2_score(y_test,y_predict)"
      ],
      "execution_count": 92,
      "outputs": [
        {
          "output_type": "execute_result",
          "data": {
            "text/plain": [
              "0.8812525999137639"
            ]
          },
          "metadata": {},
          "execution_count": 92
        }
      ]
    },
    {
      "cell_type": "code",
      "metadata": {
        "id": "soboCIWA9WaW"
      },
      "source": [
        "#ExtraTree Regressor"
      ],
      "execution_count": 93,
      "outputs": []
    },
    {
      "cell_type": "code",
      "metadata": {
        "id": "F8ZUuwpxZ08u"
      },
      "source": [
        ""
      ],
      "execution_count": null,
      "outputs": []
    },
    {
      "cell_type": "code",
      "metadata": {
        "colab": {
          "base_uri": "https://localhost:8080/"
        },
        "id": "5LDxb1mP9dDK",
        "outputId": "4f9fb293-892e-46a1-d3b3-23336bf49bbc"
      },
      "source": [
        "#Preparing Extra Tree Regression\n",
        "from sklearn.ensemble import  ExtraTreesRegressor\n",
        "ET_Model=ExtraTreesRegressor(n_estimators = 120)\n",
        "ET_Model.fit(x_train,y_train)\n",
        "y_predict=ET_Model.predict(x_test)\n",
        "\n",
        "\n",
        "from sklearn.metrics import r2_score\n",
        "r2_score(y_test,y_predict)"
      ],
      "execution_count": 94,
      "outputs": [
        {
          "output_type": "execute_result",
          "data": {
            "text/plain": [
              "0.9327493505181825"
            ]
          },
          "metadata": {},
          "execution_count": 94
        }
      ]
    },
    {
      "cell_type": "code",
      "metadata": {
        "id": "ooMoLYK19f05"
      },
      "source": [
        "#Extra Tree Regressor gives us the best model"
      ],
      "execution_count": 95,
      "outputs": []
    }
  ]
}